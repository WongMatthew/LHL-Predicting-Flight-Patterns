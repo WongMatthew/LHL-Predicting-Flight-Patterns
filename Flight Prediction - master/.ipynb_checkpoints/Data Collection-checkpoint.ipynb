{
 "cells": [
  {
   "cell_type": "code",
   "execution_count": 3,
   "id": "6b74da4f",
   "metadata": {
    "execution": {
     "iopub.execute_input": "2021-07-27T00:57:12.901286Z",
     "iopub.status.busy": "2021-07-27T00:57:12.900906Z",
     "iopub.status.idle": "2021-07-27T00:57:12.914362Z",
     "shell.execute_reply": "2021-07-27T00:57:12.912661Z",
     "shell.execute_reply.started": "2021-07-27T00:57:12.901230Z"
    }
   },
   "outputs": [],
   "source": [
    "import pandas as pd\n",
    "import psycopg2"
   ]
  },
  {
   "cell_type": "markdown",
   "id": "7bda2465",
   "metadata": {},
   "source": [
    "### **Notes**\n",
    "\n",
    "Took 6 mins to collect: \n",
    "- fl_date, mkt_carrier_fl_num, origin_city_name, dest_city_name, distance, dep_delay, arr_delay, \n",
    "- carrier_delay, weather_delay, nas_delay, security_delay, late_aircraft_delay  \n",
    "from flights table"
   ]
  },
  {
   "cell_type": "code",
   "execution_count": 4,
   "id": "af3327b3",
   "metadata": {
    "execution": {
     "iopub.execute_input": "2021-07-27T00:57:17.832099Z",
     "iopub.status.busy": "2021-07-27T00:57:17.831738Z",
     "iopub.status.idle": "2021-07-27T00:57:30.918511Z",
     "shell.execute_reply": "2021-07-27T00:57:30.917775Z",
     "shell.execute_reply.started": "2021-07-27T00:57:17.832066Z"
    }
   },
   "outputs": [],
   "source": [
    "#Flights table\n",
    "con = psycopg2.connect(\n",
    "    host = 'mid-term-project.ca2jkepgjpne.us-east-2.rds.amazonaws.com',\n",
    "    database = 'mid_term_project', \n",
    "    user = 'lhl_student',\n",
    "    password = 'lhl_student',\n",
    "    port = 5432\n",
    ")\n",
    "\n",
    "sql = '''\n",
    "        SELECT *\n",
    "        FROM flights_test\n",
    "        ORDER BY RANDOM() LIMIT 50000\n",
    ";\n",
    "'''\n",
    "\n",
    "data = pd.read_sql_query(sql,con)\n",
    "con.close()"
   ]
  },
  {
   "cell_type": "code",
   "execution_count": 5,
   "id": "299ae605",
   "metadata": {
    "execution": {
     "iopub.execute_input": "2021-07-27T00:57:34.601307Z",
     "iopub.status.busy": "2021-07-27T00:57:34.601027Z",
     "iopub.status.idle": "2021-07-27T00:57:34.624472Z",
     "shell.execute_reply": "2021-07-27T00:57:34.622792Z",
     "shell.execute_reply.started": "2021-07-27T00:57:34.601279Z"
    }
   },
   "outputs": [
    {
     "data": {
      "text/plain": [
       "(50000, 20)"
      ]
     },
     "metadata": {},
     "output_type": "display_data"
    }
   ],
   "source": [
    "#display(data)\n",
    "display(data.shape)"
   ]
  },
  {
   "cell_type": "code",
   "execution_count": 6,
   "id": "291ec8ec",
   "metadata": {
    "execution": {
     "iopub.execute_input": "2021-07-27T00:57:49.104169Z",
     "iopub.status.busy": "2021-07-27T00:57:49.103442Z",
     "iopub.status.idle": "2021-07-27T00:57:49.902915Z",
     "shell.execute_reply": "2021-07-27T00:57:49.901922Z",
     "shell.execute_reply.started": "2021-07-27T00:57:49.104119Z"
    }
   },
   "outputs": [],
   "source": [
    "#save to file outside of git folder\n",
    "data.to_csv(r'/Users/Prashanta/Desktop/airplane_data/flights_test_table(50,000_points).csv',sep=';')"
   ]
  },
  {
   "cell_type": "code",
   "execution_count": null,
   "id": "0c2da39c",
   "metadata": {
    "execution": {
     "iopub.execute_input": "2021-07-26T17:07:20.471165Z",
     "iopub.status.busy": "2021-07-26T17:07:20.470887Z"
    }
   },
   "outputs": [],
   "source": [
    "#passengers table\n",
    "con = psycopg2.connect(\n",
    "    host = 'mid-term-project.ca2jkepgjpne.us-east-2.rds.amazonaws.com',\n",
    "    database = 'mid_term_project', \n",
    "    user = 'lhl_student',\n",
    "    password = 'lhl_student',\n",
    "    port = 5432\n",
    ")\n",
    "\n",
    "sql = '''      \n",
    "        SELECT flights.mkt_unique_carrier, passengers.unique_carrier\n",
    "        FROM flights\n",
    "        JOIN passengers ON flights.mkt_unique_carrier=passengers.unique_carrier\n",
    "        ORDER BY RANDOM() LIMIT 10\n",
    ";        \n",
    "'''\n",
    "\n",
    "data = pd.read_sql_query(sql,con)\n",
    "con.close()"
   ]
  },
  {
   "cell_type": "code",
   "execution_count": null,
   "id": "e8d9f6bc",
   "metadata": {},
   "outputs": [],
   "source": [
    "#display(data)\n",
    "display(data.shape)"
   ]
  },
  {
   "cell_type": "code",
   "execution_count": null,
   "id": "058047b9",
   "metadata": {},
   "outputs": [],
   "source": [
    "#save to file outside of git folder\n",
    "data.to_csv(r'/Users/Prashanta/Desktop/airplane_data/flights&passengers_table(50,000_points).csv',sep=';')"
   ]
  },
  {
   "cell_type": "code",
   "execution_count": null,
   "id": "48cc7d0f",
   "metadata": {},
   "outputs": [],
   "source": []
  }
 ],
 "metadata": {
  "kernelspec": {
   "display_name": "Python 3",
   "language": "python",
   "name": "python3"
  },
  "language_info": {
   "codemirror_mode": {
    "name": "ipython",
    "version": 3
   },
   "file_extension": ".py",
   "mimetype": "text/x-python",
   "name": "python",
   "nbconvert_exporter": "python",
   "pygments_lexer": "ipython3",
   "version": "3.8.8"
  }
 },
 "nbformat": 4,
 "nbformat_minor": 5
}
