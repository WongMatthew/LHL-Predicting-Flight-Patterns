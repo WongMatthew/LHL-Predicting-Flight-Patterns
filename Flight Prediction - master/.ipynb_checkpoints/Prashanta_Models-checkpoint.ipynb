{
 "cells": [
  {
   "cell_type": "markdown",
   "id": "ae0cb1e0",
   "metadata": {},
   "source": [
    "# **Modelling**"
   ]
  },
  {
   "cell_type": "markdown",
   "id": "62267d5e",
   "metadata": {},
   "source": [
    "## **Step1.** Import Data"
   ]
  },
  {
   "cell_type": "code",
   "execution_count": 1,
   "id": "e297a22c",
   "metadata": {
    "execution": {
     "iopub.execute_input": "2021-07-26T17:59:12.406177Z",
     "iopub.status.busy": "2021-07-26T17:59:12.405796Z",
     "iopub.status.idle": "2021-07-26T17:59:14.055908Z",
     "shell.execute_reply": "2021-07-26T17:59:14.055005Z",
     "shell.execute_reply.started": "2021-07-26T17:59:12.406079Z"
    }
   },
   "outputs": [],
   "source": [
    "import pandas as pd\n",
    "import numpy as np\n",
    "import matplotlib.pyplot as plt\n",
    "import seaborn as sns\n",
    "import datetime"
   ]
  },
  {
   "cell_type": "code",
   "execution_count": 2,
   "id": "d8c717aa",
   "metadata": {
    "execution": {
     "iopub.execute_input": "2021-07-26T17:59:14.058187Z",
     "iopub.status.busy": "2021-07-26T17:59:14.057620Z",
     "iopub.status.idle": "2021-07-26T17:59:14.637525Z",
     "shell.execute_reply": "2021-07-26T17:59:14.636730Z",
     "shell.execute_reply.started": "2021-07-26T17:59:14.058081Z"
    }
   },
   "outputs": [],
   "source": [
    "#flights table\n",
    "data = pd.read_csv('/Users/Prashanta/Desktop/airplane_data/flights_table(50,000_points).csv',delimiter=';')\n",
    "data = data.iloc[: , 1:]\n",
    "\n",
    "#create two samples of 10,000 points each\n",
    "sample1 = data.sample(n=10000, random_state=0)\n",
    "sample2 = data.sample(n=10000, random_state=1)\n",
    "\n",
    "#Adding date time features and state\n",
    "sample1['month'] = pd.DatetimeIndex(sample1['fl_date']).month\n",
    "sample2['month'] = pd.DatetimeIndex(sample2['fl_date']).month\n",
    "sample1['year'] = pd.DatetimeIndex(sample1['fl_date']).year\n",
    "sample2['year'] = pd.DatetimeIndex(sample2['fl_date']).year\n",
    "sample1['origin_city_state'] = sample1['origin_city_name'].transform(lambda x: str(x).split(',')[1])\n",
    "sample2['origin_city_state'] = sample2['origin_city_name'].transform(lambda x: str(x).split(',')[1])\n",
    "sample1['depart_hour'] = sample1['dep_time'].round(-2)\n",
    "sample2['depart_hour'] = sample2['dep_time'].round(-2)"
   ]
  },
  {
   "cell_type": "code",
   "execution_count": 4,
   "id": "98afe5e1",
   "metadata": {
    "execution": {
     "iopub.execute_input": "2021-07-26T17:59:28.173661Z",
     "iopub.status.busy": "2021-07-26T17:59:28.173319Z",
     "iopub.status.idle": "2021-07-26T17:59:28.234667Z",
     "shell.execute_reply": "2021-07-26T17:59:28.226623Z",
     "shell.execute_reply.started": "2021-07-26T17:59:28.173625Z"
    }
   },
   "outputs": [
    {
     "data": {
      "text/html": [
       "<div>\n",
       "<style scoped>\n",
       "    .dataframe tbody tr th:only-of-type {\n",
       "        vertical-align: middle;\n",
       "    }\n",
       "\n",
       "    .dataframe tbody tr th {\n",
       "        vertical-align: top;\n",
       "    }\n",
       "\n",
       "    .dataframe thead th {\n",
       "        text-align: right;\n",
       "    }\n",
       "</style>\n",
       "<table border=\"1\" class=\"dataframe\">\n",
       "  <thead>\n",
       "    <tr style=\"text-align: right;\">\n",
       "      <th></th>\n",
       "      <th>fl_date</th>\n",
       "      <th>mkt_unique_carrier</th>\n",
       "      <th>branded_code_share</th>\n",
       "      <th>mkt_carrier</th>\n",
       "      <th>mkt_carrier_fl_num</th>\n",
       "      <th>op_unique_carrier</th>\n",
       "      <th>tail_num</th>\n",
       "      <th>op_carrier_fl_num</th>\n",
       "      <th>origin_airport_id</th>\n",
       "      <th>origin</th>\n",
       "      <th>...</th>\n",
       "      <th>distance</th>\n",
       "      <th>carrier_delay</th>\n",
       "      <th>weather_delay</th>\n",
       "      <th>nas_delay</th>\n",
       "      <th>security_delay</th>\n",
       "      <th>late_aircraft_delay</th>\n",
       "      <th>first_dep_time</th>\n",
       "      <th>total_add_gtime</th>\n",
       "      <th>longest_add_gtime</th>\n",
       "      <th>no_name</th>\n",
       "    </tr>\n",
       "  </thead>\n",
       "  <tbody>\n",
       "    <tr>\n",
       "      <th>0</th>\n",
       "      <td>2019-12-30</td>\n",
       "      <td>WN</td>\n",
       "      <td>WN</td>\n",
       "      <td>WN</td>\n",
       "      <td>775</td>\n",
       "      <td>WN</td>\n",
       "      <td>N255WN</td>\n",
       "      <td>775</td>\n",
       "      <td>13495</td>\n",
       "      <td>MSY</td>\n",
       "      <td>...</td>\n",
       "      <td>674.0</td>\n",
       "      <td>NaN</td>\n",
       "      <td>NaN</td>\n",
       "      <td>NaN</td>\n",
       "      <td>NaN</td>\n",
       "      <td>NaN</td>\n",
       "      <td>NaN</td>\n",
       "      <td>NaN</td>\n",
       "      <td>NaN</td>\n",
       "      <td>NaN</td>\n",
       "    </tr>\n",
       "    <tr>\n",
       "      <th>1</th>\n",
       "      <td>2018-04-08</td>\n",
       "      <td>AS</td>\n",
       "      <td>AS</td>\n",
       "      <td>AS</td>\n",
       "      <td>352</td>\n",
       "      <td>AS</td>\n",
       "      <td>N464AS</td>\n",
       "      <td>352</td>\n",
       "      <td>14747</td>\n",
       "      <td>SEA</td>\n",
       "      <td>...</td>\n",
       "      <td>672.0</td>\n",
       "      <td>0.0</td>\n",
       "      <td>0.0</td>\n",
       "      <td>25.0</td>\n",
       "      <td>0.0</td>\n",
       "      <td>0.0</td>\n",
       "      <td>NaN</td>\n",
       "      <td>NaN</td>\n",
       "      <td>NaN</td>\n",
       "      <td>NaN</td>\n",
       "    </tr>\n",
       "    <tr>\n",
       "      <th>2</th>\n",
       "      <td>2018-11-21</td>\n",
       "      <td>DL</td>\n",
       "      <td>DL</td>\n",
       "      <td>DL</td>\n",
       "      <td>1312</td>\n",
       "      <td>DL</td>\n",
       "      <td>N912DL</td>\n",
       "      <td>1312</td>\n",
       "      <td>10994</td>\n",
       "      <td>CHS</td>\n",
       "      <td>...</td>\n",
       "      <td>259.0</td>\n",
       "      <td>NaN</td>\n",
       "      <td>NaN</td>\n",
       "      <td>NaN</td>\n",
       "      <td>NaN</td>\n",
       "      <td>NaN</td>\n",
       "      <td>NaN</td>\n",
       "      <td>NaN</td>\n",
       "      <td>NaN</td>\n",
       "      <td>NaN</td>\n",
       "    </tr>\n",
       "  </tbody>\n",
       "</table>\n",
       "<p>3 rows × 42 columns</p>\n",
       "</div>"
      ],
      "text/plain": [
       "      fl_date mkt_unique_carrier branded_code_share mkt_carrier  \\\n",
       "0  2019-12-30                 WN                 WN          WN   \n",
       "1  2018-04-08                 AS                 AS          AS   \n",
       "2  2018-11-21                 DL                 DL          DL   \n",
       "\n",
       "   mkt_carrier_fl_num op_unique_carrier tail_num  op_carrier_fl_num  \\\n",
       "0                 775                WN   N255WN                775   \n",
       "1                 352                AS   N464AS                352   \n",
       "2                1312                DL   N912DL               1312   \n",
       "\n",
       "   origin_airport_id origin  ... distance  carrier_delay weather_delay  \\\n",
       "0              13495    MSY  ...    674.0            NaN           NaN   \n",
       "1              14747    SEA  ...    672.0            0.0           0.0   \n",
       "2              10994    CHS  ...    259.0            NaN           NaN   \n",
       "\n",
       "  nas_delay  security_delay  late_aircraft_delay  first_dep_time  \\\n",
       "0       NaN             NaN                  NaN             NaN   \n",
       "1      25.0             0.0                  0.0             NaN   \n",
       "2       NaN             NaN                  NaN             NaN   \n",
       "\n",
       "   total_add_gtime  longest_add_gtime  no_name  \n",
       "0              NaN                NaN      NaN  \n",
       "1              NaN                NaN      NaN  \n",
       "2              NaN                NaN      NaN  \n",
       "\n",
       "[3 rows x 42 columns]"
      ]
     },
     "metadata": {},
     "output_type": "display_data"
    },
    {
     "data": {
      "text/plain": [
       "(50000, 42)"
      ]
     },
     "metadata": {},
     "output_type": "display_data"
    }
   ],
   "source": [
    "display(data.head(3))\n",
    "display(data.shape)"
   ]
  },
  {
   "cell_type": "markdown",
   "id": "a4ced6b4",
   "metadata": {},
   "source": [
    "## **Step2.** Create BaseModel using Linear Regression"
   ]
  },
  {
   "cell_type": "code",
   "execution_count": 18,
   "id": "93511f71",
   "metadata": {
    "collapsed": true,
    "execution": {
     "iopub.execute_input": "2021-07-26T18:08:15.512304Z",
     "iopub.status.busy": "2021-07-26T18:08:15.511969Z",
     "iopub.status.idle": "2021-07-26T18:08:15.534034Z",
     "shell.execute_reply": "2021-07-26T18:08:15.532443Z",
     "shell.execute_reply.started": "2021-07-26T18:08:15.512269Z"
    },
    "jupyter": {
     "outputs_hidden": true
    }
   },
   "outputs": [
    {
     "name": "stderr",
     "output_type": "stream",
     "text": [
      "<ipython-input-18-ac5d82c39b9a>:5: SettingWithCopyWarning: \n",
      "A value is trying to be set on a copy of a slice from a DataFrame\n",
      "\n",
      "See the caveats in the documentation: https://pandas.pydata.org/pandas-docs/stable/user_guide/indexing.html#returning-a-view-versus-a-copy\n",
      "  test_model_1.dropna(inplace=True)\n",
      "<ipython-input-18-ac5d82c39b9a>:9: SettingWithCopyWarning: \n",
      "A value is trying to be set on a copy of a slice from a DataFrame.\n",
      "Try using .loc[row_indexer,col_indexer] = value instead\n",
      "\n",
      "See the caveats in the documentation: https://pandas.pydata.org/pandas-docs/stable/user_guide/indexing.html#returning-a-view-versus-a-copy\n",
      "  test_model_1['origin_city_state'] = test_model_1['origin_city_state'].astype('category')\n",
      "<ipython-input-18-ac5d82c39b9a>:10: SettingWithCopyWarning: \n",
      "A value is trying to be set on a copy of a slice from a DataFrame.\n",
      "Try using .loc[row_indexer,col_indexer] = value instead\n",
      "\n",
      "See the caveats in the documentation: https://pandas.pydata.org/pandas-docs/stable/user_guide/indexing.html#returning-a-view-versus-a-copy\n",
      "  test_model_1['origin_city_state'] = test_model_1['origin_city_state'].cat.codes\n"
     ]
    }
   ],
   "source": [
    "#create test model df\n",
    "test_model_1 = sample1[['month','origin_city_state','depart_hour','arr_delay']]\n",
    "\n",
    "# Droping nan value rows\n",
    "test_model_1.dropna(inplace=True)\n",
    "\n",
    "# Encode Cateogircal Values \n",
    "# Change dtype of variable to category then encode using cat.codes\n",
    "test_model_1['origin_city_state'] = test_model_1['origin_city_state'].astype('category')\n",
    "test_model_1['origin_city_state'] = test_model_1['origin_city_state'].cat.codes\n",
    "\n",
    "#Assign train and target variables\n",
    "X = test_model_1[['month','origin_city_state','depart_hour']]\n",
    "y = test_model_1['arr_delay']"
   ]
  },
  {
   "cell_type": "code",
   "execution_count": 19,
   "id": "9e4c407b",
   "metadata": {
    "execution": {
     "iopub.execute_input": "2021-07-26T18:08:21.801285Z",
     "iopub.status.busy": "2021-07-26T18:08:21.800692Z",
     "iopub.status.idle": "2021-07-26T18:08:21.843763Z",
     "shell.execute_reply": "2021-07-26T18:08:21.842095Z",
     "shell.execute_reply.started": "2021-07-26T18:08:21.801237Z"
    }
   },
   "outputs": [
    {
     "name": "stdout",
     "output_type": "stream",
     "text": [
      "variables ['month', 'origin_city_state', 'depart_hour']\n",
      "coefficients: [-0.07959701  0.04777177  0.01045926]\n",
      "\n",
      "R2 Score for train data: 0.012\n",
      "MAE: 23.62\n",
      "R2 Score2 for test data: 0.015\n"
     ]
    }
   ],
   "source": [
    "# split X and y into training and testing sets \n",
    "import sklearn.model_selection as model_selection\n",
    "\n",
    "X_train,X_test,y_train,y_test = model_selection.train_test_split(X,y,train_size=0.75,test_size=0.25,random_state=123)\n",
    "\n",
    "# import libraries\n",
    "from sklearn.linear_model import LinearRegression\n",
    "from sklearn.metrics import mean_absolute_error\n",
    "from sklearn.metrics import r2_score\n",
    "\n",
    "#initialize and fit training dataset\n",
    "Linear_Regressor = LinearRegression()\n",
    "Linear_Regressor.fit(X_train, y_train)\n",
    "\n",
    "#make prediction \n",
    "y_pred = Linear_Regressor.predict(X_test)\n",
    "\n",
    "#prints the coefficients used for each attribute\n",
    "print('variables', list(test_model_1.columns[:-1]))\n",
    "print('coefficients:', Linear_Regressor.coef_)\n",
    "print()\n",
    "\n",
    "#prints the R2 score for your test dataset\n",
    "print('R2 Score for train data:', round(Linear_Regressor.score(X_train,y_train),3))\n",
    "print('MAE:', round(mean_absolute_error(y_test,y_pred),2))\n",
    "print('R2 Score2 for test data:', round(r2_score(y_test,y_pred),3))"
   ]
  },
  {
   "cell_type": "markdown",
   "id": "1f31d209",
   "metadata": {},
   "source": [
    "## **Step3.** Add key features to basemodel and run Linear Reg again"
   ]
  },
  {
   "cell_type": "code",
   "execution_count": 20,
   "id": "35b0f906",
   "metadata": {
    "execution": {
     "iopub.execute_input": "2021-07-26T18:09:06.131569Z",
     "iopub.status.busy": "2021-07-26T18:09:06.130905Z",
     "iopub.status.idle": "2021-07-26T18:09:06.416585Z",
     "shell.execute_reply": "2021-07-26T18:09:06.415768Z",
     "shell.execute_reply.started": "2021-07-26T18:09:06.131528Z"
    }
   },
   "outputs": [],
   "source": [
    "#Feature1 - Average_dep_delay per airport\n",
    "#create a dummy column and then replace values with average dep_delay per state\n",
    "sample1['dep_delay_state'] = sample1['dep_delay']\n",
    "sample1['dep_delay_state'] = sample1[['dep_delay_state','origin_city_state']].groupby(by='origin_city_state').transform(lambda x: x.mean())\n",
    "\n",
    "#Feature2 - Average_arr_delay per airport\n",
    "#create a dummy column and then replace values with average arr_delay per state\n",
    "sample1['arr_delay_state'] = sample1['arr_delay']\n",
    "sample1['arr_delay_state'] = sample1[['arr_delay_state','origin_city_state']].groupby(by='origin_city_state').transform(lambda x: x.mean())"
   ]
  },
  {
   "cell_type": "code",
   "execution_count": 37,
   "id": "656584ef",
   "metadata": {
    "collapsed": true,
    "execution": {
     "iopub.execute_input": "2021-07-26T18:17:12.890543Z",
     "iopub.status.busy": "2021-07-26T18:17:12.890249Z",
     "iopub.status.idle": "2021-07-26T18:17:12.910692Z",
     "shell.execute_reply": "2021-07-26T18:17:12.908419Z",
     "shell.execute_reply.started": "2021-07-26T18:17:12.890516Z"
    },
    "jupyter": {
     "outputs_hidden": true
    }
   },
   "outputs": [
    {
     "name": "stderr",
     "output_type": "stream",
     "text": [
      "<ipython-input-37-bd7314cd9e29>:5: SettingWithCopyWarning: \n",
      "A value is trying to be set on a copy of a slice from a DataFrame\n",
      "\n",
      "See the caveats in the documentation: https://pandas.pydata.org/pandas-docs/stable/user_guide/indexing.html#returning-a-view-versus-a-copy\n",
      "  test_model_2.dropna(inplace=True)\n",
      "<ipython-input-37-bd7314cd9e29>:9: SettingWithCopyWarning: \n",
      "A value is trying to be set on a copy of a slice from a DataFrame.\n",
      "Try using .loc[row_indexer,col_indexer] = value instead\n",
      "\n",
      "See the caveats in the documentation: https://pandas.pydata.org/pandas-docs/stable/user_guide/indexing.html#returning-a-view-versus-a-copy\n",
      "  test_model_2['origin_city_state'] = test_model_2['origin_city_state'].astype('category')\n",
      "<ipython-input-37-bd7314cd9e29>:10: SettingWithCopyWarning: \n",
      "A value is trying to be set on a copy of a slice from a DataFrame.\n",
      "Try using .loc[row_indexer,col_indexer] = value instead\n",
      "\n",
      "See the caveats in the documentation: https://pandas.pydata.org/pandas-docs/stable/user_guide/indexing.html#returning-a-view-versus-a-copy\n",
      "  test_model_2['origin_city_state'] = test_model_2['origin_city_state'].cat.codes\n"
     ]
    }
   ],
   "source": [
    "#create test model df\n",
    "test_model_2 = sample1[['month','origin_city_state','depart_hour','dep_delay_state','arr_delay_state','arr_delay']]\n",
    "\n",
    "# Droping nan value rows\n",
    "test_model_2.dropna(inplace=True)\n",
    "\n",
    "# Encode Cateogircal Values \n",
    "# Change dtype of variable to category then encode using cat.codes\n",
    "test_model_2['origin_city_state'] = test_model_2['origin_city_state'].astype('category')\n",
    "test_model_2['origin_city_state'] = test_model_2['origin_city_state'].cat.codes\n",
    "\n",
    "#Assign train and target variablesa\n",
    "X = test_model_2[['month','origin_city_state','depart_hour','dep_delay_state','arr_delay_state']]\n",
    "y = test_model_2['arr_delay']"
   ]
  },
  {
   "cell_type": "code",
   "execution_count": 40,
   "id": "11eabc56",
   "metadata": {
    "execution": {
     "iopub.execute_input": "2021-07-26T18:17:39.268175Z",
     "iopub.status.busy": "2021-07-26T18:17:39.267870Z",
     "iopub.status.idle": "2021-07-26T18:17:39.308445Z",
     "shell.execute_reply": "2021-07-26T18:17:39.306417Z",
     "shell.execute_reply.started": "2021-07-26T18:17:39.268137Z"
    }
   },
   "outputs": [
    {
     "name": "stdout",
     "output_type": "stream",
     "text": [
      "variables ['month', 'origin_city_state', 'depart_hour', 'dep_delay_state', 'arr_delay_state']\n",
      "coefficients: [-0.07355369  0.04175744  0.01041261  0.14653548  1.05282136]\n",
      "\n",
      "R2 Score for train data: 0.024\n",
      "MAE: 23.83\n",
      "R2 Score2 for test data: 0.012\n"
     ]
    }
   ],
   "source": [
    "# split X and y into training and testing sets \n",
    "import sklearn.model_selection as model_selection\n",
    "\n",
    "X_train,X_test,y_train,y_test = model_selection.train_test_split(X,y,train_size=0.75,test_size=0.25,random_state=123)\n",
    "\n",
    "# import libraries\n",
    "from sklearn.linear_model import LinearRegression\n",
    "from sklearn.metrics import mean_absolute_error\n",
    "from sklearn.metrics import r2_score\n",
    "\n",
    "#initialize and fit training dataset\n",
    "Linear_Regressor = LinearRegression()\n",
    "Linear_Regressor.fit(X_train, y_train)\n",
    "\n",
    "#make prediction \n",
    "y_pred = Linear_Regressor.predict(X_test)\n",
    "\n",
    "#prints the coefficients used for each attribute\n",
    "print('variables', list(test_model_2.columns[:-1]))\n",
    "print('coefficients:', Linear_Regressor.coef_)\n",
    "print()\n",
    "\n",
    "#prints the R2 score for your test dataset\n",
    "print('R2 Score for train data:', round(Linear_Regressor.score(X_train,y_train),3))\n",
    "print('MAE:', round(mean_absolute_error(y_test,y_pred),2))\n",
    "print('R2 Score2 for test data:', round(r2_score(y_test,y_pred),3))"
   ]
  },
  {
   "cell_type": "markdown",
   "id": "df158e11",
   "metadata": {},
   "source": [
    "## **Step4.** Remove outlier data from Key Features"
   ]
  },
  {
   "cell_type": "code",
   "execution_count": 52,
   "id": "d723e835",
   "metadata": {
    "execution": {
     "iopub.execute_input": "2021-07-26T18:21:26.634552Z",
     "iopub.status.busy": "2021-07-26T18:21:26.634210Z",
     "iopub.status.idle": "2021-07-26T18:21:26.661124Z",
     "shell.execute_reply": "2021-07-26T18:21:26.656308Z",
     "shell.execute_reply.started": "2021-07-26T18:21:26.634517Z"
    }
   },
   "outputs": [
    {
     "data": {
      "text/html": [
       "<div>\n",
       "<style scoped>\n",
       "    .dataframe tbody tr th:only-of-type {\n",
       "        vertical-align: middle;\n",
       "    }\n",
       "\n",
       "    .dataframe tbody tr th {\n",
       "        vertical-align: top;\n",
       "    }\n",
       "\n",
       "    .dataframe thead th {\n",
       "        text-align: right;\n",
       "    }\n",
       "</style>\n",
       "<table border=\"1\" class=\"dataframe\">\n",
       "  <thead>\n",
       "    <tr style=\"text-align: right;\">\n",
       "      <th></th>\n",
       "      <th>origin_city_state</th>\n",
       "      <th>dep_delay</th>\n",
       "      <th>arr_delay</th>\n",
       "    </tr>\n",
       "  </thead>\n",
       "  <tbody>\n",
       "    <tr>\n",
       "      <th>27</th>\n",
       "      <td>ND</td>\n",
       "      <td>48.032258</td>\n",
       "      <td>45.612903</td>\n",
       "    </tr>\n",
       "    <tr>\n",
       "      <th>52</th>\n",
       "      <td>WY</td>\n",
       "      <td>27.000000</td>\n",
       "      <td>23.428571</td>\n",
       "    </tr>\n",
       "    <tr>\n",
       "      <th>6</th>\n",
       "      <td>CT</td>\n",
       "      <td>23.268293</td>\n",
       "      <td>18.317073</td>\n",
       "    </tr>\n",
       "    <tr>\n",
       "      <th>1</th>\n",
       "      <td>AL</td>\n",
       "      <td>20.297872</td>\n",
       "      <td>17.446809</td>\n",
       "    </tr>\n",
       "    <tr>\n",
       "      <th>39</th>\n",
       "      <td>RI</td>\n",
       "      <td>21.631579</td>\n",
       "      <td>14.111111</td>\n",
       "    </tr>\n",
       "    <tr>\n",
       "      <th>17</th>\n",
       "      <td>LA</td>\n",
       "      <td>19.020000</td>\n",
       "      <td>13.840000</td>\n",
       "    </tr>\n",
       "    <tr>\n",
       "      <th>30</th>\n",
       "      <td>NJ</td>\n",
       "      <td>15.671875</td>\n",
       "      <td>9.867725</td>\n",
       "    </tr>\n",
       "    <tr>\n",
       "      <th>13</th>\n",
       "      <td>IL</td>\n",
       "      <td>14.498433</td>\n",
       "      <td>9.589623</td>\n",
       "    </tr>\n",
       "    <tr>\n",
       "      <th>26</th>\n",
       "      <td>NC</td>\n",
       "      <td>12.969838</td>\n",
       "      <td>9.566434</td>\n",
       "    </tr>\n",
       "    <tr>\n",
       "      <th>5</th>\n",
       "      <td>CO</td>\n",
       "      <td>13.054264</td>\n",
       "      <td>9.497396</td>\n",
       "    </tr>\n",
       "  </tbody>\n",
       "</table>\n",
       "</div>"
      ],
      "text/plain": [
       "   origin_city_state  dep_delay  arr_delay\n",
       "27                ND  48.032258  45.612903\n",
       "52                WY  27.000000  23.428571\n",
       "6                 CT  23.268293  18.317073\n",
       "1                 AL  20.297872  17.446809\n",
       "39                RI  21.631579  14.111111\n",
       "17                LA  19.020000  13.840000\n",
       "30                NJ  15.671875   9.867725\n",
       "13                IL  14.498433   9.589623\n",
       "26                NC  12.969838   9.566434\n",
       "5                 CO  13.054264   9.497396"
      ]
     },
     "execution_count": 52,
     "metadata": {},
     "output_type": "execute_result"
    }
   ],
   "source": [
    "(sample1[['origin_city_state','dep_delay','arr_delay']].groupby(by='origin_city_state').mean().reset_index()).sort_values('arr_delay',ascending=False).head(10)"
   ]
  },
  {
   "cell_type": "code",
   "execution_count": null,
   "id": "ccf11578",
   "metadata": {},
   "outputs": [],
   "source": []
  }
 ],
 "metadata": {
  "kernelspec": {
   "display_name": "Python 3",
   "language": "python",
   "name": "python3"
  },
  "language_info": {
   "codemirror_mode": {
    "name": "ipython",
    "version": 3
   },
   "file_extension": ".py",
   "mimetype": "text/x-python",
   "name": "python",
   "nbconvert_exporter": "python",
   "pygments_lexer": "ipython3",
   "version": "3.8.8"
  }
 },
 "nbformat": 4,
 "nbformat_minor": 5
}
