{
 "cells": [
  {
   "cell_type": "markdown",
   "metadata": {},
   "source": [
    "## Exploratory Data Analysis (2 samples, 10,000 random points)\n",
    "\n",
    "Use this notebook to get familiar with the datasets we have. There is 10 questions we need to answer during the EDA.\n",
    "\n",
    "\n",
    "We shouldn't limit our EDA to these 10 questions. Let's be creative :)."
   ]
  },
  {
   "cell_type": "code",
   "execution_count": 2,
   "metadata": {
    "execution": {
     "iopub.execute_input": "2021-07-26T17:40:49.785845Z",
     "iopub.status.busy": "2021-07-26T17:40:49.785316Z",
     "iopub.status.idle": "2021-07-26T17:40:51.504013Z",
     "shell.execute_reply": "2021-07-26T17:40:51.503230Z",
     "shell.execute_reply.started": "2021-07-26T17:40:49.785807Z"
    }
   },
   "outputs": [],
   "source": [
    "import pandas as pd\n",
    "import numpy as np\n",
    "import matplotlib.pyplot as plt\n",
    "import seaborn as sns\n",
    "import datetime"
   ]
  },
  {
   "cell_type": "code",
   "execution_count": 3,
   "metadata": {
    "execution": {
     "iopub.execute_input": "2021-07-26T17:41:01.211965Z",
     "iopub.status.busy": "2021-07-26T17:41:01.211674Z",
     "iopub.status.idle": "2021-07-26T17:41:01.693650Z",
     "shell.execute_reply": "2021-07-26T17:41:01.691947Z",
     "shell.execute_reply.started": "2021-07-26T17:41:01.211936Z"
    }
   },
   "outputs": [
    {
     "data": {
      "text/html": [
       "<div>\n",
       "<style scoped>\n",
       "    .dataframe tbody tr th:only-of-type {\n",
       "        vertical-align: middle;\n",
       "    }\n",
       "\n",
       "    .dataframe tbody tr th {\n",
       "        vertical-align: top;\n",
       "    }\n",
       "\n",
       "    .dataframe thead th {\n",
       "        text-align: right;\n",
       "    }\n",
       "</style>\n",
       "<table border=\"1\" class=\"dataframe\">\n",
       "  <thead>\n",
       "    <tr style=\"text-align: right;\">\n",
       "      <th></th>\n",
       "      <th>fl_date</th>\n",
       "      <th>mkt_unique_carrier</th>\n",
       "      <th>branded_code_share</th>\n",
       "      <th>mkt_carrier</th>\n",
       "      <th>mkt_carrier_fl_num</th>\n",
       "      <th>op_unique_carrier</th>\n",
       "      <th>tail_num</th>\n",
       "      <th>op_carrier_fl_num</th>\n",
       "      <th>origin_airport_id</th>\n",
       "      <th>origin</th>\n",
       "      <th>...</th>\n",
       "      <th>distance</th>\n",
       "      <th>carrier_delay</th>\n",
       "      <th>weather_delay</th>\n",
       "      <th>nas_delay</th>\n",
       "      <th>security_delay</th>\n",
       "      <th>late_aircraft_delay</th>\n",
       "      <th>first_dep_time</th>\n",
       "      <th>total_add_gtime</th>\n",
       "      <th>longest_add_gtime</th>\n",
       "      <th>no_name</th>\n",
       "    </tr>\n",
       "  </thead>\n",
       "  <tbody>\n",
       "    <tr>\n",
       "      <th>0</th>\n",
       "      <td>2019-12-30</td>\n",
       "      <td>WN</td>\n",
       "      <td>WN</td>\n",
       "      <td>WN</td>\n",
       "      <td>775</td>\n",
       "      <td>WN</td>\n",
       "      <td>N255WN</td>\n",
       "      <td>775</td>\n",
       "      <td>13495</td>\n",
       "      <td>MSY</td>\n",
       "      <td>...</td>\n",
       "      <td>674.0</td>\n",
       "      <td>NaN</td>\n",
       "      <td>NaN</td>\n",
       "      <td>NaN</td>\n",
       "      <td>NaN</td>\n",
       "      <td>NaN</td>\n",
       "      <td>NaN</td>\n",
       "      <td>NaN</td>\n",
       "      <td>NaN</td>\n",
       "      <td>NaN</td>\n",
       "    </tr>\n",
       "    <tr>\n",
       "      <th>1</th>\n",
       "      <td>2018-04-08</td>\n",
       "      <td>AS</td>\n",
       "      <td>AS</td>\n",
       "      <td>AS</td>\n",
       "      <td>352</td>\n",
       "      <td>AS</td>\n",
       "      <td>N464AS</td>\n",
       "      <td>352</td>\n",
       "      <td>14747</td>\n",
       "      <td>SEA</td>\n",
       "      <td>...</td>\n",
       "      <td>672.0</td>\n",
       "      <td>0.0</td>\n",
       "      <td>0.0</td>\n",
       "      <td>25.0</td>\n",
       "      <td>0.0</td>\n",
       "      <td>0.0</td>\n",
       "      <td>NaN</td>\n",
       "      <td>NaN</td>\n",
       "      <td>NaN</td>\n",
       "      <td>NaN</td>\n",
       "    </tr>\n",
       "    <tr>\n",
       "      <th>2</th>\n",
       "      <td>2018-11-21</td>\n",
       "      <td>DL</td>\n",
       "      <td>DL</td>\n",
       "      <td>DL</td>\n",
       "      <td>1312</td>\n",
       "      <td>DL</td>\n",
       "      <td>N912DL</td>\n",
       "      <td>1312</td>\n",
       "      <td>10994</td>\n",
       "      <td>CHS</td>\n",
       "      <td>...</td>\n",
       "      <td>259.0</td>\n",
       "      <td>NaN</td>\n",
       "      <td>NaN</td>\n",
       "      <td>NaN</td>\n",
       "      <td>NaN</td>\n",
       "      <td>NaN</td>\n",
       "      <td>NaN</td>\n",
       "      <td>NaN</td>\n",
       "      <td>NaN</td>\n",
       "      <td>NaN</td>\n",
       "    </tr>\n",
       "    <tr>\n",
       "      <th>3</th>\n",
       "      <td>2019-12-19</td>\n",
       "      <td>WN</td>\n",
       "      <td>WN</td>\n",
       "      <td>WN</td>\n",
       "      <td>1967</td>\n",
       "      <td>WN</td>\n",
       "      <td>N7820L</td>\n",
       "      <td>1967</td>\n",
       "      <td>11697</td>\n",
       "      <td>FLL</td>\n",
       "      <td>...</td>\n",
       "      <td>994.0</td>\n",
       "      <td>NaN</td>\n",
       "      <td>NaN</td>\n",
       "      <td>NaN</td>\n",
       "      <td>NaN</td>\n",
       "      <td>NaN</td>\n",
       "      <td>NaN</td>\n",
       "      <td>NaN</td>\n",
       "      <td>NaN</td>\n",
       "      <td>NaN</td>\n",
       "    </tr>\n",
       "    <tr>\n",
       "      <th>4</th>\n",
       "      <td>2019-09-21</td>\n",
       "      <td>UA</td>\n",
       "      <td>UA_CODESHARE</td>\n",
       "      <td>UA</td>\n",
       "      <td>3908</td>\n",
       "      <td>ZW</td>\n",
       "      <td>N420AW</td>\n",
       "      <td>3908</td>\n",
       "      <td>14574</td>\n",
       "      <td>ROA</td>\n",
       "      <td>...</td>\n",
       "      <td>530.0</td>\n",
       "      <td>NaN</td>\n",
       "      <td>NaN</td>\n",
       "      <td>NaN</td>\n",
       "      <td>NaN</td>\n",
       "      <td>NaN</td>\n",
       "      <td>NaN</td>\n",
       "      <td>NaN</td>\n",
       "      <td>NaN</td>\n",
       "      <td>NaN</td>\n",
       "    </tr>\n",
       "  </tbody>\n",
       "</table>\n",
       "<p>5 rows × 42 columns</p>\n",
       "</div>"
      ],
      "text/plain": [
       "      fl_date mkt_unique_carrier branded_code_share mkt_carrier  \\\n",
       "0  2019-12-30                 WN                 WN          WN   \n",
       "1  2018-04-08                 AS                 AS          AS   \n",
       "2  2018-11-21                 DL                 DL          DL   \n",
       "3  2019-12-19                 WN                 WN          WN   \n",
       "4  2019-09-21                 UA       UA_CODESHARE          UA   \n",
       "\n",
       "   mkt_carrier_fl_num op_unique_carrier tail_num  op_carrier_fl_num  \\\n",
       "0                 775                WN   N255WN                775   \n",
       "1                 352                AS   N464AS                352   \n",
       "2                1312                DL   N912DL               1312   \n",
       "3                1967                WN   N7820L               1967   \n",
       "4                3908                ZW   N420AW               3908   \n",
       "\n",
       "   origin_airport_id origin  ... distance  carrier_delay weather_delay  \\\n",
       "0              13495    MSY  ...    674.0            NaN           NaN   \n",
       "1              14747    SEA  ...    672.0            0.0           0.0   \n",
       "2              10994    CHS  ...    259.0            NaN           NaN   \n",
       "3              11697    FLL  ...    994.0            NaN           NaN   \n",
       "4              14574    ROA  ...    530.0            NaN           NaN   \n",
       "\n",
       "  nas_delay  security_delay  late_aircraft_delay  first_dep_time  \\\n",
       "0       NaN             NaN                  NaN             NaN   \n",
       "1      25.0             0.0                  0.0             NaN   \n",
       "2       NaN             NaN                  NaN             NaN   \n",
       "3       NaN             NaN                  NaN             NaN   \n",
       "4       NaN             NaN                  NaN             NaN   \n",
       "\n",
       "   total_add_gtime  longest_add_gtime  no_name  \n",
       "0              NaN                NaN      NaN  \n",
       "1              NaN                NaN      NaN  \n",
       "2              NaN                NaN      NaN  \n",
       "3              NaN                NaN      NaN  \n",
       "4              NaN                NaN      NaN  \n",
       "\n",
       "[5 rows x 42 columns]"
      ]
     },
     "metadata": {},
     "output_type": "display_data"
    },
    {
     "data": {
      "text/plain": [
       "(50000, 42)"
      ]
     },
     "metadata": {},
     "output_type": "display_data"
    }
   ],
   "source": [
    "#flights table\n",
    "data = pd.read_csv('/Users/Prashanta/Desktop/airplane_data/flights_table(50,000_points).csv',delimiter=';')\n",
    "data = data.iloc[: , 1:]\n",
    "display(data.head())\n",
    "display(data.shape)"
   ]
  },
  {
   "cell_type": "code",
   "execution_count": 4,
   "metadata": {
    "execution": {
     "iopub.execute_input": "2021-07-26T17:41:03.173161Z",
     "iopub.status.busy": "2021-07-26T17:41:03.172825Z",
     "iopub.status.idle": "2021-07-26T17:41:03.359683Z",
     "shell.execute_reply": "2021-07-26T17:41:03.356668Z",
     "shell.execute_reply.started": "2021-07-26T17:41:03.173128Z"
    }
   },
   "outputs": [
    {
     "data": {
      "text/html": [
       "<div>\n",
       "<style scoped>\n",
       "    .dataframe tbody tr th:only-of-type {\n",
       "        vertical-align: middle;\n",
       "    }\n",
       "\n",
       "    .dataframe tbody tr th {\n",
       "        vertical-align: top;\n",
       "    }\n",
       "\n",
       "    .dataframe thead th {\n",
       "        text-align: right;\n",
       "    }\n",
       "</style>\n",
       "<table border=\"1\" class=\"dataframe\">\n",
       "  <thead>\n",
       "    <tr style=\"text-align: right;\">\n",
       "      <th></th>\n",
       "      <th>Total</th>\n",
       "      <th>Percent</th>\n",
       "    </tr>\n",
       "  </thead>\n",
       "  <tbody>\n",
       "    <tr>\n",
       "      <th>no_name</th>\n",
       "      <td>50000</td>\n",
       "      <td>1.00000</td>\n",
       "    </tr>\n",
       "    <tr>\n",
       "      <th>total_add_gtime</th>\n",
       "      <td>49642</td>\n",
       "      <td>0.99284</td>\n",
       "    </tr>\n",
       "    <tr>\n",
       "      <th>first_dep_time</th>\n",
       "      <td>49642</td>\n",
       "      <td>0.99284</td>\n",
       "    </tr>\n",
       "    <tr>\n",
       "      <th>longest_add_gtime</th>\n",
       "      <td>49642</td>\n",
       "      <td>0.99284</td>\n",
       "    </tr>\n",
       "    <tr>\n",
       "      <th>cancellation_code</th>\n",
       "      <td>49173</td>\n",
       "      <td>0.98346</td>\n",
       "    </tr>\n",
       "    <tr>\n",
       "      <th>late_aircraft_delay</th>\n",
       "      <td>40654</td>\n",
       "      <td>0.81308</td>\n",
       "    </tr>\n",
       "    <tr>\n",
       "      <th>security_delay</th>\n",
       "      <td>40654</td>\n",
       "      <td>0.81308</td>\n",
       "    </tr>\n",
       "    <tr>\n",
       "      <th>nas_delay</th>\n",
       "      <td>40654</td>\n",
       "      <td>0.81308</td>\n",
       "    </tr>\n",
       "    <tr>\n",
       "      <th>weather_delay</th>\n",
       "      <td>40654</td>\n",
       "      <td>0.81308</td>\n",
       "    </tr>\n",
       "    <tr>\n",
       "      <th>carrier_delay</th>\n",
       "      <td>40654</td>\n",
       "      <td>0.81308</td>\n",
       "    </tr>\n",
       "    <tr>\n",
       "      <th>air_time</th>\n",
       "      <td>983</td>\n",
       "      <td>0.01966</td>\n",
       "    </tr>\n",
       "    <tr>\n",
       "      <th>arr_delay</th>\n",
       "      <td>965</td>\n",
       "      <td>0.01930</td>\n",
       "    </tr>\n",
       "    <tr>\n",
       "      <th>actual_elapsed_time</th>\n",
       "      <td>959</td>\n",
       "      <td>0.01918</td>\n",
       "    </tr>\n",
       "    <tr>\n",
       "      <th>wheels_on</th>\n",
       "      <td>875</td>\n",
       "      <td>0.01750</td>\n",
       "    </tr>\n",
       "    <tr>\n",
       "      <th>taxi_in</th>\n",
       "      <td>875</td>\n",
       "      <td>0.01750</td>\n",
       "    </tr>\n",
       "    <tr>\n",
       "      <th>arr_time</th>\n",
       "      <td>851</td>\n",
       "      <td>0.01702</td>\n",
       "    </tr>\n",
       "    <tr>\n",
       "      <th>wheels_off</th>\n",
       "      <td>845</td>\n",
       "      <td>0.01690</td>\n",
       "    </tr>\n",
       "    <tr>\n",
       "      <th>taxi_out</th>\n",
       "      <td>845</td>\n",
       "      <td>0.01690</td>\n",
       "    </tr>\n",
       "    <tr>\n",
       "      <th>dep_delay</th>\n",
       "      <td>811</td>\n",
       "      <td>0.01622</td>\n",
       "    </tr>\n",
       "    <tr>\n",
       "      <th>dep_time</th>\n",
       "      <td>797</td>\n",
       "      <td>0.01594</td>\n",
       "    </tr>\n",
       "    <tr>\n",
       "      <th>tail_num</th>\n",
       "      <td>159</td>\n",
       "      <td>0.00318</td>\n",
       "    </tr>\n",
       "  </tbody>\n",
       "</table>\n",
       "</div>"
      ],
      "text/plain": [
       "                     Total  Percent\n",
       "no_name              50000  1.00000\n",
       "total_add_gtime      49642  0.99284\n",
       "first_dep_time       49642  0.99284\n",
       "longest_add_gtime    49642  0.99284\n",
       "cancellation_code    49173  0.98346\n",
       "late_aircraft_delay  40654  0.81308\n",
       "security_delay       40654  0.81308\n",
       "nas_delay            40654  0.81308\n",
       "weather_delay        40654  0.81308\n",
       "carrier_delay        40654  0.81308\n",
       "air_time               983  0.01966\n",
       "arr_delay              965  0.01930\n",
       "actual_elapsed_time    959  0.01918\n",
       "wheels_on              875  0.01750\n",
       "taxi_in                875  0.01750\n",
       "arr_time               851  0.01702\n",
       "wheels_off             845  0.01690\n",
       "taxi_out               845  0.01690\n",
       "dep_delay              811  0.01622\n",
       "dep_time               797  0.01594\n",
       "tail_num               159  0.00318"
      ]
     },
     "metadata": {},
     "output_type": "display_data"
    },
    {
     "data": {
      "text/plain": [
       "(50000, 42)"
      ]
     },
     "metadata": {},
     "output_type": "display_data"
    }
   ],
   "source": [
    "# missing data\n",
    "total = data.isnull().sum().sort_values(ascending=False)\n",
    "percent = (data.isnull().sum()/data.isnull().count()).sort_values(ascending=False)\n",
    "missing_data = pd.concat([total, percent], axis=1, keys=['Total', 'Percent'])\n",
    "\n",
    "display(missing_data[missing_data['Total']>0])\n",
    "display(data.shape)"
   ]
  },
  {
   "cell_type": "code",
   "execution_count": 5,
   "metadata": {
    "execution": {
     "iopub.execute_input": "2021-07-26T17:41:05.439665Z",
     "iopub.status.busy": "2021-07-26T17:41:05.439352Z",
     "iopub.status.idle": "2021-07-26T17:41:05.480203Z",
     "shell.execute_reply": "2021-07-26T17:41:05.479478Z",
     "shell.execute_reply.started": "2021-07-26T17:41:05.439635Z"
    }
   },
   "outputs": [],
   "source": [
    "#create two samples of 10,000 points each\n",
    "sample1 = data.sample(n=10000, random_state=0)\n",
    "sample2 = data.sample(n=10000, random_state=1)\n",
    "\n",
    "sample1['month'] = pd.DatetimeIndex(sample1['fl_date']).month\n",
    "sample2['month'] = pd.DatetimeIndex(sample2['fl_date']).month\n",
    "sample1['year'] = pd.DatetimeIndex(sample1['fl_date']).year\n",
    "sample2['year'] = pd.DatetimeIndex(sample2['fl_date']).year\n"
   ]
  },
  {
   "cell_type": "markdown",
   "metadata": {},
   "source": [
    "#### **Task 1**: Test the hypothesis that the delay is from Normal distribution. and that **mean** of the delay is 0. Be careful about the outliers."
   ]
  },
  {
   "cell_type": "code",
   "execution_count": 8,
   "metadata": {
    "execution": {
     "iopub.execute_input": "2021-07-24T22:33:21.909502Z",
     "iopub.status.busy": "2021-07-24T22:33:21.909202Z",
     "iopub.status.idle": "2021-07-24T22:33:24.354235Z",
     "shell.execute_reply": "2021-07-24T22:33:24.353408Z",
     "shell.execute_reply.started": "2021-07-24T22:33:21.909470Z"
    }
   },
   "outputs": [
    {
     "name": "stdout",
     "output_type": "stream",
     "text": [
      "Observations:\n",
      "* The delay forms a normal distribution however there is a tail which means there are some very lenghty delays. \n",
      "* Since we don't see a tail on the others side, this would mean that flights don't come to ahead of time\n"
     ]
    },
    {
     "data": {
      "image/png": "[encoded data removed]",
      "text/plain": [
       "<Figure size 1080x360 with 2 Axes>"
      ]
     },
     "metadata": {
      "needs_background": "light"
     },
     "output_type": "display_data"
    }
   ],
   "source": [
    "#create charts\n",
    "fig, axes = plt.subplots(1, 2, sharex=True, figsize=(15,5))\n",
    "fig.suptitle('Delay Distribution')\n",
    "\n",
    "#sample1 \n",
    "sns.histplot(sample1['arr_delay'], ax=axes[0])\n",
    "axes[0].set_title('Sample1')\n",
    "\n",
    "#sample2\n",
    "sns.histplot(sample2['arr_delay'], ax=axes[1])\n",
    "axes[1].set_title('Sample2')\n",
    "\n",
    "print(\n",
    "'''Observations:\n",
    "* The delay forms a normal distribution however there is a tail which means there are some very lenghty delays. \n",
    "* Since we don't see a tail on the others side, this would mean that flights don't come to ahead of time'''\n",
    ")"
   ]
  },
  {
   "cell_type": "markdown",
   "metadata": {},
   "source": [
    "#### **Task 2**: Is average/median monthly delay different during the year? If yes, which are months with the biggest delays and what could be the reason?"
   ]
  },
  {
   "cell_type": "code",
   "execution_count": 10,
   "metadata": {
    "execution": {
     "iopub.execute_input": "2021-07-24T22:34:24.051180Z",
     "iopub.status.busy": "2021-07-24T22:34:24.050627Z",
     "iopub.status.idle": "2021-07-24T22:34:24.615927Z",
     "shell.execute_reply": "2021-07-24T22:34:24.614967Z",
     "shell.execute_reply.started": "2021-07-24T22:34:24.051121Z"
    }
   },
   "outputs": [
    {
     "name": "stdout",
     "output_type": "stream",
     "text": [
      "Observations:\n",
      "* There seems to be a great deal of variation in the average delay per month when using random datapoints\n",
      "* Re-visit this with whole dataset, and seperate by year?\n",
      "* Looks very seasonal (Fall,Winter,Spring,Summer)\n",
      "\n"
     ]
    },
    {
     "data": {
      "image/png": "[encoded data removed]",
      "text/plain": [
       "<Figure size 1080x360 with 2 Axes>"
      ]
     },
     "metadata": {
      "needs_background": "light"
     },
     "output_type": "display_data"
    }
   ],
   "source": [
    "#data formatting\n",
    "monthly_delay1 = sample1[['month','arr_delay']].groupby(by='month').agg(['size','mean','min','max']).reset_index()\n",
    "monthly_delay1.columns = [''] * len(monthly_delay1.columns)\n",
    "monthly_delay1.columns=['month','size','mean_delay','min_delay','max_delay']\n",
    "\n",
    "monthly_delay2 = sample2[['month','arr_delay']].groupby(by='month').agg(['size','mean','min','max']).reset_index()\n",
    "monthly_delay2.columns = [''] * len(monthly_delay1.columns)\n",
    "monthly_delay2.columns=['month','size','mean_delay','min_delay','max_delay']\n",
    "\n",
    "#create charts\n",
    "fig, axes = plt.subplots(1, 2,figsize=(15,5))\n",
    "fig.suptitle('Average/median monthly delay')\n",
    "\n",
    "#sample1 \n",
    "sns.barplot(x='month',y='mean_delay',data=monthly_delay1,ax=axes[0])\n",
    "axes[0].set_title('Sample1')\n",
    "\n",
    "#sample2\n",
    "sns.barplot(x='month',y='mean_delay',data=monthly_delay2,ax=axes[1])\n",
    "axes[1].set_title('Sample2')\n",
    "\n",
    "print(\n",
    "'''Observations:\n",
    "* There seems to be a great deal of variation in the average delay per month when using random datapoints\n",
    "* Re-visit this with whole dataset, and seperate by year?\n",
    "* Looks very seasonal (Fall,Winter,Spring,Summer)\n",
    "'''\n",
    ")"
   ]
  },
  {
   "cell_type": "code",
   "execution_count": 46,
   "metadata": {
    "execution": {
     "iopub.execute_input": "2021-07-24T23:36:34.876996Z",
     "iopub.status.busy": "2021-07-24T23:36:34.876473Z",
     "iopub.status.idle": "2021-07-24T23:36:35.833370Z",
     "shell.execute_reply": "2021-07-24T23:36:35.831631Z",
     "shell.execute_reply.started": "2021-07-24T23:36:34.876929Z"
    }
   },
   "outputs": [
    {
     "data": {
      "text/plain": [
       "Text(0.5, 1.0, 'sample2_2019')"
      ]
     },
     "execution_count": 46,
     "metadata": {},
     "output_type": "execute_result"
    },
    {
     "data": {
      "image/png": "[encoded data removed]",
      "text/plain": [
       "<Figure size 1440x720 with 4 Axes>"
      ]
     },
     "metadata": {
      "needs_background": "light"
     },
     "output_type": "display_data"
    }
   ],
   "source": [
    "#data formatting\n",
    "sample1_2018 = sample1[sample1['year']== 2018]\n",
    "sample1_2019 = sample1[sample1['year']== 2019]\n",
    "\n",
    "sample2_2018 = sample2[sample2['year']== 2018]\n",
    "sample2_2019 = sample2[sample2['year']== 2019]\n",
    "\n",
    "sample1_2018 = sample1_2018[['month','arr_delay']].groupby(by='month').agg(['size','mean','min','max']).reset_index()\n",
    "sample1_2018.columns = [''] * len(sample1_2018.columns)\n",
    "sample1_2018.columns=['month','size','mean_delay','min_delay','max_delay']\n",
    "\n",
    "sample1_2019 = sample1_2019[['month','arr_delay']].groupby(by='month').agg(['size','mean','min','max']).reset_index()\n",
    "sample1_2019.columns = [''] * len(sample1_2019.columns)\n",
    "sample1_2019.columns=['month','size','mean_delay','min_delay','max_delay']\n",
    "\n",
    "sample2_2018 = sample2_2018[['month','arr_delay']].groupby(by='month').agg(['size','mean','min','max']).reset_index()\n",
    "sample2_2018.columns = [''] * len(sample2_2018.columns)\n",
    "sample2_2018.columns=['month','size','mean_delay','min_delay','max_delay']\n",
    "\n",
    "sample2_2019 = sample2_2019[['month','arr_delay']].groupby(by='month').agg(['size','mean','min','max']).reset_index()\n",
    "sample2_2019.columns = [''] * len(sample2_2019.columns)\n",
    "sample2_2019.columns=['month','size','mean_delay','min_delay','max_delay']\n",
    "\n",
    "#create charts\n",
    "fig, axes = plt.subplots(2, 2,figsize=(20,10))\n",
    "fig.suptitle('Average/median monthly delay')\n",
    "\n",
    "#sample1 - 2018\n",
    "sns.barplot(x='month',y='mean_delay',data=sample1_2018,ax=axes[0,0])\n",
    "axes[0,0].set_title('sample1_2018')\n",
    "\n",
    "#sample1 - 2019\n",
    "sns.barplot(x='month',y='mean_delay',data=sample1_2019,ax=axes[0,1])\n",
    "axes[0,1].set_title('sample1_2019')\n",
    "\n",
    "#sample2 - 2018\n",
    "sns.barplot(x='month',y='mean_delay',data=sample2_2018,ax=axes[1,0])\n",
    "axes[1,0].set_title('sample2_2018')\n",
    "\n",
    "#sample2 - 2019\n",
    "sns.barplot(x='month',y='mean_delay',data=sample2_2019,ax=axes[1,1])\n",
    "axes[1,1].set_title('sample2_2019')"
   ]
  },
  {
   "cell_type": "markdown",
   "metadata": {},
   "source": [
    "#### **Task 3**: Does the weather affect the delay? \n",
    "Use the API to pull the weather information for flights. There is no need to get weather for ALL flights. We can choose the right representative sample. Let's focus on four weather types:\n",
    "- sunny\n",
    "- cloudy\n",
    "- rainy\n",
    "- snow.\n",
    "Test the hypothesis that these 4 delays are from the same distribution. If they are not, which ones are significantly different?"
   ]
  },
  {
   "cell_type": "code",
   "execution_count": null,
   "metadata": {},
   "outputs": [],
   "source": []
  },
  {
   "cell_type": "code",
   "execution_count": null,
   "metadata": {},
   "outputs": [],
   "source": []
  },
  {
   "cell_type": "markdown",
   "metadata": {},
   "source": [
    "#### **Task 4**: How taxi times changing during the day? Does higher traffic lead to bigger taxi times?"
   ]
  },
  {
   "cell_type": "code",
   "execution_count": 275,
   "metadata": {
    "execution": {
     "iopub.execute_input": "2021-07-25T21:50:52.506603Z",
     "iopub.status.busy": "2021-07-25T21:50:52.506219Z",
     "iopub.status.idle": "2021-07-25T21:50:54.779878Z",
     "shell.execute_reply": "2021-07-25T21:50:54.778566Z",
     "shell.execute_reply.started": "2021-07-25T21:50:52.506516Z"
    }
   },
   "outputs": [
    {
     "data": {
      "text/plain": [
       "Text(0.5, 1.0, 'Sample2')"
      ]
     },
     "execution_count": 275,
     "metadata": {},
     "output_type": "execute_result"
    },
    {
     "data": {
      "image/png": "[encoded data removed]",
      "text/plain": [
       "<Figure size 1800x720 with 2 Axes>"
      ]
     },
     "metadata": {
      "needs_background": "light"
     },
     "output_type": "display_data"
    }
   ],
   "source": [
    "sample1['depart_hour'] = sample1['dep_time'].round(-2)\n",
    "sample2['depart_hour'] = sample2['dep_time'].round(-2)\n",
    "\n",
    "#create charts\n",
    "fig, axes = plt.subplots(2, 1,figsize=(25,10))\n",
    "fig.suptitle('Depart_Hour vs Taxi_out')\n",
    "\n",
    "#sample1 \n",
    "sns.barplot(x='depart_hour',y='taxi_out',data=sample1,ax=axes[0])\n",
    "axes[0].set_title('Sample1')\n",
    "\n",
    "#sample2\n",
    "sns.barplot(x='depart_hour',y='taxi_out',data=sample2,ax=axes[1])\n",
    "axes[1].set_title('Sample2')"
   ]
  },
  {
   "cell_type": "code",
   "execution_count": null,
   "metadata": {},
   "outputs": [],
   "source": []
  },
  {
   "cell_type": "markdown",
   "metadata": {},
   "source": [
    "#### **Task 5**: What is the average percentage of delays that is already created before departure? (aka are arrival delays caused by departure delays?) Are airlines able to lower the delay during the flights?"
   ]
  },
  {
   "cell_type": "code",
   "execution_count": 177,
   "metadata": {
    "execution": {
     "iopub.execute_input": "2021-07-25T19:50:21.894695Z",
     "iopub.status.busy": "2021-07-25T19:50:21.894406Z",
     "iopub.status.idle": "2021-07-25T19:50:21.996980Z",
     "shell.execute_reply": "2021-07-25T19:50:21.993552Z",
     "shell.execute_reply.started": "2021-07-25T19:50:21.894666Z"
    }
   },
   "outputs": [
    {
     "name": "stdout",
     "output_type": "stream",
     "text": [
      "The average percentage of arrival delays?\n",
      "Sample1: 34 %\n",
      "Sample2: 34 % \n",
      "\n",
      "The average percentage of delays that is already created before departure?\n",
      "Sample1: 34 %\n",
      "Sample2: 34 % \n",
      "\n",
      "The average percentage of flights that depart late arrive late\n",
      "Sample1: 24 %\n",
      "Sample2: 25 % \n",
      "\n",
      "Conclusion: 34% of flights arrive late\n",
      "Conclusion: 34% of flights depart late\n",
      "Conclusion: ~24-25% of flights that depart late arrive late which means that airlines are able to lower the delay during flights\n"
     ]
    }
   ],
   "source": [
    "sample1_task5_1 = round(len(sample1[sample1['arr_delay']>0])/len(sample1)*100)\n",
    "sample2_task5_2 = round(len(sample2[sample2['arr_delay']>0])/len(sample2)*100)\n",
    "print('The average percentage of arrival delays?')\n",
    "print('Sample1:',sample1_task5_1,'%')\n",
    "print('Sample2:',sample2_task5_2,'%','\\n')\n",
    "\n",
    "sample1_task5_2 = round(len(sample1[sample1['dep_delay']>0])/len(sample1)*100)\n",
    "sample2_task5_2 = round(len(sample2[sample2['dep_delay']>0])/len(sample2)*100)\n",
    "print('The average percentage of delays that is already created before departure?')\n",
    "print('Sample1:',sample1_task5_2,'%')\n",
    "print('Sample2:',sample2_task5_2,'%','\\n')\n",
    "\n",
    "sample1_task5_3 = round(len(sample1[(sample1['arr_delay']>0) & (sample1['dep_delay']>0)])/len(sample1)*100)\n",
    "sample2_task5_3 = round(len(sample2[(sample2['arr_delay']>0) & (sample2['dep_delay']>0)])/len(sample2)*100)\n",
    "print('The average percentage of flights that depart late arrive late')\n",
    "print('Sample1:',sample1_task5_3,'%')\n",
    "print('Sample2:',sample2_task5_3,'%','\\n')\n",
    "\n",
    "print('Conclusion: 34% of flights arrive late')\n",
    "print('Conclusion: 34% of flights depart late')\n",
    "print('Conclusion: ~24-25% of flights that depart late arrive late which means that airlines are able to lower the delay during flights')"
   ]
  },
  {
   "cell_type": "markdown",
   "metadata": {},
   "source": [
    "#### **Task 6**: How many states cover 50% of US air traffic? "
   ]
  },
  {
   "cell_type": "code",
   "execution_count": 368,
   "metadata": {
    "execution": {
     "iopub.execute_input": "2021-07-25T22:41:32.425289Z",
     "iopub.status.busy": "2021-07-25T22:41:32.424977Z",
     "iopub.status.idle": "2021-07-25T22:41:32.499411Z",
     "shell.execute_reply": "2021-07-25T22:41:32.496539Z",
     "shell.execute_reply.started": "2021-07-25T22:41:32.425262Z"
    }
   },
   "outputs": [
    {
     "name": "stdout",
     "output_type": "stream",
     "text": [
      "Sample1:\n"
     ]
    },
    {
     "data": {
      "text/html": [
       "<div>\n",
       "<style scoped>\n",
       "    .dataframe tbody tr th:only-of-type {\n",
       "        vertical-align: middle;\n",
       "    }\n",
       "\n",
       "    .dataframe tbody tr th {\n",
       "        vertical-align: top;\n",
       "    }\n",
       "\n",
       "    .dataframe thead th {\n",
       "        text-align: right;\n",
       "    }\n",
       "</style>\n",
       "<table border=\"1\" class=\"dataframe\">\n",
       "  <thead>\n",
       "    <tr style=\"text-align: right;\">\n",
       "      <th></th>\n",
       "      <th>state</th>\n",
       "      <th>flights</th>\n",
       "      <th>%</th>\n",
       "    </tr>\n",
       "  </thead>\n",
       "  <tbody>\n",
       "    <tr>\n",
       "      <th>0</th>\n",
       "      <td>CA</td>\n",
       "      <td>1089</td>\n",
       "      <td>21.0</td>\n",
       "    </tr>\n",
       "    <tr>\n",
       "      <th>1</th>\n",
       "      <td>TX</td>\n",
       "      <td>978</td>\n",
       "      <td>18.0</td>\n",
       "    </tr>\n",
       "    <tr>\n",
       "      <th>2</th>\n",
       "      <td>FL</td>\n",
       "      <td>705</td>\n",
       "      <td>13.0</td>\n",
       "    </tr>\n",
       "    <tr>\n",
       "      <th>3</th>\n",
       "      <td>IL</td>\n",
       "      <td>656</td>\n",
       "      <td>12.0</td>\n",
       "    </tr>\n",
       "    <tr>\n",
       "      <th>4</th>\n",
       "      <td>GA</td>\n",
       "      <td>523</td>\n",
       "      <td>10.0</td>\n",
       "    </tr>\n",
       "  </tbody>\n",
       "</table>\n",
       "</div>"
      ],
      "text/plain": [
       "  state  flights     %\n",
       "0    CA     1089  21.0\n",
       "1    TX      978  18.0\n",
       "2    FL      705  13.0\n",
       "3    IL      656  12.0\n",
       "4    GA      523  10.0"
      ]
     },
     "metadata": {},
     "output_type": "display_data"
    },
    {
     "name": "stdout",
     "output_type": "stream",
     "text": [
      "Sample2:\n"
     ]
    },
    {
     "data": {
      "text/html": [
       "<div>\n",
       "<style scoped>\n",
       "    .dataframe tbody tr th:only-of-type {\n",
       "        vertical-align: middle;\n",
       "    }\n",
       "\n",
       "    .dataframe tbody tr th {\n",
       "        vertical-align: top;\n",
       "    }\n",
       "\n",
       "    .dataframe thead th {\n",
       "        text-align: right;\n",
       "    }\n",
       "</style>\n",
       "<table border=\"1\" class=\"dataframe\">\n",
       "  <thead>\n",
       "    <tr style=\"text-align: right;\">\n",
       "      <th></th>\n",
       "      <th>state</th>\n",
       "      <th>flights</th>\n",
       "      <th>%</th>\n",
       "    </tr>\n",
       "  </thead>\n",
       "  <tbody>\n",
       "    <tr>\n",
       "      <th>0</th>\n",
       "      <td>CA</td>\n",
       "      <td>1058</td>\n",
       "      <td>20.0</td>\n",
       "    </tr>\n",
       "    <tr>\n",
       "      <th>1</th>\n",
       "      <td>TX</td>\n",
       "      <td>976</td>\n",
       "      <td>18.0</td>\n",
       "    </tr>\n",
       "    <tr>\n",
       "      <th>2</th>\n",
       "      <td>FL</td>\n",
       "      <td>739</td>\n",
       "      <td>14.0</td>\n",
       "    </tr>\n",
       "    <tr>\n",
       "      <th>3</th>\n",
       "      <td>IL</td>\n",
       "      <td>655</td>\n",
       "      <td>12.0</td>\n",
       "    </tr>\n",
       "    <tr>\n",
       "      <th>4</th>\n",
       "      <td>GA</td>\n",
       "      <td>540</td>\n",
       "      <td>10.0</td>\n",
       "    </tr>\n",
       "  </tbody>\n",
       "</table>\n",
       "</div>"
      ],
      "text/plain": [
       "  state  flights     %\n",
       "0    CA     1058  20.0\n",
       "1    TX      976  18.0\n",
       "2    FL      739  14.0\n",
       "3    IL      655  12.0\n",
       "4    GA      540  10.0"
      ]
     },
     "metadata": {},
     "output_type": "display_data"
    }
   ],
   "source": [
    "#sample 1 \n",
    "sample1['origin_city_state'] = sample1['origin_city_name'].transform(lambda x: str(x).split(',')[1])\n",
    "states_df_1 = (sample1.groupby(by='origin_city_state').size()).sort_values(ascending=False)\n",
    "states_df_1 = states_df_1.to_frame().reset_index()\n",
    "states_df_1.columns = ['state','flights']\n",
    "states_df_1['%'] = round((states_df_1['flights'])/(len(states_df_1)))\n",
    "\n",
    "#sample 2\n",
    "sample2['origin_city_state'] = sample2['origin_city_name'].transform(lambda x: str(x).split(',')[1])\n",
    "states_df_2 = (sample2.groupby(by='origin_city_state').size()).sort_values(ascending=False)\n",
    "states_df_2 = states_df_2.to_frame().reset_index()\n",
    "states_df_2.columns = ['state','flights']\n",
    "states_df_2['%'] = round((states_df_2['flights'])/(len(states_df_2)))\n",
    "\n",
    "print('Sample1:')\n",
    "display(states_df_1.head())\n",
    "\n",
    "print('Sample2:')\n",
    "display(states_df_2.head())"
   ]
  },
  {
   "cell_type": "markdown",
   "metadata": {},
   "source": [
    "#### **Task 7**: Test the hypothesis whether planes fly faster when there is the departure delay? "
   ]
  },
  {
   "cell_type": "code",
   "execution_count": null,
   "metadata": {},
   "outputs": [],
   "source": []
  },
  {
   "cell_type": "code",
   "execution_count": null,
   "metadata": {},
   "outputs": [],
   "source": []
  },
  {
   "cell_type": "markdown",
   "metadata": {},
   "source": [
    "#### **Task 8**: When (which hour) do most 'LONG', 'SHORT', 'MEDIUM' haul flights take off?"
   ]
  },
  {
   "cell_type": "code",
   "execution_count": 371,
   "metadata": {
    "execution": {
     "iopub.execute_input": "2021-07-25T22:46:24.399572Z",
     "iopub.status.busy": "2021-07-25T22:46:24.399186Z",
     "iopub.status.idle": "2021-07-25T22:46:26.646909Z",
     "shell.execute_reply": "2021-07-25T22:46:26.645542Z",
     "shell.execute_reply.started": "2021-07-25T22:46:24.399531Z"
    }
   },
   "outputs": [
    {
     "name": "stdout",
     "output_type": "stream",
     "text": [
      "Observations:\n",
      "* Longer flights depart 11pm - 2 am\n",
      "* Medium flights depart throughtout 7am - 10 pm\n",
      "* Shorter fligts depart either early morning 5-6 am or or at late night 10-11 pm\n",
      "\n"
     ]
    },
    {
     "data": {
      "image/png": "[encoded data removed]",
      "text/plain": [
       "<Figure size 1800x720 with 2 Axes>"
      ]
     },
     "metadata": {
      "needs_background": "light"
     },
     "output_type": "display_data"
    }
   ],
   "source": [
    "#create charts\n",
    "fig, axes = plt.subplots(2, 1,figsize=(25,10))\n",
    "fig.suptitle('Depart_Hour vs Taxi_out')\n",
    "\n",
    "#sample1 \n",
    "sns.barplot(x='depart_hour',y='distance',data=sample1,ax=axes[0])\n",
    "axes[0].set_title('Sample1')\n",
    "\n",
    "#sample2\n",
    "sns.barplot(x='depart_hour',y='distance',data=sample2,ax=axes[1])\n",
    "axes[1].set_title('Sample2')\n",
    "\n",
    "print(\n",
    "'''Observations:\n",
    "* Longer flights depart 11pm - 2 am\n",
    "* Medium flights depart throughtout 7am - 10 pm\n",
    "* Shorter fligts depart either early morning 5-6 am or or at late night 10-11 pm\n",
    "'''\n",
    ")"
   ]
  },
  {
   "cell_type": "markdown",
   "metadata": {},
   "source": [
    "#### **Task 9**: Find the top 10 the bussiest airports. Does the biggest number of flights mean that the biggest number of passengers went through the particular airport? How much traffic do these 10 airports cover?"
   ]
  },
  {
   "cell_type": "code",
   "execution_count": null,
   "metadata": {},
   "outputs": [],
   "source": []
  },
  {
   "cell_type": "code",
   "execution_count": null,
   "metadata": {},
   "outputs": [],
   "source": []
  },
  {
   "cell_type": "markdown",
   "metadata": {},
   "source": [
    "#### **Task 10**: Do bigger delays lead to bigger fuel comsumption per passenger? \n",
    "We need to do four things to answer this as accurate as possible:\n",
    "- Find out average monthly delay per air carrier (monthly delay is sum of all delays in 1 month)\n",
    "- Find out distance covered monthly by different air carriers\n",
    "- Find out number of passengers that were carried by different air carriers\n",
    "- Find out total fuel comsumption per air carrier.\n",
    "\n",
    "Use this information to get the average fuel comsumption per passenger per km. Is this higher for the airlines with bigger average delays?"
   ]
  },
  {
   "cell_type": "code",
   "execution_count": null,
   "metadata": {},
   "outputs": [],
   "source": []
  },
  {
   "cell_type": "code",
   "execution_count": null,
   "metadata": {},
   "outputs": [],
   "source": []
  },
  {
   "cell_type": "markdown",
   "metadata": {},
   "source": [
    "#### **Realtionship between Distance and Delay**"
   ]
  },
  {
   "cell_type": "code",
   "execution_count": 61,
   "metadata": {
    "execution": {
     "iopub.execute_input": "2021-07-25T03:16:55.370304Z",
     "iopub.status.busy": "2021-07-25T03:16:55.369968Z",
     "iopub.status.idle": "2021-07-25T03:16:57.181655Z",
     "shell.execute_reply": "2021-07-25T03:16:57.179524Z",
     "shell.execute_reply.started": "2021-07-25T03:16:55.370267Z"
    }
   },
   "outputs": [
    {
     "name": "stdout",
     "output_type": "stream",
     "text": [
      "Observations:\n",
      "* Doesn't seem to be any relationship\n",
      "\n"
     ]
    },
    {
     "data": {
      "image/png": "[encoded data removed]",
      "text/plain": [
       "<Figure size 1080x360 with 2 Axes>"
      ]
     },
     "metadata": {
      "needs_background": "light"
     },
     "output_type": "display_data"
    }
   ],
   "source": [
    "#create charts\n",
    "fig, axes = plt.subplots(1, 2, sharex=True, figsize=(15,5))\n",
    "fig.suptitle('Distance vs Delay')\n",
    "\n",
    "#sample1 \n",
    "sns.regplot(x='distance',y='arr_delay',data=sample1,ax=axes[0])\n",
    "axes[0].set_title('Sample1')\n",
    "\n",
    "#sample2\n",
    "sns.regplot(x='distance',y='arr_delay',data=sample2,ax=axes[1])\n",
    "axes[1].set_title('Sample2')\n",
    "\n",
    "print(\n",
    "'''Observations:\n",
    "* Doesn't seem to be any relationship\n",
    "'''\n",
    ") "
   ]
  },
  {
   "cell_type": "markdown",
   "metadata": {},
   "source": [
    "#### **Realtionship between Taxi-out and Delay**"
   ]
  },
  {
   "cell_type": "code",
   "execution_count": 62,
   "metadata": {
    "execution": {
     "iopub.execute_input": "2021-07-25T03:17:39.696180Z",
     "iopub.status.busy": "2021-07-25T03:17:39.695647Z",
     "iopub.status.idle": "2021-07-25T03:17:41.420356Z",
     "shell.execute_reply": "2021-07-25T03:17:41.418890Z",
     "shell.execute_reply.started": "2021-07-25T03:17:39.696121Z"
    }
   },
   "outputs": [
    {
     "name": "stdout",
     "output_type": "stream",
     "text": [
      "Observations:\n",
      "* Doesn't seem to be any relationship\n",
      "\n"
     ]
    },
    {
     "data": {
      "image/png": "[encoded data removed]",
      "text/plain": [
       "<Figure size 1080x360 with 2 Axes>"
      ]
     },
     "metadata": {
      "needs_background": "light"
     },
     "output_type": "display_data"
    }
   ],
   "source": [
    "#create charts\n",
    "fig, axes = plt.subplots(1, 2, sharex=True, figsize=(15,5))\n",
    "fig.suptitle('Taxi-out vs Delay')\n",
    "\n",
    "#sample1 \n",
    "sns.regplot(x='taxi_out',y='arr_delay',data=sample1,ax=axes[0])\n",
    "axes[0].set_title('Sample1')\n",
    "\n",
    "#sample2\n",
    "sns.regplot(x='taxi_out',y='arr_delay',data=sample2,ax=axes[1])\n",
    "axes[1].set_title('Sample2')\n",
    "\n",
    "print(\n",
    "'''Observations:\n",
    "* Doesn't seem to be any relationship\n",
    "'''\n",
    ")"
   ]
  },
  {
   "cell_type": "markdown",
   "metadata": {},
   "source": [
    "#### **Realtionship between Dep-Delay & Arrival-Delay**"
   ]
  },
  {
   "cell_type": "code",
   "execution_count": 166,
   "metadata": {
    "execution": {
     "iopub.execute_input": "2021-07-25T19:36:27.524316Z",
     "iopub.status.busy": "2021-07-25T19:36:27.523521Z",
     "iopub.status.idle": "2021-07-25T19:36:28.163080Z",
     "shell.execute_reply": "2021-07-25T19:36:28.160992Z",
     "shell.execute_reply.started": "2021-07-25T19:36:27.524264Z"
    }
   },
   "outputs": [
    {
     "name": "stdout",
     "output_type": "stream",
     "text": [
      "Observations:\n",
      "* \n",
      "\n"
     ]
    },
    {
     "data": {
      "image/png": "[encoded data removed]",
      "text/plain": [
       "<Figure size 1080x360 with 2 Axes>"
      ]
     },
     "metadata": {
      "needs_background": "light"
     },
     "output_type": "display_data"
    }
   ],
   "source": [
    "#create charts\n",
    "fig, axes = plt.subplots(1, 2, sharex=True, figsize=(15,5))\n",
    "fig.suptitle('Distance vs Delay')\n",
    "\n",
    "#sample1 \n",
    "sns.scatterplot(x='dep_delay',y='arr_delay',data=sample1,ax=axes[0])\n",
    "axes[0].set_title('Sample1')\n",
    "\n",
    "#sample2\n",
    "sns.scatterplot(x='dep_delay',y='arr_delay',data=sample2,ax=axes[1])\n",
    "axes[1].set_title('Sample2')\n",
    "\n",
    "print(\n",
    "'''Observations:\n",
    "* \n",
    "'''\n",
    ")"
   ]
  },
  {
   "cell_type": "markdown",
   "metadata": {},
   "source": [
    "#### **Looking at Outlier Data (arr_delay>200)**"
   ]
  },
  {
   "cell_type": "code",
   "execution_count": 6,
   "metadata": {
    "execution": {
     "iopub.execute_input": "2021-07-26T17:41:09.726229Z",
     "iopub.status.busy": "2021-07-26T17:41:09.725914Z",
     "iopub.status.idle": "2021-07-26T17:41:09.758319Z",
     "shell.execute_reply": "2021-07-26T17:41:09.754290Z",
     "shell.execute_reply.started": "2021-07-26T17:41:09.726199Z"
    }
   },
   "outputs": [
    {
     "data": {
      "text/html": [
       "<div>\n",
       "<style scoped>\n",
       "    .dataframe tbody tr th:only-of-type {\n",
       "        vertical-align: middle;\n",
       "    }\n",
       "\n",
       "    .dataframe tbody tr th {\n",
       "        vertical-align: top;\n",
       "    }\n",
       "\n",
       "    .dataframe thead th {\n",
       "        text-align: right;\n",
       "    }\n",
       "</style>\n",
       "<table border=\"1\" class=\"dataframe\">\n",
       "  <thead>\n",
       "    <tr style=\"text-align: right;\">\n",
       "      <th></th>\n",
       "      <th>origin_city_name</th>\n",
       "      <th>dest_city_name</th>\n",
       "      <th>arr_delay</th>\n",
       "      <th>dep_delay</th>\n",
       "      <th>weather_delay</th>\n",
       "      <th>carrier_delay</th>\n",
       "      <th>nas_delay</th>\n",
       "      <th>security_delay</th>\n",
       "      <th>late_aircraft_delay</th>\n",
       "    </tr>\n",
       "  </thead>\n",
       "  <tbody>\n",
       "    <tr>\n",
       "      <th>45519</th>\n",
       "      <td>Hartford, CT</td>\n",
       "      <td>Newark, NJ</td>\n",
       "      <td>432.0</td>\n",
       "      <td>431.0</td>\n",
       "      <td>0.0</td>\n",
       "      <td>431.0</td>\n",
       "      <td>1.0</td>\n",
       "      <td>0.0</td>\n",
       "      <td>0.0</td>\n",
       "    </tr>\n",
       "    <tr>\n",
       "      <th>32266</th>\n",
       "      <td>Chicago, IL</td>\n",
       "      <td>Denver, CO</td>\n",
       "      <td>311.0</td>\n",
       "      <td>327.0</td>\n",
       "      <td>13.0</td>\n",
       "      <td>0.0</td>\n",
       "      <td>0.0</td>\n",
       "      <td>0.0</td>\n",
       "      <td>298.0</td>\n",
       "    </tr>\n",
       "    <tr>\n",
       "      <th>6716</th>\n",
       "      <td>Augusta, GA</td>\n",
       "      <td>Charlotte, NC</td>\n",
       "      <td>216.0</td>\n",
       "      <td>244.0</td>\n",
       "      <td>0.0</td>\n",
       "      <td>0.0</td>\n",
       "      <td>0.0</td>\n",
       "      <td>0.0</td>\n",
       "      <td>216.0</td>\n",
       "    </tr>\n",
       "    <tr>\n",
       "      <th>38456</th>\n",
       "      <td>Raleigh/Durham, NC</td>\n",
       "      <td>Newark, NJ</td>\n",
       "      <td>227.0</td>\n",
       "      <td>244.0</td>\n",
       "      <td>0.0</td>\n",
       "      <td>0.0</td>\n",
       "      <td>29.0</td>\n",
       "      <td>0.0</td>\n",
       "      <td>198.0</td>\n",
       "    </tr>\n",
       "    <tr>\n",
       "      <th>46898</th>\n",
       "      <td>Fort Lauderdale, FL</td>\n",
       "      <td>Knoxville, TN</td>\n",
       "      <td>523.0</td>\n",
       "      <td>517.0</td>\n",
       "      <td>0.0</td>\n",
       "      <td>517.0</td>\n",
       "      <td>6.0</td>\n",
       "      <td>0.0</td>\n",
       "      <td>0.0</td>\n",
       "    </tr>\n",
       "  </tbody>\n",
       "</table>\n",
       "</div>"
      ],
      "text/plain": [
       "          origin_city_name dest_city_name  arr_delay  dep_delay  \\\n",
       "45519         Hartford, CT     Newark, NJ      432.0      431.0   \n",
       "32266          Chicago, IL     Denver, CO      311.0      327.0   \n",
       "6716           Augusta, GA  Charlotte, NC      216.0      244.0   \n",
       "38456   Raleigh/Durham, NC     Newark, NJ      227.0      244.0   \n",
       "46898  Fort Lauderdale, FL  Knoxville, TN      523.0      517.0   \n",
       "\n",
       "       weather_delay  carrier_delay  nas_delay  security_delay  \\\n",
       "45519            0.0          431.0        1.0             0.0   \n",
       "32266           13.0            0.0        0.0             0.0   \n",
       "6716             0.0            0.0        0.0             0.0   \n",
       "38456            0.0            0.0       29.0             0.0   \n",
       "46898            0.0          517.0        6.0             0.0   \n",
       "\n",
       "       late_aircraft_delay  \n",
       "45519                  0.0  \n",
       "32266                298.0  \n",
       "6716                 216.0  \n",
       "38456                198.0  \n",
       "46898                  0.0  "
      ]
     },
     "execution_count": 6,
     "metadata": {},
     "output_type": "execute_result"
    }
   ],
   "source": [
    "filter1 = sample1['arr_delay']>200\n",
    "outliers = sample1[filter1][['origin_city_name','dest_city_name','arr_delay','dep_delay','weather_delay','carrier_delay','nas_delay','security_delay','late_aircraft_delay']]\n",
    "outliers.head()"
   ]
  },
  {
   "cell_type": "code",
   "execution_count": 22,
   "metadata": {
    "execution": {
     "iopub.execute_input": "2021-07-26T17:48:56.307777Z",
     "iopub.status.busy": "2021-07-26T17:48:56.307432Z",
     "iopub.status.idle": "2021-07-26T17:48:58.176109Z",
     "shell.execute_reply": "2021-07-26T17:48:58.175372Z",
     "shell.execute_reply.started": "2021-07-26T17:48:56.307744Z"
    }
   },
   "outputs": [
    {
     "data": {
      "text/plain": [
       "<AxesSubplot:xlabel='late_aircraft_delay', ylabel='arr_delay'>"
      ]
     },
     "execution_count": 22,
     "metadata": {},
     "output_type": "execute_result"
    },
    {
     "data": {
      "image/png": "[encoded data removed]",
      "text/plain": [
       "<Figure size 1080x720 with 6 Axes>"
      ]
     },
     "metadata": {
      "needs_background": "light"
     },
     "output_type": "display_data"
    }
   ],
   "source": [
    "filter1 = sample1['arr_delay']>200\n",
    "outliers = sample1[filter1][['origin_city_name','dest_city_name','arr_delay','dep_delay','weather_delay','carrier_delay','nas_delay','security_delay','late_aircraft_delay']]\n",
    "outliers.head()\n",
    "\n",
    "#create charts\n",
    "fig, axes = plt.subplots(2, 3, figsize=(15,10))\n",
    "fig.suptitle('Outlier Data (arr_delay>200)')\n",
    "\n",
    "#weather_delay \n",
    "sns.regplot(x='weather_delay',y='arr_delay',data=outliers,ax=axes[0,0])\n",
    "\n",
    "#carrier_delay\n",
    "sns.regplot(x='carrier_delay',y='arr_delay',data=outliers,ax=axes[0,1])\n",
    "\n",
    "#nas_delay \n",
    "sns.regplot(x='nas_delay',y='arr_delay',data=outliers,ax=axes[1,0])\n",
    "\n",
    "#security_delay\n",
    "sns.regplot(x='security_delay',y='arr_delay',data=outliers,ax=axes[1,1])\n",
    "\n",
    "#late_aircraft_delay\n",
    "sns.regplot(x='late_aircraft_delay',y='arr_delay',data=outliers,ax=axes[0,2])"
   ]
  },
  {
   "cell_type": "code",
   "execution_count": 77,
   "metadata": {
    "execution": {
     "iopub.execute_input": "2021-07-25T03:28:46.537256Z",
     "iopub.status.busy": "2021-07-25T03:28:46.536965Z",
     "iopub.status.idle": "2021-07-25T03:28:46.765283Z",
     "shell.execute_reply": "2021-07-25T03:28:46.734777Z",
     "shell.execute_reply.started": "2021-07-25T03:28:46.537227Z"
    }
   },
   "outputs": [
    {
     "data": {
      "text/html": [
       "<div>\n",
       "<style scoped>\n",
       "    .dataframe tbody tr th:only-of-type {\n",
       "        vertical-align: middle;\n",
       "    }\n",
       "\n",
       "    .dataframe tbody tr th {\n",
       "        vertical-align: top;\n",
       "    }\n",
       "\n",
       "    .dataframe thead th {\n",
       "        text-align: right;\n",
       "    }\n",
       "</style>\n",
       "<table border=\"1\" class=\"dataframe\">\n",
       "  <thead>\n",
       "    <tr style=\"text-align: right;\">\n",
       "      <th></th>\n",
       "      <th>Total</th>\n",
       "      <th>Percent</th>\n",
       "    </tr>\n",
       "  </thead>\n",
       "  <tbody>\n",
       "    <tr>\n",
       "      <th>no_name</th>\n",
       "      <td>50000</td>\n",
       "      <td>1.00000</td>\n",
       "    </tr>\n",
       "    <tr>\n",
       "      <th>total_add_gtime</th>\n",
       "      <td>49642</td>\n",
       "      <td>0.99284</td>\n",
       "    </tr>\n",
       "    <tr>\n",
       "      <th>first_dep_time</th>\n",
       "      <td>49642</td>\n",
       "      <td>0.99284</td>\n",
       "    </tr>\n",
       "    <tr>\n",
       "      <th>longest_add_gtime</th>\n",
       "      <td>49642</td>\n",
       "      <td>0.99284</td>\n",
       "    </tr>\n",
       "    <tr>\n",
       "      <th>cancellation_code</th>\n",
       "      <td>49173</td>\n",
       "      <td>0.98346</td>\n",
       "    </tr>\n",
       "    <tr>\n",
       "      <th>late_aircraft_delay</th>\n",
       "      <td>40654</td>\n",
       "      <td>0.81308</td>\n",
       "    </tr>\n",
       "    <tr>\n",
       "      <th>security_delay</th>\n",
       "      <td>40654</td>\n",
       "      <td>0.81308</td>\n",
       "    </tr>\n",
       "    <tr>\n",
       "      <th>nas_delay</th>\n",
       "      <td>40654</td>\n",
       "      <td>0.81308</td>\n",
       "    </tr>\n",
       "    <tr>\n",
       "      <th>weather_delay</th>\n",
       "      <td>40654</td>\n",
       "      <td>0.81308</td>\n",
       "    </tr>\n",
       "    <tr>\n",
       "      <th>carrier_delay</th>\n",
       "      <td>40654</td>\n",
       "      <td>0.81308</td>\n",
       "    </tr>\n",
       "    <tr>\n",
       "      <th>air_time</th>\n",
       "      <td>983</td>\n",
       "      <td>0.01966</td>\n",
       "    </tr>\n",
       "    <tr>\n",
       "      <th>arr_delay</th>\n",
       "      <td>965</td>\n",
       "      <td>0.01930</td>\n",
       "    </tr>\n",
       "    <tr>\n",
       "      <th>actual_elapsed_time</th>\n",
       "      <td>959</td>\n",
       "      <td>0.01918</td>\n",
       "    </tr>\n",
       "    <tr>\n",
       "      <th>wheels_on</th>\n",
       "      <td>875</td>\n",
       "      <td>0.01750</td>\n",
       "    </tr>\n",
       "    <tr>\n",
       "      <th>taxi_in</th>\n",
       "      <td>875</td>\n",
       "      <td>0.01750</td>\n",
       "    </tr>\n",
       "    <tr>\n",
       "      <th>arr_time</th>\n",
       "      <td>851</td>\n",
       "      <td>0.01702</td>\n",
       "    </tr>\n",
       "    <tr>\n",
       "      <th>wheels_off</th>\n",
       "      <td>845</td>\n",
       "      <td>0.01690</td>\n",
       "    </tr>\n",
       "    <tr>\n",
       "      <th>taxi_out</th>\n",
       "      <td>845</td>\n",
       "      <td>0.01690</td>\n",
       "    </tr>\n",
       "    <tr>\n",
       "      <th>dep_delay</th>\n",
       "      <td>811</td>\n",
       "      <td>0.01622</td>\n",
       "    </tr>\n",
       "    <tr>\n",
       "      <th>dep_time</th>\n",
       "      <td>797</td>\n",
       "      <td>0.01594</td>\n",
       "    </tr>\n",
       "    <tr>\n",
       "      <th>tail_num</th>\n",
       "      <td>159</td>\n",
       "      <td>0.00318</td>\n",
       "    </tr>\n",
       "    <tr>\n",
       "      <th>diverted</th>\n",
       "      <td>0</td>\n",
       "      <td>0.00000</td>\n",
       "    </tr>\n",
       "    <tr>\n",
       "      <th>origin_city_name</th>\n",
       "      <td>0</td>\n",
       "      <td>0.00000</td>\n",
       "    </tr>\n",
       "    <tr>\n",
       "      <th>mkt_unique_carrier</th>\n",
       "      <td>0</td>\n",
       "      <td>0.00000</td>\n",
       "    </tr>\n",
       "    <tr>\n",
       "      <th>branded_code_share</th>\n",
       "      <td>0</td>\n",
       "      <td>0.00000</td>\n",
       "    </tr>\n",
       "    <tr>\n",
       "      <th>mkt_carrier</th>\n",
       "      <td>0</td>\n",
       "      <td>0.00000</td>\n",
       "    </tr>\n",
       "    <tr>\n",
       "      <th>mkt_carrier_fl_num</th>\n",
       "      <td>0</td>\n",
       "      <td>0.00000</td>\n",
       "    </tr>\n",
       "    <tr>\n",
       "      <th>op_unique_carrier</th>\n",
       "      <td>0</td>\n",
       "      <td>0.00000</td>\n",
       "    </tr>\n",
       "    <tr>\n",
       "      <th>op_carrier_fl_num</th>\n",
       "      <td>0</td>\n",
       "      <td>0.00000</td>\n",
       "    </tr>\n",
       "    <tr>\n",
       "      <th>origin_airport_id</th>\n",
       "      <td>0</td>\n",
       "      <td>0.00000</td>\n",
       "    </tr>\n",
       "    <tr>\n",
       "      <th>origin</th>\n",
       "      <td>0</td>\n",
       "      <td>0.00000</td>\n",
       "    </tr>\n",
       "    <tr>\n",
       "      <th>dest_city_name</th>\n",
       "      <td>0</td>\n",
       "      <td>0.00000</td>\n",
       "    </tr>\n",
       "    <tr>\n",
       "      <th>dest_airport_id</th>\n",
       "      <td>0</td>\n",
       "      <td>0.00000</td>\n",
       "    </tr>\n",
       "    <tr>\n",
       "      <th>dest</th>\n",
       "      <td>0</td>\n",
       "      <td>0.00000</td>\n",
       "    </tr>\n",
       "    <tr>\n",
       "      <th>dup</th>\n",
       "      <td>0</td>\n",
       "      <td>0.00000</td>\n",
       "    </tr>\n",
       "    <tr>\n",
       "      <th>crs_dep_time</th>\n",
       "      <td>0</td>\n",
       "      <td>0.00000</td>\n",
       "    </tr>\n",
       "    <tr>\n",
       "      <th>distance</th>\n",
       "      <td>0</td>\n",
       "      <td>0.00000</td>\n",
       "    </tr>\n",
       "    <tr>\n",
       "      <th>flights</th>\n",
       "      <td>0</td>\n",
       "      <td>0.00000</td>\n",
       "    </tr>\n",
       "    <tr>\n",
       "      <th>crs_arr_time</th>\n",
       "      <td>0</td>\n",
       "      <td>0.00000</td>\n",
       "    </tr>\n",
       "    <tr>\n",
       "      <th>crs_elapsed_time</th>\n",
       "      <td>0</td>\n",
       "      <td>0.00000</td>\n",
       "    </tr>\n",
       "    <tr>\n",
       "      <th>cancelled</th>\n",
       "      <td>0</td>\n",
       "      <td>0.00000</td>\n",
       "    </tr>\n",
       "    <tr>\n",
       "      <th>fl_date</th>\n",
       "      <td>0</td>\n",
       "      <td>0.00000</td>\n",
       "    </tr>\n",
       "  </tbody>\n",
       "</table>\n",
       "</div>"
      ],
      "text/plain": [
       "                     Total  Percent\n",
       "no_name              50000  1.00000\n",
       "total_add_gtime      49642  0.99284\n",
       "first_dep_time       49642  0.99284\n",
       "longest_add_gtime    49642  0.99284\n",
       "cancellation_code    49173  0.98346\n",
       "late_aircraft_delay  40654  0.81308\n",
       "security_delay       40654  0.81308\n",
       "nas_delay            40654  0.81308\n",
       "weather_delay        40654  0.81308\n",
       "carrier_delay        40654  0.81308\n",
       "air_time               983  0.01966\n",
       "arr_delay              965  0.01930\n",
       "actual_elapsed_time    959  0.01918\n",
       "wheels_on              875  0.01750\n",
       "taxi_in                875  0.01750\n",
       "arr_time               851  0.01702\n",
       "wheels_off             845  0.01690\n",
       "taxi_out               845  0.01690\n",
       "dep_delay              811  0.01622\n",
       "dep_time               797  0.01594\n",
       "tail_num               159  0.00318\n",
       "diverted                 0  0.00000\n",
       "origin_city_name         0  0.00000\n",
       "mkt_unique_carrier       0  0.00000\n",
       "branded_code_share       0  0.00000\n",
       "mkt_carrier              0  0.00000\n",
       "mkt_carrier_fl_num       0  0.00000\n",
       "op_unique_carrier        0  0.00000\n",
       "op_carrier_fl_num        0  0.00000\n",
       "origin_airport_id        0  0.00000\n",
       "origin                   0  0.00000\n",
       "dest_city_name           0  0.00000\n",
       "dest_airport_id          0  0.00000\n",
       "dest                     0  0.00000\n",
       "dup                      0  0.00000\n",
       "crs_dep_time             0  0.00000\n",
       "distance                 0  0.00000\n",
       "flights                  0  0.00000\n",
       "crs_arr_time             0  0.00000\n",
       "crs_elapsed_time         0  0.00000\n",
       "cancelled                0  0.00000\n",
       "fl_date                  0  0.00000"
      ]
     },
     "metadata": {},
     "output_type": "display_data"
    },
    {
     "data": {
      "text/plain": [
       "(50000, 42)"
      ]
     },
     "metadata": {},
     "output_type": "display_data"
    }
   ],
   "source": [
    "# missing data\n",
    "total = data.isnull().sum().sort_values(ascending=False)\n",
    "percent = (data.isnull().sum()/data.isnull().count()).sort_values(ascending=False)\n",
    "missing_data = pd.concat([total, percent], axis=1, keys=['Total', 'Percent'])\n",
    "\n",
    "display(missing_data)\n",
    "display(data.shape)"
   ]
  }
 ],
 "metadata": {
  "kernelspec": {
   "display_name": "Python 3",
   "language": "python",
   "name": "python3"
  },
  "language_info": {
   "codemirror_mode": {
    "name": "ipython",
    "version": 3
   },
   "file_extension": ".py",
   "mimetype": "text/x-python",
   "name": "python",
   "nbconvert_exporter": "python",
   "pygments_lexer": "ipython3",
   "version": "3.8.8"
  },
  "toc": {
   "base_numbering": 1,
   "nav_menu": {},
   "number_sections": true,
   "sideBar": true,
   "skip_h1_title": false,
   "title_cell": "Table of Contents",
   "title_sidebar": "Contents",
   "toc_cell": false,
   "toc_position": {},
   "toc_section_display": true,
   "toc_window_display": false
  },
  "varInspector": {
   "cols": {
    "lenName": 16,
    "lenType": 16,
    "lenVar": 40
   },
   "kernels_config": {
    "python": {
     "delete_cmd_postfix": "",
     "delete_cmd_prefix": "del ",
     "library": "var_list.py",
     "varRefreshCmd": "print(var_dic_list())"
    },
    "r": {
     "delete_cmd_postfix": ") ",
     "delete_cmd_prefix": "rm(",
     "library": "var_list.r",
     "varRefreshCmd": "cat(var_dic_list()) "
    }
   },
   "types_to_exclude": [
    "module",
    "function",
    "builtin_function_or_method",
    "instance",
    "_Feature"
   ],
   "window_display": false
  }
 },
 "nbformat": 4,
 "nbformat_minor": 4
}
