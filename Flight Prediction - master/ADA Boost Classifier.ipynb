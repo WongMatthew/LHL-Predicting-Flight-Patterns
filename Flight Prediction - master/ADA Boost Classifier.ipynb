{
 "cells": [
  {
   "cell_type": "markdown",
   "id": "f6f5d835",
   "metadata": {},
   "source": [
    "# ADA Boost Classifier"
   ]
  },
  {
   "cell_type": "code",
   "execution_count": 1,
   "id": "a2030063",
   "metadata": {},
   "outputs": [
    {
     "name": "stdout",
     "output_type": "stream",
     "text": [
      "Once deleted, variables cannot be recovered. Proceed (y/[n])? y\n"
     ]
    }
   ],
   "source": [
    "%reset"
   ]
  },
  {
   "cell_type": "code",
   "execution_count": 2,
   "id": "5db89c48",
   "metadata": {},
   "outputs": [],
   "source": [
    "# import libraries\n",
    "import pandas as pd\n",
    "import numpy as np\n",
    "import matplotlib.pyplot as plt\n",
    "import seaborn as sns\n",
    "import datetime\n",
    "import pickle\n",
    "import sklearn.model_selection as model_selection\n",
    "from sklearn.ensemble import RandomForestClassifier\n",
    "from sklearn.metrics import mean_absolute_error\n",
    "from sklearn.metrics import r2_score\n",
    "from sklearn.model_selection import RandomizedSearchCV\n",
    "from sklearn.model_selection import GridSearchCV\n",
    "from sklearn.linear_model import LinearRegression\n",
    "from sklearn.metrics import mean_absolute_error\n",
    "from sklearn.metrics import r2_score\n",
    "import sklearn.model_selection as model_selection\n",
    "from sklearn.ensemble import AdaBoostClassifier"
   ]
  },
  {
   "cell_type": "code",
   "execution_count": 3,
   "id": "6e11cdf6",
   "metadata": {},
   "outputs": [],
   "source": [
    "# flights table\n",
    "data = pd.read_csv('/Users/Matthew Wong/flights_table_optimized(50,000 points).csv',delimiter=';')\n",
    "data = data.iloc[: , 1:]"
   ]
  },
  {
   "cell_type": "code",
   "execution_count": 4,
   "id": "9dc77512",
   "metadata": {},
   "outputs": [],
   "source": [
    "#Assign train and target variables\n",
    "X = data[['month','day','year','origin_city','origin_city_state','dest_city','dest_city_state','Route','distance','air_time','depart_hour','dep_delay_route','arr_delay_route','taxi_out_route','taxi_in_route','dep_delay_city','arr_delay_city','taxi_out_city','taxi_in_city','dep_delay_month','arr_delay_month','taxi_out_month','taxi_in_month']]\n",
    "y = data['arr_delay']\n",
    "\n",
    "X_train,X_test,y_train,y_test = model_selection.train_test_split(X,y,train_size=0.75,test_size=0.25,random_state=123)"
   ]
  },
  {
   "cell_type": "code",
   "execution_count": 5,
   "id": "ab1175e1",
   "metadata": {},
   "outputs": [
    {
     "data": {
      "text/html": [
       "<div>\n",
       "<style scoped>\n",
       "    .dataframe tbody tr th:only-of-type {\n",
       "        vertical-align: middle;\n",
       "    }\n",
       "\n",
       "    .dataframe tbody tr th {\n",
       "        vertical-align: top;\n",
       "    }\n",
       "\n",
       "    .dataframe thead th {\n",
       "        text-align: right;\n",
       "    }\n",
       "</style>\n",
       "<table border=\"1\" class=\"dataframe\">\n",
       "  <thead>\n",
       "    <tr style=\"text-align: right;\">\n",
       "      <th></th>\n",
       "      <th>month</th>\n",
       "      <th>day</th>\n",
       "      <th>year</th>\n",
       "      <th>origin_city</th>\n",
       "      <th>origin_city_state</th>\n",
       "      <th>dest_city</th>\n",
       "      <th>dest_city_state</th>\n",
       "      <th>Route</th>\n",
       "      <th>distance</th>\n",
       "      <th>air_time</th>\n",
       "      <th>...</th>\n",
       "      <th>taxi_in_route</th>\n",
       "      <th>dep_delay_city</th>\n",
       "      <th>arr_delay_city</th>\n",
       "      <th>taxi_out_city</th>\n",
       "      <th>taxi_in_city</th>\n",
       "      <th>dep_delay_month</th>\n",
       "      <th>arr_delay_month</th>\n",
       "      <th>taxi_out_month</th>\n",
       "      <th>taxi_in_month</th>\n",
       "      <th>arr_delay</th>\n",
       "    </tr>\n",
       "  </thead>\n",
       "  <tbody>\n",
       "    <tr>\n",
       "      <th>0</th>\n",
       "      <td>12</td>\n",
       "      <td>30</td>\n",
       "      <td>2019</td>\n",
       "      <td>220</td>\n",
       "      <td>17</td>\n",
       "      <td>105</td>\n",
       "      <td>8</td>\n",
       "      <td>2987</td>\n",
       "      <td>674.0</td>\n",
       "      <td>84.0</td>\n",
       "      <td>...</td>\n",
       "      <td>8.444444</td>\n",
       "      <td>1.710611</td>\n",
       "      <td>-4.176849</td>\n",
       "      <td>11.800643</td>\n",
       "      <td>8.057878</td>\n",
       "      <td>0.892546</td>\n",
       "      <td>-5.488575</td>\n",
       "      <td>17.429543</td>\n",
       "      <td>7.718988</td>\n",
       "      <td>-3.0</td>\n",
       "    </tr>\n",
       "    <tr>\n",
       "      <th>1</th>\n",
       "      <td>4</td>\n",
       "      <td>8</td>\n",
       "      <td>2018</td>\n",
       "      <td>296</td>\n",
       "      <td>49</td>\n",
       "      <td>233</td>\n",
       "      <td>4</td>\n",
       "      <td>4370</td>\n",
       "      <td>672.0</td>\n",
       "      <td>98.0</td>\n",
       "      <td>...</td>\n",
       "      <td>6.208333</td>\n",
       "      <td>1.014692</td>\n",
       "      <td>-4.634527</td>\n",
       "      <td>19.509642</td>\n",
       "      <td>6.965106</td>\n",
       "      <td>-0.045202</td>\n",
       "      <td>-5.727201</td>\n",
       "      <td>16.802538</td>\n",
       "      <td>7.431139</td>\n",
       "      <td>25.0</td>\n",
       "    </tr>\n",
       "    <tr>\n",
       "      <th>2</th>\n",
       "      <td>11</td>\n",
       "      <td>21</td>\n",
       "      <td>2018</td>\n",
       "      <td>52</td>\n",
       "      <td>40</td>\n",
       "      <td>17</td>\n",
       "      <td>9</td>\n",
       "      <td>604</td>\n",
       "      <td>259.0</td>\n",
       "      <td>46.0</td>\n",
       "      <td>...</td>\n",
       "      <td>10.238095</td>\n",
       "      <td>-1.163522</td>\n",
       "      <td>-7.421384</td>\n",
       "      <td>14.861635</td>\n",
       "      <td>8.779874</td>\n",
       "      <td>0.093850</td>\n",
       "      <td>-5.732620</td>\n",
       "      <td>16.940107</td>\n",
       "      <td>7.404545</td>\n",
       "      <td>-13.0</td>\n",
       "    </tr>\n",
       "  </tbody>\n",
       "</table>\n",
       "<p>3 rows × 24 columns</p>\n",
       "</div>"
      ],
      "text/plain": [
       "   month  day  year  origin_city  origin_city_state  dest_city  \\\n",
       "0     12   30  2019          220                 17        105   \n",
       "1      4    8  2018          296                 49        233   \n",
       "2     11   21  2018           52                 40         17   \n",
       "\n",
       "   dest_city_state  Route  distance  air_time  ...  taxi_in_route  \\\n",
       "0                8   2987     674.0      84.0  ...       8.444444   \n",
       "1                4   4370     672.0      98.0  ...       6.208333   \n",
       "2                9    604     259.0      46.0  ...      10.238095   \n",
       "\n",
       "   dep_delay_city  arr_delay_city  taxi_out_city  taxi_in_city  \\\n",
       "0        1.710611       -4.176849      11.800643      8.057878   \n",
       "1        1.014692       -4.634527      19.509642      6.965106   \n",
       "2       -1.163522       -7.421384      14.861635      8.779874   \n",
       "\n",
       "   dep_delay_month  arr_delay_month  taxi_out_month  taxi_in_month  arr_delay  \n",
       "0         0.892546        -5.488575       17.429543       7.718988       -3.0  \n",
       "1        -0.045202        -5.727201       16.802538       7.431139       25.0  \n",
       "2         0.093850        -5.732620       16.940107       7.404545      -13.0  \n",
       "\n",
       "[3 rows x 24 columns]"
      ]
     },
     "metadata": {},
     "output_type": "display_data"
    },
    {
     "data": {
      "text/plain": [
       "(44551, 24)"
      ]
     },
     "metadata": {},
     "output_type": "display_data"
    }
   ],
   "source": [
    "display(data.head(3))\n",
    "display(data.shape)"
   ]
  },
  {
   "cell_type": "code",
   "execution_count": 6,
   "id": "4f7a7d3e",
   "metadata": {},
   "outputs": [],
   "source": [
    "model = AdaBoostClassifier()\n",
    "\n",
    "model.fit(X_train,y_train)\n",
    "\n",
    "y_pred = model.predict(X_test)"
   ]
  },
  {
   "cell_type": "code",
   "execution_count": 7,
   "id": "f5212163",
   "metadata": {},
   "outputs": [
    {
     "name": "stdout",
     "output_type": "stream",
     "text": [
      "R2 Score for train data: 0.035\n",
      "R2 Score2 for test data: -0.098\n",
      "MAE Score for test data:  11.89\n"
     ]
    },
    {
     "data": {
      "image/png": "[encoded data removed]",
      "text/plain": [
       "<Figure size 432x288 with 1 Axes>"
      ]
     },
     "metadata": {
      "needs_background": "light"
     },
     "output_type": "display_data"
    }
   ],
   "source": [
    "#prints the R2 score for your test dataset\n",
    "print('R2 Score for train data:', round(model.score(X_train,y_train),3))\n",
    "print('R2 Score2 for test data:', round(r2_score(y_test,y_pred),3))\n",
    "print('MAE Score for test data: ', round(mean_absolute_error(y_test,y_pred),2))\n",
    "\n",
    "df = pd.DataFrame(\n",
    "        {\n",
    "            'actual':y_test,\n",
    "            'predicted':y_pred\n",
    "        }\n",
    ")\n",
    "df\n",
    "\n",
    "sns.regplot(x='predicted',y='actual',data=df,label='R2:'+ str(round(r2_score(y_test,y_pred),3)))\n",
    "plt.legend(loc=0)\n",
    "plt.show()"
   ]
  },
  {
   "cell_type": "markdown",
   "id": "38ed72ad",
   "metadata": {},
   "source": [
    "# AdaBoost Classifier Grid Search"
   ]
  },
  {
   "cell_type": "code",
   "execution_count": 13,
   "id": "9d39d75c",
   "metadata": {},
   "outputs": [
    {
     "name": "stderr",
     "output_type": "stream",
     "text": [
      "C:\\Users\\Matthew Wong\\anaconda3\\lib\\site-packages\\sklearn\\model_selection\\_split.py:666: UserWarning: The least populated class in y has only 4 members, which is less than n_splits=5.\n",
      "  warnings.warn((\"The least populated class in y has only %d\"\n"
     ]
    }
   ],
   "source": [
    "#define hyperparameters we want to tune\n",
    "param_grid = {\n",
    "    'n_estimators' : [50,100,150],\n",
    "    'algorithm' : ['SAMME','SAMME.R']\n",
    "}\n",
    "\n",
    "from sklearn.model_selection import GridSearchCV\n",
    "from sklearn.ensemble import AdaBoostClassifier\n",
    "\n",
    "#instantiate GridSearchCV, fit model, and make prediction\n",
    "model = GridSearchCV(AdaBoostClassifier(), param_grid = param_grid, cv = 5)\n",
    "model.fit(X_train, y_train)\n",
    "y_pred = model.predict(X_test)\n",
    "\n",
    "df = pd.DataFrame(model.cv_results_)"
   ]
  },
  {
   "cell_type": "code",
   "execution_count": 14,
   "id": "b870c445",
   "metadata": {},
   "outputs": [
    {
     "data": {
      "text/plain": [
       "{'algorithm': 'SAMME', 'n_estimators': 50}"
      ]
     },
     "metadata": {},
     "output_type": "display_data"
    },
    {
     "data": {
      "text/plain": [
       "0.03232260548605931"
      ]
     },
     "metadata": {},
     "output_type": "display_data"
    },
    {
     "data": {
      "text/html": [
       "<div>\n",
       "<style scoped>\n",
       "    .dataframe tbody tr th:only-of-type {\n",
       "        vertical-align: middle;\n",
       "    }\n",
       "\n",
       "    .dataframe tbody tr th {\n",
       "        vertical-align: top;\n",
       "    }\n",
       "\n",
       "    .dataframe thead th {\n",
       "        text-align: right;\n",
       "    }\n",
       "</style>\n",
       "<table border=\"1\" class=\"dataframe\">\n",
       "  <thead>\n",
       "    <tr style=\"text-align: right;\">\n",
       "      <th></th>\n",
       "      <th>mean_fit_time</th>\n",
       "      <th>std_fit_time</th>\n",
       "      <th>mean_score_time</th>\n",
       "      <th>std_score_time</th>\n",
       "      <th>param_algorithm</th>\n",
       "      <th>param_n_estimators</th>\n",
       "      <th>params</th>\n",
       "      <th>split0_test_score</th>\n",
       "      <th>split1_test_score</th>\n",
       "      <th>split2_test_score</th>\n",
       "      <th>split3_test_score</th>\n",
       "      <th>split4_test_score</th>\n",
       "      <th>mean_test_score</th>\n",
       "      <th>std_test_score</th>\n",
       "      <th>rank_test_score</th>\n",
       "    </tr>\n",
       "  </thead>\n",
       "  <tbody>\n",
       "    <tr>\n",
       "      <th>0</th>\n",
       "      <td>2.498181</td>\n",
       "      <td>0.230913</td>\n",
       "      <td>0.515665</td>\n",
       "      <td>0.094790</td>\n",
       "      <td>SAMME</td>\n",
       "      <td>50</td>\n",
       "      <td>{'algorithm': 'SAMME', 'n_estimators': 50}</td>\n",
       "      <td>0.033518</td>\n",
       "      <td>0.034266</td>\n",
       "      <td>0.033967</td>\n",
       "      <td>0.032775</td>\n",
       "      <td>0.027088</td>\n",
       "      <td>0.032323</td>\n",
       "      <td>0.002665</td>\n",
       "      <td>1</td>\n",
       "    </tr>\n",
       "    <tr>\n",
       "      <th>2</th>\n",
       "      <td>8.049558</td>\n",
       "      <td>2.288509</td>\n",
       "      <td>1.453233</td>\n",
       "      <td>0.158997</td>\n",
       "      <td>SAMME</td>\n",
       "      <td>150</td>\n",
       "      <td>{'algorithm': 'SAMME', 'n_estimators': 150}</td>\n",
       "      <td>0.034715</td>\n",
       "      <td>0.031573</td>\n",
       "      <td>0.032620</td>\n",
       "      <td>0.029482</td>\n",
       "      <td>0.032775</td>\n",
       "      <td>0.032233</td>\n",
       "      <td>0.001709</td>\n",
       "      <td>2</td>\n",
       "    </tr>\n",
       "    <tr>\n",
       "      <th>1</th>\n",
       "      <td>4.763863</td>\n",
       "      <td>0.307327</td>\n",
       "      <td>0.913456</td>\n",
       "      <td>0.055304</td>\n",
       "      <td>SAMME</td>\n",
       "      <td>100</td>\n",
       "      <td>{'algorithm': 'SAMME', 'n_estimators': 100}</td>\n",
       "      <td>0.034565</td>\n",
       "      <td>0.031573</td>\n",
       "      <td>0.031573</td>\n",
       "      <td>0.034421</td>\n",
       "      <td>0.027836</td>\n",
       "      <td>0.031993</td>\n",
       "      <td>0.002455</td>\n",
       "      <td>3</td>\n",
       "    </tr>\n",
       "  </tbody>\n",
       "</table>\n",
       "</div>"
      ],
      "text/plain": [
       "   mean_fit_time  std_fit_time  mean_score_time  std_score_time  \\\n",
       "0       2.498181      0.230913         0.515665        0.094790   \n",
       "2       8.049558      2.288509         1.453233        0.158997   \n",
       "1       4.763863      0.307327         0.913456        0.055304   \n",
       "\n",
       "  param_algorithm param_n_estimators  \\\n",
       "0           SAMME                 50   \n",
       "2           SAMME                150   \n",
       "1           SAMME                100   \n",
       "\n",
       "                                        params  split0_test_score  \\\n",
       "0   {'algorithm': 'SAMME', 'n_estimators': 50}           0.033518   \n",
       "2  {'algorithm': 'SAMME', 'n_estimators': 150}           0.034715   \n",
       "1  {'algorithm': 'SAMME', 'n_estimators': 100}           0.034565   \n",
       "\n",
       "   split1_test_score  split2_test_score  split3_test_score  split4_test_score  \\\n",
       "0           0.034266           0.033967           0.032775           0.027088   \n",
       "2           0.031573           0.032620           0.029482           0.032775   \n",
       "1           0.031573           0.031573           0.034421           0.027836   \n",
       "\n",
       "   mean_test_score  std_test_score  rank_test_score  \n",
       "0         0.032323        0.002665                1  \n",
       "2         0.032233        0.001709                2  \n",
       "1         0.031993        0.002455                3  "
      ]
     },
     "execution_count": 14,
     "metadata": {},
     "output_type": "execute_result"
    }
   ],
   "source": [
    "display(model.best_params_)\n",
    "display(model.best_score_)\n",
    "\n",
    "df.sort_values('rank_test_score', ascending = True).head(3)"
   ]
  },
  {
   "cell_type": "code",
   "execution_count": null,
   "id": "84cd0d5f",
   "metadata": {},
   "outputs": [],
   "source": []
  }
 ],
 "metadata": {
  "kernelspec": {
   "display_name": "Python 3",
   "language": "python",
   "name": "python3"
  },
  "language_info": {
   "codemirror_mode": {
    "name": "ipython",
    "version": 3
   },
   "file_extension": ".py",
   "mimetype": "text/x-python",
   "name": "python",
   "nbconvert_exporter": "python",
   "pygments_lexer": "ipython3",
   "version": "3.8.8"
  }
 },
 "nbformat": 4,
 "nbformat_minor": 5
}
