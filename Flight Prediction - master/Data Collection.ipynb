{
 "cells": [
  {
   "cell_type": "code",
   "execution_count": 1,
   "id": "20100f3d",
   "metadata": {
    "execution": {
     "iopub.execute_input": "2021-07-26T17:07:12.678808Z",
     "iopub.status.busy": "2021-07-26T17:07:12.676855Z",
     "iopub.status.idle": "2021-07-26T17:07:13.338429Z",
     "shell.execute_reply": "2021-07-26T17:07:13.337579Z",
     "shell.execute_reply.started": "2021-07-26T17:07:12.678368Z"
    }
   },
   "outputs": [],
   "source": [
    "import pandas as pd\n",
    "import psycopg2"
   ]
  },
  {
   "cell_type": "markdown",
   "id": "2b6c8c6a",
   "metadata": {},
   "source": [
    "### **Notes**\n",
    "\n",
    "Took 6 mins to collect: \n",
    "- fl_date, mkt_carrier_fl_num, origin_city_name, dest_city_name, distance, dep_delay, arr_delay, \n",
    "- carrier_delay, weather_delay, nas_delay, security_delay, late_aircraft_delay  \n",
    "from flights table"
   ]
  },
  {
   "cell_type": "code",
   "execution_count": null,
   "id": "7c286d27",
   "metadata": {},
   "outputs": [],
   "source": [
    "#Flights table\n",
    "con = psycopg2.connect(\n",
    "    host = 'mid-term-project.ca2jkepgjpne.us-east-2.rds.amazonaws.com',\n",
    "    database = 'mid_term_project', \n",
    "    user = 'lhl_student',\n",
    "    password = 'lhl_student',\n",
    "    port = 5432\n",
    ")\n",
    "\n",
    "sql = '''\n",
    "        SELECT *\n",
    "        FROM flights \n",
    "        ORDER BY RANDOM() LIMIT 50000\n",
    ";\n",
    "'''\n",
    "\n",
    "data = pd.read_sql_query(sql,con)\n",
    "con.close()"
   ]
  },
  {
   "cell_type": "code",
   "execution_count": null,
   "id": "f0b941f3",
   "metadata": {},
   "outputs": [],
   "source": [
    "#display(data)\n",
    "display(data.shape)"
   ]
  },
  {
   "cell_type": "code",
   "execution_count": null,
   "id": "9be82b42",
   "metadata": {},
   "outputs": [],
   "source": [
    "#save to file outside of git folder\n",
    "data.to_csv(r'/Users/Prashanta/Desktop/airplane_data/flights_table(50,000_points).csv',sep=';')"
   ]
  },
  {
   "cell_type": "code",
   "execution_count": null,
   "id": "54d5df3d",
   "metadata": {
    "execution": {
     "iopub.execute_input": "2021-07-26T17:07:20.471165Z",
     "iopub.status.busy": "2021-07-26T17:07:20.470887Z"
    }
   },
   "outputs": [],
   "source": [
    "#passengers table\n",
    "con = psycopg2.connect(\n",
    "    host = 'mid-term-project.ca2jkepgjpne.us-east-2.rds.amazonaws.com',\n",
    "    database = 'mid_term_project', \n",
    "    user = 'lhl_student',\n",
    "    password = 'lhl_student',\n",
    "    port = 5432\n",
    ")\n",
    "\n",
    "sql = '''      \n",
    "        SELECT flights.mkt_unique_carrier, passengers.unique_carrier\n",
    "        FROM flights\n",
    "        JOIN passengers ON flights.mkt_unique_carrier=passengers.unique_carrier\n",
    "        ORDER BY RANDOM() LIMIT 10\n",
    ";        \n",
    "'''\n",
    "\n",
    "data = pd.read_sql_query(sql,con)\n",
    "con.close()"
   ]
  },
  {
   "cell_type": "code",
   "execution_count": null,
   "id": "cb8d5df2",
   "metadata": {},
   "outputs": [],
   "source": [
    "#display(data)\n",
    "display(data.shape)"
   ]
  },
  {
   "cell_type": "code",
   "execution_count": null,
   "id": "b7452aaa",
   "metadata": {},
   "outputs": [],
   "source": [
    "#save to file outside of git folder\n",
    "data.to_csv(r'/Users/Prashanta/Desktop/airplane_data/flights&passengers_table(50,000_points).csv',sep=';')"
   ]
  },
  {
   "cell_type": "code",
   "execution_count": null,
   "id": "dedad4fa",
   "metadata": {},
   "outputs": [],
   "source": []
  }
 ],
 "metadata": {
  "kernelspec": {
   "display_name": "Python 3",
   "language": "python",
   "name": "python3"
  },
  "language_info": {
   "codemirror_mode": {
    "name": "ipython",
    "version": 3
   },
   "file_extension": ".py",
   "mimetype": "text/x-python",
   "name": "python",
   "nbconvert_exporter": "python",
   "pygments_lexer": "ipython3",
   "version": "3.8.8"
  }
 },
 "nbformat": 4,
 "nbformat_minor": 5
}
