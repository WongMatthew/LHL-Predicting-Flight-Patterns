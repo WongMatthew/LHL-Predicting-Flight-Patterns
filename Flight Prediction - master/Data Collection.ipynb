{
 "cells": [
  {
   "cell_type": "code",
   "execution_count": 1,
   "id": "65da4668",
   "metadata": {
    "execution": {
     "iopub.execute_input": "2021-07-24T21:52:11.827392Z",
     "iopub.status.busy": "2021-07-24T21:52:11.826969Z",
     "iopub.status.idle": "2021-07-24T21:52:12.195809Z",
     "shell.execute_reply": "2021-07-24T21:52:12.195033Z",
     "shell.execute_reply.started": "2021-07-24T21:52:11.827313Z"
    }
   },
   "outputs": [],
   "source": [
    "import pandas as pd\n",
    "import psycopg2"
   ]
  },
  {
   "cell_type": "markdown",
   "id": "f072286d",
   "metadata": {},
   "source": [
    "### **Notes**\n",
    "\n",
    "Took 6 mins to collect: \n",
    "- fl_date, mkt_carrier_fl_num, origin_city_name, dest_city_name, distance, dep_delay, arr_delay, \n",
    "- carrier_delay, weather_delay, nas_delay, security_delay, late_aircraft_delay  \n",
    "from flights table"
   ]
  },
  {
   "cell_type": "code",
   "execution_count": 2,
   "id": "6a26d8a2",
   "metadata": {
    "execution": {
     "iopub.execute_input": "2021-07-24T21:52:29.059038Z",
     "iopub.status.busy": "2021-07-24T21:52:29.058574Z",
     "iopub.status.idle": "2021-07-24T21:55:53.793959Z",
     "shell.execute_reply": "2021-07-24T21:55:53.792017Z",
     "shell.execute_reply.started": "2021-07-24T21:52:29.058981Z"
    }
   },
   "outputs": [],
   "source": [
    "con = psycopg2.connect(\n",
    "    host = 'mid-term-project.ca2jkepgjpne.us-east-2.rds.amazonaws.com',\n",
    "    database = 'mid_term_project', \n",
    "    user = 'lhl_student',\n",
    "    password = 'lhl_student',\n",
    "    port = 5432\n",
    ")\n",
    "\n",
    "sql = '''\n",
    "        SELECT *\n",
    "        FROM flights \n",
    "        ORDER BY RANDOM() LIMIT 50000\n",
    ";\n",
    "'''\n",
    "\n",
    "data = pd.read_sql_query(sql,con)\n",
    "con.close()"
   ]
  },
  {
   "cell_type": "code",
   "execution_count": 5,
   "id": "91a413b5",
   "metadata": {
    "execution": {
     "iopub.execute_input": "2021-07-24T22:28:19.925411Z",
     "iopub.status.busy": "2021-07-24T22:28:19.925101Z",
     "iopub.status.idle": "2021-07-24T22:28:19.937249Z",
     "shell.execute_reply": "2021-07-24T22:28:19.936546Z",
     "shell.execute_reply.started": "2021-07-24T22:28:19.925382Z"
    }
   },
   "outputs": [
    {
     "data": {
      "text/plain": [
       "(50000, 42)"
      ]
     },
     "metadata": {},
     "output_type": "display_data"
    }
   ],
   "source": [
    "#display(data)\n",
    "display(data.shape)"
   ]
  },
  {
   "cell_type": "code",
   "execution_count": 6,
   "id": "a9f25691",
   "metadata": {
    "execution": {
     "iopub.execute_input": "2021-07-24T22:28:47.243117Z",
     "iopub.status.busy": "2021-07-24T22:28:47.242834Z",
     "iopub.status.idle": "2021-07-24T22:28:48.592857Z",
     "shell.execute_reply": "2021-07-24T22:28:48.592108Z",
     "shell.execute_reply.started": "2021-07-24T22:28:47.243086Z"
    }
   },
   "outputs": [],
   "source": [
    "#save to file outside of git folder\n",
    "data.to_csv(r'/Users/Prashanta/Desktop/airplane_data/flights_table(50,000_points).csv',sep=';')"
   ]
  },
  {
   "cell_type": "code",
   "execution_count": null,
   "id": "eee93f4f",
   "metadata": {},
   "outputs": [],
   "source": []
  }
 ],
 "metadata": {
  "kernelspec": {
   "display_name": "Python 3",
   "language": "python",
   "name": "python3"
  },
  "language_info": {
   "codemirror_mode": {
    "name": "ipython",
    "version": 3
   },
   "file_extension": ".py",
   "mimetype": "text/x-python",
   "name": "python",
   "nbconvert_exporter": "python",
   "pygments_lexer": "ipython3",
   "version": "3.8.8"
  }
 },
 "nbformat": 4,
 "nbformat_minor": 5
}
