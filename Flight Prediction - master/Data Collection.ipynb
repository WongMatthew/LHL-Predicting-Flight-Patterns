{
 "cells": [
  {
   "cell_type": "code",
   "execution_count": null,
   "id": "d3487752",
   "metadata": {},
   "outputs": [],
   "source": [
    "import pandas as pd\n",
    "import psycopg2"
   ]
  },
  {
   "cell_type": "markdown",
   "id": "6d90f65e",
   "metadata": {},
   "source": [
    "### **Notes**\n",
    "\n",
    "Took 6 mins to collect: \n",
    "- fl_date, mkt_carrier_fl_num, origin_city_name, dest_city_name, distance, dep_delay, arr_delay, \n",
    "- carrier_delay, weather_delay, nas_delay, security_delay, late_aircraft_delay  \n",
    "from flights table"
   ]
  },
  {
   "cell_type": "code",
   "execution_count": null,
   "id": "b0b87c92",
   "metadata": {},
   "outputs": [],
   "source": [
    "#Flights table\n",
    "con = psycopg2.connect(\n",
    "    host = 'mid-term-project.ca2jkepgjpne.us-east-2.rds.amazonaws.com',\n",
    "    database = 'mid_term_project', \n",
    "    user = 'lhl_student',\n",
    "    password = 'lhl_student',\n",
    "    port = 5432\n",
    ")\n",
    "\n",
    "sql = '''\n",
    "        SELECT *\n",
    "        FROM flights \n",
    "        ORDER BY RANDOM() LIMIT 50000\n",
    ";\n",
    "'''\n",
    "\n",
    "data = pd.read_sql_query(sql,con)\n",
    "con.close()"
   ]
  },
  {
   "cell_type": "code",
   "execution_count": null,
   "id": "99f6e132",
   "metadata": {},
   "outputs": [],
   "source": [
    "#display(data)\n",
    "display(data.shape)"
   ]
  },
  {
   "cell_type": "code",
   "execution_count": null,
   "id": "98eb3f6c",
   "metadata": {},
   "outputs": [],
   "source": [
    "#save to file outside of git folder\n",
    "data.to_csv(r'/Users/Prashanta/Desktop/airplane_data/flights_table(50,000_points).csv',sep=';')"
   ]
  },
  {
   "cell_type": "code",
   "execution_count": null,
   "id": "8df7db8f",
   "metadata": {},
   "outputs": [],
   "source": [
    "#passengers table\n",
    "con = psycopg2.connect(\n",
    "    host = 'mid-term-project.ca2jkepgjpne.us-east-2.rds.amazonaws.com',\n",
    "    database = 'mid_term_project', \n",
    "    user = 'lhl_student',\n",
    "    password = 'lhl_student',\n",
    "    port = 5432\n",
    ")\n",
    "\n",
    "sql = '''      \n",
    "        SELECT * FROM flights\n",
    "        JOIN passengers ON flights.mkt_unique_carrier=passengers.unique_carrier\n",
    "        ORDER BY RANDOM() LIMIT 10\n",
    ";        \n",
    "'''\n",
    "\n",
    "data = pd.read_sql_query(sql,con)\n",
    "con.close()"
   ]
  },
  {
   "cell_type": "code",
   "execution_count": null,
   "id": "31d70456",
   "metadata": {},
   "outputs": [],
   "source": [
    "#display(data)\n",
    "display(data.shape)"
   ]
  },
  {
   "cell_type": "code",
   "execution_count": null,
   "id": "4e8dff61",
   "metadata": {},
   "outputs": [],
   "source": [
    "#save to file outside of git folder\n",
    "data.to_csv(r'/Users/Prashanta/Desktop/airplane_data/passengers_table(50,000_points).csv',sep=';')"
   ]
  },
  {
   "cell_type": "code",
   "execution_count": null,
   "id": "87468c92",
   "metadata": {},
   "outputs": [],
   "source": []
  }
 ],
 "metadata": {
  "kernelspec": {
   "display_name": "Python 3",
   "language": "python",
   "name": "python3"
  },
  "language_info": {
   "codemirror_mode": {
    "name": "ipython",
    "version": 3
   },
   "file_extension": ".py",
   "mimetype": "text/x-python",
   "name": "python",
   "nbconvert_exporter": "python",
   "pygments_lexer": "ipython3",
   "version": "3.8.8"
  }
 },
 "nbformat": 4,
 "nbformat_minor": 5
}
