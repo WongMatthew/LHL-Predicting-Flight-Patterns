{
 "cells": [
  {
   "cell_type": "code",
   "execution_count": 1,
   "id": "4d3fff68",
   "metadata": {
    "execution": {
     "iopub.execute_input": "2021-07-24T00:18:37.663866Z",
     "iopub.status.busy": "2021-07-24T00:18:37.663491Z",
     "iopub.status.idle": "2021-07-24T00:18:38.242358Z",
     "shell.execute_reply": "2021-07-24T00:18:38.241522Z",
     "shell.execute_reply.started": "2021-07-24T00:18:37.663779Z"
    }
   },
   "outputs": [],
   "source": [
    "import pandas as pd\n",
    "import psycopg2"
   ]
  },
  {
   "cell_type": "code",
   "execution_count": 2,
   "id": "ce558234",
   "metadata": {
    "execution": {
     "iopub.execute_input": "2021-07-24T00:18:38.896008Z",
     "iopub.status.busy": "2021-07-24T00:18:38.895713Z",
     "iopub.status.idle": "2021-07-24T00:18:39.942236Z",
     "shell.execute_reply": "2021-07-24T00:18:39.941269Z",
     "shell.execute_reply.started": "2021-07-24T00:18:38.895977Z"
    }
   },
   "outputs": [],
   "source": [
    "#LIMIT = 1000 sets only 1000 data points, remove this to get all the datapoints\n",
    "\n",
    "con = psycopg2.connect(\n",
    "    host = 'mid-term-project.ca2jkepgjpne.us-east-2.rds.amazonaws.com',\n",
    "    database = 'mid_term_project', \n",
    "    user = 'lhl_student',\n",
    "    password = 'lhl_student',\n",
    "    port = 5432\n",
    ")\n",
    "\n",
    "sql_flights = '''\n",
    "        SELECT fl_date, mkt_carrier_fl_num, origin_city_name, dest_city_name, distance, dep_delay, arr_delay, carrier_delay, weather_delay, nas_delay, \n",
    "                security_delay, late_aircraft_delay \n",
    "        FROM flights \n",
    "        LIMIT 1000\n",
    ";\n",
    "'''\n",
    "\n",
    "data = pd.read_sql_query(sql_flights,con)\n",
    "con.close()"
   ]
  },
  {
   "cell_type": "code",
   "execution_count": 3,
   "id": "e571c8bc",
   "metadata": {
    "execution": {
     "iopub.execute_input": "2021-07-24T00:18:41.258854Z",
     "iopub.status.busy": "2021-07-24T00:18:41.258558Z",
     "iopub.status.idle": "2021-07-24T00:18:41.279124Z",
     "shell.execute_reply": "2021-07-24T00:18:41.273566Z",
     "shell.execute_reply.started": "2021-07-24T00:18:41.258824Z"
    }
   },
   "outputs": [
    {
     "data": {
      "text/plain": [
       "(1000, 12)"
      ]
     },
     "metadata": {},
     "output_type": "display_data"
    }
   ],
   "source": [
    "#display(data)\n",
    "display(data.shape)"
   ]
  },
  {
   "cell_type": "code",
   "execution_count": 13,
   "id": "bc4e6fab",
   "metadata": {
    "execution": {
     "iopub.execute_input": "2021-07-24T00:25:50.831373Z",
     "iopub.status.busy": "2021-07-24T00:25:50.831071Z",
     "iopub.status.idle": "2021-07-24T00:25:50.854986Z",
     "shell.execute_reply": "2021-07-24T00:25:50.851802Z",
     "shell.execute_reply.started": "2021-07-24T00:25:50.831343Z"
    }
   },
   "outputs": [],
   "source": [
    "#save to file outside of git folder\n",
    "data.to_csv(r'/Users/Prashanta/Desktop/airplane_data/airplane_data.csv',sep=';')"
   ]
  },
  {
   "cell_type": "code",
   "execution_count": null,
   "id": "c5d9239f",
   "metadata": {},
   "outputs": [],
   "source": []
  }
 ],
 "metadata": {
  "kernelspec": {
   "display_name": "Python 3",
   "language": "python",
   "name": "python3"
  },
  "language_info": {
   "codemirror_mode": {
    "name": "ipython",
    "version": 3
   },
   "file_extension": ".py",
   "mimetype": "text/x-python",
   "name": "python",
   "nbconvert_exporter": "python",
   "pygments_lexer": "ipython3",
   "version": "3.8.8"
  }
 },
 "nbformat": 4,
 "nbformat_minor": 5
}
