{
 "cells": [
  {
   "cell_type": "code",
   "execution_count": 9,
   "id": "c962c866",
   "metadata": {
    "execution": {
     "iopub.execute_input": "2021-07-27T17:45:48.523271Z",
     "iopub.status.busy": "2021-07-27T17:45:48.522957Z",
     "iopub.status.idle": "2021-07-27T17:45:48.529404Z",
     "shell.execute_reply": "2021-07-27T17:45:48.527393Z",
     "shell.execute_reply.started": "2021-07-27T17:45:48.523242Z"
    }
   },
   "outputs": [],
   "source": [
    "import pandas as pd\n",
    "import psycopg2"
   ]
  },
  {
   "cell_type": "markdown",
   "id": "3acfa390",
   "metadata": {},
   "source": [
    "### **Notes**\n",
    "\n",
    "Took 6 mins to collect: \n",
    "- fl_date, mkt_carrier_fl_num, origin_city_name, dest_city_name, distance, dep_delay, arr_delay, \n",
    "- carrier_delay, weather_delay, nas_delay, security_delay, late_aircraft_delay  \n",
    "from flights table"
   ]
  },
  {
   "cell_type": "code",
   "execution_count": 12,
   "id": "bd0b4436",
   "metadata": {
    "execution": {
     "iopub.execute_input": "2021-07-27T17:47:03.939486Z",
     "iopub.status.busy": "2021-07-27T17:47:03.939175Z",
     "iopub.status.idle": "2021-07-27T17:47:04.684557Z",
     "shell.execute_reply": "2021-07-27T17:47:04.666404Z",
     "shell.execute_reply.started": "2021-07-27T17:47:03.939456Z"
    }
   },
   "outputs": [
    {
     "ename": "DatabaseError",
     "evalue": "Execution failed on sql '\n        SELECT *\n        FROM flights\n        ORDER BY rand() LIMIT 10\n;\n': function rand() does not exist\nLINE 4:         ORDER BY rand() LIMIT 10\n                         ^\nHINT:  No function matches the given name and argument types. You might need to add explicit type casts.\n",
     "output_type": "error",
     "traceback": [
      "\u001b[0;31m---------------------------------------------------------------------------\u001b[0m",
      "\u001b[0;31mUndefinedFunction\u001b[0m                         Traceback (most recent call last)",
      "\u001b[0;32m~/opt/anaconda3/lib/python3.8/site-packages/pandas/io/sql.py\u001b[0m in \u001b[0;36mexecute\u001b[0;34m(self, *args, **kwargs)\u001b[0m\n\u001b[1;32m   1585\u001b[0m         \u001b[0;32mtry\u001b[0m\u001b[0;34m:\u001b[0m\u001b[0;34m\u001b[0m\u001b[0;34m\u001b[0m\u001b[0m\n\u001b[0;32m-> 1586\u001b[0;31m             \u001b[0mcur\u001b[0m\u001b[0;34m.\u001b[0m\u001b[0mexecute\u001b[0m\u001b[0;34m(\u001b[0m\u001b[0;34m*\u001b[0m\u001b[0margs\u001b[0m\u001b[0;34m,\u001b[0m \u001b[0;34m**\u001b[0m\u001b[0mkwargs\u001b[0m\u001b[0;34m)\u001b[0m\u001b[0;34m\u001b[0m\u001b[0;34m\u001b[0m\u001b[0m\n\u001b[0m\u001b[1;32m   1587\u001b[0m             \u001b[0;32mreturn\u001b[0m \u001b[0mcur\u001b[0m\u001b[0;34m\u001b[0m\u001b[0;34m\u001b[0m\u001b[0m\n",
      "\u001b[0;31mUndefinedFunction\u001b[0m: function rand() does not exist\nLINE 4:         ORDER BY rand() LIMIT 10\n                         ^\nHINT:  No function matches the given name and argument types. You might need to add explicit type casts.\n",
      "\nThe above exception was the direct cause of the following exception:\n",
      "\u001b[0;31mDatabaseError\u001b[0m                             Traceback (most recent call last)",
      "\u001b[0;32m<ipython-input-12-d76ad61469d4>\u001b[0m in \u001b[0;36m<module>\u001b[0;34m\u001b[0m\n\u001b[1;32m     15\u001b[0m '''\n\u001b[1;32m     16\u001b[0m \u001b[0;34m\u001b[0m\u001b[0m\n\u001b[0;32m---> 17\u001b[0;31m \u001b[0mdata\u001b[0m \u001b[0;34m=\u001b[0m \u001b[0mpd\u001b[0m\u001b[0;34m.\u001b[0m\u001b[0mread_sql_query\u001b[0m\u001b[0;34m(\u001b[0m\u001b[0msql\u001b[0m\u001b[0;34m,\u001b[0m\u001b[0mcon\u001b[0m\u001b[0;34m)\u001b[0m\u001b[0;34m\u001b[0m\u001b[0;34m\u001b[0m\u001b[0m\n\u001b[0m\u001b[1;32m     18\u001b[0m \u001b[0mcon\u001b[0m\u001b[0;34m.\u001b[0m\u001b[0mclose\u001b[0m\u001b[0;34m(\u001b[0m\u001b[0;34m)\u001b[0m\u001b[0;34m\u001b[0m\u001b[0;34m\u001b[0m\u001b[0m\n",
      "\u001b[0;32m~/opt/anaconda3/lib/python3.8/site-packages/pandas/io/sql.py\u001b[0m in \u001b[0;36mread_sql_query\u001b[0;34m(sql, con, index_col, coerce_float, params, parse_dates, chunksize)\u001b[0m\n\u001b[1;32m    324\u001b[0m     \"\"\"\n\u001b[1;32m    325\u001b[0m     \u001b[0mpandas_sql\u001b[0m \u001b[0;34m=\u001b[0m \u001b[0mpandasSQL_builder\u001b[0m\u001b[0;34m(\u001b[0m\u001b[0mcon\u001b[0m\u001b[0;34m)\u001b[0m\u001b[0;34m\u001b[0m\u001b[0;34m\u001b[0m\u001b[0m\n\u001b[0;32m--> 326\u001b[0;31m     return pandas_sql.read_query(\n\u001b[0m\u001b[1;32m    327\u001b[0m         \u001b[0msql\u001b[0m\u001b[0;34m,\u001b[0m\u001b[0;34m\u001b[0m\u001b[0;34m\u001b[0m\u001b[0m\n\u001b[1;32m    328\u001b[0m         \u001b[0mindex_col\u001b[0m\u001b[0;34m=\u001b[0m\u001b[0mindex_col\u001b[0m\u001b[0;34m,\u001b[0m\u001b[0;34m\u001b[0m\u001b[0;34m\u001b[0m\u001b[0m\n",
      "\u001b[0;32m~/opt/anaconda3/lib/python3.8/site-packages/pandas/io/sql.py\u001b[0m in \u001b[0;36mread_query\u001b[0;34m(self, sql, index_col, coerce_float, params, parse_dates, chunksize)\u001b[0m\n\u001b[1;32m   1631\u001b[0m \u001b[0;34m\u001b[0m\u001b[0m\n\u001b[1;32m   1632\u001b[0m         \u001b[0margs\u001b[0m \u001b[0;34m=\u001b[0m \u001b[0m_convert_params\u001b[0m\u001b[0;34m(\u001b[0m\u001b[0msql\u001b[0m\u001b[0;34m,\u001b[0m \u001b[0mparams\u001b[0m\u001b[0;34m)\u001b[0m\u001b[0;34m\u001b[0m\u001b[0;34m\u001b[0m\u001b[0m\n\u001b[0;32m-> 1633\u001b[0;31m         \u001b[0mcursor\u001b[0m \u001b[0;34m=\u001b[0m \u001b[0mself\u001b[0m\u001b[0;34m.\u001b[0m\u001b[0mexecute\u001b[0m\u001b[0;34m(\u001b[0m\u001b[0;34m*\u001b[0m\u001b[0margs\u001b[0m\u001b[0;34m)\u001b[0m\u001b[0;34m\u001b[0m\u001b[0;34m\u001b[0m\u001b[0m\n\u001b[0m\u001b[1;32m   1634\u001b[0m         \u001b[0mcolumns\u001b[0m \u001b[0;34m=\u001b[0m \u001b[0;34m[\u001b[0m\u001b[0mcol_desc\u001b[0m\u001b[0;34m[\u001b[0m\u001b[0;36m0\u001b[0m\u001b[0;34m]\u001b[0m \u001b[0;32mfor\u001b[0m \u001b[0mcol_desc\u001b[0m \u001b[0;32min\u001b[0m \u001b[0mcursor\u001b[0m\u001b[0;34m.\u001b[0m\u001b[0mdescription\u001b[0m\u001b[0;34m]\u001b[0m\u001b[0;34m\u001b[0m\u001b[0;34m\u001b[0m\u001b[0m\n\u001b[1;32m   1635\u001b[0m \u001b[0;34m\u001b[0m\u001b[0m\n",
      "\u001b[0;32m~/opt/anaconda3/lib/python3.8/site-packages/pandas/io/sql.py\u001b[0m in \u001b[0;36mexecute\u001b[0;34m(self, *args, **kwargs)\u001b[0m\n\u001b[1;32m   1596\u001b[0m \u001b[0;34m\u001b[0m\u001b[0m\n\u001b[1;32m   1597\u001b[0m             \u001b[0mex\u001b[0m \u001b[0;34m=\u001b[0m \u001b[0mDatabaseError\u001b[0m\u001b[0;34m(\u001b[0m\u001b[0;34mf\"Execution failed on sql '{args[0]}': {exc}\"\u001b[0m\u001b[0;34m)\u001b[0m\u001b[0;34m\u001b[0m\u001b[0;34m\u001b[0m\u001b[0m\n\u001b[0;32m-> 1598\u001b[0;31m             \u001b[0;32mraise\u001b[0m \u001b[0mex\u001b[0m \u001b[0;32mfrom\u001b[0m \u001b[0mexc\u001b[0m\u001b[0;34m\u001b[0m\u001b[0;34m\u001b[0m\u001b[0m\n\u001b[0m\u001b[1;32m   1599\u001b[0m \u001b[0;34m\u001b[0m\u001b[0m\n\u001b[1;32m   1600\u001b[0m     \u001b[0;34m@\u001b[0m\u001b[0mstaticmethod\u001b[0m\u001b[0;34m\u001b[0m\u001b[0;34m\u001b[0m\u001b[0m\n",
      "\u001b[0;31mDatabaseError\u001b[0m: Execution failed on sql '\n        SELECT *\n        FROM flights\n        ORDER BY rand() LIMIT 10\n;\n': function rand() does not exist\nLINE 4:         ORDER BY rand() LIMIT 10\n                         ^\nHINT:  No function matches the given name and argument types. You might need to add explicit type casts.\n"
     ]
    }
   ],
   "source": [
    "#Flights table\n",
    "con = psycopg2.connect(\n",
    "    host = 'mid-term-project.ca2jkepgjpne.us-east-2.rds.amazonaws.com',\n",
    "    database = 'mid_term_project', \n",
    "    user = 'lhl_student',\n",
    "    password = 'lhl_student',\n",
    "    port = 5432\n",
    ")\n",
    "\n",
    "sql = '''\n",
    "        SELECT *\n",
    "        FROM flights\n",
    "        ORDER BY RANDOM(123) LIMIT 10\n",
    ";\n",
    "'''\n",
    "\n",
    "data = pd.read_sql_query(sql,con)\n",
    "con.close()"
   ]
  },
  {
   "cell_type": "code",
   "execution_count": 7,
   "id": "50232041",
   "metadata": {
    "execution": {
     "iopub.execute_input": "2021-07-27T17:43:22.794554Z",
     "iopub.status.busy": "2021-07-27T17:43:22.794230Z",
     "iopub.status.idle": "2021-07-27T17:43:22.803677Z",
     "shell.execute_reply": "2021-07-27T17:43:22.802264Z",
     "shell.execute_reply.started": "2021-07-27T17:43:22.794524Z"
    }
   },
   "outputs": [
    {
     "data": {
      "text/plain": [
       "(300000, 42)"
      ]
     },
     "metadata": {},
     "output_type": "display_data"
    }
   ],
   "source": [
    "#display(data)\n",
    "display(data.shape)"
   ]
  },
  {
   "cell_type": "code",
   "execution_count": 8,
   "id": "288d6343",
   "metadata": {
    "execution": {
     "iopub.execute_input": "2021-07-27T17:43:36.251316Z",
     "iopub.status.busy": "2021-07-27T17:43:36.250912Z",
     "iopub.status.idle": "2021-07-27T17:43:44.296247Z",
     "shell.execute_reply": "2021-07-27T17:43:44.295573Z",
     "shell.execute_reply.started": "2021-07-27T17:43:36.251270Z"
    }
   },
   "outputs": [],
   "source": [
    "#save to file outside of git folder\n",
    "data.to_csv(r'/Users/Prashanta/Desktop/airplane_data/flights_test_table(300,000_points).csv',sep=';')"
   ]
  },
  {
   "cell_type": "code",
   "execution_count": null,
   "id": "c7e17a73",
   "metadata": {},
   "outputs": [],
   "source": [
    "#passengers table\n",
    "con = psycopg2.connect(\n",
    "    host = 'mid-term-project.ca2jkepgjpne.us-east-2.rds.amazonaws.com',\n",
    "    database = 'mid_term_project', \n",
    "    user = 'lhl_student',\n",
    "    password = 'lhl_student',\n",
    "    port = 5432\n",
    ")\n",
    "\n",
    "sql = '''      \n",
    "        SELECT flights.mkt_unique_carrier, passengers.unique_carrier\n",
    "        FROM flights\n",
    "        JOIN passengers ON flights.mkt_unique_carrier=passengers.unique_carrier\n",
    "        ORDER BY RANDOM() LIMIT 10\n",
    ";        \n",
    "'''\n",
    "\n",
    "data = pd.read_sql_query(sql,con)\n",
    "con.close()"
   ]
  },
  {
   "cell_type": "code",
   "execution_count": null,
   "id": "ad1b3265",
   "metadata": {},
   "outputs": [],
   "source": [
    "#display(data)\n",
    "display(data.shape)"
   ]
  },
  {
   "cell_type": "code",
   "execution_count": null,
   "id": "91115bd8",
   "metadata": {},
   "outputs": [],
   "source": [
    "#save to file outside of git folder\n",
    "data.to_csv(r'/Users/Prashanta/Desktop/airplane_data/flights&passengers_table(50,000_points).csv',sep=';')"
   ]
  },
  {
   "cell_type": "code",
   "execution_count": null,
   "id": "91fbc724",
   "metadata": {},
   "outputs": [],
   "source": []
  }
 ],
 "metadata": {
  "kernelspec": {
   "display_name": "Python 3",
   "language": "python",
   "name": "python3"
  },
  "language_info": {
   "codemirror_mode": {
    "name": "ipython",
    "version": 3
   },
   "file_extension": ".py",
   "mimetype": "text/x-python",
   "name": "python",
   "nbconvert_exporter": "python",
   "pygments_lexer": "ipython3",
   "version": "3.8.8"
  }
 },
 "nbformat": 4,
 "nbformat_minor": 5
}
