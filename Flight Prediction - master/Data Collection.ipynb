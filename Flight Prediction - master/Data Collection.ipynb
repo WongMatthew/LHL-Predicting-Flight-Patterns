{
 "cells": [
  {
   "cell_type": "code",
   "execution_count": 1,
   "id": "cf028385",
   "metadata": {
    "execution": {
     "iopub.execute_input": "2021-07-24T21:17:47.618993Z",
     "iopub.status.busy": "2021-07-24T21:17:47.618676Z",
     "iopub.status.idle": "2021-07-24T21:17:48.252445Z",
     "shell.execute_reply": "2021-07-24T21:17:48.251600Z",
     "shell.execute_reply.started": "2021-07-24T21:17:47.618918Z"
    }
   },
   "outputs": [],
   "source": [
    "import pandas as pd\n",
    "import psycopg2"
   ]
  },
  {
   "cell_type": "code",
   "execution_count": 2,
   "id": "642e9d63",
   "metadata": {
    "execution": {
     "iopub.execute_input": "2021-07-24T01:10:02.188849Z",
     "iopub.status.busy": "2021-07-24T01:10:02.188501Z",
     "iopub.status.idle": "2021-07-24T01:16:54.862046Z",
     "shell.execute_reply": "2021-07-24T01:16:54.856167Z",
     "shell.execute_reply.started": "2021-07-24T01:10:02.188811Z"
    }
   },
   "outputs": [],
   "source": [
    "con = psycopg2.connect(\n",
    "    host = 'mid-term-project.ca2jkepgjpne.us-east-2.rds.amazonaws.com',\n",
    "    database = 'mid_term_project', \n",
    "    user = 'lhl_student',\n",
    "    password = 'lhl_student',\n",
    "    port = 5432\n",
    ")\n",
    "\n",
    "sql_flights = '''\n",
    "        SELECT fl_date, mkt_carrier_fl_num, origin_city_name, dest_city_name, distance, dep_delay, arr_delay, carrier_delay, weather_delay, nas_delay, \n",
    "                security_delay, late_aircraft_delay \n",
    "        FROM flights \n",
    ";\n",
    "'''\n",
    "\n",
    "data = pd.read_sql_query(sql_flights,con)\n",
    "con.close()"
   ]
  },
  {
   "cell_type": "code",
   "execution_count": 3,
   "id": "6472ccc7",
   "metadata": {
    "execution": {
     "iopub.execute_input": "2021-07-24T01:20:19.717097Z",
     "iopub.status.busy": "2021-07-24T01:20:19.716634Z",
     "iopub.status.idle": "2021-07-24T01:20:19.785391Z",
     "shell.execute_reply": "2021-07-24T01:20:19.778852Z",
     "shell.execute_reply.started": "2021-07-24T01:20:19.717025Z"
    }
   },
   "outputs": [
    {
     "data": {
      "text/plain": [
       "(15927485, 12)"
      ]
     },
     "metadata": {},
     "output_type": "display_data"
    }
   ],
   "source": [
    "#display(data)\n",
    "display(data.shape)"
   ]
  },
  {
   "cell_type": "code",
   "execution_count": 4,
   "id": "9b2a2ee3",
   "metadata": {
    "execution": {
     "iopub.execute_input": "2021-07-24T01:27:32.548168Z",
     "iopub.status.busy": "2021-07-24T01:27:32.547784Z",
     "iopub.status.idle": "2021-07-24T01:30:33.794864Z",
     "shell.execute_reply": "2021-07-24T01:30:33.791144Z",
     "shell.execute_reply.started": "2021-07-24T01:27:32.548130Z"
    }
   },
   "outputs": [],
   "source": [
    "#save to file outside of git folder\n",
    "data.to_csv(r'/Users/Prashanta/Desktop/airplane_data/airplane_data_full.csv',sep=';')"
   ]
  },
  {
   "cell_type": "code",
   "execution_count": null,
   "id": "9e45776f",
   "metadata": {
    "execution": {
     "iopub.execute_input": "2021-07-24T20:36:45.444765Z",
     "iopub.status.busy": "2021-07-24T20:36:45.444473Z"
    }
   },
   "outputs": [],
   "source": [
    "con = psycopg2.connect(\n",
    "    host = 'mid-term-project.ca2jkepgjpne.us-east-2.rds.amazonaws.com',\n",
    "    database = 'mid_term_project', \n",
    "    user = 'lhl_student',\n",
    "    password = 'lhl_student',\n",
    "    port = 5432\n",
    ")\n",
    "\n",
    "sql_flights = '''\n",
    "        SELECT *\n",
    "        FROM flights \n",
    ";\n",
    "'''\n",
    "\n",
    "data = pd.read_sql_query(sql_flights,con)\n",
    "con.close()"
   ]
  },
  {
   "cell_type": "code",
   "execution_count": null,
   "id": "3a8125c6",
   "metadata": {},
   "outputs": [],
   "source": [
    "#display(data)\n",
    "display(data.shape)"
   ]
  },
  {
   "cell_type": "code",
   "execution_count": null,
   "id": "bb28bc1e",
   "metadata": {},
   "outputs": [],
   "source": [
    "#save to file outside of git folder\n",
    "data.to_csv(r'/Users/Prashanta/Desktop/airplane_data/flights_table.csv',sep=';')"
   ]
  }
 ],
 "metadata": {
  "kernelspec": {
   "display_name": "Python 3",
   "language": "python",
   "name": "python3"
  },
  "language_info": {
   "codemirror_mode": {
    "name": "ipython",
    "version": 3
   },
   "file_extension": ".py",
   "mimetype": "text/x-python",
   "name": "python",
   "nbconvert_exporter": "python",
   "pygments_lexer": "ipython3",
   "version": "3.8.8"
  }
 },
 "nbformat": 4,
 "nbformat_minor": 5
}
