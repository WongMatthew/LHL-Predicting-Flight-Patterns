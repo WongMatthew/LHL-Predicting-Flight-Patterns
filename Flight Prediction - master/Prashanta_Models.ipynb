{
 "cells": [
  {
   "cell_type": "markdown",
   "id": "d3239eee",
   "metadata": {},
   "source": [
    "# **Modelling**"
   ]
  },
  {
   "cell_type": "markdown",
   "id": "e954736d",
   "metadata": {},
   "source": [
    "## **Step1.** Import Data"
   ]
  },
  {
   "cell_type": "code",
   "execution_count": 1,
   "id": "29b9bbf1",
   "metadata": {
    "execution": {
     "iopub.execute_input": "2021-07-26T17:59:12.406177Z",
     "iopub.status.busy": "2021-07-26T17:59:12.405796Z",
     "iopub.status.idle": "2021-07-26T17:59:14.055908Z",
     "shell.execute_reply": "2021-07-26T17:59:14.055005Z",
     "shell.execute_reply.started": "2021-07-26T17:59:12.406079Z"
    }
   },
   "outputs": [],
   "source": [
    "import pandas as pd\n",
    "import numpy as np\n",
    "import matplotlib.pyplot as plt\n",
    "import seaborn as sns\n",
    "import datetime"
   ]
  },
  {
   "cell_type": "code",
   "execution_count": 2,
   "id": "a736267c",
   "metadata": {
    "execution": {
     "iopub.execute_input": "2021-07-26T17:59:14.058187Z",
     "iopub.status.busy": "2021-07-26T17:59:14.057620Z",
     "iopub.status.idle": "2021-07-26T17:59:14.637525Z",
     "shell.execute_reply": "2021-07-26T17:59:14.636730Z",
     "shell.execute_reply.started": "2021-07-26T17:59:14.058081Z"
    }
   },
   "outputs": [],
   "source": [
    "#flights table\n",
    "data = pd.read_csv('/Users/Prashanta/Desktop/airplane_data/flights_table(50,000_points).csv',delimiter=';')\n",
    "data = data.iloc[: , 1:]\n",
    "\n",
    "#create two samples of 10,000 points each\n",
    "sample1 = data.sample(n=10000, random_state=0)\n",
    "sample2 = data.sample(n=10000, random_state=1)\n",
    "\n",
    "#Adding date time features and state\n",
    "sample1['month'] = pd.DatetimeIndex(sample1['fl_date']).month\n",
    "sample2['month'] = pd.DatetimeIndex(sample2['fl_date']).month\n",
    "sample1['year'] = pd.DatetimeIndex(sample1['fl_date']).year\n",
    "sample2['year'] = pd.DatetimeIndex(sample2['fl_date']).year\n",
    "sample1['origin_city_state'] = sample1['origin_city_name'].transform(lambda x: str(x).split(',')[1])\n",
    "sample2['origin_city_state'] = sample2['origin_city_name'].transform(lambda x: str(x).split(',')[1])\n",
    "sample1['depart_hour'] = sample1['dep_time'].round(-2)\n",
    "sample2['depart_hour'] = sample2['dep_time'].round(-2)"
   ]
  },
  {
   "cell_type": "code",
   "execution_count": 4,
   "id": "2b1c949e",
   "metadata": {
    "execution": {
     "iopub.execute_input": "2021-07-26T17:59:28.173661Z",
     "iopub.status.busy": "2021-07-26T17:59:28.173319Z",
     "iopub.status.idle": "2021-07-26T17:59:28.234667Z",
     "shell.execute_reply": "2021-07-26T17:59:28.226623Z",
     "shell.execute_reply.started": "2021-07-26T17:59:28.173625Z"
    }
   },
   "outputs": [
    {
     "data": {
      "text/html": [
       "<div>\n",
       "<style scoped>\n",
       "    .dataframe tbody tr th:only-of-type {\n",
       "        vertical-align: middle;\n",
       "    }\n",
       "\n",
       "    .dataframe tbody tr th {\n",
       "        vertical-align: top;\n",
       "    }\n",
       "\n",
       "    .dataframe thead th {\n",
       "        text-align: right;\n",
       "    }\n",
       "</style>\n",
       "<table border=\"1\" class=\"dataframe\">\n",
       "  <thead>\n",
       "    <tr style=\"text-align: right;\">\n",
       "      <th></th>\n",
       "      <th>fl_date</th>\n",
       "      <th>mkt_unique_carrier</th>\n",
       "      <th>branded_code_share</th>\n",
       "      <th>mkt_carrier</th>\n",
       "      <th>mkt_carrier_fl_num</th>\n",
       "      <th>op_unique_carrier</th>\n",
       "      <th>tail_num</th>\n",
       "      <th>op_carrier_fl_num</th>\n",
       "      <th>origin_airport_id</th>\n",
       "      <th>origin</th>\n",
       "      <th>...</th>\n",
       "      <th>distance</th>\n",
       "      <th>carrier_delay</th>\n",
       "      <th>weather_delay</th>\n",
       "      <th>nas_delay</th>\n",
       "      <th>security_delay</th>\n",
       "      <th>late_aircraft_delay</th>\n",
       "      <th>first_dep_time</th>\n",
       "      <th>total_add_gtime</th>\n",
       "      <th>longest_add_gtime</th>\n",
       "      <th>no_name</th>\n",
       "    </tr>\n",
       "  </thead>\n",
       "  <tbody>\n",
       "    <tr>\n",
       "      <th>0</th>\n",
       "      <td>2019-12-30</td>\n",
       "      <td>WN</td>\n",
       "      <td>WN</td>\n",
       "      <td>WN</td>\n",
       "      <td>775</td>\n",
       "      <td>WN</td>\n",
       "      <td>N255WN</td>\n",
       "      <td>775</td>\n",
       "      <td>13495</td>\n",
       "      <td>MSY</td>\n",
       "      <td>...</td>\n",
       "      <td>674.0</td>\n",
       "      <td>NaN</td>\n",
       "      <td>NaN</td>\n",
       "      <td>NaN</td>\n",
       "      <td>NaN</td>\n",
       "      <td>NaN</td>\n",
       "      <td>NaN</td>\n",
       "      <td>NaN</td>\n",
       "      <td>NaN</td>\n",
       "      <td>NaN</td>\n",
       "    </tr>\n",
       "    <tr>\n",
       "      <th>1</th>\n",
       "      <td>2018-04-08</td>\n",
       "      <td>AS</td>\n",
       "      <td>AS</td>\n",
       "      <td>AS</td>\n",
       "      <td>352</td>\n",
       "      <td>AS</td>\n",
       "      <td>N464AS</td>\n",
       "      <td>352</td>\n",
       "      <td>14747</td>\n",
       "      <td>SEA</td>\n",
       "      <td>...</td>\n",
       "      <td>672.0</td>\n",
       "      <td>0.0</td>\n",
       "      <td>0.0</td>\n",
       "      <td>25.0</td>\n",
       "      <td>0.0</td>\n",
       "      <td>0.0</td>\n",
       "      <td>NaN</td>\n",
       "      <td>NaN</td>\n",
       "      <td>NaN</td>\n",
       "      <td>NaN</td>\n",
       "    </tr>\n",
       "    <tr>\n",
       "      <th>2</th>\n",
       "      <td>2018-11-21</td>\n",
       "      <td>DL</td>\n",
       "      <td>DL</td>\n",
       "      <td>DL</td>\n",
       "      <td>1312</td>\n",
       "      <td>DL</td>\n",
       "      <td>N912DL</td>\n",
       "      <td>1312</td>\n",
       "      <td>10994</td>\n",
       "      <td>CHS</td>\n",
       "      <td>...</td>\n",
       "      <td>259.0</td>\n",
       "      <td>NaN</td>\n",
       "      <td>NaN</td>\n",
       "      <td>NaN</td>\n",
       "      <td>NaN</td>\n",
       "      <td>NaN</td>\n",
       "      <td>NaN</td>\n",
       "      <td>NaN</td>\n",
       "      <td>NaN</td>\n",
       "      <td>NaN</td>\n",
       "    </tr>\n",
       "  </tbody>\n",
       "</table>\n",
       "<p>3 rows × 42 columns</p>\n",
       "</div>"
      ],
      "text/plain": [
       "      fl_date mkt_unique_carrier branded_code_share mkt_carrier  \\\n",
       "0  2019-12-30                 WN                 WN          WN   \n",
       "1  2018-04-08                 AS                 AS          AS   \n",
       "2  2018-11-21                 DL                 DL          DL   \n",
       "\n",
       "   mkt_carrier_fl_num op_unique_carrier tail_num  op_carrier_fl_num  \\\n",
       "0                 775                WN   N255WN                775   \n",
       "1                 352                AS   N464AS                352   \n",
       "2                1312                DL   N912DL               1312   \n",
       "\n",
       "   origin_airport_id origin  ... distance  carrier_delay weather_delay  \\\n",
       "0              13495    MSY  ...    674.0            NaN           NaN   \n",
       "1              14747    SEA  ...    672.0            0.0           0.0   \n",
       "2              10994    CHS  ...    259.0            NaN           NaN   \n",
       "\n",
       "  nas_delay  security_delay  late_aircraft_delay  first_dep_time  \\\n",
       "0       NaN             NaN                  NaN             NaN   \n",
       "1      25.0             0.0                  0.0             NaN   \n",
       "2       NaN             NaN                  NaN             NaN   \n",
       "\n",
       "   total_add_gtime  longest_add_gtime  no_name  \n",
       "0              NaN                NaN      NaN  \n",
       "1              NaN                NaN      NaN  \n",
       "2              NaN                NaN      NaN  \n",
       "\n",
       "[3 rows x 42 columns]"
      ]
     },
     "metadata": {},
     "output_type": "display_data"
    },
    {
     "data": {
      "text/plain": [
       "(50000, 42)"
      ]
     },
     "metadata": {},
     "output_type": "display_data"
    }
   ],
   "source": [
    "display(data.head(3))\n",
    "display(data.shape)"
   ]
  },
  {
   "cell_type": "markdown",
   "id": "7e3d5299",
   "metadata": {},
   "source": [
    "## **Step2.** Create BaseModel using Linear Regression"
   ]
  },
  {
   "cell_type": "code",
   "execution_count": 135,
   "id": "b66662bc",
   "metadata": {
    "collapsed": true,
    "execution": {
     "iopub.execute_input": "2021-07-26T21:00:25.036531Z",
     "iopub.status.busy": "2021-07-26T21:00:25.036143Z",
     "iopub.status.idle": "2021-07-26T21:00:25.058064Z",
     "shell.execute_reply": "2021-07-26T21:00:25.056708Z",
     "shell.execute_reply.started": "2021-07-26T21:00:25.036490Z"
    },
    "jupyter": {
     "outputs_hidden": true
    }
   },
   "outputs": [
    {
     "name": "stderr",
     "output_type": "stream",
     "text": [
      "<ipython-input-135-ac5d82c39b9a>:5: SettingWithCopyWarning: \n",
      "A value is trying to be set on a copy of a slice from a DataFrame\n",
      "\n",
      "See the caveats in the documentation: https://pandas.pydata.org/pandas-docs/stable/user_guide/indexing.html#returning-a-view-versus-a-copy\n",
      "  test_model_1.dropna(inplace=True)\n",
      "<ipython-input-135-ac5d82c39b9a>:9: SettingWithCopyWarning: \n",
      "A value is trying to be set on a copy of a slice from a DataFrame.\n",
      "Try using .loc[row_indexer,col_indexer] = value instead\n",
      "\n",
      "See the caveats in the documentation: https://pandas.pydata.org/pandas-docs/stable/user_guide/indexing.html#returning-a-view-versus-a-copy\n",
      "  test_model_1['origin_city_state'] = test_model_1['origin_city_state'].astype('category')\n",
      "<ipython-input-135-ac5d82c39b9a>:10: SettingWithCopyWarning: \n",
      "A value is trying to be set on a copy of a slice from a DataFrame.\n",
      "Try using .loc[row_indexer,col_indexer] = value instead\n",
      "\n",
      "See the caveats in the documentation: https://pandas.pydata.org/pandas-docs/stable/user_guide/indexing.html#returning-a-view-versus-a-copy\n",
      "  test_model_1['origin_city_state'] = test_model_1['origin_city_state'].cat.codes\n"
     ]
    }
   ],
   "source": [
    "#create test model df\n",
    "test_model_1 = sample1[['month','origin_city_state','depart_hour','arr_delay']]\n",
    "\n",
    "# Droping nan value rows\n",
    "test_model_1.dropna(inplace=True)\n",
    "\n",
    "# Encode Cateogircal Values \n",
    "# Change dtype of variable to category then encode using cat.codes\n",
    "test_model_1['origin_city_state'] = test_model_1['origin_city_state'].astype('category')\n",
    "test_model_1['origin_city_state'] = test_model_1['origin_city_state'].cat.codes\n",
    "\n",
    "#Assign train and target variables\n",
    "X = test_model_1[['month','origin_city_state','depart_hour']]\n",
    "y = test_model_1['arr_delay']"
   ]
  },
  {
   "cell_type": "code",
   "execution_count": 136,
   "id": "6fec7220",
   "metadata": {
    "execution": {
     "iopub.execute_input": "2021-07-26T21:00:28.514739Z",
     "iopub.status.busy": "2021-07-26T21:00:28.514390Z",
     "iopub.status.idle": "2021-07-26T21:00:28.549604Z",
     "shell.execute_reply": "2021-07-26T21:00:28.548066Z",
     "shell.execute_reply.started": "2021-07-26T21:00:28.514702Z"
    }
   },
   "outputs": [
    {
     "name": "stdout",
     "output_type": "stream",
     "text": [
      "variables ['month', 'origin_city_state', 'depart_hour']\n",
      "coefficients: [-0.07959701  0.04777177  0.01045926]\n",
      "\n",
      "R2 Score for train data: 0.012\n",
      "R2 Score2 for test data: 0.015\n",
      "MAE Score for test data:  23.62\n"
     ]
    }
   ],
   "source": [
    "# split X and y into training and testing sets \n",
    "import sklearn.model_selection as model_selection\n",
    "\n",
    "X_train,X_test,y_train,y_test = model_selection.train_test_split(X,y,train_size=0.75,test_size=0.25,random_state=123)\n",
    "\n",
    "# import libraries\n",
    "from sklearn.linear_model import LinearRegression\n",
    "from sklearn.metrics import mean_absolute_error\n",
    "from sklearn.metrics import r2_score\n",
    "\n",
    "#initialize and fit training dataset\n",
    "Linear_Regressor = LinearRegression()\n",
    "Linear_Regressor.fit(X_train, y_train)\n",
    "\n",
    "#make prediction \n",
    "y_pred = Linear_Regressor.predict(X_test)\n",
    "\n",
    "#prints the coefficients used for each attribute\n",
    "print('variables', list(X.columns))\n",
    "print('coefficients:', Linear_Regressor.coef_)\n",
    "print()\n",
    "\n",
    "#prints the R2 score for your test dataset\n",
    "print('R2 Score for train data:', round(Linear_Regressor.score(X_train,y_train),3))\n",
    "print('R2 Score2 for test data:', round(r2_score(y_test,y_pred),3))\n",
    "print('MAE Score for test data: ', round(mean_absolute_error(y_test,y_pred),2))"
   ]
  },
  {
   "cell_type": "code",
   "execution_count": 137,
   "id": "f0297f44",
   "metadata": {
    "execution": {
     "iopub.execute_input": "2021-07-26T21:00:30.337153Z",
     "iopub.status.busy": "2021-07-26T21:00:30.336859Z",
     "iopub.status.idle": "2021-07-26T21:00:30.909469Z",
     "shell.execute_reply": "2021-07-26T21:00:30.907418Z",
     "shell.execute_reply.started": "2021-07-26T21:00:30.337126Z"
    }
   },
   "outputs": [
    {
     "data": {
      "text/plain": [
       "<matplotlib.legend.Legend at 0x7fbebf1a6d60>"
      ]
     },
     "execution_count": 137,
     "metadata": {},
     "output_type": "execute_result"
    },
    {
     "data": {
      "image/png": "[encoded data removed]",
      "text/plain": [
       "<Figure size 432x288 with 1 Axes>"
      ]
     },
     "metadata": {},
     "output_type": "display_data"
    }
   ],
   "source": [
    "df = pd.DataFrame(\n",
    "        {\n",
    "            'actual':y_test,\n",
    "            'predicted':y_pred\n",
    "        }\n",
    ")\n",
    "df\n",
    "\n",
    "sns.regplot(x='predicted',y='actual',data=df,label='R2:'+ str(round(r2_score(y_test,y_pred),3)))\n",
    "plt.legend(loc=0)"
   ]
  },
  {
   "cell_type": "markdown",
   "id": "7fcfceb9",
   "metadata": {},
   "source": [
    "## **Step3.** Add key features to basemodel and run Linear Reg again"
   ]
  },
  {
   "cell_type": "code",
   "execution_count": 124,
   "id": "76a3d5c3",
   "metadata": {
    "execution": {
     "iopub.execute_input": "2021-07-26T20:55:58.914380Z",
     "iopub.status.busy": "2021-07-26T20:55:58.914032Z",
     "iopub.status.idle": "2021-07-26T20:55:59.209349Z",
     "shell.execute_reply": "2021-07-26T20:55:59.208508Z",
     "shell.execute_reply.started": "2021-07-26T20:55:58.914344Z"
    }
   },
   "outputs": [],
   "source": [
    "#Feature1 - Average_dep_delay per airport\n",
    "#create a dummy column and then replace values with average dep_delay per state\n",
    "sample1['dep_delay_state'] = sample1['dep_delay']\n",
    "sample1['dep_delay_state'] = sample1[['dep_delay_state','origin_city_state']].groupby(by='origin_city_state').transform(lambda x: x.mean())\n",
    "\n",
    "#Feature2 - Average_arr_delay per airport\n",
    "#create a dummy column and then replace values with average arr_delay per state\n",
    "sample1['arr_delay_state'] = sample1['arr_delay']\n",
    "sample1['arr_delay_state'] = sample1[['arr_delay_state','origin_city_state']].groupby(by='origin_city_state').transform(lambda x: x.mean())"
   ]
  },
  {
   "cell_type": "code",
   "execution_count": 125,
   "id": "6ec9fe02",
   "metadata": {
    "collapsed": true,
    "execution": {
     "iopub.execute_input": "2021-07-26T20:55:59.557651Z",
     "iopub.status.busy": "2021-07-26T20:55:59.557266Z",
     "iopub.status.idle": "2021-07-26T20:55:59.581144Z",
     "shell.execute_reply": "2021-07-26T20:55:59.579691Z",
     "shell.execute_reply.started": "2021-07-26T20:55:59.557606Z"
    },
    "jupyter": {
     "outputs_hidden": true
    }
   },
   "outputs": [
    {
     "name": "stderr",
     "output_type": "stream",
     "text": [
      "<ipython-input-125-bd7314cd9e29>:5: SettingWithCopyWarning: \n",
      "A value is trying to be set on a copy of a slice from a DataFrame\n",
      "\n",
      "See the caveats in the documentation: https://pandas.pydata.org/pandas-docs/stable/user_guide/indexing.html#returning-a-view-versus-a-copy\n",
      "  test_model_2.dropna(inplace=True)\n",
      "<ipython-input-125-bd7314cd9e29>:9: SettingWithCopyWarning: \n",
      "A value is trying to be set on a copy of a slice from a DataFrame.\n",
      "Try using .loc[row_indexer,col_indexer] = value instead\n",
      "\n",
      "See the caveats in the documentation: https://pandas.pydata.org/pandas-docs/stable/user_guide/indexing.html#returning-a-view-versus-a-copy\n",
      "  test_model_2['origin_city_state'] = test_model_2['origin_city_state'].astype('category')\n",
      "<ipython-input-125-bd7314cd9e29>:10: SettingWithCopyWarning: \n",
      "A value is trying to be set on a copy of a slice from a DataFrame.\n",
      "Try using .loc[row_indexer,col_indexer] = value instead\n",
      "\n",
      "See the caveats in the documentation: https://pandas.pydata.org/pandas-docs/stable/user_guide/indexing.html#returning-a-view-versus-a-copy\n",
      "  test_model_2['origin_city_state'] = test_model_2['origin_city_state'].cat.codes\n"
     ]
    }
   ],
   "source": [
    "#create test model df\n",
    "test_model_2 = sample1[['month','origin_city_state','depart_hour','dep_delay_state','arr_delay_state','arr_delay']]\n",
    "\n",
    "# Droping nan value rows\n",
    "test_model_2.dropna(inplace=True)\n",
    "\n",
    "# Encode Cateogircal Values \n",
    "# Change dtype of variable to category then encode using cat.codes\n",
    "test_model_2['origin_city_state'] = test_model_2['origin_city_state'].astype('category')\n",
    "test_model_2['origin_city_state'] = test_model_2['origin_city_state'].cat.codes\n",
    "\n",
    "#Assign train and target variablesa\n",
    "X = test_model_2[['month','origin_city_state','depart_hour','dep_delay_state','arr_delay_state']]\n",
    "y = test_model_2['arr_delay']"
   ]
  },
  {
   "cell_type": "code",
   "execution_count": 126,
   "id": "b817dc82",
   "metadata": {
    "execution": {
     "iopub.execute_input": "2021-07-26T20:56:02.338958Z",
     "iopub.status.busy": "2021-07-26T20:56:02.338577Z",
     "iopub.status.idle": "2021-07-26T20:56:02.376669Z",
     "shell.execute_reply": "2021-07-26T20:56:02.375074Z",
     "shell.execute_reply.started": "2021-07-26T20:56:02.338918Z"
    }
   },
   "outputs": [
    {
     "name": "stdout",
     "output_type": "stream",
     "text": [
      "variables ['month', 'origin_city_state', 'depart_hour', 'dep_delay_state', 'arr_delay_state']\n",
      "coefficients: [-0.07355369  0.04175744  0.01041261  0.14653548  1.05282136]\n",
      "\n",
      "R2 Score for train data: 0.024\n",
      "R2 Score for test data: 0.012\n",
      "MAE Score for test data: 23.83\n"
     ]
    }
   ],
   "source": [
    "# split X and y into training and testing sets \n",
    "import sklearn.model_selection as model_selection\n",
    "\n",
    "X_train,X_test,y_train,y_test = model_selection.train_test_split(X,y,train_size=0.75,test_size=0.25,random_state=123)\n",
    "\n",
    "# import libraries\n",
    "from sklearn.linear_model import LinearRegression\n",
    "from sklearn.metrics import mean_absolute_error\n",
    "from sklearn.metrics import r2_score\n",
    "\n",
    "#initialize and fit training dataset\n",
    "Linear_Regressor = LinearRegression()\n",
    "Linear_Regressor.fit(X_train, y_train)\n",
    "\n",
    "#make prediction \n",
    "y_pred = Linear_Regressor.predict(X_test)\n",
    "\n",
    "#prints the coefficients used for each attribute\n",
    "print('variables', list(X.columns))\n",
    "print('coefficients:', Linear_Regressor.coef_)\n",
    "print()\n",
    "\n",
    "#prints the R2 score for your test dataset\n",
    "print('R2 Score for train data:', round(Linear_Regressor.score(X_train,y_train),3))\n",
    "print('R2 Score for test data:', round(r2_score(y_test,y_pred),3))\n",
    "print('MAE Score for test data:', round(mean_absolute_error(y_test,y_pred),2))"
   ]
  },
  {
   "cell_type": "code",
   "execution_count": 133,
   "id": "468f224d",
   "metadata": {
    "execution": {
     "iopub.execute_input": "2021-07-26T21:00:04.047986Z",
     "iopub.status.busy": "2021-07-26T21:00:04.047656Z",
     "iopub.status.idle": "2021-07-26T21:00:04.629770Z",
     "shell.execute_reply": "2021-07-26T21:00:04.628243Z",
     "shell.execute_reply.started": "2021-07-26T21:00:04.047954Z"
    }
   },
   "outputs": [
    {
     "data": {
      "text/plain": [
       "<matplotlib.legend.Legend at 0x7fbebe44ed90>"
      ]
     },
     "execution_count": 133,
     "metadata": {},
     "output_type": "execute_result"
    },
    {
     "data": {
      "image/png": "[encoded data removed]",
      "text/plain": [
       "<Figure size 432x288 with 1 Axes>"
      ]
     },
     "metadata": {},
     "output_type": "display_data"
    }
   ],
   "source": [
    "df = pd.DataFrame(\n",
    "        {\n",
    "            'actual':y_test,\n",
    "            'predicted':y_pred\n",
    "        }\n",
    ")\n",
    "df\n",
    "\n",
    "sns.regplot(x='predicted',y='actual',data=df,label='R2:'+ str(round(r2_score(y_test,y_pred),3)))\n",
    "plt.legend(loc=0)"
   ]
  },
  {
   "cell_type": "markdown",
   "id": "a42bb6ed",
   "metadata": {},
   "source": [
    "## **Step4.** Remove outlier data from Key Features"
   ]
  },
  {
   "cell_type": "code",
   "execution_count": 138,
   "id": "1835131d",
   "metadata": {
    "execution": {
     "iopub.execute_input": "2021-07-26T21:01:01.316492Z",
     "iopub.status.busy": "2021-07-26T21:01:01.316115Z",
     "iopub.status.idle": "2021-07-26T21:01:01.336961Z",
     "shell.execute_reply": "2021-07-26T21:01:01.335344Z",
     "shell.execute_reply.started": "2021-07-26T21:01:01.316448Z"
    }
   },
   "outputs": [],
   "source": [
    "# create no_outlier data by using 1.5*Q1 and 1.5*Q3 as outlier boundaries\n",
    "filter1 = (sample1['arr_delay'] < 10.5) & (sample1['arr_delay'] > -22.5)\n",
    "sample1_no_outliers = sample1[filter1]\n",
    "#(sample1_no_outliers[['origin_city_state','dep_delay','arr_delay']].groupby(by='origin_city_state').mean().reset_index()).sort_values('arr_delay',ascending=False).head(10)"
   ]
  },
  {
   "cell_type": "code",
   "execution_count": 139,
   "id": "8398286d",
   "metadata": {
    "collapsed": true,
    "execution": {
     "iopub.execute_input": "2021-07-26T21:01:02.693550Z",
     "iopub.status.busy": "2021-07-26T21:01:02.693194Z",
     "iopub.status.idle": "2021-07-26T21:01:03.077371Z",
     "shell.execute_reply": "2021-07-26T21:01:03.076465Z",
     "shell.execute_reply.started": "2021-07-26T21:01:02.693512Z"
    },
    "jupyter": {
     "outputs_hidden": true
    }
   },
   "outputs": [
    {
     "name": "stderr",
     "output_type": "stream",
     "text": [
      "<ipython-input-139-eb1c48cb5171>:3: SettingWithCopyWarning: \n",
      "A value is trying to be set on a copy of a slice from a DataFrame.\n",
      "Try using .loc[row_indexer,col_indexer] = value instead\n",
      "\n",
      "See the caveats in the documentation: https://pandas.pydata.org/pandas-docs/stable/user_guide/indexing.html#returning-a-view-versus-a-copy\n",
      "  sample1_no_outliers['dep_delay_state'] = sample1_no_outliers['dep_delay']\n",
      "<ipython-input-139-eb1c48cb5171>:4: SettingWithCopyWarning: \n",
      "A value is trying to be set on a copy of a slice from a DataFrame.\n",
      "Try using .loc[row_indexer,col_indexer] = value instead\n",
      "\n",
      "See the caveats in the documentation: https://pandas.pydata.org/pandas-docs/stable/user_guide/indexing.html#returning-a-view-versus-a-copy\n",
      "  sample1_no_outliers['dep_delay_state'] = sample1_no_outliers[['dep_delay_state','origin_city_state']].groupby(by='origin_city_state').transform(lambda x: x.mean())\n",
      "<ipython-input-139-eb1c48cb5171>:8: SettingWithCopyWarning: \n",
      "A value is trying to be set on a copy of a slice from a DataFrame.\n",
      "Try using .loc[row_indexer,col_indexer] = value instead\n",
      "\n",
      "See the caveats in the documentation: https://pandas.pydata.org/pandas-docs/stable/user_guide/indexing.html#returning-a-view-versus-a-copy\n",
      "  sample1_no_outliers['arr_delay_state'] = sample1_no_outliers['arr_delay']\n",
      "<ipython-input-139-eb1c48cb5171>:9: SettingWithCopyWarning: \n",
      "A value is trying to be set on a copy of a slice from a DataFrame.\n",
      "Try using .loc[row_indexer,col_indexer] = value instead\n",
      "\n",
      "See the caveats in the documentation: https://pandas.pydata.org/pandas-docs/stable/user_guide/indexing.html#returning-a-view-versus-a-copy\n",
      "  sample1_no_outliers['arr_delay_state'] = sample1_no_outliers[['arr_delay_state','origin_city_state']].groupby(by='origin_city_state').transform(lambda x: x.mean())\n",
      "<ipython-input-139-eb1c48cb5171>:15: SettingWithCopyWarning: \n",
      "A value is trying to be set on a copy of a slice from a DataFrame\n",
      "\n",
      "See the caveats in the documentation: https://pandas.pydata.org/pandas-docs/stable/user_guide/indexing.html#returning-a-view-versus-a-copy\n",
      "  test_model_3.dropna(inplace=True)\n",
      "<ipython-input-139-eb1c48cb5171>:19: SettingWithCopyWarning: \n",
      "A value is trying to be set on a copy of a slice from a DataFrame.\n",
      "Try using .loc[row_indexer,col_indexer] = value instead\n",
      "\n",
      "See the caveats in the documentation: https://pandas.pydata.org/pandas-docs/stable/user_guide/indexing.html#returning-a-view-versus-a-copy\n",
      "  test_model_3['origin_city_state'] = test_model_3['origin_city_state'].astype('category')\n",
      "<ipython-input-139-eb1c48cb5171>:20: SettingWithCopyWarning: \n",
      "A value is trying to be set on a copy of a slice from a DataFrame.\n",
      "Try using .loc[row_indexer,col_indexer] = value instead\n",
      "\n",
      "See the caveats in the documentation: https://pandas.pydata.org/pandas-docs/stable/user_guide/indexing.html#returning-a-view-versus-a-copy\n",
      "  test_model_3['origin_city_state'] = test_model_3['origin_city_state'].cat.codes\n"
     ]
    }
   ],
   "source": [
    "#Feature1 - Average_dep_delay per airport\n",
    "#create a dummy column and then replace values with average dep_delay per state\n",
    "sample1_no_outliers['dep_delay_state'] = sample1_no_outliers['dep_delay']\n",
    "sample1_no_outliers['dep_delay_state'] = sample1_no_outliers[['dep_delay_state','origin_city_state']].groupby(by='origin_city_state').transform(lambda x: x.mean())\n",
    "\n",
    "#Feature2 - Average_arr_delay per airport\n",
    "#create a dummy column and then replace values with average arr_delay per state\n",
    "sample1_no_outliers['arr_delay_state'] = sample1_no_outliers['arr_delay']\n",
    "sample1_no_outliers['arr_delay_state'] = sample1_no_outliers[['arr_delay_state','origin_city_state']].groupby(by='origin_city_state').transform(lambda x: x.mean())\n",
    "\n",
    "#create test model df\n",
    "test_model_3 = sample1[['month','origin_city_state','depart_hour','dep_delay_state','arr_delay_state','arr_delay']]\n",
    "\n",
    "# Droping nan value rows\n",
    "test_model_3.dropna(inplace=True)\n",
    "\n",
    "# Encode Cateogircal Values \n",
    "# Change dtype of variable to category then encode using cat.codes\n",
    "test_model_3['origin_city_state'] = test_model_3['origin_city_state'].astype('category')\n",
    "test_model_3['origin_city_state'] = test_model_3['origin_city_state'].cat.codes\n",
    "\n",
    "#Assign train and target variablesa\n",
    "X = test_model_3[['dep_delay_state','arr_delay_state']]\n",
    "y = test_model_3['arr_delay']"
   ]
  },
  {
   "cell_type": "code",
   "execution_count": 140,
   "id": "49274c4e",
   "metadata": {
    "execution": {
     "iopub.execute_input": "2021-07-26T21:01:05.863874Z",
     "iopub.status.busy": "2021-07-26T21:01:05.863590Z",
     "iopub.status.idle": "2021-07-26T21:01:05.892648Z",
     "shell.execute_reply": "2021-07-26T21:01:05.891309Z",
     "shell.execute_reply.started": "2021-07-26T21:01:05.863845Z"
    }
   },
   "outputs": [
    {
     "name": "stdout",
     "output_type": "stream",
     "text": [
      "variables ['dep_delay_state', 'arr_delay_state']\n",
      "coefficients: [0.02614111 1.17016504]\n",
      "\n",
      "R2 Score for train data: 0.012\n",
      "R2 Score for test data: -0.003\n",
      "MAE Score for test data: 24.19\n"
     ]
    }
   ],
   "source": [
    "# split X and y into training and testing sets \n",
    "import sklearn.model_selection as model_selection\n",
    "\n",
    "X_train,X_test,y_train,y_test = model_selection.train_test_split(X,y,train_size=0.75,test_size=0.25,random_state=123)\n",
    "\n",
    "# import libraries\n",
    "from sklearn.linear_model import LinearRegression\n",
    "from sklearn.metrics import mean_absolute_error\n",
    "from sklearn.metrics import r2_score\n",
    "\n",
    "#initialize and fit training dataset\n",
    "Linear_Regressor = LinearRegression()\n",
    "Linear_Regressor.fit(X_train, y_train)\n",
    "\n",
    "#make prediction \n",
    "y_pred = Linear_Regressor.predict(X_test)\n",
    "\n",
    "#prints the coefficients used for each attribute\n",
    "print('variables', list(X.columns))\n",
    "print('coefficients:', Linear_Regressor.coef_)\n",
    "print()\n",
    "\n",
    "#prints the R2 score for your test dataset\n",
    "print('R2 Score for train data:', round(Linear_Regressor.score(X_train,y_train),3))\n",
    "print('R2 Score for test data:', round(r2_score(y_test,y_pred),3))\n",
    "print('MAE Score for test data:', round(mean_absolute_error(y_test,y_pred),2))"
   ]
  },
  {
   "cell_type": "code",
   "execution_count": 141,
   "id": "5b77948f",
   "metadata": {
    "execution": {
     "iopub.execute_input": "2021-07-26T21:01:07.503133Z",
     "iopub.status.busy": "2021-07-26T21:01:07.502874Z",
     "iopub.status.idle": "2021-07-26T21:01:08.054217Z",
     "shell.execute_reply": "2021-07-26T21:01:08.052759Z",
     "shell.execute_reply.started": "2021-07-26T21:01:07.503107Z"
    }
   },
   "outputs": [
    {
     "data": {
      "text/plain": [
       "<matplotlib.legend.Legend at 0x7fbebc701a30>"
      ]
     },
     "execution_count": 141,
     "metadata": {},
     "output_type": "execute_result"
    },
    {
     "data": {
      "image/png": "[encoded data removed]",
      "text/plain": [
       "<Figure size 432x288 with 1 Axes>"
      ]
     },
     "metadata": {},
     "output_type": "display_data"
    }
   ],
   "source": [
    "df = pd.DataFrame(\n",
    "        {\n",
    "            'actual':y_test,\n",
    "            'predicted':y_pred\n",
    "        }\n",
    ")\n",
    "df\n",
    "\n",
    "sns.regplot(x='predicted',y='actual',data=df,label='R2:'+ str(round(r2_score(y_test,y_pred),3)))\n",
    "plt.legend(loc=0)"
   ]
  },
  {
   "cell_type": "code",
   "execution_count": null,
   "id": "275fa230",
   "metadata": {},
   "outputs": [],
   "source": []
  }
 ],
 "metadata": {
  "kernelspec": {
   "display_name": "Python 3",
   "language": "python",
   "name": "python3"
  },
  "language_info": {
   "codemirror_mode": {
    "name": "ipython",
    "version": 3
   },
   "file_extension": ".py",
   "mimetype": "text/x-python",
   "name": "python",
   "nbconvert_exporter": "python",
   "pygments_lexer": "ipython3",
   "version": "3.8.8"
  }
 },
 "nbformat": 4,
 "nbformat_minor": 5
}
