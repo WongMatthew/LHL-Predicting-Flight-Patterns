{
 "cells": [
  {
   "cell_type": "markdown",
   "id": "e4401185",
   "metadata": {},
   "source": [
    "# **Modelling**"
   ]
  },
  {
   "cell_type": "markdown",
   "id": "3433582b",
   "metadata": {},
   "source": [
    "## **Step1.** Import Data"
   ]
  },
  {
   "cell_type": "code",
   "execution_count": 215,
   "id": "137ed8c1",
   "metadata": {
    "execution": {
     "iopub.execute_input": "2021-07-27T01:29:11.732063Z",
     "iopub.status.busy": "2021-07-27T01:29:11.731765Z",
     "iopub.status.idle": "2021-07-27T01:29:11.739019Z",
     "shell.execute_reply": "2021-07-27T01:29:11.736011Z",
     "shell.execute_reply.started": "2021-07-27T01:29:11.732033Z"
    }
   },
   "outputs": [],
   "source": [
    "import pandas as pd\n",
    "import numpy as np\n",
    "import matplotlib.pyplot as plt\n",
    "import seaborn as sns\n",
    "import datetime"
   ]
  },
  {
   "cell_type": "code",
   "execution_count": 187,
   "id": "7effe7a6",
   "metadata": {
    "execution": {
     "iopub.execute_input": "2021-07-27T01:04:56.111522Z",
     "iopub.status.busy": "2021-07-27T01:04:56.111200Z",
     "iopub.status.idle": "2021-07-27T01:04:56.676080Z",
     "shell.execute_reply": "2021-07-27T01:04:56.675316Z",
     "shell.execute_reply.started": "2021-07-27T01:04:56.111488Z"
    }
   },
   "outputs": [],
   "source": [
    "#flights table\n",
    "data = pd.read_csv('/Users/Prashanta/Desktop/airplane_data/flights_table(50,000_points).csv',delimiter=';')\n",
    "data = data.iloc[: , 1:]\n",
    "\n",
    "#create two samples of 10,000 points each\n",
    "sample1 = data.sample(n=10000, random_state=0)\n",
    "sample2 = data.sample(n=10000, random_state=1)\n",
    "\n",
    "#Adding date time features and state\n",
    "sample1['month'] = pd.DatetimeIndex(sample1['fl_date']).month\n",
    "sample2['month'] = pd.DatetimeIndex(sample2['fl_date']).month\n",
    "sample1['year'] = pd.DatetimeIndex(sample1['fl_date']).year\n",
    "sample2['year'] = pd.DatetimeIndex(sample2['fl_date']).year\n",
    "sample1['origin_city_state'] = sample1['origin_city_name'].transform(lambda x: str(x).split(',')[1])\n",
    "sample2['origin_city_state'] = sample2['origin_city_name'].transform(lambda x: str(x).split(',')[1])\n",
    "sample1['depart_hour'] = sample1['dep_time'].round(-2)\n",
    "sample2['depart_hour'] = sample2['dep_time'].round(-2)"
   ]
  },
  {
   "cell_type": "code",
   "execution_count": 4,
   "id": "a949137f",
   "metadata": {
    "execution": {
     "iopub.execute_input": "2021-07-26T17:59:28.173661Z",
     "iopub.status.busy": "2021-07-26T17:59:28.173319Z",
     "iopub.status.idle": "2021-07-26T17:59:28.234667Z",
     "shell.execute_reply": "2021-07-26T17:59:28.226623Z",
     "shell.execute_reply.started": "2021-07-26T17:59:28.173625Z"
    }
   },
   "outputs": [
    {
     "data": {
      "text/html": [
       "<div>\n",
       "<style scoped>\n",
       "    .dataframe tbody tr th:only-of-type {\n",
       "        vertical-align: middle;\n",
       "    }\n",
       "\n",
       "    .dataframe tbody tr th {\n",
       "        vertical-align: top;\n",
       "    }\n",
       "\n",
       "    .dataframe thead th {\n",
       "        text-align: right;\n",
       "    }\n",
       "</style>\n",
       "<table border=\"1\" class=\"dataframe\">\n",
       "  <thead>\n",
       "    <tr style=\"text-align: right;\">\n",
       "      <th></th>\n",
       "      <th>fl_date</th>\n",
       "      <th>mkt_unique_carrier</th>\n",
       "      <th>branded_code_share</th>\n",
       "      <th>mkt_carrier</th>\n",
       "      <th>mkt_carrier_fl_num</th>\n",
       "      <th>op_unique_carrier</th>\n",
       "      <th>tail_num</th>\n",
       "      <th>op_carrier_fl_num</th>\n",
       "      <th>origin_airport_id</th>\n",
       "      <th>origin</th>\n",
       "      <th>...</th>\n",
       "      <th>distance</th>\n",
       "      <th>carrier_delay</th>\n",
       "      <th>weather_delay</th>\n",
       "      <th>nas_delay</th>\n",
       "      <th>security_delay</th>\n",
       "      <th>late_aircraft_delay</th>\n",
       "      <th>first_dep_time</th>\n",
       "      <th>total_add_gtime</th>\n",
       "      <th>longest_add_gtime</th>\n",
       "      <th>no_name</th>\n",
       "    </tr>\n",
       "  </thead>\n",
       "  <tbody>\n",
       "    <tr>\n",
       "      <th>0</th>\n",
       "      <td>2019-12-30</td>\n",
       "      <td>WN</td>\n",
       "      <td>WN</td>\n",
       "      <td>WN</td>\n",
       "      <td>775</td>\n",
       "      <td>WN</td>\n",
       "      <td>N255WN</td>\n",
       "      <td>775</td>\n",
       "      <td>13495</td>\n",
       "      <td>MSY</td>\n",
       "      <td>...</td>\n",
       "      <td>674.0</td>\n",
       "      <td>NaN</td>\n",
       "      <td>NaN</td>\n",
       "      <td>NaN</td>\n",
       "      <td>NaN</td>\n",
       "      <td>NaN</td>\n",
       "      <td>NaN</td>\n",
       "      <td>NaN</td>\n",
       "      <td>NaN</td>\n",
       "      <td>NaN</td>\n",
       "    </tr>\n",
       "    <tr>\n",
       "      <th>1</th>\n",
       "      <td>2018-04-08</td>\n",
       "      <td>AS</td>\n",
       "      <td>AS</td>\n",
       "      <td>AS</td>\n",
       "      <td>352</td>\n",
       "      <td>AS</td>\n",
       "      <td>N464AS</td>\n",
       "      <td>352</td>\n",
       "      <td>14747</td>\n",
       "      <td>SEA</td>\n",
       "      <td>...</td>\n",
       "      <td>672.0</td>\n",
       "      <td>0.0</td>\n",
       "      <td>0.0</td>\n",
       "      <td>25.0</td>\n",
       "      <td>0.0</td>\n",
       "      <td>0.0</td>\n",
       "      <td>NaN</td>\n",
       "      <td>NaN</td>\n",
       "      <td>NaN</td>\n",
       "      <td>NaN</td>\n",
       "    </tr>\n",
       "    <tr>\n",
       "      <th>2</th>\n",
       "      <td>2018-11-21</td>\n",
       "      <td>DL</td>\n",
       "      <td>DL</td>\n",
       "      <td>DL</td>\n",
       "      <td>1312</td>\n",
       "      <td>DL</td>\n",
       "      <td>N912DL</td>\n",
       "      <td>1312</td>\n",
       "      <td>10994</td>\n",
       "      <td>CHS</td>\n",
       "      <td>...</td>\n",
       "      <td>259.0</td>\n",
       "      <td>NaN</td>\n",
       "      <td>NaN</td>\n",
       "      <td>NaN</td>\n",
       "      <td>NaN</td>\n",
       "      <td>NaN</td>\n",
       "      <td>NaN</td>\n",
       "      <td>NaN</td>\n",
       "      <td>NaN</td>\n",
       "      <td>NaN</td>\n",
       "    </tr>\n",
       "  </tbody>\n",
       "</table>\n",
       "<p>3 rows × 42 columns</p>\n",
       "</div>"
      ],
      "text/plain": [
       "      fl_date mkt_unique_carrier branded_code_share mkt_carrier  \\\n",
       "0  2019-12-30                 WN                 WN          WN   \n",
       "1  2018-04-08                 AS                 AS          AS   \n",
       "2  2018-11-21                 DL                 DL          DL   \n",
       "\n",
       "   mkt_carrier_fl_num op_unique_carrier tail_num  op_carrier_fl_num  \\\n",
       "0                 775                WN   N255WN                775   \n",
       "1                 352                AS   N464AS                352   \n",
       "2                1312                DL   N912DL               1312   \n",
       "\n",
       "   origin_airport_id origin  ... distance  carrier_delay weather_delay  \\\n",
       "0              13495    MSY  ...    674.0            NaN           NaN   \n",
       "1              14747    SEA  ...    672.0            0.0           0.0   \n",
       "2              10994    CHS  ...    259.0            NaN           NaN   \n",
       "\n",
       "  nas_delay  security_delay  late_aircraft_delay  first_dep_time  \\\n",
       "0       NaN             NaN                  NaN             NaN   \n",
       "1      25.0             0.0                  0.0             NaN   \n",
       "2       NaN             NaN                  NaN             NaN   \n",
       "\n",
       "   total_add_gtime  longest_add_gtime  no_name  \n",
       "0              NaN                NaN      NaN  \n",
       "1              NaN                NaN      NaN  \n",
       "2              NaN                NaN      NaN  \n",
       "\n",
       "[3 rows x 42 columns]"
      ]
     },
     "metadata": {},
     "output_type": "display_data"
    },
    {
     "data": {
      "text/plain": [
       "(50000, 42)"
      ]
     },
     "metadata": {},
     "output_type": "display_data"
    }
   ],
   "source": [
    "display(data.head(3))\n",
    "display(data.shape)"
   ]
  },
  {
   "cell_type": "markdown",
   "id": "448e1fd1",
   "metadata": {},
   "source": [
    "## **Step2.** Create BaseModel using Linear Regression"
   ]
  },
  {
   "cell_type": "code",
   "execution_count": 135,
   "id": "9e34d137",
   "metadata": {
    "collapsed": true,
    "execution": {
     "iopub.execute_input": "2021-07-26T21:00:25.036531Z",
     "iopub.status.busy": "2021-07-26T21:00:25.036143Z",
     "iopub.status.idle": "2021-07-26T21:00:25.058064Z",
     "shell.execute_reply": "2021-07-26T21:00:25.056708Z",
     "shell.execute_reply.started": "2021-07-26T21:00:25.036490Z"
    },
    "jupyter": {
     "outputs_hidden": true
    }
   },
   "outputs": [
    {
     "name": "stderr",
     "output_type": "stream",
     "text": [
      "<ipython-input-135-ac5d82c39b9a>:5: SettingWithCopyWarning: \n",
      "A value is trying to be set on a copy of a slice from a DataFrame\n",
      "\n",
      "See the caveats in the documentation: https://pandas.pydata.org/pandas-docs/stable/user_guide/indexing.html#returning-a-view-versus-a-copy\n",
      "  test_model_1.dropna(inplace=True)\n",
      "<ipython-input-135-ac5d82c39b9a>:9: SettingWithCopyWarning: \n",
      "A value is trying to be set on a copy of a slice from a DataFrame.\n",
      "Try using .loc[row_indexer,col_indexer] = value instead\n",
      "\n",
      "See the caveats in the documentation: https://pandas.pydata.org/pandas-docs/stable/user_guide/indexing.html#returning-a-view-versus-a-copy\n",
      "  test_model_1['origin_city_state'] = test_model_1['origin_city_state'].astype('category')\n",
      "<ipython-input-135-ac5d82c39b9a>:10: SettingWithCopyWarning: \n",
      "A value is trying to be set on a copy of a slice from a DataFrame.\n",
      "Try using .loc[row_indexer,col_indexer] = value instead\n",
      "\n",
      "See the caveats in the documentation: https://pandas.pydata.org/pandas-docs/stable/user_guide/indexing.html#returning-a-view-versus-a-copy\n",
      "  test_model_1['origin_city_state'] = test_model_1['origin_city_state'].cat.codes\n"
     ]
    }
   ],
   "source": [
    "#create test model df\n",
    "test_model_1 = sample1[['month','origin_city_state','depart_hour','arr_delay']]\n",
    "\n",
    "# Droping nan value rows\n",
    "test_model_1.dropna(inplace=True)\n",
    "\n",
    "# Encode Cateogircal Values \n",
    "# Change dtype of variable to category then encode using cat.codes\n",
    "test_model_1['origin_city_state'] = test_model_1['origin_city_state'].astype('category')\n",
    "test_model_1['origin_city_state'] = test_model_1['origin_city_state'].cat.codes\n",
    "\n",
    "#Assign train and target variables\n",
    "X = test_model_1[['month','origin_city_state','depart_hour']]\n",
    "y = test_model_1['arr_delay']"
   ]
  },
  {
   "cell_type": "code",
   "execution_count": 136,
   "id": "6f4f2ab1",
   "metadata": {
    "execution": {
     "iopub.execute_input": "2021-07-26T21:00:28.514739Z",
     "iopub.status.busy": "2021-07-26T21:00:28.514390Z",
     "iopub.status.idle": "2021-07-26T21:00:28.549604Z",
     "shell.execute_reply": "2021-07-26T21:00:28.548066Z",
     "shell.execute_reply.started": "2021-07-26T21:00:28.514702Z"
    }
   },
   "outputs": [
    {
     "name": "stdout",
     "output_type": "stream",
     "text": [
      "variables ['month', 'origin_city_state', 'depart_hour']\n",
      "coefficients: [-0.07959701  0.04777177  0.01045926]\n",
      "\n",
      "R2 Score for train data: 0.012\n",
      "R2 Score2 for test data: 0.015\n",
      "MAE Score for test data:  23.62\n"
     ]
    }
   ],
   "source": [
    "# split X and y into training and testing sets \n",
    "import sklearn.model_selection as model_selection\n",
    "\n",
    "X_train,X_test,y_train,y_test = model_selection.train_test_split(X,y,train_size=0.75,test_size=0.25,random_state=123)\n",
    "\n",
    "# import libraries\n",
    "from sklearn.linear_model import LinearRegression\n",
    "from sklearn.metrics import mean_absolute_error\n",
    "from sklearn.metrics import r2_score\n",
    "\n",
    "#initialize and fit training dataset\n",
    "Linear_Regressor = LinearRegression()\n",
    "Linear_Regressor.fit(X_train, y_train)\n",
    "\n",
    "#make prediction \n",
    "y_pred = Linear_Regressor.predict(X_test)\n",
    "\n",
    "#prints the coefficients used for each attribute\n",
    "print('variables', list(X.columns))\n",
    "print('coefficients:', Linear_Regressor.coef_)\n",
    "print()\n",
    "\n",
    "#prints the R2 score for your test dataset\n",
    "print('R2 Score for train data:', round(Linear_Regressor.score(X_train,y_train),3))\n",
    "print('R2 Score2 for test data:', round(r2_score(y_test,y_pred),3))\n",
    "print('MAE Score for test data: ', round(mean_absolute_error(y_test,y_pred),2))"
   ]
  },
  {
   "cell_type": "code",
   "execution_count": 137,
   "id": "14e1f778",
   "metadata": {
    "execution": {
     "iopub.execute_input": "2021-07-26T21:00:30.337153Z",
     "iopub.status.busy": "2021-07-26T21:00:30.336859Z",
     "iopub.status.idle": "2021-07-26T21:00:30.909469Z",
     "shell.execute_reply": "2021-07-26T21:00:30.907418Z",
     "shell.execute_reply.started": "2021-07-26T21:00:30.337126Z"
    }
   },
   "outputs": [
    {
     "data": {
      "text/plain": [
       "<matplotlib.legend.Legend at 0x7fbebf1a6d60>"
      ]
     },
     "execution_count": 137,
     "metadata": {},
     "output_type": "execute_result"
    },
    {
     "data": {
      "image/png": "[encoded data removed]",
      "text/plain": [
       "<Figure size 432x288 with 1 Axes>"
      ]
     },
     "metadata": {},
     "output_type": "display_data"
    }
   ],
   "source": [
    "df = pd.DataFrame(\n",
    "        {\n",
    "            'actual':y_test,\n",
    "            'predicted':y_pred\n",
    "        }\n",
    ")\n",
    "df\n",
    "\n",
    "sns.regplot(x='predicted',y='actual',data=df,label='R2:'+ str(round(r2_score(y_test,y_pred),3)))\n",
    "plt.legend(loc=0)"
   ]
  },
  {
   "cell_type": "markdown",
   "id": "b12183c7",
   "metadata": {},
   "source": [
    "## **Step3.** Add key features to basemodel and run Linear Reg again"
   ]
  },
  {
   "cell_type": "raw",
   "id": "dfd9b7e9",
   "metadata": {
    "execution": {
     "iopub.execute_input": "2021-07-26T20:55:58.914380Z",
     "iopub.status.busy": "2021-07-26T20:55:58.914032Z",
     "iopub.status.idle": "2021-07-26T20:55:59.209349Z",
     "shell.execute_reply": "2021-07-26T20:55:59.208508Z",
     "shell.execute_reply.started": "2021-07-26T20:55:58.914344Z"
    }
   },
   "source": [
    "#Feature1 - Average_dep_delay per airport\n",
    "#create a dummy column and then replace values with average dep_delay per state\n",
    "sample1['dep_delay_state'] = sample1['dep_delay']\n",
    "sample1['dep_delay_state'] = sample1[['dep_delay_state','origin_city_state']].groupby(by='origin_city_state').transform(lambda x: x.mean())\n",
    "\n",
    "#Feature2 - Average_arr_delay per airport\n",
    "#create a dummy column and then replace values with average arr_delay per state\n",
    "sample1['arr_delay_state'] = sample1['arr_delay']\n",
    "sample1['arr_delay_state'] = sample1[['arr_delay_state','origin_city_state']].groupby(by='origin_city_state').transform(lambda x: x.mean())"
   ]
  },
  {
   "cell_type": "raw",
   "id": "37d60ec3",
   "metadata": {
    "execution": {
     "iopub.execute_input": "2021-07-26T20:55:59.557651Z",
     "iopub.status.busy": "2021-07-26T20:55:59.557266Z",
     "iopub.status.idle": "2021-07-26T20:55:59.581144Z",
     "shell.execute_reply": "2021-07-26T20:55:59.579691Z",
     "shell.execute_reply.started": "2021-07-26T20:55:59.557606Z"
    },
    "jupyter": {
     "outputs_hidden": true
    }
   },
   "source": [
    "#create test model df\n",
    "test_model_2 = sample1[['month','origin_city_state','depart_hour','dep_delay_state','arr_delay_state','arr_delay']]\n",
    "\n",
    "# Droping nan value rows\n",
    "test_model_2.dropna(inplace=True)\n",
    "\n",
    "# Encode Cateogircal Values \n",
    "# Change dtype of variable to category then encode using cat.codes\n",
    "test_model_2['origin_city_state'] = test_model_2['origin_city_state'].astype('category')\n",
    "test_model_2['origin_city_state'] = test_model_2['origin_city_state'].cat.codes\n",
    "\n",
    "#Assign train and target variablesa\n",
    "X = test_model_2[['month','origin_city_state','depart_hour','dep_delay_state','arr_delay_state']]\n",
    "y = test_model_2['arr_delay']"
   ]
  },
  {
   "cell_type": "raw",
   "id": "ba578ffd",
   "metadata": {
    "execution": {
     "iopub.execute_input": "2021-07-26T20:56:02.338958Z",
     "iopub.status.busy": "2021-07-26T20:56:02.338577Z",
     "iopub.status.idle": "2021-07-26T20:56:02.376669Z",
     "shell.execute_reply": "2021-07-26T20:56:02.375074Z",
     "shell.execute_reply.started": "2021-07-26T20:56:02.338918Z"
    }
   },
   "source": [
    "# split X and y into training and testing sets \n",
    "import sklearn.model_selection as model_selection\n",
    "\n",
    "X_train,X_test,y_train,y_test = model_selection.train_test_split(X,y,train_size=0.75,test_size=0.25,random_state=123)\n",
    "\n",
    "# import libraries\n",
    "from sklearn.linear_model import LinearRegression\n",
    "from sklearn.metrics import mean_absolute_error\n",
    "from sklearn.metrics import r2_score\n",
    "\n",
    "#initialize and fit training dataset\n",
    "Linear_Regressor = LinearRegression()\n",
    "Linear_Regressor.fit(X_train, y_train)\n",
    "\n",
    "#make prediction \n",
    "y_pred = Linear_Regressor.predict(X_test)\n",
    "\n",
    "#prints the coefficients used for each attribute\n",
    "print('variables', list(X.columns))\n",
    "print('coefficients:', Linear_Regressor.coef_)\n",
    "print()\n",
    "\n",
    "#prints the R2 score for your test dataset\n",
    "print('R2 Score for train data:', round(Linear_Regressor.score(X_train,y_train),3))\n",
    "print('R2 Score for test data:', round(r2_score(y_test,y_pred),3))\n",
    "print('MAE Score for test data:', round(mean_absolute_error(y_test,y_pred),2))"
   ]
  },
  {
   "cell_type": "raw",
   "id": "982f36bc",
   "metadata": {
    "execution": {
     "iopub.execute_input": "2021-07-26T21:00:04.047986Z",
     "iopub.status.busy": "2021-07-26T21:00:04.047656Z",
     "iopub.status.idle": "2021-07-26T21:00:04.629770Z",
     "shell.execute_reply": "2021-07-26T21:00:04.628243Z",
     "shell.execute_reply.started": "2021-07-26T21:00:04.047954Z"
    }
   },
   "source": [
    "df = pd.DataFrame(\n",
    "        {\n",
    "            'actual':y_test,\n",
    "            'predicted':y_pred\n",
    "        }\n",
    ")\n",
    "df\n",
    "\n",
    "sns.regplot(x='predicted',y='actual',data=df,label='R2:'+ str(round(r2_score(y_test,y_pred),3)))\n",
    "plt.legend(loc=0)"
   ]
  },
  {
   "cell_type": "markdown",
   "id": "84be5582",
   "metadata": {},
   "source": [
    "## **Step4.** Remove outlier data from Key Features"
   ]
  },
  {
   "cell_type": "raw",
   "id": "8ce4a207",
   "metadata": {
    "execution": {
     "iopub.execute_input": "2021-07-27T00:45:47.686594Z",
     "iopub.status.busy": "2021-07-27T00:45:47.684801Z",
     "iopub.status.idle": "2021-07-27T00:45:47.764691Z",
     "shell.execute_reply": "2021-07-27T00:45:47.750997Z",
     "shell.execute_reply.started": "2021-07-27T00:45:47.686480Z"
    }
   },
   "source": [
    "# create no_outlier data by using 1.5*Q1 and 1.5*Q3 as outlier boundaries\n",
    "filter1 = (sample1['arr_delay'] < 10.5) & (sample1['arr_delay'] > -22.5)\n",
    "sample1_no_outliers = sample1[filter1]\n",
    "#(sample1_no_outliers[['origin_city_state','dep_delay','arr_delay']].groupby(by='origin_city_state').mean().reset_index()).sort_values('arr_delay',ascending=False).head(10)"
   ]
  },
  {
   "cell_type": "raw",
   "id": "4a1a70c7",
   "metadata": {
    "execution": {
     "iopub.execute_input": "2021-07-27T00:45:48.225375Z",
     "iopub.status.busy": "2021-07-27T00:45:48.224886Z",
     "iopub.status.idle": "2021-07-27T00:45:48.517250Z",
     "shell.execute_reply": "2021-07-27T00:45:48.515590Z",
     "shell.execute_reply.started": "2021-07-27T00:45:48.225325Z"
    },
    "jupyter": {
     "outputs_hidden": true
    }
   },
   "source": [
    "#Feature1 - Average_dep_delay per airport\n",
    "#create a dummy column and then replace values with average dep_delay per state\n",
    "sample1_no_outliers['dep_delay_state'] = sample1_no_outliers['dep_delay']\n",
    "sample1_no_outliers['dep_delay_state'] = sample1_no_outliers[['dep_delay_state','origin_city_state']].groupby(by='origin_city_state').transform(lambda x: x.mean())\n",
    "\n",
    "#Feature2 - Average_arr_delay per airport\n",
    "#create a dummy column and then replace values with average arr_delay per state\n",
    "sample1_no_outliers['arr_delay_state'] = sample1_no_outliers['arr_delay']\n",
    "sample1_no_outliers['arr_delay_state'] = sample1_no_outliers[['arr_delay_state','origin_city_state']].groupby(by='origin_city_state').transform(lambda x: x.mean())\n",
    "\n",
    "#create test model df\n",
    "test_model_3 = sample1_no_outliers[['month','origin_city_state','depart_hour','dep_delay_state','arr_delay_state','arr_delay']]\n",
    "\n",
    "# Droping nan value rows\n",
    "test_model_3.dropna(inplace=True)\n",
    "\n",
    "# Encode Cateogircal Values \n",
    "# Change dtype of variable to category then encode using cat.codes\n",
    "test_model_3['origin_city_state'] = test_model_3['origin_city_state'].astype('category')\n",
    "test_model_3['origin_city_state'] = test_model_3['origin_city_state'].cat.codes\n",
    "\n",
    "#Assign train and target variablesa\n",
    "X = test_model_3[['dep_delay_state','arr_delay_state']]\n",
    "y = test_model_3['arr_delay']"
   ]
  },
  {
   "cell_type": "raw",
   "id": "c34629c4",
   "metadata": {
    "execution": {
     "iopub.execute_input": "2021-07-27T00:45:51.956830Z",
     "iopub.status.busy": "2021-07-27T00:45:51.955698Z",
     "iopub.status.idle": "2021-07-27T00:45:52.006946Z",
     "shell.execute_reply": "2021-07-27T00:45:52.002839Z",
     "shell.execute_reply.started": "2021-07-27T00:45:51.956158Z"
    }
   },
   "source": [
    "# split X and y into training and testing sets \n",
    "import sklearn.model_selection as model_selection\n",
    "\n",
    "X_train,X_test,y_train,y_test = model_selection.train_test_split(X,y,train_size=0.75,test_size=0.25,random_state=123)\n",
    "\n",
    "# import libraries\n",
    "from sklearn.linear_model import LinearRegression\n",
    "from sklearn.metrics import mean_absolute_error\n",
    "from sklearn.metrics import r2_score\n",
    "\n",
    "#initialize and fit training dataset\n",
    "Linear_Regressor = LinearRegression()\n",
    "Linear_Regressor.fit(X_train, y_train)\n",
    "\n",
    "#make prediction \n",
    "y_pred = Linear_Regressor.predict(X_test)\n",
    "\n",
    "#prints the coefficients used for each attribute\n",
    "print('variables', list(X.columns))\n",
    "print('coefficients:', Linear_Regressor.coef_)\n",
    "print()\n",
    "\n",
    "#prints the R2 score for your test dataset\n",
    "print('R2 Score for train data:', round(Linear_Regressor.score(X_train,y_train),3))\n",
    "print('R2 Score for test data:', round(r2_score(y_test,y_pred),3))\n",
    "print('MAE Score for test data:', round(mean_absolute_error(y_test,y_pred),2))"
   ]
  },
  {
   "cell_type": "raw",
   "id": "3d11b475",
   "metadata": {
    "execution": {
     "iopub.execute_input": "2021-07-27T00:45:54.332378Z",
     "iopub.status.busy": "2021-07-27T00:45:54.332119Z",
     "iopub.status.idle": "2021-07-27T00:45:54.941774Z",
     "shell.execute_reply": "2021-07-27T00:45:54.936577Z",
     "shell.execute_reply.started": "2021-07-27T00:45:54.332353Z"
    }
   },
   "source": [
    "df = pd.DataFrame(\n",
    "        {\n",
    "            'actual':y_test,\n",
    "            'predicted':y_pred\n",
    "        }\n",
    ")\n",
    "df\n",
    "\n",
    "sns.regplot(x='predicted',y='actual',data=df,label='R2:'+ str(round(r2_score(y_test,y_pred),3)))\n",
    "plt.legend(loc=0)"
   ]
  },
  {
   "cell_type": "markdown",
   "id": "10096233",
   "metadata": {},
   "source": [
    "## **Step5.** Optimize model with better features and cleaner dataset"
   ]
  },
  {
   "cell_type": "code",
   "execution_count": 442,
   "id": "78fe4b8f",
   "metadata": {
    "execution": {
     "iopub.execute_input": "2021-07-27T23:20:04.845436Z",
     "iopub.status.busy": "2021-07-27T23:20:04.845081Z",
     "iopub.status.idle": "2021-07-27T23:20:06.579547Z",
     "shell.execute_reply": "2021-07-27T23:20:06.578715Z",
     "shell.execute_reply.started": "2021-07-27T23:20:04.845400Z"
    }
   },
   "outputs": [],
   "source": [
    "# load dataset (50,000 datapoints)\n",
    "data = pd.read_csv('/Users/Prashanta/Desktop/airplane_data/flights_table(50,000_points).csv',delimiter=';')\n",
    "data = data.iloc[: , 1:]\n",
    "\n",
    "# drop all cancelled and diverted flights\n",
    "filter1 = (data['cancelled']!=1) & (data['diverted']!=1)\n",
    "data = data[filter1]\n",
    "\n",
    "# drop outlier\n",
    "data = data[(data['arr_delay']<50) & (data['arr_delay']>-50)]\n",
    "data = data[(data['dep_delay']<50) & (data['dep_delay']>-50)]\n",
    "\n",
    "#Adding date time features and state\n",
    "data['month'] = pd.DatetimeIndex(data['fl_date']).month\n",
    "data['year'] = pd.DatetimeIndex(data['fl_date']).year\n",
    "data['day'] = pd.DatetimeIndex(data['fl_date']).day\n",
    "data['origin_city_state'] = data['origin_city_name'].transform(lambda x: str(x).split(',')[1])\n",
    "data['origin_city'] = data['origin_city_name'].transform(lambda x: str(x).split(',')[0])\n",
    "data['depart_hour'] = data['dep_time'].round(-2)\n",
    "\n",
    "# Add key features\n",
    "data['dep_delay_city'] = data[['dep_delay','origin_city']].groupby(by='origin_city').transform(lambda x: x.mean())\n",
    "data['arr_delay_city'] = data[['arr_delay','origin_city']].groupby(by='origin_city').transform(lambda x: x.mean())\n",
    "\n",
    "#drop columns\n",
    "data = data[['month','day','year','origin_city','origin_city_state','distance','air_time','depart_hour','dep_delay_city','arr_delay_city','arr_delay']]"
   ]
  },
  {
   "cell_type": "code",
   "execution_count": 444,
   "id": "37011358",
   "metadata": {
    "execution": {
     "iopub.execute_input": "2021-07-27T23:20:13.870065Z",
     "iopub.status.busy": "2021-07-27T23:20:13.869816Z",
     "iopub.status.idle": "2021-07-27T23:20:13.896113Z",
     "shell.execute_reply": "2021-07-27T23:20:13.895377Z",
     "shell.execute_reply.started": "2021-07-27T23:20:13.870039Z"
    }
   },
   "outputs": [],
   "source": [
    "#drop null values\n",
    "data = data.dropna()\n",
    "\n",
    "data.shape"
   ]
  },
  {
   "cell_type": "code",
   "execution_count": 350,
   "id": "d2b80012",
   "metadata": {
    "execution": {
     "iopub.execute_input": "2021-07-27T17:30:22.531651Z",
     "iopub.status.busy": "2021-07-27T17:30:22.531271Z",
     "iopub.status.idle": "2021-07-27T17:30:22.539896Z",
     "shell.execute_reply": "2021-07-27T17:30:22.538616Z",
     "shell.execute_reply.started": "2021-07-27T17:30:22.531612Z"
    }
   },
   "outputs": [],
   "source": [
    "#data.hist(figsize=(15,15))"
   ]
  },
  {
   "cell_type": "code",
   "execution_count": 447,
   "id": "872a2ade",
   "metadata": {
    "execution": {
     "iopub.execute_input": "2021-07-27T23:24:50.426722Z",
     "iopub.status.busy": "2021-07-27T23:24:50.425866Z",
     "iopub.status.idle": "2021-07-27T23:24:50.486101Z",
     "shell.execute_reply": "2021-07-27T23:24:50.484213Z",
     "shell.execute_reply.started": "2021-07-27T23:24:50.426672Z"
    }
   },
   "outputs": [
    {
     "data": {
      "text/html": [
       "<div>\n",
       "<style scoped>\n",
       "    .dataframe tbody tr th:only-of-type {\n",
       "        vertical-align: middle;\n",
       "    }\n",
       "\n",
       "    .dataframe tbody tr th {\n",
       "        vertical-align: top;\n",
       "    }\n",
       "\n",
       "    .dataframe thead th {\n",
       "        text-align: right;\n",
       "    }\n",
       "</style>\n",
       "<table border=\"1\" class=\"dataframe\">\n",
       "  <thead>\n",
       "    <tr style=\"text-align: right;\">\n",
       "      <th></th>\n",
       "      <th>month</th>\n",
       "      <th>day</th>\n",
       "      <th>year</th>\n",
       "      <th>origin_city</th>\n",
       "      <th>origin_city_state</th>\n",
       "      <th>distance</th>\n",
       "      <th>air_time</th>\n",
       "      <th>depart_hour</th>\n",
       "      <th>dep_delay_city</th>\n",
       "      <th>arr_delay_city</th>\n",
       "      <th>arr_delay</th>\n",
       "    </tr>\n",
       "  </thead>\n",
       "  <tbody>\n",
       "    <tr>\n",
       "      <th>0</th>\n",
       "      <td>12</td>\n",
       "      <td>30</td>\n",
       "      <td>2019</td>\n",
       "      <td>New Orleans</td>\n",
       "      <td>LA</td>\n",
       "      <td>674.0</td>\n",
       "      <td>84.0</td>\n",
       "      <td>600.0</td>\n",
       "      <td>1.710611</td>\n",
       "      <td>-4.176849</td>\n",
       "      <td>-3.0</td>\n",
       "    </tr>\n",
       "    <tr>\n",
       "      <th>1</th>\n",
       "      <td>4</td>\n",
       "      <td>8</td>\n",
       "      <td>2018</td>\n",
       "      <td>Seattle</td>\n",
       "      <td>WA</td>\n",
       "      <td>672.0</td>\n",
       "      <td>98.0</td>\n",
       "      <td>600.0</td>\n",
       "      <td>1.014692</td>\n",
       "      <td>-4.634527</td>\n",
       "      <td>25.0</td>\n",
       "    </tr>\n",
       "    <tr>\n",
       "      <th>2</th>\n",
       "      <td>11</td>\n",
       "      <td>21</td>\n",
       "      <td>2018</td>\n",
       "      <td>Charleston</td>\n",
       "      <td>SC</td>\n",
       "      <td>259.0</td>\n",
       "      <td>46.0</td>\n",
       "      <td>800.0</td>\n",
       "      <td>-1.163522</td>\n",
       "      <td>-7.421384</td>\n",
       "      <td>-13.0</td>\n",
       "    </tr>\n",
       "    <tr>\n",
       "      <th>3</th>\n",
       "      <td>12</td>\n",
       "      <td>19</td>\n",
       "      <td>2019</td>\n",
       "      <td>Fort Lauderdale</td>\n",
       "      <td>FL</td>\n",
       "      <td>994.0</td>\n",
       "      <td>128.0</td>\n",
       "      <td>2200.0</td>\n",
       "      <td>1.163701</td>\n",
       "      <td>-4.740214</td>\n",
       "      <td>-16.0</td>\n",
       "    </tr>\n",
       "    <tr>\n",
       "      <th>4</th>\n",
       "      <td>9</td>\n",
       "      <td>21</td>\n",
       "      <td>2019</td>\n",
       "      <td>Roanoke</td>\n",
       "      <td>VA</td>\n",
       "      <td>530.0</td>\n",
       "      <td>82.0</td>\n",
       "      <td>1100.0</td>\n",
       "      <td>1.934783</td>\n",
       "      <td>-4.913043</td>\n",
       "      <td>-36.0</td>\n",
       "    </tr>\n",
       "    <tr>\n",
       "      <th>...</th>\n",
       "      <td>...</td>\n",
       "      <td>...</td>\n",
       "      <td>...</td>\n",
       "      <td>...</td>\n",
       "      <td>...</td>\n",
       "      <td>...</td>\n",
       "      <td>...</td>\n",
       "      <td>...</td>\n",
       "      <td>...</td>\n",
       "      <td>...</td>\n",
       "      <td>...</td>\n",
       "    </tr>\n",
       "    <tr>\n",
       "      <th>49994</th>\n",
       "      <td>2</td>\n",
       "      <td>3</td>\n",
       "      <td>2018</td>\n",
       "      <td>San Diego</td>\n",
       "      <td>CA</td>\n",
       "      <td>446.0</td>\n",
       "      <td>65.0</td>\n",
       "      <td>900.0</td>\n",
       "      <td>0.372477</td>\n",
       "      <td>-5.754128</td>\n",
       "      <td>-15.0</td>\n",
       "    </tr>\n",
       "    <tr>\n",
       "      <th>49995</th>\n",
       "      <td>6</td>\n",
       "      <td>28</td>\n",
       "      <td>2019</td>\n",
       "      <td>Rochester</td>\n",
       "      <td>NY</td>\n",
       "      <td>257.0</td>\n",
       "      <td>52.0</td>\n",
       "      <td>1000.0</td>\n",
       "      <td>-3.457364</td>\n",
       "      <td>-8.736434</td>\n",
       "      <td>-18.0</td>\n",
       "    </tr>\n",
       "    <tr>\n",
       "      <th>49997</th>\n",
       "      <td>3</td>\n",
       "      <td>3</td>\n",
       "      <td>2018</td>\n",
       "      <td>Chicago</td>\n",
       "      <td>IL</td>\n",
       "      <td>258.0</td>\n",
       "      <td>45.0</td>\n",
       "      <td>1000.0</td>\n",
       "      <td>1.995374</td>\n",
       "      <td>-3.535852</td>\n",
       "      <td>-24.0</td>\n",
       "    </tr>\n",
       "    <tr>\n",
       "      <th>49998</th>\n",
       "      <td>9</td>\n",
       "      <td>5</td>\n",
       "      <td>2018</td>\n",
       "      <td>Atlanta</td>\n",
       "      <td>GA</td>\n",
       "      <td>533.0</td>\n",
       "      <td>74.0</td>\n",
       "      <td>2100.0</td>\n",
       "      <td>2.164212</td>\n",
       "      <td>-4.487729</td>\n",
       "      <td>-12.0</td>\n",
       "    </tr>\n",
       "    <tr>\n",
       "      <th>49999</th>\n",
       "      <td>10</td>\n",
       "      <td>22</td>\n",
       "      <td>2019</td>\n",
       "      <td>Salt Lake City</td>\n",
       "      <td>UT</td>\n",
       "      <td>1565.0</td>\n",
       "      <td>174.0</td>\n",
       "      <td>1700.0</td>\n",
       "      <td>-0.305847</td>\n",
       "      <td>-6.977511</td>\n",
       "      <td>-12.0</td>\n",
       "    </tr>\n",
       "  </tbody>\n",
       "</table>\n",
       "<p>44551 rows × 11 columns</p>\n",
       "</div>"
      ],
      "text/plain": [
       "       month  day  year      origin_city origin_city_state  distance  \\\n",
       "0         12   30  2019      New Orleans                LA     674.0   \n",
       "1          4    8  2018          Seattle                WA     672.0   \n",
       "2         11   21  2018       Charleston                SC     259.0   \n",
       "3         12   19  2019  Fort Lauderdale                FL     994.0   \n",
       "4          9   21  2019          Roanoke                VA     530.0   \n",
       "...      ...  ...   ...              ...               ...       ...   \n",
       "49994      2    3  2018        San Diego                CA     446.0   \n",
       "49995      6   28  2019        Rochester                NY     257.0   \n",
       "49997      3    3  2018          Chicago                IL     258.0   \n",
       "49998      9    5  2018          Atlanta                GA     533.0   \n",
       "49999     10   22  2019   Salt Lake City                UT    1565.0   \n",
       "\n",
       "       air_time  depart_hour  dep_delay_city  arr_delay_city  arr_delay  \n",
       "0          84.0        600.0        1.710611       -4.176849       -3.0  \n",
       "1          98.0        600.0        1.014692       -4.634527       25.0  \n",
       "2          46.0        800.0       -1.163522       -7.421384      -13.0  \n",
       "3         128.0       2200.0        1.163701       -4.740214      -16.0  \n",
       "4          82.0       1100.0        1.934783       -4.913043      -36.0  \n",
       "...         ...          ...             ...             ...        ...  \n",
       "49994      65.0        900.0        0.372477       -5.754128      -15.0  \n",
       "49995      52.0       1000.0       -3.457364       -8.736434      -18.0  \n",
       "49997      45.0       1000.0        1.995374       -3.535852      -24.0  \n",
       "49998      74.0       2100.0        2.164212       -4.487729      -12.0  \n",
       "49999     174.0       1700.0       -0.305847       -6.977511      -12.0  \n",
       "\n",
       "[44551 rows x 11 columns]"
      ]
     },
     "execution_count": 447,
     "metadata": {},
     "output_type": "execute_result"
    }
   ],
   "source": [
    "data"
   ]
  },
  {
   "cell_type": "code",
   "execution_count": null,
   "id": "4c8537a4",
   "metadata": {},
   "outputs": [],
   "source": []
  }
 ],
 "metadata": {
  "kernelspec": {
   "display_name": "Python 3",
   "language": "python",
   "name": "python3"
  },
  "language_info": {
   "codemirror_mode": {
    "name": "ipython",
    "version": 3
   },
   "file_extension": ".py",
   "mimetype": "text/x-python",
   "name": "python",
   "nbconvert_exporter": "python",
   "pygments_lexer": "ipython3",
   "version": "3.8.8"
  }
 },
 "nbformat": 4,
 "nbformat_minor": 5
}
