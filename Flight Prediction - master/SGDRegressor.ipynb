{
 "cells": [
  {
   "cell_type": "markdown",
   "id": "f1ce385b",
   "metadata": {},
   "source": [
    "# SGDRegressor"
   ]
  },
  {
   "cell_type": "code",
   "execution_count": 1,
   "id": "8a65c896",
   "metadata": {},
   "outputs": [
    {
     "name": "stdout",
     "output_type": "stream",
     "text": [
      "Once deleted, variables cannot be recovered. Proceed (y/[n])? y\n"
     ]
    }
   ],
   "source": [
    "%reset"
   ]
  },
  {
   "cell_type": "code",
   "execution_count": 2,
   "id": "9fd18a09",
   "metadata": {},
   "outputs": [],
   "source": [
    "# import libraries\n",
    "import pandas as pd\n",
    "import numpy as np\n",
    "import matplotlib.pyplot as plt\n",
    "import seaborn as sns\n",
    "import datetime\n",
    "import pickle\n",
    "import sklearn.model_selection as model_selection\n",
    "from sklearn.ensemble import RandomForestClassifier\n",
    "from sklearn.metrics import mean_absolute_error\n",
    "from sklearn.metrics import r2_score\n",
    "from sklearn.model_selection import RandomizedSearchCV\n",
    "from sklearn.model_selection import GridSearchCV\n",
    "from sklearn.linear_model import LinearRegression\n",
    "from sklearn.metrics import mean_absolute_error\n",
    "from sklearn.metrics import r2_score\n",
    "import sklearn.model_selection as model_selection\n",
    "from sklearn.linear_model import SGDRegressor"
   ]
  },
  {
   "cell_type": "code",
   "execution_count": 3,
   "id": "31278d98",
   "metadata": {},
   "outputs": [],
   "source": [
    "# flights table\n",
    "data = pd.read_csv('/Users/Matthew Wong/flights_table_optimized(50,000 points).csv',delimiter=';')\n",
    "data = data.iloc[: , 1:]"
   ]
  },
  {
   "cell_type": "code",
   "execution_count": 4,
   "id": "07f1c5c2",
   "metadata": {},
   "outputs": [],
   "source": [
    "#Assign train and target variables\n",
    "X = data[['month','day','year','origin_city','origin_city_state','dest_city','dest_city_state','Route','distance','air_time','depart_hour','dep_delay_route','arr_delay_route','taxi_out_route','taxi_in_route','dep_delay_city','arr_delay_city','taxi_out_city','taxi_in_city','dep_delay_month','arr_delay_month','taxi_out_month','taxi_in_month']]\n",
    "y = data['arr_delay']\n",
    "\n",
    "X_train,X_test,y_train,y_test = model_selection.train_test_split(X,y,train_size=0.75,test_size=0.25,random_state=123)"
   ]
  },
  {
   "cell_type": "code",
   "execution_count": 5,
   "id": "70cf9f67",
   "metadata": {},
   "outputs": [
    {
     "data": {
      "text/html": [
       "<div>\n",
       "<style scoped>\n",
       "    .dataframe tbody tr th:only-of-type {\n",
       "        vertical-align: middle;\n",
       "    }\n",
       "\n",
       "    .dataframe tbody tr th {\n",
       "        vertical-align: top;\n",
       "    }\n",
       "\n",
       "    .dataframe thead th {\n",
       "        text-align: right;\n",
       "    }\n",
       "</style>\n",
       "<table border=\"1\" class=\"dataframe\">\n",
       "  <thead>\n",
       "    <tr style=\"text-align: right;\">\n",
       "      <th></th>\n",
       "      <th>month</th>\n",
       "      <th>day</th>\n",
       "      <th>year</th>\n",
       "      <th>origin_city</th>\n",
       "      <th>origin_city_state</th>\n",
       "      <th>dest_city</th>\n",
       "      <th>dest_city_state</th>\n",
       "      <th>Route</th>\n",
       "      <th>distance</th>\n",
       "      <th>air_time</th>\n",
       "      <th>...</th>\n",
       "      <th>taxi_in_route</th>\n",
       "      <th>dep_delay_city</th>\n",
       "      <th>arr_delay_city</th>\n",
       "      <th>taxi_out_city</th>\n",
       "      <th>taxi_in_city</th>\n",
       "      <th>dep_delay_month</th>\n",
       "      <th>arr_delay_month</th>\n",
       "      <th>taxi_out_month</th>\n",
       "      <th>taxi_in_month</th>\n",
       "      <th>arr_delay</th>\n",
       "    </tr>\n",
       "  </thead>\n",
       "  <tbody>\n",
       "    <tr>\n",
       "      <th>0</th>\n",
       "      <td>12</td>\n",
       "      <td>30</td>\n",
       "      <td>2019</td>\n",
       "      <td>220</td>\n",
       "      <td>17</td>\n",
       "      <td>105</td>\n",
       "      <td>8</td>\n",
       "      <td>2987</td>\n",
       "      <td>674.0</td>\n",
       "      <td>84.0</td>\n",
       "      <td>...</td>\n",
       "      <td>8.444444</td>\n",
       "      <td>1.710611</td>\n",
       "      <td>-4.176849</td>\n",
       "      <td>11.800643</td>\n",
       "      <td>8.057878</td>\n",
       "      <td>0.892546</td>\n",
       "      <td>-5.488575</td>\n",
       "      <td>17.429543</td>\n",
       "      <td>7.718988</td>\n",
       "      <td>-3.0</td>\n",
       "    </tr>\n",
       "    <tr>\n",
       "      <th>1</th>\n",
       "      <td>4</td>\n",
       "      <td>8</td>\n",
       "      <td>2018</td>\n",
       "      <td>296</td>\n",
       "      <td>49</td>\n",
       "      <td>233</td>\n",
       "      <td>4</td>\n",
       "      <td>4370</td>\n",
       "      <td>672.0</td>\n",
       "      <td>98.0</td>\n",
       "      <td>...</td>\n",
       "      <td>6.208333</td>\n",
       "      <td>1.014692</td>\n",
       "      <td>-4.634527</td>\n",
       "      <td>19.509642</td>\n",
       "      <td>6.965106</td>\n",
       "      <td>-0.045202</td>\n",
       "      <td>-5.727201</td>\n",
       "      <td>16.802538</td>\n",
       "      <td>7.431139</td>\n",
       "      <td>25.0</td>\n",
       "    </tr>\n",
       "    <tr>\n",
       "      <th>2</th>\n",
       "      <td>11</td>\n",
       "      <td>21</td>\n",
       "      <td>2018</td>\n",
       "      <td>52</td>\n",
       "      <td>40</td>\n",
       "      <td>17</td>\n",
       "      <td>9</td>\n",
       "      <td>604</td>\n",
       "      <td>259.0</td>\n",
       "      <td>46.0</td>\n",
       "      <td>...</td>\n",
       "      <td>10.238095</td>\n",
       "      <td>-1.163522</td>\n",
       "      <td>-7.421384</td>\n",
       "      <td>14.861635</td>\n",
       "      <td>8.779874</td>\n",
       "      <td>0.093850</td>\n",
       "      <td>-5.732620</td>\n",
       "      <td>16.940107</td>\n",
       "      <td>7.404545</td>\n",
       "      <td>-13.0</td>\n",
       "    </tr>\n",
       "  </tbody>\n",
       "</table>\n",
       "<p>3 rows × 24 columns</p>\n",
       "</div>"
      ],
      "text/plain": [
       "   month  day  year  origin_city  origin_city_state  dest_city  \\\n",
       "0     12   30  2019          220                 17        105   \n",
       "1      4    8  2018          296                 49        233   \n",
       "2     11   21  2018           52                 40         17   \n",
       "\n",
       "   dest_city_state  Route  distance  air_time  ...  taxi_in_route  \\\n",
       "0                8   2987     674.0      84.0  ...       8.444444   \n",
       "1                4   4370     672.0      98.0  ...       6.208333   \n",
       "2                9    604     259.0      46.0  ...      10.238095   \n",
       "\n",
       "   dep_delay_city  arr_delay_city  taxi_out_city  taxi_in_city  \\\n",
       "0        1.710611       -4.176849      11.800643      8.057878   \n",
       "1        1.014692       -4.634527      19.509642      6.965106   \n",
       "2       -1.163522       -7.421384      14.861635      8.779874   \n",
       "\n",
       "   dep_delay_month  arr_delay_month  taxi_out_month  taxi_in_month  arr_delay  \n",
       "0         0.892546        -5.488575       17.429543       7.718988       -3.0  \n",
       "1        -0.045202        -5.727201       16.802538       7.431139       25.0  \n",
       "2         0.093850        -5.732620       16.940107       7.404545      -13.0  \n",
       "\n",
       "[3 rows x 24 columns]"
      ]
     },
     "metadata": {},
     "output_type": "display_data"
    },
    {
     "data": {
      "text/plain": [
       "(44551, 24)"
      ]
     },
     "metadata": {},
     "output_type": "display_data"
    }
   ],
   "source": [
    "display(data.head(3))\n",
    "display(data.shape)"
   ]
  },
  {
   "cell_type": "code",
   "execution_count": 7,
   "id": "abeebe01",
   "metadata": {},
   "outputs": [],
   "source": [
    "model = SGDRegressor()\n",
    "\n",
    "model.fit(X_train,y_train)\n",
    "\n",
    "y_pred = model.predict(X_test)"
   ]
  },
  {
   "cell_type": "code",
   "execution_count": 8,
   "id": "fa273237",
   "metadata": {},
   "outputs": [
    {
     "name": "stdout",
     "output_type": "stream",
     "text": [
      "R2 Score for train data: -1.9586866786517442e+28\n",
      "R2 Score2 for test data: -1.9600704390911474e+28\n",
      "MAE Score for test data:  1922593761236222.8\n"
     ]
    },
    {
     "data": {
      "image/png": "[encoded data removed]",
      "text/plain": [
       "<Figure size 432x288 with 1 Axes>"
      ]
     },
     "metadata": {
      "needs_background": "light"
     },
     "output_type": "display_data"
    }
   ],
   "source": [
    "#prints the R2 score for your test dataset\n",
    "print('R2 Score for train data:', round(model.score(X_train,y_train),3))\n",
    "print('R2 Score2 for test data:', round(r2_score(y_test,y_pred),3))\n",
    "print('MAE Score for test data: ', round(mean_absolute_error(y_test,y_pred),2))\n",
    "\n",
    "df = pd.DataFrame(\n",
    "        {\n",
    "            'actual':y_test,\n",
    "            'predicted':y_pred\n",
    "        }\n",
    ")\n",
    "df\n",
    "\n",
    "sns.regplot(x='predicted',y='actual',data=df,label='R2:'+ str(round(r2_score(y_test,y_pred),3)))\n",
    "plt.legend(loc=0)\n",
    "plt.show()"
   ]
  },
  {
   "cell_type": "markdown",
   "id": "0e4244b4",
   "metadata": {},
   "source": [
    "# SGDRegressor Grid Search"
   ]
  },
  {
   "cell_type": "code",
   "execution_count": 9,
   "id": "848d595d",
   "metadata": {},
   "outputs": [
    {
     "name": "stderr",
     "output_type": "stream",
     "text": [
      "C:\\Users\\Matthew Wong\\anaconda3\\lib\\site-packages\\sklearn\\linear_model\\_stochastic_gradient.py:1220: ConvergenceWarning: Maximum number of iteration reached before convergence. Consider increasing max_iter to improve the fit.\n",
      "  warnings.warn(\"Maximum number of iteration reached before \"\n",
      "C:\\Users\\Matthew Wong\\anaconda3\\lib\\site-packages\\sklearn\\linear_model\\_stochastic_gradient.py:1220: ConvergenceWarning: Maximum number of iteration reached before convergence. Consider increasing max_iter to improve the fit.\n",
      "  warnings.warn(\"Maximum number of iteration reached before \"\n",
      "C:\\Users\\Matthew Wong\\anaconda3\\lib\\site-packages\\sklearn\\linear_model\\_stochastic_gradient.py:1220: ConvergenceWarning: Maximum number of iteration reached before convergence. Consider increasing max_iter to improve the fit.\n",
      "  warnings.warn(\"Maximum number of iteration reached before \"\n",
      "C:\\Users\\Matthew Wong\\anaconda3\\lib\\site-packages\\sklearn\\linear_model\\_stochastic_gradient.py:1220: ConvergenceWarning: Maximum number of iteration reached before convergence. Consider increasing max_iter to improve the fit.\n",
      "  warnings.warn(\"Maximum number of iteration reached before \"\n",
      "C:\\Users\\Matthew Wong\\anaconda3\\lib\\site-packages\\sklearn\\linear_model\\_stochastic_gradient.py:1220: ConvergenceWarning: Maximum number of iteration reached before convergence. Consider increasing max_iter to improve the fit.\n",
      "  warnings.warn(\"Maximum number of iteration reached before \"\n"
     ]
    }
   ],
   "source": [
    "#define hyperparameters we want to tune\n",
    "param_grid = {\n",
    "    'loss' : ['squared_loss', 'huber', 'epsilon_insensitive', 'squared_epsilon_insensitive'],\n",
    "    'penalty' : ['l2', 'l1', 'elasticnet']\n",
    "}\n",
    "\n",
    "#instantiate GridSearchCV, fit model, and make prediction\n",
    "model = GridSearchCV(SGDRegressor(), param_grid = param_grid, cv = 5)\n",
    "model.fit(X_train, y_train)\n",
    "y_pred = model.predict(X_test)\n",
    "\n",
    "df = pd.DataFrame(model.cv_results_)"
   ]
  },
  {
   "cell_type": "code",
   "execution_count": 10,
   "id": "c6dee5d5",
   "metadata": {},
   "outputs": [
    {
     "data": {
      "text/plain": [
       "{'loss': 'huber', 'penalty': 'elasticnet'}"
      ]
     },
     "metadata": {},
     "output_type": "display_data"
    },
    {
     "data": {
      "text/plain": [
       "-41.021348857153356"
      ]
     },
     "metadata": {},
     "output_type": "display_data"
    },
    {
     "data": {
      "text/html": [
       "<div>\n",
       "<style scoped>\n",
       "    .dataframe tbody tr th:only-of-type {\n",
       "        vertical-align: middle;\n",
       "    }\n",
       "\n",
       "    .dataframe tbody tr th {\n",
       "        vertical-align: top;\n",
       "    }\n",
       "\n",
       "    .dataframe thead th {\n",
       "        text-align: right;\n",
       "    }\n",
       "</style>\n",
       "<table border=\"1\" class=\"dataframe\">\n",
       "  <thead>\n",
       "    <tr style=\"text-align: right;\">\n",
       "      <th></th>\n",
       "      <th>mean_fit_time</th>\n",
       "      <th>std_fit_time</th>\n",
       "      <th>mean_score_time</th>\n",
       "      <th>std_score_time</th>\n",
       "      <th>param_loss</th>\n",
       "      <th>param_penalty</th>\n",
       "      <th>params</th>\n",
       "      <th>split0_test_score</th>\n",
       "      <th>split1_test_score</th>\n",
       "      <th>split2_test_score</th>\n",
       "      <th>split3_test_score</th>\n",
       "      <th>split4_test_score</th>\n",
       "      <th>mean_test_score</th>\n",
       "      <th>std_test_score</th>\n",
       "      <th>rank_test_score</th>\n",
       "    </tr>\n",
       "  </thead>\n",
       "  <tbody>\n",
       "    <tr>\n",
       "      <th>5</th>\n",
       "      <td>1.690976</td>\n",
       "      <td>0.124820</td>\n",
       "      <td>0.003123</td>\n",
       "      <td>0.001138</td>\n",
       "      <td>huber</td>\n",
       "      <td>elasticnet</td>\n",
       "      <td>{'loss': 'huber', 'penalty': 'elasticnet'}</td>\n",
       "      <td>-0.323625</td>\n",
       "      <td>-157.798516</td>\n",
       "      <td>-2.164658</td>\n",
       "      <td>-25.642402</td>\n",
       "      <td>-19.177542</td>\n",
       "      <td>-41.021349</td>\n",
       "      <td>59.189049</td>\n",
       "      <td>1</td>\n",
       "    </tr>\n",
       "    <tr>\n",
       "      <th>4</th>\n",
       "      <td>0.832503</td>\n",
       "      <td>0.330563</td>\n",
       "      <td>0.003514</td>\n",
       "      <td>0.001703</td>\n",
       "      <td>huber</td>\n",
       "      <td>l1</td>\n",
       "      <td>{'loss': 'huber', 'penalty': 'l1'}</td>\n",
       "      <td>-48.620509</td>\n",
       "      <td>-184.288403</td>\n",
       "      <td>-178.686675</td>\n",
       "      <td>-1.035274</td>\n",
       "      <td>-1.318199</td>\n",
       "      <td>-82.789812</td>\n",
       "      <td>82.446518</td>\n",
       "      <td>2</td>\n",
       "    </tr>\n",
       "    <tr>\n",
       "      <th>3</th>\n",
       "      <td>3.027198</td>\n",
       "      <td>0.523261</td>\n",
       "      <td>0.003508</td>\n",
       "      <td>0.000785</td>\n",
       "      <td>huber</td>\n",
       "      <td>l2</td>\n",
       "      <td>{'loss': 'huber', 'penalty': 'l2'}</td>\n",
       "      <td>-205.481891</td>\n",
       "      <td>-129.565501</td>\n",
       "      <td>-68.693768</td>\n",
       "      <td>-2.915965</td>\n",
       "      <td>-325.486652</td>\n",
       "      <td>-146.428756</td>\n",
       "      <td>111.778372</td>\n",
       "      <td>3</td>\n",
       "    </tr>\n",
       "  </tbody>\n",
       "</table>\n",
       "</div>"
      ],
      "text/plain": [
       "   mean_fit_time  std_fit_time  mean_score_time  std_score_time param_loss  \\\n",
       "5       1.690976      0.124820         0.003123        0.001138      huber   \n",
       "4       0.832503      0.330563         0.003514        0.001703      huber   \n",
       "3       3.027198      0.523261         0.003508        0.000785      huber   \n",
       "\n",
       "  param_penalty                                      params  \\\n",
       "5    elasticnet  {'loss': 'huber', 'penalty': 'elasticnet'}   \n",
       "4            l1          {'loss': 'huber', 'penalty': 'l1'}   \n",
       "3            l2          {'loss': 'huber', 'penalty': 'l2'}   \n",
       "\n",
       "   split0_test_score  split1_test_score  split2_test_score  split3_test_score  \\\n",
       "5          -0.323625        -157.798516          -2.164658         -25.642402   \n",
       "4         -48.620509        -184.288403        -178.686675          -1.035274   \n",
       "3        -205.481891        -129.565501         -68.693768          -2.915965   \n",
       "\n",
       "   split4_test_score  mean_test_score  std_test_score  rank_test_score  \n",
       "5         -19.177542       -41.021349       59.189049                1  \n",
       "4          -1.318199       -82.789812       82.446518                2  \n",
       "3        -325.486652      -146.428756      111.778372                3  "
      ]
     },
     "execution_count": 10,
     "metadata": {},
     "output_type": "execute_result"
    }
   ],
   "source": [
    "display(model.best_params_)\n",
    "display(model.best_score_)\n",
    "\n",
    "df.sort_values('rank_test_score', ascending = True).head(3)"
   ]
  },
  {
   "cell_type": "code",
   "execution_count": null,
   "id": "68eca578",
   "metadata": {},
   "outputs": [],
   "source": []
  }
 ],
 "metadata": {
  "kernelspec": {
   "display_name": "Python 3",
   "language": "python",
   "name": "python3"
  },
  "language_info": {
   "codemirror_mode": {
    "name": "ipython",
    "version": 3
   },
   "file_extension": ".py",
   "mimetype": "text/x-python",
   "name": "python",
   "nbconvert_exporter": "python",
   "pygments_lexer": "ipython3",
   "version": "3.8.8"
  }
 },
 "nbformat": 4,
 "nbformat_minor": 5
}
