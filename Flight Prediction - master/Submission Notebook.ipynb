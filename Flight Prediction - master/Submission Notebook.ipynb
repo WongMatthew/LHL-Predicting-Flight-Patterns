{
 "cells": [
  {
   "cell_type": "code",
   "execution_count": 1,
   "id": "b4e3477a",
   "metadata": {
    "execution": {
     "iopub.execute_input": "2021-07-30T20:41:03.156931Z",
     "iopub.status.busy": "2021-07-30T20:41:03.155597Z",
     "iopub.status.idle": "2021-07-30T20:41:04.655435Z",
     "shell.execute_reply": "2021-07-30T20:41:04.654685Z",
     "shell.execute_reply.started": "2021-07-30T20:41:03.156738Z"
    }
   },
   "outputs": [],
   "source": [
    "# import libraries\n",
    "import pandas as pd\n",
    "import numpy as np\n",
    "import matplotlib.pyplot as plt\n",
    "import seaborn as sns\n",
    "import datetime\n",
    "import pickle"
   ]
  },
  {
   "cell_type": "markdown",
   "id": "f186f039",
   "metadata": {},
   "source": [
    "# Sample Data"
   ]
  },
  {
   "cell_type": "code",
   "execution_count": 2,
   "id": "a92c0f43",
   "metadata": {
    "execution": {
     "iopub.execute_input": "2021-07-30T20:41:06.674320Z",
     "iopub.status.busy": "2021-07-30T20:41:06.673958Z",
     "iopub.status.idle": "2021-07-30T20:41:07.067529Z",
     "shell.execute_reply": "2021-07-30T20:41:07.066745Z",
     "shell.execute_reply.started": "2021-07-30T20:41:06.674283Z"
    }
   },
   "outputs": [],
   "source": [
    "# load dataset (50,000 datapoints)\n",
    "test_data = pd.read_csv('/Users/Prashanta/Desktop/airplane_data/flights_table(50,000_points).csv',delimiter=';')\n",
    "test_data = test_data.iloc[: , 1:]"
   ]
  },
  {
   "cell_type": "code",
   "execution_count": 3,
   "id": "f728868d",
   "metadata": {
    "execution": {
     "iopub.execute_input": "2021-07-30T20:41:10.153004Z",
     "iopub.status.busy": "2021-07-30T20:41:10.152524Z",
     "iopub.status.idle": "2021-07-30T20:41:38.102824Z",
     "shell.execute_reply": "2021-07-30T20:41:38.101960Z",
     "shell.execute_reply.started": "2021-07-30T20:41:10.152961Z"
    }
   },
   "outputs": [],
   "source": [
    "# drop all cancelled and diverted flights\n",
    "filter1 = (test_data['cancelled']!=1) & (test_data['diverted']!=1)\n",
    "test_data = test_data[filter1]\n",
    "\n",
    "# drop outliers\n",
    "test_data = test_data[(test_data['arr_delay']<50) & (test_data['arr_delay']>-50)]\n",
    "test_data = test_data[(test_data['dep_delay']<50) & (test_data['dep_delay']>-50)]\n",
    "\n",
    "#Adding date time features and state\n",
    "test_data['month'] = pd.DatetimeIndex(test_data['fl_date']).month\n",
    "test_data['year'] = pd.DatetimeIndex(test_data['fl_date']).year\n",
    "test_data['day'] = pd.DatetimeIndex(test_data['fl_date']).day\n",
    "test_data['origin_city_state'] = test_data['origin_city_name'].transform(lambda x: str(x).split(',')[1])\n",
    "test_data['origin_city'] = test_data['origin_city_name'].transform(lambda x: str(x).split(',')[0])\n",
    "test_data['dest_city_state'] = test_data['dest_city_name'].transform(lambda x: str(x).split(',')[1])\n",
    "test_data['dest_city'] = test_data['dest_city_name'].transform(lambda x: str(x).split(',')[0])\n",
    "test_data['depart_hour'] = test_data['dep_time'].round(-2)\n",
    "\n",
    "# Add key features\n",
    "test_data['Route'] = test_data['origin_city'] + ' to ' + test_data['dest_city']\n",
    "\n",
    "test_data['dep_delay_route'] = test_data[['dep_delay','Route']].groupby(by='Route').transform(lambda x: x.mean())\n",
    "test_data['arr_delay_route'] = test_data[['arr_delay','Route']].groupby(by='Route').transform(lambda x: x.mean())\n",
    "test_data['taxi_out_route'] = test_data[['taxi_out','Route']].groupby(by='Route').transform(lambda x: x.mean())\n",
    "test_data['taxi_in_route'] = test_data[['taxi_in','Route']].groupby(by='Route').transform(lambda x: x.mean())\n",
    "\n",
    "test_data['dep_delay_city'] = test_data[['dep_delay','origin_city']].groupby(by='origin_city').transform(lambda x: x.mean())\n",
    "test_data['arr_delay_city'] = test_data[['arr_delay','origin_city']].groupby(by='origin_city').transform(lambda x: x.mean())\n",
    "test_data['taxi_out_city'] = test_data[['taxi_out','origin_city']].groupby(by='origin_city').transform(lambda x: x.mean())\n",
    "test_data['taxi_in_city'] = test_data[['taxi_in','origin_city']].groupby(by='origin_city').transform(lambda x: x.mean())\n",
    "\n",
    "test_data['dep_delay_month'] = test_data[['dep_delay','month']].groupby(by='month').transform(lambda x: x.mean())\n",
    "test_data['arr_delay_month'] = test_data[['arr_delay','month']].groupby(by='month').transform(lambda x: x.mean())\n",
    "test_data['taxi_out_month'] = test_data[['taxi_out','month']].groupby(by='month').transform(lambda x: x.mean())\n",
    "test_data['taxi_in_month'] = test_data[['taxi_in','month']].groupby(by='month').transform(lambda x: x.mean())\n",
    "\n",
    "#test_data['air_time'] = test_data[['air_time','Route']].groupby(by='Route').transform(lambda x: x.mean())\n",
    "\n",
    "\n",
    "#drop columns\n",
    "test_data = test_data[['month','day','year','origin_city','origin_city_state','dest_city','dest_city_state','Route','distance','air_time','depart_hour','dep_delay_route','arr_delay_route','taxi_out_route','taxi_in_route','dep_delay_city','arr_delay_city','taxi_out_city','taxi_in_city','dep_delay_month','arr_delay_month','taxi_out_month','taxi_in_month','taxi_out','taxi_in','dep_delay','arr_delay']]"
   ]
  },
  {
   "cell_type": "code",
   "execution_count": 4,
   "id": "e00811fc",
   "metadata": {
    "execution": {
     "iopub.execute_input": "2021-07-30T20:42:11.722831Z",
     "iopub.status.busy": "2021-07-30T20:42:11.722394Z",
     "iopub.status.idle": "2021-07-30T20:42:11.776630Z",
     "shell.execute_reply": "2021-07-30T20:42:11.775232Z",
     "shell.execute_reply.started": "2021-07-30T20:42:11.722795Z"
    }
   },
   "outputs": [],
   "source": [
    "#create mean tables for merging later\n",
    "route_table = test_data[['dep_delay','arr_delay','taxi_out','taxi_in','Route']].groupby(by='Route').mean()\n",
    "origin_city_table = test_data[['dep_delay','arr_delay','taxi_out','taxi_in','origin_city']].groupby(by='origin_city').mean()\n",
    "month_table = test_data[['dep_delay','arr_delay','taxi_out','taxi_in','month']].groupby(by='month').mean()\n",
    "#air_time_table = test_data[['air_time','Route']].groupby(by='Route').mean()"
   ]
  },
  {
   "cell_type": "code",
   "execution_count": 5,
   "id": "5db6d8af",
   "metadata": {
    "execution": {
     "iopub.execute_input": "2021-07-30T20:42:20.134817Z",
     "iopub.status.busy": "2021-07-30T20:42:20.132801Z",
     "iopub.status.idle": "2021-07-30T20:42:20.390473Z",
     "shell.execute_reply": "2021-07-30T20:42:20.389643Z",
     "shell.execute_reply.started": "2021-07-30T20:42:20.134635Z"
    }
   },
   "outputs": [],
   "source": [
    "#drop null values\n",
    "test_data = test_data.dropna()\n",
    "test_data.drop_duplicates()\n",
    "\n",
    "# Encode Cateogircal Values \n",
    "# Change dtype of variable to category then encode using cat.codes\n",
    "test_data['origin_city_state'] = test_data['origin_city_state'].astype('category')\n",
    "test_data['origin_city'] = test_data['origin_city'].astype('category')\n",
    "test_data['dest_city_state'] = test_data['dest_city_state'].astype('category')\n",
    "test_data['dest_city'] = test_data['dest_city'].astype('category')\n",
    "test_data['Route'] = test_data['Route'].astype('category')\n",
    "\n",
    "test_data['origin_city_state'] = test_data['origin_city_state'].cat.codes\n",
    "test_data['origin_city'] = test_data['origin_city'].cat.codes\n",
    "test_data['dest_city_state'] = test_data['dest_city_state'].cat.codes\n",
    "test_data['dest_city'] = test_data['dest_city'].cat.codes\n",
    "test_data['Route'] = test_data['Route'].cat.codes"
   ]
  },
  {
   "cell_type": "code",
   "execution_count": 6,
   "id": "2eba7e43",
   "metadata": {
    "execution": {
     "iopub.execute_input": "2021-07-30T20:42:27.246459Z",
     "iopub.status.busy": "2021-07-30T20:42:27.246174Z",
     "iopub.status.idle": "2021-07-30T20:42:29.808660Z",
     "shell.execute_reply": "2021-07-30T20:42:29.806891Z",
     "shell.execute_reply.started": "2021-07-30T20:42:27.246430Z"
    }
   },
   "outputs": [],
   "source": [
    "#Assign train and target variables\n",
    "X = test_data[['month','day','year','origin_city','origin_city_state','dest_city','dest_city_state','Route','distance','air_time','depart_hour','dep_delay_route','arr_delay_route','taxi_out_route','taxi_in_route','dep_delay_city','arr_delay_city','taxi_out_city','taxi_in_city','dep_delay_month','arr_delay_month','taxi_out_month','taxi_in_month']]\n",
    "y = test_data['arr_delay']\n",
    "\n",
    "# split X and y into training and testing sets \n",
    "import sklearn.model_selection as model_selection\n",
    "\n",
    "X_train,X_test,y_train,y_test = model_selection.train_test_split(X,y,train_size=0.75,test_size=0.25,random_state=123)\n",
    "\n",
    "from sklearn.preprocessing import PolynomialFeatures\n",
    "from sklearn.pipeline import make_pipeline\n",
    "from sklearn.linear_model import LinearRegression\n",
    "from sklearn.model_selection import GridSearchCV\n",
    "\n",
    "#Create a Gaussian Classifier\n",
    "model = make_pipeline(PolynomialFeatures(2),LinearRegression())\n",
    "\n",
    "#Train the model using the training sets y_pred=clf.predict(X_test)\n",
    "model.fit(X_train,y_train)\n",
    "\n",
    "#save the model\n",
    "filename = 'Poly_regression_final.sav'\n",
    "pickle.dump(model,open(filename, 'wb'))\n",
    "\n",
    "y_pred = model.predict(X_test)"
   ]
  },
  {
   "cell_type": "code",
   "execution_count": 7,
   "id": "3ada52e1",
   "metadata": {
    "execution": {
     "iopub.execute_input": "2021-07-30T20:42:34.115773Z",
     "iopub.status.busy": "2021-07-30T20:42:34.115385Z",
     "iopub.status.idle": "2021-07-30T20:42:35.569845Z",
     "shell.execute_reply": "2021-07-30T20:42:35.568786Z",
     "shell.execute_reply.started": "2021-07-30T20:42:34.115733Z"
    }
   },
   "outputs": [
    {
     "name": "stdout",
     "output_type": "stream",
     "text": [
      "R2 Score for train data: 0.225\n",
      "R2 Score2 for test data: 0.222\n",
      "MAE Score for test data:  10.49\n"
     ]
    },
    {
     "data": {
      "image/png": "[encoded data removed]",
      "text/plain": [
       "<Figure size 432x288 with 1 Axes>"
      ]
     },
     "metadata": {
      "needs_background": "light"
     },
     "output_type": "display_data"
    }
   ],
   "source": [
    "from sklearn.linear_model import LinearRegression\n",
    "from sklearn.metrics import mean_absolute_error\n",
    "from sklearn.metrics import r2_score\n",
    "\n",
    "#prints the R2 score for your test dataset\n",
    "print('R2 Score for train data:', round(model.score(X_train,y_train),3))\n",
    "print('R2 Score2 for test data:', round(r2_score(y_test,y_pred),3))\n",
    "print('MAE Score for test data: ', round(mean_absolute_error(y_test,y_pred),2))\n",
    "\n",
    "df = pd.DataFrame(\n",
    "        {\n",
    "            'actual':y_test,\n",
    "            'predicted':y_pred\n",
    "        }\n",
    ")\n",
    "df\n",
    "\n",
    "sns.regplot(x='predicted',y='actual',data=df,label='R2:'+ str(round(r2_score(y_test,y_pred),3)))\n",
    "plt.legend(loc=0)\n",
    "plt.show()"
   ]
  },
  {
   "cell_type": "markdown",
   "id": "bb4b238d",
   "metadata": {},
   "source": [
    "# Real Data"
   ]
  },
  {
   "cell_type": "code",
   "execution_count": 19,
   "id": "24db70d5",
   "metadata": {
    "execution": {
     "iopub.execute_input": "2021-07-30T20:45:13.507539Z",
     "iopub.status.busy": "2021-07-30T20:45:13.507233Z",
     "iopub.status.idle": "2021-07-30T20:45:15.458297Z",
     "shell.execute_reply": "2021-07-30T20:45:15.457443Z",
     "shell.execute_reply.started": "2021-07-30T20:45:13.507509Z"
    }
   },
   "outputs": [],
   "source": [
    "# load flights_test (50,000 datapoints)\n",
    "final_data1 = pd.read_csv('/Users/Prashanta/Desktop/airplane_data/flights_test(all_points).csv',delimiter=';')\n",
    "final_data = final_data1.iloc[: , 1:]"
   ]
  },
  {
   "cell_type": "code",
   "execution_count": 20,
   "id": "77a7ab15",
   "metadata": {
    "execution": {
     "iopub.execute_input": "2021-07-30T20:45:15.460157Z",
     "iopub.status.busy": "2021-07-30T20:45:15.459837Z",
     "iopub.status.idle": "2021-07-30T20:45:17.801557Z",
     "shell.execute_reply": "2021-07-30T20:45:17.800768Z",
     "shell.execute_reply.started": "2021-07-30T20:45:15.460110Z"
    }
   },
   "outputs": [],
   "source": [
    "#Adding date time features and state\n",
    "final_data['month'] = pd.DatetimeIndex(final_data['fl_date']).month\n",
    "final_data['year'] = pd.DatetimeIndex(final_data['fl_date']).year\n",
    "final_data['day'] = pd.DatetimeIndex(final_data['fl_date']).day\n",
    "final_data['origin_city_state'] = final_data['origin_city_name'].transform(lambda x: str(x).split(',')[1])\n",
    "final_data['origin_city'] = final_data['origin_city_name'].transform(lambda x: str(x).split(',')[0])\n",
    "final_data['dest_city_state'] = final_data['dest_city_name'].transform(lambda x: str(x).split(',')[1])\n",
    "final_data['dest_city'] = final_data['dest_city_name'].transform(lambda x: str(x).split(',')[0])\n",
    "final_data['depart_hour'] = final_data['crs_dep_time'].round(-2)\n",
    "\n",
    "# Add key features\n",
    "final_data['Route'] = final_data['origin_city'] + ' to ' + final_data['dest_city']"
   ]
  },
  {
   "cell_type": "code",
   "execution_count": 21,
   "id": "05157532",
   "metadata": {
    "execution": {
     "iopub.execute_input": "2021-07-30T20:45:17.803827Z",
     "iopub.status.busy": "2021-07-30T20:45:17.803437Z",
     "iopub.status.idle": "2021-07-30T20:45:19.920641Z",
     "shell.execute_reply": "2021-07-30T20:45:19.919873Z",
     "shell.execute_reply.started": "2021-07-30T20:45:17.803795Z"
    }
   },
   "outputs": [],
   "source": [
    "#drop columns\n",
    "final_data = final_data[['month','day','year','origin_city','origin_city_state','dest_city','dest_city_state','Route','distance','crs_elapsed_time','depart_hour']]\n",
    "\n",
    "#merge mean columns\n",
    "final_data = pd.merge(final_data,route_table,how='left',on='Route')\n",
    "final_data = pd.merge(final_data,origin_city_table,how='left',on='origin_city')\n",
    "final_data = pd.merge(final_data,month_table,how='left',on='month')\n",
    "#final_data = pd.merge(final_data,air_time_table,how='left',on='Route')\n",
    "\n",
    "#rename columms\n",
    "final_data.columns = ['month','day','year','origin_city','origin_city_state','dest_city','dest_city_state','Route','distance','air_time','depart_hour','dep_delay_route','arr_delay_route','taxi_out_route','taxi_in_route','dep_delay_city','arr_delay_city','taxi_out_city','taxi_in_city','dep_delay_month','arr_delay_month','taxi_out_month','taxi_in_month']"
   ]
  },
  {
   "cell_type": "code",
   "execution_count": 23,
   "id": "0e847712",
   "metadata": {
    "execution": {
     "iopub.execute_input": "2021-07-30T20:46:27.376869Z",
     "iopub.status.busy": "2021-07-30T20:46:27.376555Z",
     "iopub.status.idle": "2021-07-30T20:46:28.175881Z",
     "shell.execute_reply": "2021-07-30T20:46:28.175030Z",
     "shell.execute_reply.started": "2021-07-30T20:46:27.376837Z"
    }
   },
   "outputs": [],
   "source": [
    "# Encode Cateogircal Values \n",
    "# Change dtype of variable to category then encode using cat.codes\n",
    "final_data['origin_city_state'] = final_data['origin_city_state'].astype('category')\n",
    "final_data['origin_city'] = final_data['origin_city'].astype('category')\n",
    "final_data['dest_city_state'] = final_data['dest_city_state'].astype('category')\n",
    "final_data['dest_city'] = final_data['dest_city'].astype('category')\n",
    "final_data['Route'] = final_data['Route'].astype('category')\n",
    "\n",
    "final_data['origin_city_state'] = final_data['origin_city_state'].cat.codes\n",
    "final_data['origin_city'] = final_data['origin_city'].cat.codes\n",
    "final_data['dest_city_state'] = final_data['dest_city_state'].cat.codes\n",
    "final_data['dest_city'] = final_data['dest_city'].cat.codes\n",
    "final_data['Route'] = final_data['Route'].cat.codes\n",
    "\n",
    "#Fill all null values with zero\n",
    "final_data = final_data.fillna(0)"
   ]
  },
  {
   "cell_type": "code",
   "execution_count": 24,
   "id": "afa66827",
   "metadata": {
    "execution": {
     "iopub.execute_input": "2021-07-30T20:46:30.249634Z",
     "iopub.status.busy": "2021-07-30T20:46:30.249170Z",
     "iopub.status.idle": "2021-07-30T20:46:35.940655Z",
     "shell.execute_reply": "2021-07-30T20:46:35.938885Z",
     "shell.execute_reply.started": "2021-07-30T20:46:30.249573Z"
    }
   },
   "outputs": [],
   "source": [
    "#Assign train and target variables\n",
    "X_test = final_data[['month','day','year','origin_city','origin_city_state','dest_city','dest_city_state','Route','distance','air_time','depart_hour','dep_delay_route','arr_delay_route','taxi_out_route','taxi_in_route','dep_delay_city','arr_delay_city','taxi_out_city','taxi_in_city','dep_delay_month','arr_delay_month','taxi_out_month','taxi_in_month']]\n",
    "\n",
    "y_pred = model.predict(X_test)"
   ]
  },
  {
   "cell_type": "code",
   "execution_count": 25,
   "id": "15516bfe",
   "metadata": {
    "execution": {
     "iopub.execute_input": "2021-07-30T20:46:37.917048Z",
     "iopub.status.busy": "2021-07-30T20:46:37.916728Z",
     "iopub.status.idle": "2021-07-30T20:46:37.931244Z",
     "shell.execute_reply": "2021-07-30T20:46:37.929588Z",
     "shell.execute_reply.started": "2021-07-30T20:46:37.917014Z"
    }
   },
   "outputs": [
    {
     "data": {
      "text/plain": [
       "0         18.150793\n",
       "1         12.739390\n",
       "2          6.884734\n",
       "3          5.957206\n",
       "4          6.461002\n",
       "            ...    \n",
       "660551    10.905686\n",
       "660552    12.785977\n",
       "660553    21.004924\n",
       "660554    11.912524\n",
       "660555    24.769628\n",
       "Length: 660556, dtype: float64"
      ]
     },
     "execution_count": 25,
     "metadata": {},
     "output_type": "execute_result"
    }
   ],
   "source": [
    "predicted_delay = pd.Series(y_pred)\n",
    "predicted_delay"
   ]
  },
  {
   "cell_type": "code",
   "execution_count": 26,
   "id": "6e8d7b27",
   "metadata": {
    "execution": {
     "iopub.execute_input": "2021-07-30T20:46:41.650583Z",
     "iopub.status.busy": "2021-07-30T20:46:41.650265Z",
     "iopub.status.idle": "2021-07-30T20:46:41.793092Z",
     "shell.execute_reply": "2021-07-30T20:46:41.792276Z",
     "shell.execute_reply.started": "2021-07-30T20:46:41.650550Z"
    }
   },
   "outputs": [],
   "source": [
    "#concat predicitons\n",
    "final_data = pd.concat([final_data,predicted_delay],axis=1)\n",
    "final_data.columns = ['month','day','year','origin_city','origin_city_state','dest_city','dest_city_state','Route','distance','air_time','depart_hour','dep_delay_route','arr_delay_route','taxi_out_route','taxi_in_route','dep_delay_city','arr_delay_city','taxi_out_city','taxi_in_city','dep_delay_month','arr_delay_month','taxi_out_month','taxi_in_month', 'predicted_delay']"
   ]
  },
  {
   "cell_type": "code",
   "execution_count": 28,
   "id": "d9987639",
   "metadata": {
    "execution": {
     "iopub.execute_input": "2021-07-30T20:48:34.748177Z",
     "iopub.status.busy": "2021-07-30T20:48:34.747852Z",
     "iopub.status.idle": "2021-07-30T20:48:50.863786Z",
     "shell.execute_reply": "2021-07-30T20:48:50.862788Z",
     "shell.execute_reply.started": "2021-07-30T20:48:34.748144Z"
    }
   },
   "outputs": [],
   "source": [
    "final_data\n",
    "final_data.to_csv('/Users/Prashanta/Desktop/airplane_data/submission_file.csv',sep = ';',index=False)\n",
    "\n",
    "#test_data = pd.read_csv('/Users/Prashanta/Desktop/airplane_data/flights_table(50,000_points).csv',delimiter=';')"
   ]
  },
  {
   "cell_type": "code",
   "execution_count": null,
   "id": "20d0f683",
   "metadata": {},
   "outputs": [],
   "source": []
  },
  {
   "cell_type": "code",
   "execution_count": null,
   "id": "38365a66",
   "metadata": {},
   "outputs": [],
   "source": [
    "final_data1"
   ]
  },
  {
   "cell_type": "code",
   "execution_count": null,
   "id": "f574fa45",
   "metadata": {},
   "outputs": [],
   "source": []
  }
 ],
 "metadata": {
  "kernelspec": {
   "display_name": "Python 3",
   "language": "python",
   "name": "python3"
  },
  "language_info": {
   "codemirror_mode": {
    "name": "ipython",
    "version": 3
   },
   "file_extension": ".py",
   "mimetype": "text/x-python",
   "name": "python",
   "nbconvert_exporter": "python",
   "pygments_lexer": "ipython3",
   "version": "3.8.8"
  }
 },
 "nbformat": 4,
 "nbformat_minor": 5
}
