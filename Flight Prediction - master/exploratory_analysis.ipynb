{
 "cells": [
  {
   "cell_type": "markdown",
   "metadata": {},
   "source": [
    "## Exploratory Data Analysis\n",
    "\n",
    "Use this notebook to get familiar with the datasets we have. There is 10 questions we need to answer during the EDA.\n",
    "\n",
    "\n",
    "We shouldn't limit our EDA to these 10 questions. Let's be creative :)."
   ]
  },
  {
   "cell_type": "code",
   "execution_count": 1,
   "metadata": {
    "execution": {
     "iopub.execute_input": "2021-07-24T18:33:07.038979Z",
     "iopub.status.busy": "2021-07-24T18:33:07.038614Z",
     "iopub.status.idle": "2021-07-24T18:33:08.505798Z",
     "shell.execute_reply": "2021-07-24T18:33:08.505021Z",
     "shell.execute_reply.started": "2021-07-24T18:33:07.038900Z"
    }
   },
   "outputs": [],
   "source": [
    "import pandas as pd\n",
    "import numpy as np\n",
    "import matplotlib as plt\n",
    "import seaborn as sns"
   ]
  },
  {
   "cell_type": "code",
   "execution_count": 2,
   "metadata": {
    "execution": {
     "iopub.execute_input": "2021-07-24T18:33:10.888227Z",
     "iopub.status.busy": "2021-07-24T18:33:10.887874Z",
     "iopub.status.idle": "2021-07-24T18:33:35.377333Z",
     "shell.execute_reply": "2021-07-24T18:33:35.375046Z",
     "shell.execute_reply.started": "2021-07-24T18:33:10.888189Z"
    }
   },
   "outputs": [
    {
     "data": {
      "text/html": [
       "<div>\n",
       "<style scoped>\n",
       "    .dataframe tbody tr th:only-of-type {\n",
       "        vertical-align: middle;\n",
       "    }\n",
       "\n",
       "    .dataframe tbody tr th {\n",
       "        vertical-align: top;\n",
       "    }\n",
       "\n",
       "    .dataframe thead th {\n",
       "        text-align: right;\n",
       "    }\n",
       "</style>\n",
       "<table border=\"1\" class=\"dataframe\">\n",
       "  <thead>\n",
       "    <tr style=\"text-align: right;\">\n",
       "      <th></th>\n",
       "      <th>fl_date</th>\n",
       "      <th>mkt_carrier_fl_num</th>\n",
       "      <th>origin_city_name</th>\n",
       "      <th>dest_city_name</th>\n",
       "      <th>distance</th>\n",
       "      <th>dep_delay</th>\n",
       "      <th>arr_delay</th>\n",
       "      <th>carrier_delay</th>\n",
       "      <th>weather_delay</th>\n",
       "      <th>nas_delay</th>\n",
       "      <th>security_delay</th>\n",
       "      <th>late_aircraft_delay</th>\n",
       "    </tr>\n",
       "  </thead>\n",
       "  <tbody>\n",
       "    <tr>\n",
       "      <th>0</th>\n",
       "      <td>2018-08-21</td>\n",
       "      <td>2009</td>\n",
       "      <td>Atlanta, GA</td>\n",
       "      <td>Chicago, IL</td>\n",
       "      <td>606.0</td>\n",
       "      <td>-1.0</td>\n",
       "      <td>-10.0</td>\n",
       "      <td>NaN</td>\n",
       "      <td>NaN</td>\n",
       "      <td>NaN</td>\n",
       "      <td>NaN</td>\n",
       "      <td>NaN</td>\n",
       "    </tr>\n",
       "    <tr>\n",
       "      <th>1</th>\n",
       "      <td>2018-08-21</td>\n",
       "      <td>2009</td>\n",
       "      <td>Chicago, IL</td>\n",
       "      <td>Atlanta, GA</td>\n",
       "      <td>606.0</td>\n",
       "      <td>-4.0</td>\n",
       "      <td>-16.0</td>\n",
       "      <td>NaN</td>\n",
       "      <td>NaN</td>\n",
       "      <td>NaN</td>\n",
       "      <td>NaN</td>\n",
       "      <td>NaN</td>\n",
       "    </tr>\n",
       "    <tr>\n",
       "      <th>2</th>\n",
       "      <td>2018-08-21</td>\n",
       "      <td>2010</td>\n",
       "      <td>Atlanta, GA</td>\n",
       "      <td>Indianapolis, IN</td>\n",
       "      <td>432.0</td>\n",
       "      <td>-7.0</td>\n",
       "      <td>-9.0</td>\n",
       "      <td>NaN</td>\n",
       "      <td>NaN</td>\n",
       "      <td>NaN</td>\n",
       "      <td>NaN</td>\n",
       "      <td>NaN</td>\n",
       "    </tr>\n",
       "    <tr>\n",
       "      <th>3</th>\n",
       "      <td>2018-08-21</td>\n",
       "      <td>2011</td>\n",
       "      <td>Atlanta, GA</td>\n",
       "      <td>Cincinnati, OH</td>\n",
       "      <td>373.0</td>\n",
       "      <td>-4.0</td>\n",
       "      <td>-5.0</td>\n",
       "      <td>NaN</td>\n",
       "      <td>NaN</td>\n",
       "      <td>NaN</td>\n",
       "      <td>NaN</td>\n",
       "      <td>NaN</td>\n",
       "    </tr>\n",
       "    <tr>\n",
       "      <th>4</th>\n",
       "      <td>2018-08-21</td>\n",
       "      <td>2012</td>\n",
       "      <td>Chicago, IL</td>\n",
       "      <td>Atlanta, GA</td>\n",
       "      <td>606.0</td>\n",
       "      <td>-4.0</td>\n",
       "      <td>25.0</td>\n",
       "      <td>0.0</td>\n",
       "      <td>0.0</td>\n",
       "      <td>25.0</td>\n",
       "      <td>0.0</td>\n",
       "      <td>0.0</td>\n",
       "    </tr>\n",
       "  </tbody>\n",
       "</table>\n",
       "</div>"
      ],
      "text/plain": [
       "      fl_date  mkt_carrier_fl_num origin_city_name    dest_city_name  \\\n",
       "0  2018-08-21                2009      Atlanta, GA       Chicago, IL   \n",
       "1  2018-08-21                2009      Chicago, IL       Atlanta, GA   \n",
       "2  2018-08-21                2010      Atlanta, GA  Indianapolis, IN   \n",
       "3  2018-08-21                2011      Atlanta, GA    Cincinnati, OH   \n",
       "4  2018-08-21                2012      Chicago, IL       Atlanta, GA   \n",
       "\n",
       "   distance  dep_delay  arr_delay  carrier_delay  weather_delay  nas_delay  \\\n",
       "0     606.0       -1.0      -10.0            NaN            NaN        NaN   \n",
       "1     606.0       -4.0      -16.0            NaN            NaN        NaN   \n",
       "2     432.0       -7.0       -9.0            NaN            NaN        NaN   \n",
       "3     373.0       -4.0       -5.0            NaN            NaN        NaN   \n",
       "4     606.0       -4.0       25.0            0.0            0.0       25.0   \n",
       "\n",
       "   security_delay  late_aircraft_delay  \n",
       "0             NaN                  NaN  \n",
       "1             NaN                  NaN  \n",
       "2             NaN                  NaN  \n",
       "3             NaN                  NaN  \n",
       "4             0.0                  0.0  "
      ]
     },
     "metadata": {},
     "output_type": "display_data"
    },
    {
     "data": {
      "text/plain": [
       "(15927485, 12)"
      ]
     },
     "metadata": {},
     "output_type": "display_data"
    }
   ],
   "source": [
    "data = pd.read_csv('/Users/Prashanta/Desktop/airplane_data/airplane_data_full.csv',delimiter=';')\n",
    "data = data.iloc[: , 1:]\n",
    "display(data.head())\n",
    "display(data.shape)"
   ]
  },
  {
   "cell_type": "code",
   "execution_count": 3,
   "metadata": {
    "execution": {
     "iopub.execute_input": "2021-07-24T18:34:18.359106Z",
     "iopub.status.busy": "2021-07-24T18:34:18.358694Z",
     "iopub.status.idle": "2021-07-24T18:34:20.828191Z",
     "shell.execute_reply": "2021-07-24T18:34:20.827430Z",
     "shell.execute_reply.started": "2021-07-24T18:34:18.359045Z"
    }
   },
   "outputs": [],
   "source": [
    "sample1 = data.sample(n=10000, random_state=0)\n",
    "sample2 = data.sample(n=10000, random_state=1)"
   ]
  },
  {
   "cell_type": "code",
   "execution_count": 10,
   "metadata": {
    "execution": {
     "iopub.execute_input": "2021-07-24T18:46:22.863462Z",
     "iopub.status.busy": "2021-07-24T18:46:22.863143Z",
     "iopub.status.idle": "2021-07-24T18:46:22.909534Z",
     "shell.execute_reply": "2021-07-24T18:46:22.901751Z",
     "shell.execute_reply.started": "2021-07-24T18:46:22.863428Z"
    }
   },
   "outputs": [
    {
     "data": {
      "text/html": [
       "<div>\n",
       "<style scoped>\n",
       "    .dataframe tbody tr th:only-of-type {\n",
       "        vertical-align: middle;\n",
       "    }\n",
       "\n",
       "    .dataframe tbody tr th {\n",
       "        vertical-align: top;\n",
       "    }\n",
       "\n",
       "    .dataframe thead th {\n",
       "        text-align: right;\n",
       "    }\n",
       "</style>\n",
       "<table border=\"1\" class=\"dataframe\">\n",
       "  <thead>\n",
       "    <tr style=\"text-align: right;\">\n",
       "      <th></th>\n",
       "      <th>fl_date</th>\n",
       "      <th>mkt_carrier_fl_num</th>\n",
       "      <th>origin_city_name</th>\n",
       "      <th>dest_city_name</th>\n",
       "      <th>distance</th>\n",
       "      <th>dep_delay</th>\n",
       "      <th>arr_delay</th>\n",
       "      <th>carrier_delay</th>\n",
       "      <th>weather_delay</th>\n",
       "      <th>nas_delay</th>\n",
       "      <th>security_delay</th>\n",
       "      <th>late_aircraft_delay</th>\n",
       "    </tr>\n",
       "  </thead>\n",
       "  <tbody>\n",
       "    <tr>\n",
       "      <th>12576456</th>\n",
       "      <td>2019-05-22</td>\n",
       "      <td>3717</td>\n",
       "      <td>Houston, TX</td>\n",
       "      <td>Detroit, MI</td>\n",
       "      <td>1075.0</td>\n",
       "      <td>-1.0</td>\n",
       "      <td>-10.0</td>\n",
       "      <td>NaN</td>\n",
       "      <td>NaN</td>\n",
       "      <td>NaN</td>\n",
       "      <td>NaN</td>\n",
       "      <td>NaN</td>\n",
       "    </tr>\n",
       "    <tr>\n",
       "      <th>597899</th>\n",
       "      <td>2019-10-17</td>\n",
       "      <td>1420</td>\n",
       "      <td>Atlanta, GA</td>\n",
       "      <td>Fort Lauderdale, FL</td>\n",
       "      <td>581.0</td>\n",
       "      <td>1.0</td>\n",
       "      <td>-1.0</td>\n",
       "      <td>NaN</td>\n",
       "      <td>NaN</td>\n",
       "      <td>NaN</td>\n",
       "      <td>NaN</td>\n",
       "      <td>NaN</td>\n",
       "    </tr>\n",
       "    <tr>\n",
       "      <th>5791054</th>\n",
       "      <td>2018-12-12</td>\n",
       "      <td>5759</td>\n",
       "      <td>Portland, OR</td>\n",
       "      <td>Seattle, WA</td>\n",
       "      <td>129.0</td>\n",
       "      <td>-8.0</td>\n",
       "      <td>-19.0</td>\n",
       "      <td>NaN</td>\n",
       "      <td>NaN</td>\n",
       "      <td>NaN</td>\n",
       "      <td>NaN</td>\n",
       "      <td>NaN</td>\n",
       "    </tr>\n",
       "    <tr>\n",
       "      <th>3304947</th>\n",
       "      <td>2019-08-17</td>\n",
       "      <td>523</td>\n",
       "      <td>San Francisco, CA</td>\n",
       "      <td>Houston, TX</td>\n",
       "      <td>1635.0</td>\n",
       "      <td>-10.0</td>\n",
       "      <td>-21.0</td>\n",
       "      <td>NaN</td>\n",
       "      <td>NaN</td>\n",
       "      <td>NaN</td>\n",
       "      <td>NaN</td>\n",
       "      <td>NaN</td>\n",
       "    </tr>\n",
       "    <tr>\n",
       "      <th>5257093</th>\n",
       "      <td>2019-11-16</td>\n",
       "      <td>2425</td>\n",
       "      <td>Palm Springs, CA</td>\n",
       "      <td>Dallas/Fort Worth, TX</td>\n",
       "      <td>1126.0</td>\n",
       "      <td>-3.0</td>\n",
       "      <td>-17.0</td>\n",
       "      <td>NaN</td>\n",
       "      <td>NaN</td>\n",
       "      <td>NaN</td>\n",
       "      <td>NaN</td>\n",
       "      <td>NaN</td>\n",
       "    </tr>\n",
       "    <tr>\n",
       "      <th>...</th>\n",
       "      <td>...</td>\n",
       "      <td>...</td>\n",
       "      <td>...</td>\n",
       "      <td>...</td>\n",
       "      <td>...</td>\n",
       "      <td>...</td>\n",
       "      <td>...</td>\n",
       "      <td>...</td>\n",
       "      <td>...</td>\n",
       "      <td>...</td>\n",
       "      <td>...</td>\n",
       "      <td>...</td>\n",
       "    </tr>\n",
       "    <tr>\n",
       "      <th>5317977</th>\n",
       "      <td>2019-11-19</td>\n",
       "      <td>3449</td>\n",
       "      <td>Denver, CO</td>\n",
       "      <td>Charlotte, NC</td>\n",
       "      <td>1337.0</td>\n",
       "      <td>-6.0</td>\n",
       "      <td>-21.0</td>\n",
       "      <td>NaN</td>\n",
       "      <td>NaN</td>\n",
       "      <td>NaN</td>\n",
       "      <td>NaN</td>\n",
       "      <td>NaN</td>\n",
       "    </tr>\n",
       "    <tr>\n",
       "      <th>11761827</th>\n",
       "      <td>2018-07-17</td>\n",
       "      <td>1841</td>\n",
       "      <td>San Jose, CA</td>\n",
       "      <td>Phoenix, AZ</td>\n",
       "      <td>621.0</td>\n",
       "      <td>-1.0</td>\n",
       "      <td>-3.0</td>\n",
       "      <td>NaN</td>\n",
       "      <td>NaN</td>\n",
       "      <td>NaN</td>\n",
       "      <td>NaN</td>\n",
       "      <td>NaN</td>\n",
       "    </tr>\n",
       "    <tr>\n",
       "      <th>11153696</th>\n",
       "      <td>2018-04-20</td>\n",
       "      <td>2562</td>\n",
       "      <td>Las Vegas, NV</td>\n",
       "      <td>Chicago, IL</td>\n",
       "      <td>1514.0</td>\n",
       "      <td>-4.0</td>\n",
       "      <td>-12.0</td>\n",
       "      <td>NaN</td>\n",
       "      <td>NaN</td>\n",
       "      <td>NaN</td>\n",
       "      <td>NaN</td>\n",
       "      <td>NaN</td>\n",
       "    </tr>\n",
       "    <tr>\n",
       "      <th>13385591</th>\n",
       "      <td>2019-04-28</td>\n",
       "      <td>1354</td>\n",
       "      <td>St. Louis, MO</td>\n",
       "      <td>Charlotte, NC</td>\n",
       "      <td>575.0</td>\n",
       "      <td>-3.0</td>\n",
       "      <td>-17.0</td>\n",
       "      <td>NaN</td>\n",
       "      <td>NaN</td>\n",
       "      <td>NaN</td>\n",
       "      <td>NaN</td>\n",
       "      <td>NaN</td>\n",
       "    </tr>\n",
       "    <tr>\n",
       "      <th>6902536</th>\n",
       "      <td>2019-12-01</td>\n",
       "      <td>2248</td>\n",
       "      <td>Portland, OR</td>\n",
       "      <td>Newark, NJ</td>\n",
       "      <td>2434.0</td>\n",
       "      <td>155.0</td>\n",
       "      <td>183.0</td>\n",
       "      <td>0.0</td>\n",
       "      <td>0.0</td>\n",
       "      <td>183.0</td>\n",
       "      <td>0.0</td>\n",
       "      <td>0.0</td>\n",
       "    </tr>\n",
       "  </tbody>\n",
       "</table>\n",
       "<p>10000 rows × 12 columns</p>\n",
       "</div>"
      ],
      "text/plain": [
       "             fl_date  mkt_carrier_fl_num   origin_city_name  \\\n",
       "12576456  2019-05-22                3717        Houston, TX   \n",
       "597899    2019-10-17                1420        Atlanta, GA   \n",
       "5791054   2018-12-12                5759       Portland, OR   \n",
       "3304947   2019-08-17                 523  San Francisco, CA   \n",
       "5257093   2019-11-16                2425   Palm Springs, CA   \n",
       "...              ...                 ...                ...   \n",
       "5317977   2019-11-19                3449         Denver, CO   \n",
       "11761827  2018-07-17                1841       San Jose, CA   \n",
       "11153696  2018-04-20                2562      Las Vegas, NV   \n",
       "13385591  2019-04-28                1354      St. Louis, MO   \n",
       "6902536   2019-12-01                2248       Portland, OR   \n",
       "\n",
       "                 dest_city_name  distance  dep_delay  arr_delay  \\\n",
       "12576456            Detroit, MI    1075.0       -1.0      -10.0   \n",
       "597899      Fort Lauderdale, FL     581.0        1.0       -1.0   \n",
       "5791054             Seattle, WA     129.0       -8.0      -19.0   \n",
       "3304947             Houston, TX    1635.0      -10.0      -21.0   \n",
       "5257093   Dallas/Fort Worth, TX    1126.0       -3.0      -17.0   \n",
       "...                         ...       ...        ...        ...   \n",
       "5317977           Charlotte, NC    1337.0       -6.0      -21.0   \n",
       "11761827            Phoenix, AZ     621.0       -1.0       -3.0   \n",
       "11153696            Chicago, IL    1514.0       -4.0      -12.0   \n",
       "13385591          Charlotte, NC     575.0       -3.0      -17.0   \n",
       "6902536              Newark, NJ    2434.0      155.0      183.0   \n",
       "\n",
       "          carrier_delay  weather_delay  nas_delay  security_delay  \\\n",
       "12576456            NaN            NaN        NaN             NaN   \n",
       "597899              NaN            NaN        NaN             NaN   \n",
       "5791054             NaN            NaN        NaN             NaN   \n",
       "3304947             NaN            NaN        NaN             NaN   \n",
       "5257093             NaN            NaN        NaN             NaN   \n",
       "...                 ...            ...        ...             ...   \n",
       "5317977             NaN            NaN        NaN             NaN   \n",
       "11761827            NaN            NaN        NaN             NaN   \n",
       "11153696            NaN            NaN        NaN             NaN   \n",
       "13385591            NaN            NaN        NaN             NaN   \n",
       "6902536             0.0            0.0      183.0             0.0   \n",
       "\n",
       "          late_aircraft_delay  \n",
       "12576456                  NaN  \n",
       "597899                    NaN  \n",
       "5791054                   NaN  \n",
       "3304947                   NaN  \n",
       "5257093                   NaN  \n",
       "...                       ...  \n",
       "5317977                   NaN  \n",
       "11761827                  NaN  \n",
       "11153696                  NaN  \n",
       "13385591                  NaN  \n",
       "6902536                   0.0  \n",
       "\n",
       "[10000 rows x 12 columns]"
      ]
     },
     "execution_count": 10,
     "metadata": {},
     "output_type": "execute_result"
    }
   ],
   "source": [
    "sample1"
   ]
  },
  {
   "cell_type": "markdown",
   "metadata": {},
   "source": [
    "#### **Task 1**: Test the hypothesis that the delay is from Normal distribution. and that **mean** of the delay is 0. Be careful about the outliers."
   ]
  },
  {
   "cell_type": "code",
   "execution_count": 7,
   "metadata": {
    "execution": {
     "iopub.execute_input": "2021-07-24T18:43:59.424395Z",
     "iopub.status.busy": "2021-07-24T18:43:59.424012Z",
     "iopub.status.idle": "2021-07-24T18:43:59.976046Z",
     "shell.execute_reply": "2021-07-24T18:43:59.974512Z",
     "shell.execute_reply.started": "2021-07-24T18:43:59.424353Z"
    }
   },
   "outputs": [
    {
     "name": "stderr",
     "output_type": "stream",
     "text": [
      "/Users/Prashanta/opt/anaconda3/lib/python3.8/site-packages/seaborn/distributions.py:2557: FutureWarning: `distplot` is a deprecated function and will be removed in a future version. Please adapt your code to use either `displot` (a figure-level function with similar flexibility) or `histplot` (an axes-level function for histograms).\n",
      "  warnings.warn(msg, FutureWarning)\n"
     ]
    },
    {
     "data": {
      "text/plain": [
       "<AxesSubplot:xlabel='arr_delay', ylabel='Density'>"
      ]
     },
     "execution_count": 7,
     "metadata": {},
     "output_type": "execute_result"
    },
    {
     "data": {
      "image/png": "[encoded data removed]",
      "text/plain": [
       "<Figure size 432x288 with 1 Axes>"
      ]
     },
     "metadata": {
      "needs_background": "light"
     },
     "output_type": "display_data"
    }
   ],
   "source": [
    "sns.distplot(sample1['arr_delay'])"
   ]
  },
  {
   "cell_type": "code",
   "execution_count": 8,
   "metadata": {
    "execution": {
     "iopub.execute_input": "2021-07-24T18:44:01.777478Z",
     "iopub.status.busy": "2021-07-24T18:44:01.777074Z",
     "iopub.status.idle": "2021-07-24T18:44:02.146153Z",
     "shell.execute_reply": "2021-07-24T18:44:02.144367Z",
     "shell.execute_reply.started": "2021-07-24T18:44:01.777429Z"
    }
   },
   "outputs": [
    {
     "name": "stderr",
     "output_type": "stream",
     "text": [
      "/Users/Prashanta/opt/anaconda3/lib/python3.8/site-packages/seaborn/distributions.py:2557: FutureWarning: `distplot` is a deprecated function and will be removed in a future version. Please adapt your code to use either `displot` (a figure-level function with similar flexibility) or `histplot` (an axes-level function for histograms).\n",
      "  warnings.warn(msg, FutureWarning)\n"
     ]
    },
    {
     "data": {
      "text/plain": [
       "<AxesSubplot:xlabel='arr_delay', ylabel='Density'>"
      ]
     },
     "execution_count": 8,
     "metadata": {},
     "output_type": "execute_result"
    },
    {
     "data": {
      "image/png": "[encoded data removed]",
      "text/plain": [
       "<Figure size 432x288 with 1 Axes>"
      ]
     },
     "metadata": {
      "needs_background": "light"
     },
     "output_type": "display_data"
    }
   ],
   "source": [
    "sns.distplot(sample2['arr_delay'])"
   ]
  },
  {
   "cell_type": "markdown",
   "metadata": {},
   "source": [
    "#### **Task 2**: Is average/median monthly delay different during the year? If yes, which are months with the biggest delays and what could be the reason?"
   ]
  },
  {
   "cell_type": "code",
   "execution_count": 9,
   "metadata": {
    "execution": {
     "iopub.execute_input": "2021-07-24T18:45:35.369729Z",
     "iopub.status.busy": "2021-07-24T18:45:35.369412Z",
     "iopub.status.idle": "2021-07-24T18:45:35.384829Z",
     "shell.execute_reply": "2021-07-24T18:45:35.383827Z",
     "shell.execute_reply.started": "2021-07-24T18:45:35.369699Z"
    }
   },
   "outputs": [
    {
     "data": {
      "text/plain": [
       "2019-06-19    28\n",
       "2019-09-12    25\n",
       "2019-10-25    25\n",
       "2018-09-20    25\n",
       "2019-06-17    25\n",
       "              ..\n",
       "2019-05-20     5\n",
       "2018-08-09     5\n",
       "2018-12-25     5\n",
       "2019-01-01     5\n",
       "2019-02-02     4\n",
       "Name: fl_date, Length: 730, dtype: int64"
      ]
     },
     "execution_count": 9,
     "metadata": {},
     "output_type": "execute_result"
    }
   ],
   "source": []
  },
  {
   "cell_type": "code",
   "execution_count": null,
   "metadata": {},
   "outputs": [],
   "source": []
  },
  {
   "cell_type": "markdown",
   "metadata": {},
   "source": [
    "#### **Task 3**: Does the weather affect the delay? \n",
    "Use the API to pull the weather information for flights. There is no need to get weather for ALL flights. We can choose the right representative sample. Let's focus on four weather types:\n",
    "- sunny\n",
    "- cloudy\n",
    "- rainy\n",
    "- snow.\n",
    "Test the hypothesis that these 4 delays are from the same distribution. If they are not, which ones are significantly different?"
   ]
  },
  {
   "cell_type": "code",
   "execution_count": null,
   "metadata": {},
   "outputs": [],
   "source": []
  },
  {
   "cell_type": "code",
   "execution_count": null,
   "metadata": {},
   "outputs": [],
   "source": []
  },
  {
   "cell_type": "markdown",
   "metadata": {},
   "source": [
    "#### **Task 4**: How taxi times changing during the day? Does higher traffic lead to bigger taxi times?"
   ]
  },
  {
   "cell_type": "code",
   "execution_count": null,
   "metadata": {},
   "outputs": [],
   "source": []
  },
  {
   "cell_type": "code",
   "execution_count": null,
   "metadata": {},
   "outputs": [],
   "source": []
  },
  {
   "cell_type": "markdown",
   "metadata": {},
   "source": [
    "#### **Task 5**: What is the average percentage of delays that is already created before departure? (aka are arrival delays caused by departure delays?) Are airlines able to lower the delay during the flights?"
   ]
  },
  {
   "cell_type": "code",
   "execution_count": null,
   "metadata": {},
   "outputs": [],
   "source": []
  },
  {
   "cell_type": "code",
   "execution_count": null,
   "metadata": {},
   "outputs": [],
   "source": []
  },
  {
   "cell_type": "markdown",
   "metadata": {},
   "source": [
    "#### **Task 6**: How many states cover 50% of US air traffic? "
   ]
  },
  {
   "cell_type": "code",
   "execution_count": null,
   "metadata": {},
   "outputs": [],
   "source": []
  },
  {
   "cell_type": "code",
   "execution_count": null,
   "metadata": {},
   "outputs": [],
   "source": []
  },
  {
   "cell_type": "markdown",
   "metadata": {},
   "source": [
    "#### **Task 7**: Test the hypothesis whether planes fly faster when there is the departure delay? "
   ]
  },
  {
   "cell_type": "code",
   "execution_count": null,
   "metadata": {},
   "outputs": [],
   "source": []
  },
  {
   "cell_type": "code",
   "execution_count": null,
   "metadata": {},
   "outputs": [],
   "source": []
  },
  {
   "cell_type": "markdown",
   "metadata": {},
   "source": [
    "#### **Task 8**: When (which hour) do most 'LONG', 'SHORT', 'MEDIUM' haul flights take off?"
   ]
  },
  {
   "cell_type": "code",
   "execution_count": null,
   "metadata": {},
   "outputs": [],
   "source": []
  },
  {
   "cell_type": "code",
   "execution_count": null,
   "metadata": {},
   "outputs": [],
   "source": []
  },
  {
   "cell_type": "markdown",
   "metadata": {},
   "source": [
    "#### **Task 9**: Find the top 10 the bussiest airports. Does the biggest number of flights mean that the biggest number of passengers went through the particular airport? How much traffic do these 10 airports cover?"
   ]
  },
  {
   "cell_type": "code",
   "execution_count": null,
   "metadata": {},
   "outputs": [],
   "source": []
  },
  {
   "cell_type": "code",
   "execution_count": null,
   "metadata": {},
   "outputs": [],
   "source": []
  },
  {
   "cell_type": "markdown",
   "metadata": {},
   "source": [
    "#### **Task 10**: Do bigger delays lead to bigger fuel comsumption per passenger? \n",
    "We need to do four things to answer this as accurate as possible:\n",
    "- Find out average monthly delay per air carrier (monthly delay is sum of all delays in 1 month)\n",
    "- Find out distance covered monthly by different air carriers\n",
    "- Find out number of passengers that were carried by different air carriers\n",
    "- Find out total fuel comsumption per air carrier.\n",
    "\n",
    "Use this information to get the average fuel comsumption per passenger per km. Is this higher for the airlines with bigger average delays?"
   ]
  },
  {
   "cell_type": "code",
   "execution_count": null,
   "metadata": {},
   "outputs": [],
   "source": []
  },
  {
   "cell_type": "code",
   "execution_count": null,
   "metadata": {},
   "outputs": [],
   "source": []
  }
 ],
 "metadata": {
  "kernelspec": {
   "display_name": "Python 3",
   "language": "python",
   "name": "python3"
  },
  "language_info": {
   "codemirror_mode": {
    "name": "ipython",
    "version": 3
   },
   "file_extension": ".py",
   "mimetype": "text/x-python",
   "name": "python",
   "nbconvert_exporter": "python",
   "pygments_lexer": "ipython3",
   "version": "3.8.8"
  },
  "toc": {
   "base_numbering": 1,
   "nav_menu": {},
   "number_sections": true,
   "sideBar": true,
   "skip_h1_title": false,
   "title_cell": "Table of Contents",
   "title_sidebar": "Contents",
   "toc_cell": false,
   "toc_position": {},
   "toc_section_display": true,
   "toc_window_display": false
  },
  "varInspector": {
   "cols": {
    "lenName": 16,
    "lenType": 16,
    "lenVar": 40
   },
   "kernels_config": {
    "python": {
     "delete_cmd_postfix": "",
     "delete_cmd_prefix": "del ",
     "library": "var_list.py",
     "varRefreshCmd": "print(var_dic_list())"
    },
    "r": {
     "delete_cmd_postfix": ") ",
     "delete_cmd_prefix": "rm(",
     "library": "var_list.r",
     "varRefreshCmd": "cat(var_dic_list()) "
    }
   },
   "types_to_exclude": [
    "module",
    "function",
    "builtin_function_or_method",
    "instance",
    "_Feature"
   ],
   "window_display": false
  }
 },
 "nbformat": 4,
 "nbformat_minor": 4
}
