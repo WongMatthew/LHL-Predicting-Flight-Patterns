{
 "cells": [
  {
   "cell_type": "markdown",
   "metadata": {},
   "source": [
    "## Exploratory Data Analysis (2 samples, 10,000 random points)\n",
    "\n",
    "Use this notebook to get familiar with the datasets we have. There is 10 questions we need to answer during the EDA.\n",
    "\n",
    "\n",
    "We shouldn't limit our EDA to these 10 questions. Let's be creative :)."
   ]
  },
  {
   "cell_type": "code",
   "execution_count": 40,
   "metadata": {
    "execution": {
     "iopub.execute_input": "2021-07-24T23:32:35.899101Z",
     "iopub.status.busy": "2021-07-24T23:32:35.898815Z",
     "iopub.status.idle": "2021-07-24T23:32:35.911094Z",
     "shell.execute_reply": "2021-07-24T23:32:35.910241Z",
     "shell.execute_reply.started": "2021-07-24T23:32:35.899073Z"
    }
   },
   "outputs": [],
   "source": [
    "import pandas as pd\n",
    "import numpy as np\n",
    "import matplotlib.pyplot as plt\n",
    "import seaborn as sns\n",
    "import datetime"
   ]
  },
  {
   "cell_type": "code",
   "execution_count": 2,
   "metadata": {
    "execution": {
     "iopub.execute_input": "2021-07-24T22:30:25.706359Z",
     "iopub.status.busy": "2021-07-24T22:30:25.705957Z",
     "iopub.status.idle": "2021-07-24T22:30:26.113875Z",
     "shell.execute_reply": "2021-07-24T22:30:26.111449Z",
     "shell.execute_reply.started": "2021-07-24T22:30:25.706317Z"
    }
   },
   "outputs": [
    {
     "data": {
      "text/html": [
       "<div>\n",
       "<style scoped>\n",
       "    .dataframe tbody tr th:only-of-type {\n",
       "        vertical-align: middle;\n",
       "    }\n",
       "\n",
       "    .dataframe tbody tr th {\n",
       "        vertical-align: top;\n",
       "    }\n",
       "\n",
       "    .dataframe thead th {\n",
       "        text-align: right;\n",
       "    }\n",
       "</style>\n",
       "<table border=\"1\" class=\"dataframe\">\n",
       "  <thead>\n",
       "    <tr style=\"text-align: right;\">\n",
       "      <th></th>\n",
       "      <th>fl_date</th>\n",
       "      <th>mkt_unique_carrier</th>\n",
       "      <th>branded_code_share</th>\n",
       "      <th>mkt_carrier</th>\n",
       "      <th>mkt_carrier_fl_num</th>\n",
       "      <th>op_unique_carrier</th>\n",
       "      <th>tail_num</th>\n",
       "      <th>op_carrier_fl_num</th>\n",
       "      <th>origin_airport_id</th>\n",
       "      <th>origin</th>\n",
       "      <th>...</th>\n",
       "      <th>distance</th>\n",
       "      <th>carrier_delay</th>\n",
       "      <th>weather_delay</th>\n",
       "      <th>nas_delay</th>\n",
       "      <th>security_delay</th>\n",
       "      <th>late_aircraft_delay</th>\n",
       "      <th>first_dep_time</th>\n",
       "      <th>total_add_gtime</th>\n",
       "      <th>longest_add_gtime</th>\n",
       "      <th>no_name</th>\n",
       "    </tr>\n",
       "  </thead>\n",
       "  <tbody>\n",
       "    <tr>\n",
       "      <th>0</th>\n",
       "      <td>2019-12-30</td>\n",
       "      <td>WN</td>\n",
       "      <td>WN</td>\n",
       "      <td>WN</td>\n",
       "      <td>775</td>\n",
       "      <td>WN</td>\n",
       "      <td>N255WN</td>\n",
       "      <td>775</td>\n",
       "      <td>13495</td>\n",
       "      <td>MSY</td>\n",
       "      <td>...</td>\n",
       "      <td>674.0</td>\n",
       "      <td>NaN</td>\n",
       "      <td>NaN</td>\n",
       "      <td>NaN</td>\n",
       "      <td>NaN</td>\n",
       "      <td>NaN</td>\n",
       "      <td>NaN</td>\n",
       "      <td>NaN</td>\n",
       "      <td>NaN</td>\n",
       "      <td>NaN</td>\n",
       "    </tr>\n",
       "    <tr>\n",
       "      <th>1</th>\n",
       "      <td>2018-04-08</td>\n",
       "      <td>AS</td>\n",
       "      <td>AS</td>\n",
       "      <td>AS</td>\n",
       "      <td>352</td>\n",
       "      <td>AS</td>\n",
       "      <td>N464AS</td>\n",
       "      <td>352</td>\n",
       "      <td>14747</td>\n",
       "      <td>SEA</td>\n",
       "      <td>...</td>\n",
       "      <td>672.0</td>\n",
       "      <td>0.0</td>\n",
       "      <td>0.0</td>\n",
       "      <td>25.0</td>\n",
       "      <td>0.0</td>\n",
       "      <td>0.0</td>\n",
       "      <td>NaN</td>\n",
       "      <td>NaN</td>\n",
       "      <td>NaN</td>\n",
       "      <td>NaN</td>\n",
       "    </tr>\n",
       "    <tr>\n",
       "      <th>2</th>\n",
       "      <td>2018-11-21</td>\n",
       "      <td>DL</td>\n",
       "      <td>DL</td>\n",
       "      <td>DL</td>\n",
       "      <td>1312</td>\n",
       "      <td>DL</td>\n",
       "      <td>N912DL</td>\n",
       "      <td>1312</td>\n",
       "      <td>10994</td>\n",
       "      <td>CHS</td>\n",
       "      <td>...</td>\n",
       "      <td>259.0</td>\n",
       "      <td>NaN</td>\n",
       "      <td>NaN</td>\n",
       "      <td>NaN</td>\n",
       "      <td>NaN</td>\n",
       "      <td>NaN</td>\n",
       "      <td>NaN</td>\n",
       "      <td>NaN</td>\n",
       "      <td>NaN</td>\n",
       "      <td>NaN</td>\n",
       "    </tr>\n",
       "    <tr>\n",
       "      <th>3</th>\n",
       "      <td>2019-12-19</td>\n",
       "      <td>WN</td>\n",
       "      <td>WN</td>\n",
       "      <td>WN</td>\n",
       "      <td>1967</td>\n",
       "      <td>WN</td>\n",
       "      <td>N7820L</td>\n",
       "      <td>1967</td>\n",
       "      <td>11697</td>\n",
       "      <td>FLL</td>\n",
       "      <td>...</td>\n",
       "      <td>994.0</td>\n",
       "      <td>NaN</td>\n",
       "      <td>NaN</td>\n",
       "      <td>NaN</td>\n",
       "      <td>NaN</td>\n",
       "      <td>NaN</td>\n",
       "      <td>NaN</td>\n",
       "      <td>NaN</td>\n",
       "      <td>NaN</td>\n",
       "      <td>NaN</td>\n",
       "    </tr>\n",
       "    <tr>\n",
       "      <th>4</th>\n",
       "      <td>2019-09-21</td>\n",
       "      <td>UA</td>\n",
       "      <td>UA_CODESHARE</td>\n",
       "      <td>UA</td>\n",
       "      <td>3908</td>\n",
       "      <td>ZW</td>\n",
       "      <td>N420AW</td>\n",
       "      <td>3908</td>\n",
       "      <td>14574</td>\n",
       "      <td>ROA</td>\n",
       "      <td>...</td>\n",
       "      <td>530.0</td>\n",
       "      <td>NaN</td>\n",
       "      <td>NaN</td>\n",
       "      <td>NaN</td>\n",
       "      <td>NaN</td>\n",
       "      <td>NaN</td>\n",
       "      <td>NaN</td>\n",
       "      <td>NaN</td>\n",
       "      <td>NaN</td>\n",
       "      <td>NaN</td>\n",
       "    </tr>\n",
       "  </tbody>\n",
       "</table>\n",
       "<p>5 rows × 42 columns</p>\n",
       "</div>"
      ],
      "text/plain": [
       "      fl_date mkt_unique_carrier branded_code_share mkt_carrier  \\\n",
       "0  2019-12-30                 WN                 WN          WN   \n",
       "1  2018-04-08                 AS                 AS          AS   \n",
       "2  2018-11-21                 DL                 DL          DL   \n",
       "3  2019-12-19                 WN                 WN          WN   \n",
       "4  2019-09-21                 UA       UA_CODESHARE          UA   \n",
       "\n",
       "   mkt_carrier_fl_num op_unique_carrier tail_num  op_carrier_fl_num  \\\n",
       "0                 775                WN   N255WN                775   \n",
       "1                 352                AS   N464AS                352   \n",
       "2                1312                DL   N912DL               1312   \n",
       "3                1967                WN   N7820L               1967   \n",
       "4                3908                ZW   N420AW               3908   \n",
       "\n",
       "   origin_airport_id origin  ... distance  carrier_delay weather_delay  \\\n",
       "0              13495    MSY  ...    674.0            NaN           NaN   \n",
       "1              14747    SEA  ...    672.0            0.0           0.0   \n",
       "2              10994    CHS  ...    259.0            NaN           NaN   \n",
       "3              11697    FLL  ...    994.0            NaN           NaN   \n",
       "4              14574    ROA  ...    530.0            NaN           NaN   \n",
       "\n",
       "  nas_delay  security_delay  late_aircraft_delay  first_dep_time  \\\n",
       "0       NaN             NaN                  NaN             NaN   \n",
       "1      25.0             0.0                  0.0             NaN   \n",
       "2       NaN             NaN                  NaN             NaN   \n",
       "3       NaN             NaN                  NaN             NaN   \n",
       "4       NaN             NaN                  NaN             NaN   \n",
       "\n",
       "   total_add_gtime  longest_add_gtime  no_name  \n",
       "0              NaN                NaN      NaN  \n",
       "1              NaN                NaN      NaN  \n",
       "2              NaN                NaN      NaN  \n",
       "3              NaN                NaN      NaN  \n",
       "4              NaN                NaN      NaN  \n",
       "\n",
       "[5 rows x 42 columns]"
      ]
     },
     "metadata": {},
     "output_type": "display_data"
    },
    {
     "data": {
      "text/plain": [
       "(50000, 42)"
      ]
     },
     "metadata": {},
     "output_type": "display_data"
    }
   ],
   "source": [
    "data = pd.read_csv('/Users/Prashanta/Desktop/airplane_data/flights_table(50,000_points).csv',delimiter=';')\n",
    "data = data.iloc[: , 1:]\n",
    "display(data.head())\n",
    "display(data.shape)"
   ]
  },
  {
   "cell_type": "code",
   "execution_count": 5,
   "metadata": {
    "execution": {
     "iopub.execute_input": "2021-07-24T22:32:41.314943Z",
     "iopub.status.busy": "2021-07-24T22:32:41.314652Z",
     "iopub.status.idle": "2021-07-24T22:32:41.481365Z",
     "shell.execute_reply": "2021-07-24T22:32:41.480700Z",
     "shell.execute_reply.started": "2021-07-24T22:32:41.314914Z"
    }
   },
   "outputs": [
    {
     "data": {
      "text/html": [
       "<div>\n",
       "<style scoped>\n",
       "    .dataframe tbody tr th:only-of-type {\n",
       "        vertical-align: middle;\n",
       "    }\n",
       "\n",
       "    .dataframe tbody tr th {\n",
       "        vertical-align: top;\n",
       "    }\n",
       "\n",
       "    .dataframe thead th {\n",
       "        text-align: right;\n",
       "    }\n",
       "</style>\n",
       "<table border=\"1\" class=\"dataframe\">\n",
       "  <thead>\n",
       "    <tr style=\"text-align: right;\">\n",
       "      <th></th>\n",
       "      <th>Total</th>\n",
       "      <th>Percent</th>\n",
       "    </tr>\n",
       "  </thead>\n",
       "  <tbody>\n",
       "    <tr>\n",
       "      <th>no_name</th>\n",
       "      <td>50000</td>\n",
       "      <td>1.00000</td>\n",
       "    </tr>\n",
       "    <tr>\n",
       "      <th>total_add_gtime</th>\n",
       "      <td>49642</td>\n",
       "      <td>0.99284</td>\n",
       "    </tr>\n",
       "    <tr>\n",
       "      <th>first_dep_time</th>\n",
       "      <td>49642</td>\n",
       "      <td>0.99284</td>\n",
       "    </tr>\n",
       "    <tr>\n",
       "      <th>longest_add_gtime</th>\n",
       "      <td>49642</td>\n",
       "      <td>0.99284</td>\n",
       "    </tr>\n",
       "    <tr>\n",
       "      <th>cancellation_code</th>\n",
       "      <td>49173</td>\n",
       "      <td>0.98346</td>\n",
       "    </tr>\n",
       "    <tr>\n",
       "      <th>late_aircraft_delay</th>\n",
       "      <td>40654</td>\n",
       "      <td>0.81308</td>\n",
       "    </tr>\n",
       "    <tr>\n",
       "      <th>security_delay</th>\n",
       "      <td>40654</td>\n",
       "      <td>0.81308</td>\n",
       "    </tr>\n",
       "    <tr>\n",
       "      <th>nas_delay</th>\n",
       "      <td>40654</td>\n",
       "      <td>0.81308</td>\n",
       "    </tr>\n",
       "    <tr>\n",
       "      <th>weather_delay</th>\n",
       "      <td>40654</td>\n",
       "      <td>0.81308</td>\n",
       "    </tr>\n",
       "    <tr>\n",
       "      <th>carrier_delay</th>\n",
       "      <td>40654</td>\n",
       "      <td>0.81308</td>\n",
       "    </tr>\n",
       "    <tr>\n",
       "      <th>air_time</th>\n",
       "      <td>983</td>\n",
       "      <td>0.01966</td>\n",
       "    </tr>\n",
       "    <tr>\n",
       "      <th>arr_delay</th>\n",
       "      <td>965</td>\n",
       "      <td>0.01930</td>\n",
       "    </tr>\n",
       "    <tr>\n",
       "      <th>actual_elapsed_time</th>\n",
       "      <td>959</td>\n",
       "      <td>0.01918</td>\n",
       "    </tr>\n",
       "    <tr>\n",
       "      <th>wheels_on</th>\n",
       "      <td>875</td>\n",
       "      <td>0.01750</td>\n",
       "    </tr>\n",
       "    <tr>\n",
       "      <th>taxi_in</th>\n",
       "      <td>875</td>\n",
       "      <td>0.01750</td>\n",
       "    </tr>\n",
       "    <tr>\n",
       "      <th>arr_time</th>\n",
       "      <td>851</td>\n",
       "      <td>0.01702</td>\n",
       "    </tr>\n",
       "    <tr>\n",
       "      <th>wheels_off</th>\n",
       "      <td>845</td>\n",
       "      <td>0.01690</td>\n",
       "    </tr>\n",
       "    <tr>\n",
       "      <th>taxi_out</th>\n",
       "      <td>845</td>\n",
       "      <td>0.01690</td>\n",
       "    </tr>\n",
       "    <tr>\n",
       "      <th>dep_delay</th>\n",
       "      <td>811</td>\n",
       "      <td>0.01622</td>\n",
       "    </tr>\n",
       "    <tr>\n",
       "      <th>dep_time</th>\n",
       "      <td>797</td>\n",
       "      <td>0.01594</td>\n",
       "    </tr>\n",
       "    <tr>\n",
       "      <th>tail_num</th>\n",
       "      <td>159</td>\n",
       "      <td>0.00318</td>\n",
       "    </tr>\n",
       "  </tbody>\n",
       "</table>\n",
       "</div>"
      ],
      "text/plain": [
       "                     Total  Percent\n",
       "no_name              50000  1.00000\n",
       "total_add_gtime      49642  0.99284\n",
       "first_dep_time       49642  0.99284\n",
       "longest_add_gtime    49642  0.99284\n",
       "cancellation_code    49173  0.98346\n",
       "late_aircraft_delay  40654  0.81308\n",
       "security_delay       40654  0.81308\n",
       "nas_delay            40654  0.81308\n",
       "weather_delay        40654  0.81308\n",
       "carrier_delay        40654  0.81308\n",
       "air_time               983  0.01966\n",
       "arr_delay              965  0.01930\n",
       "actual_elapsed_time    959  0.01918\n",
       "wheels_on              875  0.01750\n",
       "taxi_in                875  0.01750\n",
       "arr_time               851  0.01702\n",
       "wheels_off             845  0.01690\n",
       "taxi_out               845  0.01690\n",
       "dep_delay              811  0.01622\n",
       "dep_time               797  0.01594\n",
       "tail_num               159  0.00318"
      ]
     },
     "metadata": {},
     "output_type": "display_data"
    },
    {
     "data": {
      "text/plain": [
       "(50000, 42)"
      ]
     },
     "metadata": {},
     "output_type": "display_data"
    }
   ],
   "source": [
    "# missing data\n",
    "total = data.isnull().sum().sort_values(ascending=False)\n",
    "percent = (data.isnull().sum()/data.isnull().count()).sort_values(ascending=False)\n",
    "missing_data = pd.concat([total, percent], axis=1, keys=['Total', 'Percent'])\n",
    "\n",
    "display(missing_data[missing_data['Total']>0])\n",
    "display(data.shape)"
   ]
  },
  {
   "cell_type": "code",
   "execution_count": 21,
   "metadata": {
    "execution": {
     "iopub.execute_input": "2021-07-24T22:49:16.060869Z",
     "iopub.status.busy": "2021-07-24T22:49:16.060583Z",
     "iopub.status.idle": "2021-07-24T22:49:16.117281Z",
     "shell.execute_reply": "2021-07-24T22:49:16.112376Z",
     "shell.execute_reply.started": "2021-07-24T22:49:16.060841Z"
    }
   },
   "outputs": [],
   "source": [
    "#create two samples of 10,000 points each\n",
    "sample1 = data.sample(n=10000, random_state=0)\n",
    "sample2 = data.sample(n=10000, random_state=1)\n",
    "\n",
    "sample1['month'] = pd.DatetimeIndex(sample1['fl_date']).month\n",
    "sample2['month'] = pd.DatetimeIndex(sample2['fl_date']).month\n",
    "sample1['year'] = pd.DatetimeIndex(sample1['fl_date']).year\n",
    "sample2['year'] = pd.DatetimeIndex(sample2['fl_date']).year"
   ]
  },
  {
   "cell_type": "code",
   "execution_count": 7,
   "metadata": {
    "execution": {
     "iopub.execute_input": "2021-07-24T22:33:16.199319Z",
     "iopub.status.busy": "2021-07-24T22:33:16.198981Z",
     "iopub.status.idle": "2021-07-24T22:33:16.211187Z",
     "shell.execute_reply": "2021-07-24T22:33:16.210028Z",
     "shell.execute_reply.started": "2021-07-24T22:33:16.199285Z"
    }
   },
   "outputs": [
    {
     "data": {
      "text/plain": [
       "month\n",
       "1     806\n",
       "2     743\n",
       "3     897\n",
       "4     872\n",
       "5     860\n",
       "6     840\n",
       "7     852\n",
       "8     891\n",
       "9     828\n",
       "10    768\n",
       "11    822\n",
       "12    821\n",
       "dtype: int64"
      ]
     },
     "execution_count": 7,
     "metadata": {},
     "output_type": "execute_result"
    }
   ],
   "source": [
    "sample1.groupby(by='month').size()"
   ]
  },
  {
   "cell_type": "markdown",
   "metadata": {},
   "source": [
    "#### **Task 1**: Test the hypothesis that the delay is from Normal distribution. and that **mean** of the delay is 0. Be careful about the outliers."
   ]
  },
  {
   "cell_type": "code",
   "execution_count": 8,
   "metadata": {
    "execution": {
     "iopub.execute_input": "2021-07-24T22:33:21.909502Z",
     "iopub.status.busy": "2021-07-24T22:33:21.909202Z",
     "iopub.status.idle": "2021-07-24T22:33:24.354235Z",
     "shell.execute_reply": "2021-07-24T22:33:24.353408Z",
     "shell.execute_reply.started": "2021-07-24T22:33:21.909470Z"
    }
   },
   "outputs": [
    {
     "name": "stdout",
     "output_type": "stream",
     "text": [
      "Observations:\n",
      "* The delay forms a normal distribution however there is a tail which means there are some very lenghty delays. \n",
      "* Since we don't see a tail on the others side, this would mean that flights don't come to ahead of time\n"
     ]
    },
    {
     "data": {
      "image/png": "[encoded data removed]",
      "text/plain": [
       "<Figure size 1080x360 with 2 Axes>"
      ]
     },
     "metadata": {
      "needs_background": "light"
     },
     "output_type": "display_data"
    }
   ],
   "source": [
    "#create charts\n",
    "fig, axes = plt.subplots(1, 2, sharex=True, figsize=(15,5))\n",
    "fig.suptitle('Delay Distribution')\n",
    "\n",
    "#sample1 \n",
    "sns.histplot(sample1['arr_delay'], ax=axes[0])\n",
    "axes[0].set_title('Sample1')\n",
    "\n",
    "#sample2\n",
    "sns.histplot(sample2['arr_delay'], ax=axes[1])\n",
    "axes[1].set_title('Sample2')\n",
    "\n",
    "print(\n",
    "'''Observations:\n",
    "* The delay forms a normal distribution however there is a tail which means there are some very lenghty delays. \n",
    "* Since we don't see a tail on the others side, this would mean that flights don't come to ahead of time'''\n",
    ")"
   ]
  },
  {
   "cell_type": "markdown",
   "metadata": {},
   "source": [
    "#### **Task 2**: Is average/median monthly delay different during the year? If yes, which are months with the biggest delays and what could be the reason?"
   ]
  },
  {
   "cell_type": "code",
   "execution_count": 10,
   "metadata": {
    "execution": {
     "iopub.execute_input": "2021-07-24T22:34:24.051180Z",
     "iopub.status.busy": "2021-07-24T22:34:24.050627Z",
     "iopub.status.idle": "2021-07-24T22:34:24.615927Z",
     "shell.execute_reply": "2021-07-24T22:34:24.614967Z",
     "shell.execute_reply.started": "2021-07-24T22:34:24.051121Z"
    }
   },
   "outputs": [
    {
     "name": "stdout",
     "output_type": "stream",
     "text": [
      "Observations:\n",
      "* There seems to be a great deal of variation in the average delay per month when using random datapoints\n",
      "* Re-visit this with whole dataset, and seperate by year?\n",
      "* Looks very seasonal (Fall,Winter,Spring,Summer)\n",
      "\n"
     ]
    },
    {
     "data": {
      "image/png": "[encoded data removed]",
      "text/plain": [
       "<Figure size 1080x360 with 2 Axes>"
      ]
     },
     "metadata": {
      "needs_background": "light"
     },
     "output_type": "display_data"
    }
   ],
   "source": [
    "#data formatting\n",
    "monthly_delay1 = sample1[['month','arr_delay']].groupby(by='month').agg(['size','mean','min','max']).reset_index()\n",
    "monthly_delay1.columns = [''] * len(monthly_delay1.columns)\n",
    "monthly_delay1.columns=['month','size','mean_delay','min_delay','max_delay']\n",
    "\n",
    "monthly_delay2 = sample2[['month','arr_delay']].groupby(by='month').agg(['size','mean','min','max']).reset_index()\n",
    "monthly_delay2.columns = [''] * len(monthly_delay1.columns)\n",
    "monthly_delay2.columns=['month','size','mean_delay','min_delay','max_delay']\n",
    "\n",
    "#create charts\n",
    "fig, axes = plt.subplots(1, 2,figsize=(15,5))\n",
    "fig.suptitle('Average/median monthly delay')\n",
    "\n",
    "#sample1 \n",
    "sns.barplot(x='month',y='mean_delay',data=monthly_delay1,ax=axes[0])\n",
    "axes[0].set_title('Sample1')\n",
    "\n",
    "#sample2\n",
    "sns.barplot(x='month',y='mean_delay',data=monthly_delay2,ax=axes[1])\n",
    "axes[1].set_title('Sample2')\n",
    "\n",
    "print(\n",
    "'''Observations:\n",
    "* There seems to be a great deal of variation in the average delay per month when using random datapoints\n",
    "* Re-visit this with whole dataset, and seperate by year?\n",
    "* Looks very seasonal (Fall,Winter,Spring,Summer)\n",
    "'''\n",
    ")"
   ]
  },
  {
   "cell_type": "code",
   "execution_count": 46,
   "metadata": {
    "execution": {
     "iopub.execute_input": "2021-07-24T23:36:34.876996Z",
     "iopub.status.busy": "2021-07-24T23:36:34.876473Z",
     "iopub.status.idle": "2021-07-24T23:36:35.833370Z",
     "shell.execute_reply": "2021-07-24T23:36:35.831631Z",
     "shell.execute_reply.started": "2021-07-24T23:36:34.876929Z"
    }
   },
   "outputs": [
    {
     "data": {
      "text/plain": [
       "Text(0.5, 1.0, 'sample2_2019')"
      ]
     },
     "execution_count": 46,
     "metadata": {},
     "output_type": "execute_result"
    },
    {
     "data": {
      "image/png": "[encoded data removed]",
      "text/plain": [
       "<Figure size 1440x720 with 4 Axes>"
      ]
     },
     "metadata": {
      "needs_background": "light"
     },
     "output_type": "display_data"
    }
   ],
   "source": [
    "#data formatting\n",
    "sample1_2018 = sample1[sample1['year']== 2018]\n",
    "sample1_2019 = sample1[sample1['year']== 2019]\n",
    "\n",
    "sample2_2018 = sample2[sample2['year']== 2018]\n",
    "sample2_2019 = sample2[sample2['year']== 2019]\n",
    "\n",
    "sample1_2018 = sample1_2018[['month','arr_delay']].groupby(by='month').agg(['size','mean','min','max']).reset_index()\n",
    "sample1_2018.columns = [''] * len(sample1_2018.columns)\n",
    "sample1_2018.columns=['month','size','mean_delay','min_delay','max_delay']\n",
    "\n",
    "sample1_2019 = sample1_2019[['month','arr_delay']].groupby(by='month').agg(['size','mean','min','max']).reset_index()\n",
    "sample1_2019.columns = [''] * len(sample1_2019.columns)\n",
    "sample1_2019.columns=['month','size','mean_delay','min_delay','max_delay']\n",
    "\n",
    "sample2_2018 = sample2_2018[['month','arr_delay']].groupby(by='month').agg(['size','mean','min','max']).reset_index()\n",
    "sample2_2018.columns = [''] * len(sample2_2018.columns)\n",
    "sample2_2018.columns=['month','size','mean_delay','min_delay','max_delay']\n",
    "\n",
    "sample2_2019 = sample2_2019[['month','arr_delay']].groupby(by='month').agg(['size','mean','min','max']).reset_index()\n",
    "sample2_2019.columns = [''] * len(sample2_2019.columns)\n",
    "sample2_2019.columns=['month','size','mean_delay','min_delay','max_delay']\n",
    "\n",
    "#create charts\n",
    "fig, axes = plt.subplots(2, 2,figsize=(20,10))\n",
    "fig.suptitle('Average/median monthly delay')\n",
    "\n",
    "#sample1 - 2018\n",
    "sns.barplot(x='month',y='mean_delay',data=sample1_2018,ax=axes[0,0])\n",
    "axes[0,0].set_title('sample1_2018')\n",
    "\n",
    "#sample1 - 2019\n",
    "sns.barplot(x='month',y='mean_delay',data=sample1_2019,ax=axes[0,1])\n",
    "axes[0,1].set_title('sample1_2019')\n",
    "\n",
    "#sample2 - 2018\n",
    "sns.barplot(x='month',y='mean_delay',data=sample2_2018,ax=axes[1,0])\n",
    "axes[1,0].set_title('sample2_2018')\n",
    "\n",
    "#sample2 - 2019\n",
    "sns.barplot(x='month',y='mean_delay',data=sample2_2019,ax=axes[1,1])\n",
    "axes[1,1].set_title('sample2_2019')"
   ]
  },
  {
   "cell_type": "markdown",
   "metadata": {},
   "source": [
    "#### **Task 3**: Does the weather affect the delay? \n",
    "Use the API to pull the weather information for flights. There is no need to get weather for ALL flights. We can choose the right representative sample. Let's focus on four weather types:\n",
    "- sunny\n",
    "- cloudy\n",
    "- rainy\n",
    "- snow.\n",
    "Test the hypothesis that these 4 delays are from the same distribution. If they are not, which ones are significantly different?"
   ]
  },
  {
   "cell_type": "code",
   "execution_count": null,
   "metadata": {},
   "outputs": [],
   "source": []
  },
  {
   "cell_type": "code",
   "execution_count": null,
   "metadata": {},
   "outputs": [],
   "source": []
  },
  {
   "cell_type": "markdown",
   "metadata": {},
   "source": [
    "#### **Task 4**: How taxi times changing during the day? Does higher traffic lead to bigger taxi times?"
   ]
  },
  {
   "cell_type": "code",
   "execution_count": 51,
   "metadata": {
    "execution": {
     "iopub.execute_input": "2021-07-24T23:53:27.392512Z",
     "iopub.status.busy": "2021-07-24T23:53:27.391974Z",
     "iopub.status.idle": "2021-07-24T23:53:27.411601Z",
     "shell.execute_reply": "2021-07-24T23:53:27.410330Z",
     "shell.execute_reply.started": "2021-07-24T23:53:27.392476Z"
    }
   },
   "outputs": [
    {
     "data": {
      "text/html": [
       "<div>\n",
       "<style scoped>\n",
       "    .dataframe tbody tr th:only-of-type {\n",
       "        vertical-align: middle;\n",
       "    }\n",
       "\n",
       "    .dataframe tbody tr th {\n",
       "        vertical-align: top;\n",
       "    }\n",
       "\n",
       "    .dataframe thead th {\n",
       "        text-align: right;\n",
       "    }\n",
       "</style>\n",
       "<table border=\"1\" class=\"dataframe\">\n",
       "  <thead>\n",
       "    <tr style=\"text-align: right;\">\n",
       "      <th></th>\n",
       "      <th>dep_time</th>\n",
       "      <th>crs_dep_time</th>\n",
       "      <th>taxi_out</th>\n",
       "    </tr>\n",
       "  </thead>\n",
       "  <tbody>\n",
       "    <tr>\n",
       "      <th>11841</th>\n",
       "      <td>1838.0</td>\n",
       "      <td>1845</td>\n",
       "      <td>21.0</td>\n",
       "    </tr>\n",
       "    <tr>\n",
       "      <th>19602</th>\n",
       "      <td>1357.0</td>\n",
       "      <td>1400</td>\n",
       "      <td>12.0</td>\n",
       "    </tr>\n",
       "    <tr>\n",
       "      <th>45519</th>\n",
       "      <td>1306.0</td>\n",
       "      <td>555</td>\n",
       "      <td>33.0</td>\n",
       "    </tr>\n",
       "    <tr>\n",
       "      <th>25747</th>\n",
       "      <td>1026.0</td>\n",
       "      <td>1030</td>\n",
       "      <td>36.0</td>\n",
       "    </tr>\n",
       "    <tr>\n",
       "      <th>42642</th>\n",
       "      <td>2025.0</td>\n",
       "      <td>1805</td>\n",
       "      <td>26.0</td>\n",
       "    </tr>\n",
       "    <tr>\n",
       "      <th>...</th>\n",
       "      <td>...</td>\n",
       "      <td>...</td>\n",
       "      <td>...</td>\n",
       "    </tr>\n",
       "    <tr>\n",
       "      <th>25091</th>\n",
       "      <td>1306.0</td>\n",
       "      <td>1303</td>\n",
       "      <td>28.0</td>\n",
       "    </tr>\n",
       "    <tr>\n",
       "      <th>27853</th>\n",
       "      <td>1542.0</td>\n",
       "      <td>1527</td>\n",
       "      <td>13.0</td>\n",
       "    </tr>\n",
       "    <tr>\n",
       "      <th>47278</th>\n",
       "      <td>2151.0</td>\n",
       "      <td>2155</td>\n",
       "      <td>9.0</td>\n",
       "    </tr>\n",
       "    <tr>\n",
       "      <th>37020</th>\n",
       "      <td>639.0</td>\n",
       "      <td>649</td>\n",
       "      <td>10.0</td>\n",
       "    </tr>\n",
       "    <tr>\n",
       "      <th>2217</th>\n",
       "      <td>949.0</td>\n",
       "      <td>1000</td>\n",
       "      <td>23.0</td>\n",
       "    </tr>\n",
       "  </tbody>\n",
       "</table>\n",
       "<p>10000 rows × 3 columns</p>\n",
       "</div>"
      ],
      "text/plain": [
       "       dep_time  crs_dep_time  taxi_out\n",
       "11841    1838.0          1845      21.0\n",
       "19602    1357.0          1400      12.0\n",
       "45519    1306.0           555      33.0\n",
       "25747    1026.0          1030      36.0\n",
       "42642    2025.0          1805      26.0\n",
       "...         ...           ...       ...\n",
       "25091    1306.0          1303      28.0\n",
       "27853    1542.0          1527      13.0\n",
       "47278    2151.0          2155       9.0\n",
       "37020     639.0           649      10.0\n",
       "2217      949.0          1000      23.0\n",
       "\n",
       "[10000 rows x 3 columns]"
      ]
     },
     "execution_count": 51,
     "metadata": {},
     "output_type": "execute_result"
    }
   ],
   "source": [
    "sample1[['dep_time','crs_dep_time','taxi_out']]"
   ]
  },
  {
   "cell_type": "code",
   "execution_count": 48,
   "metadata": {
    "execution": {
     "iopub.execute_input": "2021-07-24T23:51:52.280613Z",
     "iopub.status.busy": "2021-07-24T23:51:52.280339Z",
     "iopub.status.idle": "2021-07-24T23:51:53.159430Z",
     "shell.execute_reply": "2021-07-24T23:51:53.157663Z",
     "shell.execute_reply.started": "2021-07-24T23:51:52.280582Z"
    }
   },
   "outputs": [
    {
     "data": {
      "text/plain": [
       "<AxesSubplot:xlabel='taxi_out', ylabel='Count'>"
      ]
     },
     "execution_count": 48,
     "metadata": {},
     "output_type": "execute_result"
    },
    {
     "data": {
      "image/png": "[encoded data removed]",
      "text/plain": [
       "<Figure size 432x288 with 1 Axes>"
      ]
     },
     "metadata": {
      "needs_background": "light"
     },
     "output_type": "display_data"
    }
   ],
   "source": [
    "sns.histplot(sample1['taxi_out'])"
   ]
  },
  {
   "cell_type": "code",
   "execution_count": null,
   "metadata": {},
   "outputs": [],
   "source": []
  },
  {
   "cell_type": "markdown",
   "metadata": {},
   "source": [
    "#### **Task 5**: What is the average percentage of delays that is already created before departure? (aka are arrival delays caused by departure delays?) Are airlines able to lower the delay during the flights?"
   ]
  },
  {
   "cell_type": "code",
   "execution_count": null,
   "metadata": {},
   "outputs": [],
   "source": []
  },
  {
   "cell_type": "code",
   "execution_count": null,
   "metadata": {},
   "outputs": [],
   "source": []
  },
  {
   "cell_type": "markdown",
   "metadata": {},
   "source": [
    "#### **Task 6**: How many states cover 50% of US air traffic? "
   ]
  },
  {
   "cell_type": "code",
   "execution_count": null,
   "metadata": {},
   "outputs": [],
   "source": []
  },
  {
   "cell_type": "code",
   "execution_count": null,
   "metadata": {},
   "outputs": [],
   "source": []
  },
  {
   "cell_type": "markdown",
   "metadata": {},
   "source": [
    "#### **Task 7**: Test the hypothesis whether planes fly faster when there is the departure delay? "
   ]
  },
  {
   "cell_type": "code",
   "execution_count": 13,
   "metadata": {
    "execution": {
     "iopub.execute_input": "2021-07-24T22:34:42.884764Z",
     "iopub.status.busy": "2021-07-24T22:34:42.883230Z",
     "iopub.status.idle": "2021-07-24T22:34:43.433382Z",
     "shell.execute_reply": "2021-07-24T22:34:43.432118Z",
     "shell.execute_reply.started": "2021-07-24T22:34:42.884704Z"
    }
   },
   "outputs": [
    {
     "name": "stdout",
     "output_type": "stream",
     "text": [
      "Observations:\n",
      "* \n",
      "\n"
     ]
    },
    {
     "data": {
      "image/png": "[encoded data removed]",
      "text/plain": [
       "<Figure size 1080x360 with 2 Axes>"
      ]
     },
     "metadata": {
      "needs_background": "light"
     },
     "output_type": "display_data"
    }
   ],
   "source": [
    "#create charts\n",
    "fig, axes = plt.subplots(1, 2, sharex=True, figsize=(15,5))\n",
    "fig.suptitle('Distance vs Delay')\n",
    "\n",
    "#sample1 \n",
    "sns.scatterplot(x='dep_delay',y='arr_delay',data=sample1,ax=axes[0])\n",
    "axes[0].set_title('Sample1')\n",
    "\n",
    "#sample2\n",
    "sns.scatterplot(x='dep_delay',y='arr_delay',data=sample2,ax=axes[1])\n",
    "axes[1].set_title('Sample2')\n",
    "\n",
    "print(\n",
    "'''Observations:\n",
    "* \n",
    "'''\n",
    ")"
   ]
  },
  {
   "cell_type": "code",
   "execution_count": null,
   "metadata": {},
   "outputs": [],
   "source": []
  },
  {
   "cell_type": "markdown",
   "metadata": {},
   "source": [
    "#### **Task 8**: When (which hour) do most 'LONG', 'SHORT', 'MEDIUM' haul flights take off?"
   ]
  },
  {
   "cell_type": "code",
   "execution_count": null,
   "metadata": {},
   "outputs": [],
   "source": []
  },
  {
   "cell_type": "code",
   "execution_count": null,
   "metadata": {},
   "outputs": [],
   "source": []
  },
  {
   "cell_type": "markdown",
   "metadata": {},
   "source": [
    "#### **Task 9**: Find the top 10 the bussiest airports. Does the biggest number of flights mean that the biggest number of passengers went through the particular airport? How much traffic do these 10 airports cover?"
   ]
  },
  {
   "cell_type": "code",
   "execution_count": null,
   "metadata": {},
   "outputs": [],
   "source": []
  },
  {
   "cell_type": "code",
   "execution_count": null,
   "metadata": {},
   "outputs": [],
   "source": []
  },
  {
   "cell_type": "markdown",
   "metadata": {},
   "source": [
    "#### **Task 10**: Do bigger delays lead to bigger fuel comsumption per passenger? \n",
    "We need to do four things to answer this as accurate as possible:\n",
    "- Find out average monthly delay per air carrier (monthly delay is sum of all delays in 1 month)\n",
    "- Find out distance covered monthly by different air carriers\n",
    "- Find out number of passengers that were carried by different air carriers\n",
    "- Find out total fuel comsumption per air carrier.\n",
    "\n",
    "Use this information to get the average fuel comsumption per passenger per km. Is this higher for the airlines with bigger average delays?"
   ]
  },
  {
   "cell_type": "code",
   "execution_count": null,
   "metadata": {},
   "outputs": [],
   "source": []
  },
  {
   "cell_type": "code",
   "execution_count": null,
   "metadata": {},
   "outputs": [],
   "source": []
  },
  {
   "cell_type": "markdown",
   "metadata": {},
   "source": [
    "#### **Realtionship between Distance and Delay**"
   ]
  },
  {
   "cell_type": "code",
   "execution_count": 12,
   "metadata": {
    "execution": {
     "iopub.execute_input": "2021-07-24T22:34:36.090193Z",
     "iopub.status.busy": "2021-07-24T22:34:36.089788Z",
     "iopub.status.idle": "2021-07-24T22:34:36.567290Z",
     "shell.execute_reply": "2021-07-24T22:34:36.566148Z",
     "shell.execute_reply.started": "2021-07-24T22:34:36.090158Z"
    }
   },
   "outputs": [
    {
     "name": "stdout",
     "output_type": "stream",
     "text": [
      "Observations:\n",
      "* Doesn't seem to be any relationship\n",
      "\n"
     ]
    },
    {
     "data": {
      "image/png": "[encoded data removed]",
      "text/plain": [
       "<Figure size 1080x360 with 2 Axes>"
      ]
     },
     "metadata": {
      "needs_background": "light"
     },
     "output_type": "display_data"
    }
   ],
   "source": [
    "#create charts\n",
    "fig, axes = plt.subplots(1, 2, sharex=True, figsize=(15,5))\n",
    "fig.suptitle('Distance vs Delay')\n",
    "\n",
    "#sample1 \n",
    "sns.scatterplot(x='distance',y='arr_delay',data=sample1,ax=axes[0])\n",
    "axes[0].set_title('Sample1')\n",
    "\n",
    "#sample2\n",
    "sns.scatterplot(x='distance',y='arr_delay',data=sample2,ax=axes[1])\n",
    "axes[1].set_title('Sample2')\n",
    "\n",
    "print(\n",
    "'''Observations:\n",
    "* Doesn't seem to be any relationship\n",
    "'''\n",
    ")"
   ]
  },
  {
   "cell_type": "code",
   "execution_count": null,
   "metadata": {},
   "outputs": [],
   "source": []
  }
 ],
 "metadata": {
  "kernelspec": {
   "display_name": "Python 3",
   "language": "python",
   "name": "python3"
  },
  "language_info": {
   "codemirror_mode": {
    "name": "ipython",
    "version": 3
   },
   "file_extension": ".py",
   "mimetype": "text/x-python",
   "name": "python",
   "nbconvert_exporter": "python",
   "pygments_lexer": "ipython3",
   "version": "3.8.8"
  },
  "toc": {
   "base_numbering": 1,
   "nav_menu": {},
   "number_sections": true,
   "sideBar": true,
   "skip_h1_title": false,
   "title_cell": "Table of Contents",
   "title_sidebar": "Contents",
   "toc_cell": false,
   "toc_position": {},
   "toc_section_display": true,
   "toc_window_display": false
  },
  "varInspector": {
   "cols": {
    "lenName": 16,
    "lenType": 16,
    "lenVar": 40
   },
   "kernels_config": {
    "python": {
     "delete_cmd_postfix": "",
     "delete_cmd_prefix": "del ",
     "library": "var_list.py",
     "varRefreshCmd": "print(var_dic_list())"
    },
    "r": {
     "delete_cmd_postfix": ") ",
     "delete_cmd_prefix": "rm(",
     "library": "var_list.r",
     "varRefreshCmd": "cat(var_dic_list()) "
    }
   },
   "types_to_exclude": [
    "module",
    "function",
    "builtin_function_or_method",
    "instance",
    "_Feature"
   ],
   "window_display": false
  }
 },
 "nbformat": 4,
 "nbformat_minor": 4
}
