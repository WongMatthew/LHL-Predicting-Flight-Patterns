{
 "cells": [
  {
   "cell_type": "markdown",
   "metadata": {},
   "source": [
    "## Exploratory Data Analysis (2 samples, 10,000 random points)\n",
    "\n",
    "Use this notebook to get familiar with the datasets we have. There is 10 questions we need to answer during the EDA.\n",
    "\n",
    "\n",
    "We shouldn't limit our EDA to these 10 questions. Let's be creative :)."
   ]
  },
  {
   "cell_type": "code",
   "execution_count": 2,
   "metadata": {
    "execution": {
     "iopub.execute_input": "2021-07-24T20:53:52.528871Z",
     "iopub.status.busy": "2021-07-24T20:53:52.525931Z",
     "iopub.status.idle": "2021-07-24T20:53:55.089109Z",
     "shell.execute_reply": "2021-07-24T20:53:55.087935Z",
     "shell.execute_reply.started": "2021-07-24T20:53:52.528784Z"
    }
   },
   "outputs": [],
   "source": [
    "import pandas as pd\n",
    "import numpy as np\n",
    "import matplotlib.pyplot as plt\n",
    "import seaborn as sns\n",
    "import datetime"
   ]
  },
  {
   "cell_type": "code",
   "execution_count": 3,
   "metadata": {
    "execution": {
     "iopub.execute_input": "2021-07-24T20:53:55.092420Z",
     "iopub.status.busy": "2021-07-24T20:53:55.091884Z",
     "iopub.status.idle": "2021-07-24T20:54:55.981300Z",
     "shell.execute_reply": "2021-07-24T20:54:55.978695Z",
     "shell.execute_reply.started": "2021-07-24T20:53:55.092374Z"
    }
   },
   "outputs": [
    {
     "data": {
      "text/html": [
       "<div>\n",
       "<style scoped>\n",
       "    .dataframe tbody tr th:only-of-type {\n",
       "        vertical-align: middle;\n",
       "    }\n",
       "\n",
       "    .dataframe tbody tr th {\n",
       "        vertical-align: top;\n",
       "    }\n",
       "\n",
       "    .dataframe thead th {\n",
       "        text-align: right;\n",
       "    }\n",
       "</style>\n",
       "<table border=\"1\" class=\"dataframe\">\n",
       "  <thead>\n",
       "    <tr style=\"text-align: right;\">\n",
       "      <th></th>\n",
       "      <th>fl_date</th>\n",
       "      <th>mkt_carrier_fl_num</th>\n",
       "      <th>origin_city_name</th>\n",
       "      <th>dest_city_name</th>\n",
       "      <th>distance</th>\n",
       "      <th>dep_delay</th>\n",
       "      <th>arr_delay</th>\n",
       "      <th>carrier_delay</th>\n",
       "      <th>weather_delay</th>\n",
       "      <th>nas_delay</th>\n",
       "      <th>security_delay</th>\n",
       "      <th>late_aircraft_delay</th>\n",
       "    </tr>\n",
       "  </thead>\n",
       "  <tbody>\n",
       "    <tr>\n",
       "      <th>0</th>\n",
       "      <td>2018-08-21</td>\n",
       "      <td>2009</td>\n",
       "      <td>Atlanta, GA</td>\n",
       "      <td>Chicago, IL</td>\n",
       "      <td>606.0</td>\n",
       "      <td>-1.0</td>\n",
       "      <td>-10.0</td>\n",
       "      <td>NaN</td>\n",
       "      <td>NaN</td>\n",
       "      <td>NaN</td>\n",
       "      <td>NaN</td>\n",
       "      <td>NaN</td>\n",
       "    </tr>\n",
       "    <tr>\n",
       "      <th>1</th>\n",
       "      <td>2018-08-21</td>\n",
       "      <td>2009</td>\n",
       "      <td>Chicago, IL</td>\n",
       "      <td>Atlanta, GA</td>\n",
       "      <td>606.0</td>\n",
       "      <td>-4.0</td>\n",
       "      <td>-16.0</td>\n",
       "      <td>NaN</td>\n",
       "      <td>NaN</td>\n",
       "      <td>NaN</td>\n",
       "      <td>NaN</td>\n",
       "      <td>NaN</td>\n",
       "    </tr>\n",
       "    <tr>\n",
       "      <th>2</th>\n",
       "      <td>2018-08-21</td>\n",
       "      <td>2010</td>\n",
       "      <td>Atlanta, GA</td>\n",
       "      <td>Indianapolis, IN</td>\n",
       "      <td>432.0</td>\n",
       "      <td>-7.0</td>\n",
       "      <td>-9.0</td>\n",
       "      <td>NaN</td>\n",
       "      <td>NaN</td>\n",
       "      <td>NaN</td>\n",
       "      <td>NaN</td>\n",
       "      <td>NaN</td>\n",
       "    </tr>\n",
       "    <tr>\n",
       "      <th>3</th>\n",
       "      <td>2018-08-21</td>\n",
       "      <td>2011</td>\n",
       "      <td>Atlanta, GA</td>\n",
       "      <td>Cincinnati, OH</td>\n",
       "      <td>373.0</td>\n",
       "      <td>-4.0</td>\n",
       "      <td>-5.0</td>\n",
       "      <td>NaN</td>\n",
       "      <td>NaN</td>\n",
       "      <td>NaN</td>\n",
       "      <td>NaN</td>\n",
       "      <td>NaN</td>\n",
       "    </tr>\n",
       "    <tr>\n",
       "      <th>4</th>\n",
       "      <td>2018-08-21</td>\n",
       "      <td>2012</td>\n",
       "      <td>Chicago, IL</td>\n",
       "      <td>Atlanta, GA</td>\n",
       "      <td>606.0</td>\n",
       "      <td>-4.0</td>\n",
       "      <td>25.0</td>\n",
       "      <td>0.0</td>\n",
       "      <td>0.0</td>\n",
       "      <td>25.0</td>\n",
       "      <td>0.0</td>\n",
       "      <td>0.0</td>\n",
       "    </tr>\n",
       "  </tbody>\n",
       "</table>\n",
       "</div>"
      ],
      "text/plain": [
       "      fl_date  mkt_carrier_fl_num origin_city_name    dest_city_name  \\\n",
       "0  2018-08-21                2009      Atlanta, GA       Chicago, IL   \n",
       "1  2018-08-21                2009      Chicago, IL       Atlanta, GA   \n",
       "2  2018-08-21                2010      Atlanta, GA  Indianapolis, IN   \n",
       "3  2018-08-21                2011      Atlanta, GA    Cincinnati, OH   \n",
       "4  2018-08-21                2012      Chicago, IL       Atlanta, GA   \n",
       "\n",
       "   distance  dep_delay  arr_delay  carrier_delay  weather_delay  nas_delay  \\\n",
       "0     606.0       -1.0      -10.0            NaN            NaN        NaN   \n",
       "1     606.0       -4.0      -16.0            NaN            NaN        NaN   \n",
       "2     432.0       -7.0       -9.0            NaN            NaN        NaN   \n",
       "3     373.0       -4.0       -5.0            NaN            NaN        NaN   \n",
       "4     606.0       -4.0       25.0            0.0            0.0       25.0   \n",
       "\n",
       "   security_delay  late_aircraft_delay  \n",
       "0             NaN                  NaN  \n",
       "1             NaN                  NaN  \n",
       "2             NaN                  NaN  \n",
       "3             NaN                  NaN  \n",
       "4             0.0                  0.0  "
      ]
     },
     "metadata": {},
     "output_type": "display_data"
    },
    {
     "data": {
      "text/plain": [
       "(15927485, 12)"
      ]
     },
     "metadata": {},
     "output_type": "display_data"
    }
   ],
   "source": [
    "data = pd.read_csv('/Users/Prashanta/Desktop/airplane_data/airplane_data_full.csv',delimiter=';')\n",
    "data = data.iloc[: , 1:]\n",
    "display(data.head())\n",
    "display(data.shape)"
   ]
  },
  {
   "cell_type": "code",
   "execution_count": 22,
   "metadata": {
    "execution": {
     "iopub.execute_input": "2021-07-24T21:14:26.311135Z",
     "iopub.status.busy": "2021-07-24T21:14:26.310822Z",
     "iopub.status.idle": "2021-07-24T21:14:33.163241Z",
     "shell.execute_reply": "2021-07-24T21:14:33.161966Z",
     "shell.execute_reply.started": "2021-07-24T21:14:26.311106Z"
    }
   },
   "outputs": [
    {
     "data": {
      "text/html": [
       "<div>\n",
       "<style scoped>\n",
       "    .dataframe tbody tr th:only-of-type {\n",
       "        vertical-align: middle;\n",
       "    }\n",
       "\n",
       "    .dataframe tbody tr th {\n",
       "        vertical-align: top;\n",
       "    }\n",
       "\n",
       "    .dataframe thead th {\n",
       "        text-align: right;\n",
       "    }\n",
       "</style>\n",
       "<table border=\"1\" class=\"dataframe\">\n",
       "  <thead>\n",
       "    <tr style=\"text-align: right;\">\n",
       "      <th></th>\n",
       "      <th>Total</th>\n",
       "      <th>Percent</th>\n",
       "    </tr>\n",
       "  </thead>\n",
       "  <tbody>\n",
       "    <tr>\n",
       "      <th>late_aircraft_delay</th>\n",
       "      <td>12918001</td>\n",
       "      <td>0.811051</td>\n",
       "    </tr>\n",
       "    <tr>\n",
       "      <th>security_delay</th>\n",
       "      <td>12918001</td>\n",
       "      <td>0.811051</td>\n",
       "    </tr>\n",
       "    <tr>\n",
       "      <th>nas_delay</th>\n",
       "      <td>12918001</td>\n",
       "      <td>0.811051</td>\n",
       "    </tr>\n",
       "    <tr>\n",
       "      <th>weather_delay</th>\n",
       "      <td>12918001</td>\n",
       "      <td>0.811051</td>\n",
       "    </tr>\n",
       "    <tr>\n",
       "      <th>carrier_delay</th>\n",
       "      <td>12918001</td>\n",
       "      <td>0.811051</td>\n",
       "    </tr>\n",
       "    <tr>\n",
       "      <th>arr_delay</th>\n",
       "      <td>311744</td>\n",
       "      <td>0.019573</td>\n",
       "    </tr>\n",
       "    <tr>\n",
       "      <th>dep_delay</th>\n",
       "      <td>263754</td>\n",
       "      <td>0.016560</td>\n",
       "    </tr>\n",
       "    <tr>\n",
       "      <th>distance</th>\n",
       "      <td>0</td>\n",
       "      <td>0.000000</td>\n",
       "    </tr>\n",
       "    <tr>\n",
       "      <th>dest_city_name</th>\n",
       "      <td>0</td>\n",
       "      <td>0.000000</td>\n",
       "    </tr>\n",
       "    <tr>\n",
       "      <th>origin_city_name</th>\n",
       "      <td>0</td>\n",
       "      <td>0.000000</td>\n",
       "    </tr>\n",
       "    <tr>\n",
       "      <th>mkt_carrier_fl_num</th>\n",
       "      <td>0</td>\n",
       "      <td>0.000000</td>\n",
       "    </tr>\n",
       "    <tr>\n",
       "      <th>fl_date</th>\n",
       "      <td>0</td>\n",
       "      <td>0.000000</td>\n",
       "    </tr>\n",
       "  </tbody>\n",
       "</table>\n",
       "</div>"
      ],
      "text/plain": [
       "                        Total   Percent\n",
       "late_aircraft_delay  12918001  0.811051\n",
       "security_delay       12918001  0.811051\n",
       "nas_delay            12918001  0.811051\n",
       "weather_delay        12918001  0.811051\n",
       "carrier_delay        12918001  0.811051\n",
       "arr_delay              311744  0.019573\n",
       "dep_delay              263754  0.016560\n",
       "distance                    0  0.000000\n",
       "dest_city_name              0  0.000000\n",
       "origin_city_name            0  0.000000\n",
       "mkt_carrier_fl_num          0  0.000000\n",
       "fl_date                     0  0.000000"
      ]
     },
     "metadata": {},
     "output_type": "display_data"
    },
    {
     "data": {
      "text/plain": [
       "(15927485, 12)"
      ]
     },
     "metadata": {},
     "output_type": "display_data"
    }
   ],
   "source": [
    "# missing data\n",
    "total = data.isnull().sum().sort_values(ascending=False)\n",
    "percent = (data.isnull().sum()/data.isnull().count()).sort_values(ascending=False)\n",
    "missing_data = pd.concat([total, percent], axis=1, keys=['Total', 'Percent'])\n",
    "\n",
    "display(missing_data.head(20))\n",
    "display(data.shape)"
   ]
  },
  {
   "cell_type": "code",
   "execution_count": 4,
   "metadata": {
    "execution": {
     "iopub.execute_input": "2021-07-24T20:56:31.317557Z",
     "iopub.status.busy": "2021-07-24T20:56:31.312018Z",
     "iopub.status.idle": "2021-07-24T20:56:41.685669Z",
     "shell.execute_reply": "2021-07-24T20:56:41.680277Z",
     "shell.execute_reply.started": "2021-07-24T20:56:31.317408Z"
    }
   },
   "outputs": [],
   "source": [
    "#create two samples of 10,000 points each\n",
    "sample1 = data.sample(n=10000, random_state=0)\n",
    "sample2 = data.sample(n=10000, random_state=1)\n",
    "\n",
    "sample1['month'] = pd.DatetimeIndex(sample1['fl_date']).month\n",
    "sample2['month'] = pd.DatetimeIndex(sample2['fl_date']).month"
   ]
  },
  {
   "cell_type": "code",
   "execution_count": 23,
   "metadata": {
    "execution": {
     "iopub.execute_input": "2021-07-24T21:21:08.879520Z",
     "iopub.status.busy": "2021-07-24T21:21:08.879283Z",
     "iopub.status.idle": "2021-07-24T21:21:08.894686Z",
     "shell.execute_reply": "2021-07-24T21:21:08.893452Z",
     "shell.execute_reply.started": "2021-07-24T21:21:08.879498Z"
    }
   },
   "outputs": [
    {
     "data": {
      "text/plain": [
       "month\n",
       "1     773\n",
       "2     698\n",
       "3     815\n",
       "4     842\n",
       "5     856\n",
       "6     866\n",
       "7     857\n",
       "8     914\n",
       "9     855\n",
       "10    852\n",
       "11    830\n",
       "12    842\n",
       "dtype: int64"
      ]
     },
     "execution_count": 23,
     "metadata": {},
     "output_type": "execute_result"
    }
   ],
   "source": [
    "sample1.groupby(by='month').size()"
   ]
  },
  {
   "cell_type": "markdown",
   "metadata": {},
   "source": [
    "#### **Task 1**: Test the hypothesis that the delay is from Normal distribution. and that **mean** of the delay is 0. Be careful about the outliers."
   ]
  },
  {
   "cell_type": "code",
   "execution_count": 5,
   "metadata": {
    "execution": {
     "iopub.execute_input": "2021-07-24T20:56:49.992518Z",
     "iopub.status.busy": "2021-07-24T20:56:49.990956Z",
     "iopub.status.idle": "2021-07-24T20:56:53.716290Z",
     "shell.execute_reply": "2021-07-24T20:56:53.714163Z",
     "shell.execute_reply.started": "2021-07-24T20:56:49.992449Z"
    }
   },
   "outputs": [
    {
     "name": "stdout",
     "output_type": "stream",
     "text": [
      "Observations:\n",
      "* The delay forms a normal distribution however there is a tail which means there are some very lenghty delays. \n",
      "* Since we don't see a tail on the others side, this would mean that flights don't come to ahead of time\n"
     ]
    },
    {
     "data": {
      "image/png": "[encoded data removed]",
      "text/plain": [
       "<Figure size 1080x360 with 2 Axes>"
      ]
     },
     "metadata": {
      "needs_background": "light"
     },
     "output_type": "display_data"
    }
   ],
   "source": [
    "#create charts\n",
    "fig, axes = plt.subplots(1, 2, sharex=True, figsize=(15,5))\n",
    "fig.suptitle('Delay Distribution')\n",
    "\n",
    "#sample1 \n",
    "sns.histplot(sample1['arr_delay'], ax=axes[0])\n",
    "axes[0].set_title('Sample1')\n",
    "\n",
    "#sample2\n",
    "sns.histplot(sample2['arr_delay'], ax=axes[1])\n",
    "axes[1].set_title('Sample2')\n",
    "\n",
    "print(\n",
    "'''Observations:\n",
    "* The delay forms a normal distribution however there is a tail which means there are some very lenghty delays. \n",
    "* Since we don't see a tail on the others side, this would mean that flights don't come to ahead of time'''\n",
    ")"
   ]
  },
  {
   "cell_type": "markdown",
   "metadata": {},
   "source": [
    "#### **Task 2**: Is average/median monthly delay different during the year? If yes, which are months with the biggest delays and what could be the reason?"
   ]
  },
  {
   "cell_type": "code",
   "execution_count": 6,
   "metadata": {
    "execution": {
     "iopub.execute_input": "2021-07-24T20:58:16.505481Z",
     "iopub.status.busy": "2021-07-24T20:58:16.503434Z",
     "iopub.status.idle": "2021-07-24T20:58:17.144106Z",
     "shell.execute_reply": "2021-07-24T20:58:17.139976Z",
     "shell.execute_reply.started": "2021-07-24T20:58:16.505328Z"
    }
   },
   "outputs": [
    {
     "name": "stdout",
     "output_type": "stream",
     "text": [
      "Observations:\n",
      "* There seems to be a great deal of variation in the average delay per month when using random datapoints\n",
      "* Re-visit this with whole dataset, and seperate by year?\n",
      "\n"
     ]
    },
    {
     "data": {
      "image/png": "[encoded data removed]",
      "text/plain": [
       "<Figure size 1080x360 with 2 Axes>"
      ]
     },
     "metadata": {
      "needs_background": "light"
     },
     "output_type": "display_data"
    }
   ],
   "source": [
    "#data formatting\n",
    "monthly_delay1 = sample1[['month','arr_delay']].groupby(by='month').agg(['size','mean','min','max']).reset_index()\n",
    "monthly_delay1.columns = [''] * len(monthly_delay1.columns)\n",
    "monthly_delay1.columns=['month','size','mean_delay','min_delay','max_delay']\n",
    "\n",
    "monthly_delay2 = sample2[['month','arr_delay']].groupby(by='month').agg(['size','mean','min','max']).reset_index()\n",
    "monthly_delay2.columns = [''] * len(monthly_delay1.columns)\n",
    "monthly_delay2.columns=['month','size','mean_delay','min_delay','max_delay']\n",
    "\n",
    "#create charts\n",
    "fig, axes = plt.subplots(1, 2,figsize=(15,5))\n",
    "fig.suptitle('Average/median monthly delay')\n",
    "\n",
    "#sample1 \n",
    "sns.barplot(x='month',y='mean_delay',data=monthly_delay1,ax=axes[0])\n",
    "axes[0].set_title('Sample1')\n",
    "\n",
    "#sample2\n",
    "sns.barplot(x='month',y='mean_delay',data=monthly_delay2,ax=axes[1])\n",
    "axes[1].set_title('Sample2')\n",
    "\n",
    "print(\n",
    "'''Observations:\n",
    "* There seems to be a great deal of variation in the average delay per month when using random datapoints\n",
    "* Re-visit this with whole dataset, and seperate by year?\n",
    "'''\n",
    ")"
   ]
  },
  {
   "cell_type": "markdown",
   "metadata": {},
   "source": [
    "#### **Task 3**: Does the weather affect the delay? \n",
    "Use the API to pull the weather information for flights. There is no need to get weather for ALL flights. We can choose the right representative sample. Let's focus on four weather types:\n",
    "- sunny\n",
    "- cloudy\n",
    "- rainy\n",
    "- snow.\n",
    "Test the hypothesis that these 4 delays are from the same distribution. If they are not, which ones are significantly different?"
   ]
  },
  {
   "cell_type": "code",
   "execution_count": null,
   "metadata": {},
   "outputs": [],
   "source": []
  },
  {
   "cell_type": "code",
   "execution_count": null,
   "metadata": {},
   "outputs": [],
   "source": []
  },
  {
   "cell_type": "markdown",
   "metadata": {},
   "source": [
    "#### **Task 4**: How taxi times changing during the day? Does higher traffic lead to bigger taxi times?"
   ]
  },
  {
   "cell_type": "code",
   "execution_count": null,
   "metadata": {},
   "outputs": [],
   "source": []
  },
  {
   "cell_type": "code",
   "execution_count": null,
   "metadata": {},
   "outputs": [],
   "source": []
  },
  {
   "cell_type": "markdown",
   "metadata": {},
   "source": [
    "#### **Task 5**: What is the average percentage of delays that is already created before departure? (aka are arrival delays caused by departure delays?) Are airlines able to lower the delay during the flights?"
   ]
  },
  {
   "cell_type": "code",
   "execution_count": null,
   "metadata": {},
   "outputs": [],
   "source": []
  },
  {
   "cell_type": "code",
   "execution_count": null,
   "metadata": {},
   "outputs": [],
   "source": []
  },
  {
   "cell_type": "markdown",
   "metadata": {},
   "source": [
    "#### **Task 6**: How many states cover 50% of US air traffic? "
   ]
  },
  {
   "cell_type": "code",
   "execution_count": null,
   "metadata": {},
   "outputs": [],
   "source": []
  },
  {
   "cell_type": "code",
   "execution_count": null,
   "metadata": {},
   "outputs": [],
   "source": []
  },
  {
   "cell_type": "markdown",
   "metadata": {},
   "source": [
    "#### **Task 7**: Test the hypothesis whether planes fly faster when there is the departure delay? "
   ]
  },
  {
   "cell_type": "code",
   "execution_count": 19,
   "metadata": {
    "execution": {
     "iopub.execute_input": "2021-07-24T21:06:33.884774Z",
     "iopub.status.busy": "2021-07-24T21:06:33.884484Z",
     "iopub.status.idle": "2021-07-24T21:06:34.311885Z",
     "shell.execute_reply": "2021-07-24T21:06:34.307341Z",
     "shell.execute_reply.started": "2021-07-24T21:06:33.884743Z"
    }
   },
   "outputs": [
    {
     "name": "stdout",
     "output_type": "stream",
     "text": [
      "Observations:\n",
      "* \n",
      "\n"
     ]
    },
    {
     "data": {
      "image/png": "[encoded data removed]",
      "text/plain": [
       "<Figure size 1080x360 with 2 Axes>"
      ]
     },
     "metadata": {
      "needs_background": "light"
     },
     "output_type": "display_data"
    }
   ],
   "source": [
    "#create charts\n",
    "fig, axes = plt.subplots(1, 2, sharex=True, figsize=(15,5))\n",
    "fig.suptitle('Distance vs Delay')\n",
    "\n",
    "#sample1 \n",
    "sns.scatterplot(x='dep_delay',y='arr_delay',data=sample1,ax=axes[0])\n",
    "axes[0].set_title('Sample1')\n",
    "\n",
    "#sample2\n",
    "sns.scatterplot(x='dep_delay',y='arr_delay',data=sample2,ax=axes[1])\n",
    "axes[1].set_title('Sample2')\n",
    "\n",
    "print(\n",
    "'''Observations:\n",
    "* \n",
    "'''\n",
    ")"
   ]
  },
  {
   "cell_type": "code",
   "execution_count": null,
   "metadata": {},
   "outputs": [],
   "source": []
  },
  {
   "cell_type": "markdown",
   "metadata": {},
   "source": [
    "#### **Task 8**: When (which hour) do most 'LONG', 'SHORT', 'MEDIUM' haul flights take off?"
   ]
  },
  {
   "cell_type": "code",
   "execution_count": null,
   "metadata": {},
   "outputs": [],
   "source": []
  },
  {
   "cell_type": "code",
   "execution_count": null,
   "metadata": {},
   "outputs": [],
   "source": []
  },
  {
   "cell_type": "markdown",
   "metadata": {},
   "source": [
    "#### **Task 9**: Find the top 10 the bussiest airports. Does the biggest number of flights mean that the biggest number of passengers went through the particular airport? How much traffic do these 10 airports cover?"
   ]
  },
  {
   "cell_type": "code",
   "execution_count": null,
   "metadata": {},
   "outputs": [],
   "source": []
  },
  {
   "cell_type": "code",
   "execution_count": null,
   "metadata": {},
   "outputs": [],
   "source": []
  },
  {
   "cell_type": "markdown",
   "metadata": {},
   "source": [
    "#### **Task 10**: Do bigger delays lead to bigger fuel comsumption per passenger? \n",
    "We need to do four things to answer this as accurate as possible:\n",
    "- Find out average monthly delay per air carrier (monthly delay is sum of all delays in 1 month)\n",
    "- Find out distance covered monthly by different air carriers\n",
    "- Find out number of passengers that were carried by different air carriers\n",
    "- Find out total fuel comsumption per air carrier.\n",
    "\n",
    "Use this information to get the average fuel comsumption per passenger per km. Is this higher for the airlines with bigger average delays?"
   ]
  },
  {
   "cell_type": "code",
   "execution_count": null,
   "metadata": {},
   "outputs": [],
   "source": []
  },
  {
   "cell_type": "code",
   "execution_count": null,
   "metadata": {},
   "outputs": [],
   "source": []
  },
  {
   "cell_type": "markdown",
   "metadata": {},
   "source": [
    "#### **Realtionship between Distance and Delay**"
   ]
  },
  {
   "cell_type": "code",
   "execution_count": 18,
   "metadata": {
    "execution": {
     "iopub.execute_input": "2021-07-24T21:04:30.664245Z",
     "iopub.status.busy": "2021-07-24T21:04:30.663953Z",
     "iopub.status.idle": "2021-07-24T21:04:31.083079Z",
     "shell.execute_reply": "2021-07-24T21:04:31.081957Z",
     "shell.execute_reply.started": "2021-07-24T21:04:30.664215Z"
    }
   },
   "outputs": [
    {
     "name": "stdout",
     "output_type": "stream",
     "text": [
      "Observations:\n",
      "* Doesn't seem to be any relationship\n",
      "\n"
     ]
    },
    {
     "data": {
      "image/png": "[encoded data removed]",
      "text/plain": [
       "<Figure size 1080x360 with 2 Axes>"
      ]
     },
     "metadata": {
      "needs_background": "light"
     },
     "output_type": "display_data"
    }
   ],
   "source": [
    "#create charts\n",
    "fig, axes = plt.subplots(1, 2, sharex=True, figsize=(15,5))\n",
    "fig.suptitle('Distance vs Delay')\n",
    "\n",
    "#sample1 \n",
    "sns.scatterplot(x='distance',y='arr_delay',data=sample1,ax=axes[0])\n",
    "axes[0].set_title('Sample1')\n",
    "\n",
    "#sample2\n",
    "sns.scatterplot(x='distance',y='arr_delay',data=sample2,ax=axes[1])\n",
    "axes[1].set_title('Sample2')\n",
    "\n",
    "print(\n",
    "'''Observations:\n",
    "* Doesn't seem to be any relationship\n",
    "'''\n",
    ")"
   ]
  },
  {
   "cell_type": "code",
   "execution_count": null,
   "metadata": {},
   "outputs": [],
   "source": []
  }
 ],
 "metadata": {
  "kernelspec": {
   "display_name": "Python 3",
   "language": "python",
   "name": "python3"
  },
  "language_info": {
   "codemirror_mode": {
    "name": "ipython",
    "version": 3
   },
   "file_extension": ".py",
   "mimetype": "text/x-python",
   "name": "python",
   "nbconvert_exporter": "python",
   "pygments_lexer": "ipython3",
   "version": "3.8.8"
  },
  "toc": {
   "base_numbering": 1,
   "nav_menu": {},
   "number_sections": true,
   "sideBar": true,
   "skip_h1_title": false,
   "title_cell": "Table of Contents",
   "title_sidebar": "Contents",
   "toc_cell": false,
   "toc_position": {},
   "toc_section_display": true,
   "toc_window_display": false
  },
  "varInspector": {
   "cols": {
    "lenName": 16,
    "lenType": 16,
    "lenVar": 40
   },
   "kernels_config": {
    "python": {
     "delete_cmd_postfix": "",
     "delete_cmd_prefix": "del ",
     "library": "var_list.py",
     "varRefreshCmd": "print(var_dic_list())"
    },
    "r": {
     "delete_cmd_postfix": ") ",
     "delete_cmd_prefix": "rm(",
     "library": "var_list.r",
     "varRefreshCmd": "cat(var_dic_list()) "
    }
   },
   "types_to_exclude": [
    "module",
    "function",
    "builtin_function_or_method",
    "instance",
    "_Feature"
   ],
   "window_display": false
  }
 },
 "nbformat": 4,
 "nbformat_minor": 4
}
