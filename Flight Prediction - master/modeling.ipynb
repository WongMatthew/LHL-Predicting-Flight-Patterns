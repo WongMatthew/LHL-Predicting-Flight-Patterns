{
 "cells": [
  {
   "cell_type": "markdown",
   "metadata": {},
   "source": [
    "# Machine Learning\n",
    "\n",
    "In this file, instructions how to approach the challenge can be found."
   ]
  },
  {
   "cell_type": "markdown",
   "metadata": {},
   "source": [
    "We are going to work on different types of Machine Learning problems:\n",
    "\n",
    "- **Regression Problem**: The goal is to predict delay of flights.\n",
    "- **(Stretch) Multiclass Classification**: If the plane was delayed, we will predict what type of delay it is (will be).\n",
    "- **(Stretch) Binary Classification**: The goal is to predict if the flight will be cancelled."
   ]
  },
  {
   "cell_type": "code",
   "execution_count": 49,
   "metadata": {
    "execution": {
     "iopub.execute_input": "2021-07-26T17:09:03.648256Z",
     "iopub.status.busy": "2021-07-26T17:09:03.647637Z",
     "iopub.status.idle": "2021-07-26T17:09:03.661974Z",
     "shell.execute_reply": "2021-07-26T17:09:03.659195Z",
     "shell.execute_reply.started": "2021-07-26T17:09:03.648180Z"
    }
   },
   "outputs": [],
   "source": [
    "import pandas as pd\n",
    "import numpy as np\n",
    "import matplotlib.pyplot as plt\n",
    "import seaborn as sns\n",
    "import datetime"
   ]
  },
  {
   "cell_type": "code",
   "execution_count": 2,
   "metadata": {
    "execution": {
     "iopub.execute_input": "2021-07-26T05:53:06.324108Z",
     "iopub.status.busy": "2021-07-26T05:53:06.323687Z",
     "iopub.status.idle": "2021-07-26T05:53:07.061274Z",
     "shell.execute_reply": "2021-07-26T05:53:07.043084Z",
     "shell.execute_reply.started": "2021-07-26T05:53:06.324075Z"
    }
   },
   "outputs": [],
   "source": [
    "#flights table\n",
    "data = pd.read_csv('/Users/Prashanta/Desktop/airplane_data/flights_table(50,000_points).csv',delimiter=';')\n",
    "data = data.iloc[: , 1:]\n",
    "\n",
    "#create two samples of 10,000 points each\n",
    "sample1 = data.sample(n=10000, random_state=0)\n",
    "sample2 = data.sample(n=10000, random_state=1)\n",
    "\n",
    "#Adding date time features and state\n",
    "sample1['month'] = pd.DatetimeIndex(sample1['fl_date']).month\n",
    "sample2['month'] = pd.DatetimeIndex(sample2['fl_date']).month\n",
    "sample1['year'] = pd.DatetimeIndex(sample1['fl_date']).year\n",
    "sample2['year'] = pd.DatetimeIndex(sample2['fl_date']).year\n",
    "sample1['origin_city_state'] = sample1['origin_city_name'].transform(lambda x: str(x).split(',')[1])\n",
    "sample2['origin_city_state'] = sample2['origin_city_name'].transform(lambda x: str(x).split(',')[1])\n",
    "sample1['depart_hour'] = sample1['dep_time'].round(-2)\n",
    "sample2['depart_hour'] = sample2['dep_time'].round(-2)"
   ]
  },
  {
   "cell_type": "code",
   "execution_count": 3,
   "metadata": {
    "execution": {
     "iopub.execute_input": "2021-07-26T05:53:07.081018Z",
     "iopub.status.busy": "2021-07-26T05:53:07.078759Z",
     "iopub.status.idle": "2021-07-26T05:53:07.347710Z",
     "shell.execute_reply": "2021-07-26T05:53:07.340356Z",
     "shell.execute_reply.started": "2021-07-26T05:53:07.080951Z"
    }
   },
   "outputs": [
    {
     "data": {
      "text/html": [
       "<div>\n",
       "<style scoped>\n",
       "    .dataframe tbody tr th:only-of-type {\n",
       "        vertical-align: middle;\n",
       "    }\n",
       "\n",
       "    .dataframe tbody tr th {\n",
       "        vertical-align: top;\n",
       "    }\n",
       "\n",
       "    .dataframe thead th {\n",
       "        text-align: right;\n",
       "    }\n",
       "</style>\n",
       "<table border=\"1\" class=\"dataframe\">\n",
       "  <thead>\n",
       "    <tr style=\"text-align: right;\">\n",
       "      <th></th>\n",
       "      <th>fl_date</th>\n",
       "      <th>mkt_unique_carrier</th>\n",
       "      <th>branded_code_share</th>\n",
       "      <th>mkt_carrier</th>\n",
       "      <th>mkt_carrier_fl_num</th>\n",
       "      <th>op_unique_carrier</th>\n",
       "      <th>tail_num</th>\n",
       "      <th>op_carrier_fl_num</th>\n",
       "      <th>origin_airport_id</th>\n",
       "      <th>origin</th>\n",
       "      <th>...</th>\n",
       "      <th>distance</th>\n",
       "      <th>carrier_delay</th>\n",
       "      <th>weather_delay</th>\n",
       "      <th>nas_delay</th>\n",
       "      <th>security_delay</th>\n",
       "      <th>late_aircraft_delay</th>\n",
       "      <th>first_dep_time</th>\n",
       "      <th>total_add_gtime</th>\n",
       "      <th>longest_add_gtime</th>\n",
       "      <th>no_name</th>\n",
       "    </tr>\n",
       "  </thead>\n",
       "  <tbody>\n",
       "    <tr>\n",
       "      <th>0</th>\n",
       "      <td>2019-12-30</td>\n",
       "      <td>WN</td>\n",
       "      <td>WN</td>\n",
       "      <td>WN</td>\n",
       "      <td>775</td>\n",
       "      <td>WN</td>\n",
       "      <td>N255WN</td>\n",
       "      <td>775</td>\n",
       "      <td>13495</td>\n",
       "      <td>MSY</td>\n",
       "      <td>...</td>\n",
       "      <td>674.0</td>\n",
       "      <td>NaN</td>\n",
       "      <td>NaN</td>\n",
       "      <td>NaN</td>\n",
       "      <td>NaN</td>\n",
       "      <td>NaN</td>\n",
       "      <td>NaN</td>\n",
       "      <td>NaN</td>\n",
       "      <td>NaN</td>\n",
       "      <td>NaN</td>\n",
       "    </tr>\n",
       "    <tr>\n",
       "      <th>1</th>\n",
       "      <td>2018-04-08</td>\n",
       "      <td>AS</td>\n",
       "      <td>AS</td>\n",
       "      <td>AS</td>\n",
       "      <td>352</td>\n",
       "      <td>AS</td>\n",
       "      <td>N464AS</td>\n",
       "      <td>352</td>\n",
       "      <td>14747</td>\n",
       "      <td>SEA</td>\n",
       "      <td>...</td>\n",
       "      <td>672.0</td>\n",
       "      <td>0.0</td>\n",
       "      <td>0.0</td>\n",
       "      <td>25.0</td>\n",
       "      <td>0.0</td>\n",
       "      <td>0.0</td>\n",
       "      <td>NaN</td>\n",
       "      <td>NaN</td>\n",
       "      <td>NaN</td>\n",
       "      <td>NaN</td>\n",
       "    </tr>\n",
       "    <tr>\n",
       "      <th>2</th>\n",
       "      <td>2018-11-21</td>\n",
       "      <td>DL</td>\n",
       "      <td>DL</td>\n",
       "      <td>DL</td>\n",
       "      <td>1312</td>\n",
       "      <td>DL</td>\n",
       "      <td>N912DL</td>\n",
       "      <td>1312</td>\n",
       "      <td>10994</td>\n",
       "      <td>CHS</td>\n",
       "      <td>...</td>\n",
       "      <td>259.0</td>\n",
       "      <td>NaN</td>\n",
       "      <td>NaN</td>\n",
       "      <td>NaN</td>\n",
       "      <td>NaN</td>\n",
       "      <td>NaN</td>\n",
       "      <td>NaN</td>\n",
       "      <td>NaN</td>\n",
       "      <td>NaN</td>\n",
       "      <td>NaN</td>\n",
       "    </tr>\n",
       "    <tr>\n",
       "      <th>3</th>\n",
       "      <td>2019-12-19</td>\n",
       "      <td>WN</td>\n",
       "      <td>WN</td>\n",
       "      <td>WN</td>\n",
       "      <td>1967</td>\n",
       "      <td>WN</td>\n",
       "      <td>N7820L</td>\n",
       "      <td>1967</td>\n",
       "      <td>11697</td>\n",
       "      <td>FLL</td>\n",
       "      <td>...</td>\n",
       "      <td>994.0</td>\n",
       "      <td>NaN</td>\n",
       "      <td>NaN</td>\n",
       "      <td>NaN</td>\n",
       "      <td>NaN</td>\n",
       "      <td>NaN</td>\n",
       "      <td>NaN</td>\n",
       "      <td>NaN</td>\n",
       "      <td>NaN</td>\n",
       "      <td>NaN</td>\n",
       "    </tr>\n",
       "    <tr>\n",
       "      <th>4</th>\n",
       "      <td>2019-09-21</td>\n",
       "      <td>UA</td>\n",
       "      <td>UA_CODESHARE</td>\n",
       "      <td>UA</td>\n",
       "      <td>3908</td>\n",
       "      <td>ZW</td>\n",
       "      <td>N420AW</td>\n",
       "      <td>3908</td>\n",
       "      <td>14574</td>\n",
       "      <td>ROA</td>\n",
       "      <td>...</td>\n",
       "      <td>530.0</td>\n",
       "      <td>NaN</td>\n",
       "      <td>NaN</td>\n",
       "      <td>NaN</td>\n",
       "      <td>NaN</td>\n",
       "      <td>NaN</td>\n",
       "      <td>NaN</td>\n",
       "      <td>NaN</td>\n",
       "      <td>NaN</td>\n",
       "      <td>NaN</td>\n",
       "    </tr>\n",
       "  </tbody>\n",
       "</table>\n",
       "<p>5 rows × 42 columns</p>\n",
       "</div>"
      ],
      "text/plain": [
       "      fl_date mkt_unique_carrier branded_code_share mkt_carrier  \\\n",
       "0  2019-12-30                 WN                 WN          WN   \n",
       "1  2018-04-08                 AS                 AS          AS   \n",
       "2  2018-11-21                 DL                 DL          DL   \n",
       "3  2019-12-19                 WN                 WN          WN   \n",
       "4  2019-09-21                 UA       UA_CODESHARE          UA   \n",
       "\n",
       "   mkt_carrier_fl_num op_unique_carrier tail_num  op_carrier_fl_num  \\\n",
       "0                 775                WN   N255WN                775   \n",
       "1                 352                AS   N464AS                352   \n",
       "2                1312                DL   N912DL               1312   \n",
       "3                1967                WN   N7820L               1967   \n",
       "4                3908                ZW   N420AW               3908   \n",
       "\n",
       "   origin_airport_id origin  ... distance  carrier_delay weather_delay  \\\n",
       "0              13495    MSY  ...    674.0            NaN           NaN   \n",
       "1              14747    SEA  ...    672.0            0.0           0.0   \n",
       "2              10994    CHS  ...    259.0            NaN           NaN   \n",
       "3              11697    FLL  ...    994.0            NaN           NaN   \n",
       "4              14574    ROA  ...    530.0            NaN           NaN   \n",
       "\n",
       "  nas_delay  security_delay  late_aircraft_delay  first_dep_time  \\\n",
       "0       NaN             NaN                  NaN             NaN   \n",
       "1      25.0             0.0                  0.0             NaN   \n",
       "2       NaN             NaN                  NaN             NaN   \n",
       "3       NaN             NaN                  NaN             NaN   \n",
       "4       NaN             NaN                  NaN             NaN   \n",
       "\n",
       "   total_add_gtime  longest_add_gtime  no_name  \n",
       "0              NaN                NaN      NaN  \n",
       "1              NaN                NaN      NaN  \n",
       "2              NaN                NaN      NaN  \n",
       "3              NaN                NaN      NaN  \n",
       "4              NaN                NaN      NaN  \n",
       "\n",
       "[5 rows x 42 columns]"
      ]
     },
     "metadata": {},
     "output_type": "display_data"
    },
    {
     "data": {
      "text/plain": [
       "(50000, 42)"
      ]
     },
     "metadata": {},
     "output_type": "display_data"
    }
   ],
   "source": [
    "display(data.head())\n",
    "display(data.shape)"
   ]
  },
  {
   "cell_type": "markdown",
   "metadata": {},
   "source": [
    "## Main Task: Regression Problem"
   ]
  },
  {
   "cell_type": "markdown",
   "metadata": {},
   "source": [
    "The target variable is **ARR_DELAY**. We need to be careful which columns to use and which don't. For example, DEP_DELAY is going to be the perfect predictor, but we can't use it because in real-life scenario, we want to predict the delay before the flight takes of --> We can use average delay from earlier days but not the one from the actual flight we predict.  \n",
    "\n",
    "For example, variables **CARRIER_DELAY, WEATHER_DELAY, NAS_DELAY, SECURITY_DELAY, LATE_AIRCRAFT_DELAY** shouldn't be used directly as predictors as well. However, we can create various transformations from earlier values.\n",
    "\n",
    "We will be evaluating your models by predicting the ARR_DELAY for all flights **1 week in advance**."
   ]
  },
  {
   "cell_type": "code",
   "execution_count": 45,
   "metadata": {
    "collapsed": true,
    "execution": {
     "iopub.execute_input": "2021-07-26T06:19:37.569477Z",
     "iopub.status.busy": "2021-07-26T06:19:37.569194Z",
     "iopub.status.idle": "2021-07-26T06:19:37.587401Z",
     "shell.execute_reply": "2021-07-26T06:19:37.585882Z",
     "shell.execute_reply.started": "2021-07-26T06:19:37.569450Z"
    },
    "jupyter": {
     "outputs_hidden": true
    }
   },
   "outputs": [
    {
     "name": "stderr",
     "output_type": "stream",
     "text": [
      "<ipython-input-45-587ea8f238e1>:4: SettingWithCopyWarning: \n",
      "A value is trying to be set on a copy of a slice from a DataFrame\n",
      "\n",
      "See the caveats in the documentation: https://pandas.pydata.org/pandas-docs/stable/user_guide/indexing.html#returning-a-view-versus-a-copy\n",
      "  test_model_1.dropna(inplace=True)\n",
      "<ipython-input-45-587ea8f238e1>:8: SettingWithCopyWarning: \n",
      "A value is trying to be set on a copy of a slice from a DataFrame.\n",
      "Try using .loc[row_indexer,col_indexer] = value instead\n",
      "\n",
      "See the caveats in the documentation: https://pandas.pydata.org/pandas-docs/stable/user_guide/indexing.html#returning-a-view-versus-a-copy\n",
      "  test_model_1['origin_city_state'] = test_model_1['origin_city_state'].astype('category')\n",
      "<ipython-input-45-587ea8f238e1>:9: SettingWithCopyWarning: \n",
      "A value is trying to be set on a copy of a slice from a DataFrame.\n",
      "Try using .loc[row_indexer,col_indexer] = value instead\n",
      "\n",
      "See the caveats in the documentation: https://pandas.pydata.org/pandas-docs/stable/user_guide/indexing.html#returning-a-view-versus-a-copy\n",
      "  test_model_1['origin_city_state'] = test_model_1['origin_city_state'].cat.codes\n"
     ]
    }
   ],
   "source": [
    "test_model_1 = sample1[['month','origin_city_state','depart_hour','arr_delay']]\n",
    "\n",
    "# Droping nan value rows\n",
    "test_model_1.dropna(inplace=True)\n",
    "\n",
    "# Encode Cateogircal Values \n",
    "# First change dtype of variable to category then encode using cat.codes\n",
    "test_model_1['origin_city_state'] = test_model_1['origin_city_state'].astype('category')\n",
    "test_model_1['origin_city_state'] = test_model_1['origin_city_state'].cat.codes"
   ]
  },
  {
   "cell_type": "code",
   "execution_count": 41,
   "metadata": {
    "collapsed": true,
    "execution": {
     "iopub.execute_input": "2021-07-26T06:19:04.573146Z",
     "iopub.status.busy": "2021-07-26T06:19:04.572864Z",
     "iopub.status.idle": "2021-07-26T06:19:04.589158Z",
     "shell.execute_reply": "2021-07-26T06:19:04.586755Z",
     "shell.execute_reply.started": "2021-07-26T06:19:04.573119Z"
    },
    "jupyter": {
     "outputs_hidden": true
    }
   },
   "outputs": [
    {
     "data": {
      "text/html": [
       "<div>\n",
       "<style scoped>\n",
       "    .dataframe tbody tr th:only-of-type {\n",
       "        vertical-align: middle;\n",
       "    }\n",
       "\n",
       "    .dataframe tbody tr th {\n",
       "        vertical-align: top;\n",
       "    }\n",
       "\n",
       "    .dataframe thead th {\n",
       "        text-align: right;\n",
       "    }\n",
       "</style>\n",
       "<table border=\"1\" class=\"dataframe\">\n",
       "  <thead>\n",
       "    <tr style=\"text-align: right;\">\n",
       "      <th></th>\n",
       "      <th>month</th>\n",
       "      <th>origin_city_state</th>\n",
       "      <th>depart_hour</th>\n",
       "      <th>dep_delay</th>\n",
       "      <th>arr_delay</th>\n",
       "    </tr>\n",
       "  </thead>\n",
       "  <tbody>\n",
       "    <tr>\n",
       "      <th>11841</th>\n",
       "      <td>10</td>\n",
       "      <td>37</td>\n",
       "      <td>1800.0</td>\n",
       "      <td>-7.0</td>\n",
       "      <td>-12.0</td>\n",
       "    </tr>\n",
       "    <tr>\n",
       "      <th>19602</th>\n",
       "      <td>7</td>\n",
       "      <td>8</td>\n",
       "      <td>1400.0</td>\n",
       "      <td>-3.0</td>\n",
       "      <td>-23.0</td>\n",
       "    </tr>\n",
       "    <tr>\n",
       "      <th>45519</th>\n",
       "      <td>1</td>\n",
       "      <td>6</td>\n",
       "      <td>1300.0</td>\n",
       "      <td>431.0</td>\n",
       "      <td>432.0</td>\n",
       "    </tr>\n",
       "    <tr>\n",
       "      <th>25747</th>\n",
       "      <td>4</td>\n",
       "      <td>49</td>\n",
       "      <td>1000.0</td>\n",
       "      <td>-4.0</td>\n",
       "      <td>10.0</td>\n",
       "    </tr>\n",
       "    <tr>\n",
       "      <th>42642</th>\n",
       "      <td>3</td>\n",
       "      <td>8</td>\n",
       "      <td>2000.0</td>\n",
       "      <td>140.0</td>\n",
       "      <td>135.0</td>\n",
       "    </tr>\n",
       "  </tbody>\n",
       "</table>\n",
       "</div>"
      ],
      "text/plain": [
       "       month  origin_city_state  depart_hour  dep_delay  arr_delay\n",
       "11841     10                 37       1800.0       -7.0      -12.0\n",
       "19602      7                  8       1400.0       -3.0      -23.0\n",
       "45519      1                  6       1300.0      431.0      432.0\n",
       "25747      4                 49       1000.0       -4.0       10.0\n",
       "42642      3                  8       2000.0      140.0      135.0"
      ]
     },
     "execution_count": 41,
     "metadata": {},
     "output_type": "execute_result"
    }
   ],
   "source": [
    "test_model_1.head()"
   ]
  },
  {
   "cell_type": "code",
   "execution_count": 46,
   "metadata": {
    "execution": {
     "iopub.execute_input": "2021-07-26T06:19:47.907512Z",
     "iopub.status.busy": "2021-07-26T06:19:47.907183Z",
     "iopub.status.idle": "2021-07-26T06:19:47.915405Z",
     "shell.execute_reply": "2021-07-26T06:19:47.913127Z",
     "shell.execute_reply.started": "2021-07-26T06:19:47.907441Z"
    }
   },
   "outputs": [],
   "source": [
    "X = test_model_1[['month','origin_city_state','depart_hour']]\n",
    "y = test_model_1['arr_delay']"
   ]
  },
  {
   "cell_type": "code",
   "execution_count": 47,
   "metadata": {
    "execution": {
     "iopub.execute_input": "2021-07-26T06:19:49.050552Z",
     "iopub.status.busy": "2021-07-26T06:19:49.049677Z",
     "iopub.status.idle": "2021-07-26T06:19:49.074961Z",
     "shell.execute_reply": "2021-07-26T06:19:49.073039Z",
     "shell.execute_reply.started": "2021-07-26T06:19:49.050490Z"
    }
   },
   "outputs": [],
   "source": [
    "# split X and y into training and testing sets \n",
    "import sklearn.model_selection as model_selection\n",
    "\n",
    "X_train,X_test,y_train,y_test = model_selection.train_test_split(X,y,train_size=0.75,test_size=0.25,random_state=123)"
   ]
  },
  {
   "cell_type": "code",
   "execution_count": 48,
   "metadata": {
    "execution": {
     "iopub.execute_input": "2021-07-26T06:19:50.092842Z",
     "iopub.status.busy": "2021-07-26T06:19:50.092558Z",
     "iopub.status.idle": "2021-07-26T06:19:50.118866Z",
     "shell.execute_reply": "2021-07-26T06:19:50.117218Z",
     "shell.execute_reply.started": "2021-07-26T06:19:50.092814Z"
    }
   },
   "outputs": [
    {
     "name": "stdout",
     "output_type": "stream",
     "text": [
      "coefficients: [-0.07959701  0.04777177  0.01045926]\n",
      "R2 Score for train data: 0.012\n",
      "MAE: 23.62\n",
      "R2 Score2 for test data: 0.015\n"
     ]
    }
   ],
   "source": [
    "# import libraries\n",
    "from sklearn.linear_model import LinearRegression\n",
    "from sklearn.metrics import mean_absolute_error\n",
    "from sklearn.metrics import r2_score\n",
    "\n",
    "#initialize and fit training dataset\n",
    "Linear_Regressor = LinearRegression()\n",
    "Linear_Regressor.fit(X_train, y_train)\n",
    "\n",
    "#make prediction \n",
    "y_pred = Linear_Regressor.predict(X_test)\n",
    "\n",
    "#prints the coefficients used for each attribute\n",
    "print('coefficients:', Linear_Regressor.coef_)\n",
    "\n",
    "#prints the R2 score for your test dataset\n",
    "print('R2 Score for train data:', round(Linear_Regressor.score(X_train,y_train),3))\n",
    "print('MAE:', round(mean_absolute_error(y_test,y_pred),2))\n",
    "print('R2 Score2 for test data:', round(r2_score(y_test,y_pred),3))"
   ]
  },
  {
   "cell_type": "code",
   "execution_count": null,
   "metadata": {},
   "outputs": [],
   "source": []
  },
  {
   "cell_type": "code",
   "execution_count": null,
   "metadata": {},
   "outputs": [],
   "source": []
  },
  {
   "cell_type": "markdown",
   "metadata": {},
   "source": [
    "### Feature Engineering"
   ]
  },
  {
   "cell_type": "markdown",
   "metadata": {},
   "source": [
    "Feature engineering will play a crucial role in this problems. We have only very little attributes so we need to create some features that will have some predictive power.\n",
    "\n",
    "- weather: we can use some weather API to look for the weather in time of the scheduled departure and scheduled arrival.\n",
    "- statistics (avg, mean, median, std, min, max...): we can take a look at previous delays and compute descriptive statistics\n",
    "- airports encoding: we need to think about what to do with the airports and other categorical variables\n",
    "- time of the day: the delay probably depends on the airport traffic which varies during the day.\n",
    "- airport traffic\n",
    "- unsupervised learning as feature engineering?\n",
    "- **what are the additional options?**: Think about what we could do more to improve the model."
   ]
  },
  {
   "cell_type": "code",
   "execution_count": 82,
   "metadata": {
    "execution": {
     "iopub.execute_input": "2021-07-26T17:27:31.058936Z",
     "iopub.status.busy": "2021-07-26T17:27:31.058652Z",
     "iopub.status.idle": "2021-07-26T17:27:31.314731Z",
     "shell.execute_reply": "2021-07-26T17:27:31.313894Z",
     "shell.execute_reply.started": "2021-07-26T17:27:31.058905Z"
    }
   },
   "outputs": [],
   "source": [
    "#Feature1\n",
    "#average_dep_delay per airport\n",
    "#create a dummy column and then replace values with average dep_delay per state\n",
    "sample1['dep_delay_state'] = sample1['dep_delay']\n",
    "sample1['dep_delay_state'] = sample1[['dep_delay_state','origin_city_state']].groupby(by='origin_city_state').transform(lambda x: x.mean())\n",
    "\n",
    "#Feature2\n",
    "#average_arr_delay per airport\n",
    "#create a dummy column and then replace values with average arr_delay per state\n",
    "sample1['arr_delay_state'] = sample1['arr_delay']\n",
    "sample1['arr_delay_state'] = sample1[['arr_delay_state','origin_city_state']].groupby(by='origin_city_state').transform(lambda x: x.mean())"
   ]
  },
  {
   "cell_type": "code",
   "execution_count": 83,
   "metadata": {
    "execution": {
     "iopub.execute_input": "2021-07-26T17:27:36.129051Z",
     "iopub.status.busy": "2021-07-26T17:27:36.128669Z",
     "iopub.status.idle": "2021-07-26T17:27:36.148812Z",
     "shell.execute_reply": "2021-07-26T17:27:36.146971Z",
     "shell.execute_reply.started": "2021-07-26T17:27:36.129018Z"
    }
   },
   "outputs": [
    {
     "data": {
      "text/html": [
       "<div>\n",
       "<style scoped>\n",
       "    .dataframe tbody tr th:only-of-type {\n",
       "        vertical-align: middle;\n",
       "    }\n",
       "\n",
       "    .dataframe tbody tr th {\n",
       "        vertical-align: top;\n",
       "    }\n",
       "\n",
       "    .dataframe thead th {\n",
       "        text-align: right;\n",
       "    }\n",
       "</style>\n",
       "<table border=\"1\" class=\"dataframe\">\n",
       "  <thead>\n",
       "    <tr style=\"text-align: right;\">\n",
       "      <th></th>\n",
       "      <th>month</th>\n",
       "      <th>origin_city_state</th>\n",
       "      <th>depart_hour</th>\n",
       "      <th>dep_delay</th>\n",
       "      <th>arr_delay</th>\n",
       "      <th>dep_delay_state</th>\n",
       "      <th>arr_delay_state</th>\n",
       "    </tr>\n",
       "  </thead>\n",
       "  <tbody>\n",
       "    <tr>\n",
       "      <th>11841</th>\n",
       "      <td>10</td>\n",
       "      <td>PA</td>\n",
       "      <td>1800.0</td>\n",
       "      <td>-7.0</td>\n",
       "      <td>-12.0</td>\n",
       "      <td>6.660256</td>\n",
       "      <td>0.122581</td>\n",
       "    </tr>\n",
       "    <tr>\n",
       "      <th>19602</th>\n",
       "      <td>7</td>\n",
       "      <td>FL</td>\n",
       "      <td>1400.0</td>\n",
       "      <td>-3.0</td>\n",
       "      <td>-23.0</td>\n",
       "      <td>11.726753</td>\n",
       "      <td>5.856528</td>\n",
       "    </tr>\n",
       "    <tr>\n",
       "      <th>45519</th>\n",
       "      <td>1</td>\n",
       "      <td>CT</td>\n",
       "      <td>1300.0</td>\n",
       "      <td>431.0</td>\n",
       "      <td>432.0</td>\n",
       "      <td>23.268293</td>\n",
       "      <td>18.317073</td>\n",
       "    </tr>\n",
       "    <tr>\n",
       "      <th>25747</th>\n",
       "      <td>4</td>\n",
       "      <td>WA</td>\n",
       "      <td>1000.0</td>\n",
       "      <td>-4.0</td>\n",
       "      <td>10.0</td>\n",
       "      <td>8.521739</td>\n",
       "      <td>4.726277</td>\n",
       "    </tr>\n",
       "    <tr>\n",
       "      <th>42642</th>\n",
       "      <td>3</td>\n",
       "      <td>FL</td>\n",
       "      <td>2000.0</td>\n",
       "      <td>140.0</td>\n",
       "      <td>135.0</td>\n",
       "      <td>11.726753</td>\n",
       "      <td>5.856528</td>\n",
       "    </tr>\n",
       "  </tbody>\n",
       "</table>\n",
       "</div>"
      ],
      "text/plain": [
       "       month origin_city_state  depart_hour  dep_delay  arr_delay  \\\n",
       "11841     10                PA       1800.0       -7.0      -12.0   \n",
       "19602      7                FL       1400.0       -3.0      -23.0   \n",
       "45519      1                CT       1300.0      431.0      432.0   \n",
       "25747      4                WA       1000.0       -4.0       10.0   \n",
       "42642      3                FL       2000.0      140.0      135.0   \n",
       "\n",
       "       dep_delay_state  arr_delay_state  \n",
       "11841         6.660256         0.122581  \n",
       "19602        11.726753         5.856528  \n",
       "45519        23.268293        18.317073  \n",
       "25747         8.521739         4.726277  \n",
       "42642        11.726753         5.856528  "
      ]
     },
     "execution_count": 83,
     "metadata": {},
     "output_type": "execute_result"
    }
   ],
   "source": [
    "sample1[['month','origin_city_state','depart_hour','dep_delay','arr_delay','dep_delay_state','arr_delay_state']].head()"
   ]
  },
  {
   "cell_type": "code",
   "execution_count": 103,
   "metadata": {
    "execution": {
     "iopub.execute_input": "2021-07-26T17:57:40.806825Z",
     "iopub.status.busy": "2021-07-26T17:57:40.806497Z",
     "iopub.status.idle": "2021-07-26T17:57:40.835259Z",
     "shell.execute_reply": "2021-07-26T17:57:40.834212Z",
     "shell.execute_reply.started": "2021-07-26T17:57:40.806786Z"
    }
   },
   "outputs": [
    {
     "data": {
      "text/html": [
       "<div>\n",
       "<style scoped>\n",
       "    .dataframe tbody tr th:only-of-type {\n",
       "        vertical-align: middle;\n",
       "    }\n",
       "\n",
       "    .dataframe tbody tr th {\n",
       "        vertical-align: top;\n",
       "    }\n",
       "\n",
       "    .dataframe thead th {\n",
       "        text-align: right;\n",
       "    }\n",
       "</style>\n",
       "<table border=\"1\" class=\"dataframe\">\n",
       "  <thead>\n",
       "    <tr style=\"text-align: right;\">\n",
       "      <th></th>\n",
       "      <th>month</th>\n",
       "      <th>origin_city_state</th>\n",
       "      <th>depart_hour</th>\n",
       "      <th>dep_delay</th>\n",
       "      <th>arr_delay</th>\n",
       "      <th>dep_delay_state</th>\n",
       "      <th>arr_delay_state</th>\n",
       "    </tr>\n",
       "  </thead>\n",
       "  <tbody>\n",
       "    <tr>\n",
       "      <th>11841</th>\n",
       "      <td>10</td>\n",
       "      <td>PA</td>\n",
       "      <td>1800.0</td>\n",
       "      <td>-7.0</td>\n",
       "      <td>-12.0</td>\n",
       "      <td>6.660256</td>\n",
       "      <td>0.122581</td>\n",
       "    </tr>\n",
       "    <tr>\n",
       "      <th>19602</th>\n",
       "      <td>7</td>\n",
       "      <td>FL</td>\n",
       "      <td>1400.0</td>\n",
       "      <td>-3.0</td>\n",
       "      <td>-23.0</td>\n",
       "      <td>11.726753</td>\n",
       "      <td>5.856528</td>\n",
       "    </tr>\n",
       "    <tr>\n",
       "      <th>45519</th>\n",
       "      <td>1</td>\n",
       "      <td>CT</td>\n",
       "      <td>1300.0</td>\n",
       "      <td>431.0</td>\n",
       "      <td>432.0</td>\n",
       "      <td>23.268293</td>\n",
       "      <td>18.317073</td>\n",
       "    </tr>\n",
       "    <tr>\n",
       "      <th>25747</th>\n",
       "      <td>4</td>\n",
       "      <td>WA</td>\n",
       "      <td>1000.0</td>\n",
       "      <td>-4.0</td>\n",
       "      <td>10.0</td>\n",
       "      <td>8.521739</td>\n",
       "      <td>4.726277</td>\n",
       "    </tr>\n",
       "    <tr>\n",
       "      <th>42642</th>\n",
       "      <td>3</td>\n",
       "      <td>FL</td>\n",
       "      <td>2000.0</td>\n",
       "      <td>140.0</td>\n",
       "      <td>135.0</td>\n",
       "      <td>11.726753</td>\n",
       "      <td>5.856528</td>\n",
       "    </tr>\n",
       "    <tr>\n",
       "      <th>...</th>\n",
       "      <td>...</td>\n",
       "      <td>...</td>\n",
       "      <td>...</td>\n",
       "      <td>...</td>\n",
       "      <td>...</td>\n",
       "      <td>...</td>\n",
       "      <td>...</td>\n",
       "    </tr>\n",
       "    <tr>\n",
       "      <th>25091</th>\n",
       "      <td>11</td>\n",
       "      <td>NC</td>\n",
       "      <td>1300.0</td>\n",
       "      <td>3.0</td>\n",
       "      <td>7.0</td>\n",
       "      <td>12.969838</td>\n",
       "      <td>9.566434</td>\n",
       "    </tr>\n",
       "    <tr>\n",
       "      <th>27853</th>\n",
       "      <td>7</td>\n",
       "      <td>MO</td>\n",
       "      <td>1500.0</td>\n",
       "      <td>15.0</td>\n",
       "      <td>21.0</td>\n",
       "      <td>8.264368</td>\n",
       "      <td>2.201149</td>\n",
       "    </tr>\n",
       "    <tr>\n",
       "      <th>47278</th>\n",
       "      <td>11</td>\n",
       "      <td>CO</td>\n",
       "      <td>2200.0</td>\n",
       "      <td>-4.0</td>\n",
       "      <td>-19.0</td>\n",
       "      <td>13.054264</td>\n",
       "      <td>9.497396</td>\n",
       "    </tr>\n",
       "    <tr>\n",
       "      <th>37020</th>\n",
       "      <td>1</td>\n",
       "      <td>SC</td>\n",
       "      <td>600.0</td>\n",
       "      <td>-10.0</td>\n",
       "      <td>-3.0</td>\n",
       "      <td>9.511111</td>\n",
       "      <td>4.955556</td>\n",
       "    </tr>\n",
       "    <tr>\n",
       "      <th>2217</th>\n",
       "      <td>12</td>\n",
       "      <td>FL</td>\n",
       "      <td>900.0</td>\n",
       "      <td>-11.0</td>\n",
       "      <td>4.0</td>\n",
       "      <td>11.726753</td>\n",
       "      <td>5.856528</td>\n",
       "    </tr>\n",
       "  </tbody>\n",
       "</table>\n",
       "<p>10000 rows × 7 columns</p>\n",
       "</div>"
      ],
      "text/plain": [
       "       month origin_city_state  depart_hour  dep_delay  arr_delay  \\\n",
       "11841     10                PA       1800.0       -7.0      -12.0   \n",
       "19602      7                FL       1400.0       -3.0      -23.0   \n",
       "45519      1                CT       1300.0      431.0      432.0   \n",
       "25747      4                WA       1000.0       -4.0       10.0   \n",
       "42642      3                FL       2000.0      140.0      135.0   \n",
       "...      ...               ...          ...        ...        ...   \n",
       "25091     11                NC       1300.0        3.0        7.0   \n",
       "27853      7                MO       1500.0       15.0       21.0   \n",
       "47278     11                CO       2200.0       -4.0      -19.0   \n",
       "37020      1                SC        600.0      -10.0       -3.0   \n",
       "2217      12                FL        900.0      -11.0        4.0   \n",
       "\n",
       "       dep_delay_state  arr_delay_state  \n",
       "11841         6.660256         0.122581  \n",
       "19602        11.726753         5.856528  \n",
       "45519        23.268293        18.317073  \n",
       "25747         8.521739         4.726277  \n",
       "42642        11.726753         5.856528  \n",
       "...                ...              ...  \n",
       "25091        12.969838         9.566434  \n",
       "27853         8.264368         2.201149  \n",
       "47278        13.054264         9.497396  \n",
       "37020         9.511111         4.955556  \n",
       "2217         11.726753         5.856528  \n",
       "\n",
       "[10000 rows x 7 columns]"
      ]
     },
     "execution_count": 103,
     "metadata": {},
     "output_type": "execute_result"
    }
   ],
   "source": [
    "test_model_2 = sample1[['month','origin_city_state','depart_hour','dep_delay','arr_delay','dep_delay_state','arr_delay_state']]\n",
    "test_model_2"
   ]
  },
  {
   "cell_type": "markdown",
   "metadata": {},
   "source": [
    "### Feature Selection / Dimensionality Reduction"
   ]
  },
  {
   "cell_type": "markdown",
   "metadata": {},
   "source": [
    "We need to apply different selection techniques to find out which one will be the best for our problems.\n",
    "\n",
    "- Original Features vs. PCA conponents?"
   ]
  },
  {
   "cell_type": "code",
   "execution_count": null,
   "metadata": {},
   "outputs": [],
   "source": []
  },
  {
   "cell_type": "code",
   "execution_count": null,
   "metadata": {},
   "outputs": [],
   "source": []
  },
  {
   "cell_type": "code",
   "execution_count": null,
   "metadata": {},
   "outputs": [],
   "source": []
  },
  {
   "cell_type": "code",
   "execution_count": null,
   "metadata": {},
   "outputs": [],
   "source": []
  },
  {
   "cell_type": "code",
   "execution_count": null,
   "metadata": {},
   "outputs": [],
   "source": []
  },
  {
   "cell_type": "markdown",
   "metadata": {},
   "source": [
    "### Modeling"
   ]
  },
  {
   "cell_type": "markdown",
   "metadata": {},
   "source": [
    "Use different ML techniques to predict each problem.\n",
    "\n",
    "- linear / logistic / multinomial logistic regression\n",
    "- Naive Bayes\n",
    "- Random Forest\n",
    "- SVM\n",
    "- XGBoost\n",
    "- The ensemble of your own choice"
   ]
  },
  {
   "cell_type": "code",
   "execution_count": null,
   "metadata": {},
   "outputs": [],
   "source": []
  },
  {
   "cell_type": "code",
   "execution_count": null,
   "metadata": {},
   "outputs": [],
   "source": []
  },
  {
   "cell_type": "code",
   "execution_count": null,
   "metadata": {},
   "outputs": [],
   "source": []
  },
  {
   "cell_type": "code",
   "execution_count": null,
   "metadata": {},
   "outputs": [],
   "source": []
  },
  {
   "cell_type": "markdown",
   "metadata": {},
   "source": [
    "### Evaluation"
   ]
  },
  {
   "cell_type": "markdown",
   "metadata": {},
   "source": [
    "You have data from 2018 and 2019 to develop models. Use different evaluation metrics for each problem and compare the performance of different models.\n",
    "\n",
    "You are required to predict delays on **out of sample** data from **first 7 days (1st-7th) of January 2020** and to share the file with LighthouseLabs. Sample submission can be found in the file **_sample_submission.csv_**"
   ]
  },
  {
   "cell_type": "code",
   "execution_count": null,
   "metadata": {},
   "outputs": [],
   "source": []
  },
  {
   "cell_type": "code",
   "execution_count": null,
   "metadata": {},
   "outputs": [],
   "source": []
  },
  {
   "cell_type": "code",
   "execution_count": null,
   "metadata": {},
   "outputs": [],
   "source": []
  },
  {
   "cell_type": "code",
   "execution_count": null,
   "metadata": {},
   "outputs": [],
   "source": []
  },
  {
   "cell_type": "markdown",
   "metadata": {},
   "source": [
    "======================================================================\n",
    "## Stretch Tasks"
   ]
  },
  {
   "cell_type": "markdown",
   "metadata": {},
   "source": [
    "### Multiclass Classification"
   ]
  },
  {
   "cell_type": "markdown",
   "metadata": {},
   "source": [
    "The target variables are **CARRIER_DELAY, WEATHER_DELAY, NAS_DELAY, SECURITY_DELAY, LATE_AIRCRAFT_DELAY**. We need to do additional transformations because these variables are not binary but continuos. For each flight that was delayed, we need to have one of these variables as 1 and others 0.\n",
    "\n",
    "It can happen that we have two types of delays with more than 0 minutes. In this case, take the bigger one as 1 and others as 0."
   ]
  },
  {
   "cell_type": "code",
   "execution_count": null,
   "metadata": {},
   "outputs": [],
   "source": []
  },
  {
   "cell_type": "code",
   "execution_count": null,
   "metadata": {},
   "outputs": [],
   "source": []
  },
  {
   "cell_type": "code",
   "execution_count": null,
   "metadata": {},
   "outputs": [],
   "source": []
  },
  {
   "cell_type": "markdown",
   "metadata": {},
   "source": [
    "### Binary Classification"
   ]
  },
  {
   "cell_type": "markdown",
   "metadata": {},
   "source": [
    "The target variable is **CANCELLED**. The main problem here is going to be huge class imbalance. We have only very little cancelled flights with comparison to all flights. It is important to do the right sampling before training and to choose correct evaluation metrics."
   ]
  },
  {
   "cell_type": "code",
   "execution_count": null,
   "metadata": {},
   "outputs": [],
   "source": []
  },
  {
   "cell_type": "code",
   "execution_count": null,
   "metadata": {},
   "outputs": [],
   "source": []
  },
  {
   "cell_type": "code",
   "execution_count": null,
   "metadata": {},
   "outputs": [],
   "source": []
  }
 ],
 "metadata": {
  "kernelspec": {
   "display_name": "Python 3",
   "language": "python",
   "name": "python3"
  },
  "language_info": {
   "codemirror_mode": {
    "name": "ipython",
    "version": 3
   },
   "file_extension": ".py",
   "mimetype": "text/x-python",
   "name": "python",
   "nbconvert_exporter": "python",
   "pygments_lexer": "ipython3",
   "version": "3.8.8"
  }
 },
 "nbformat": 4,
 "nbformat_minor": 4
}
